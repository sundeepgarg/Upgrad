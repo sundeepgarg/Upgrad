{
  "cells": [
    {
      "cell_type": "markdown",
      "metadata": {
        "id": "view-in-github",
        "colab_type": "text"
      },
      "source": [
        "<a href=\"https://colab.research.google.com/github/sundeepgarg/Upgrad/blob/main/Python%20for%20Numpy.ipynb\" target=\"_parent\"><img src=\"https://colab.research.google.com/assets/colab-badge.svg\" alt=\"Open In Colab\"/></a>"
      ]
    },
    {
      "cell_type": "markdown",
      "id": "637a608c",
      "metadata": {
        "id": "637a608c"
      },
      "source": [
        "### Introduction of Numpy:\n",
        "\n",
        "Numpy stands for numerical python. The primary use of numpy is effiecient data handling and manipulation.\n",
        "\n",
        "Numpy has inbuilt function for working with numpy object.\n"
      ]
    },
    {
      "cell_type": "code",
      "execution_count": null,
      "id": "2e61d175",
      "metadata": {
        "id": "2e61d175"
      },
      "outputs": [],
      "source": [
        "import numpy as np\n",
        "import os"
      ]
    },
    {
      "cell_type": "code",
      "execution_count": null,
      "id": "bb445065",
      "metadata": {
        "id": "bb445065",
        "outputId": "deb7a736-01fd-43ee-e21d-2d9641df09c2"
      },
      "outputs": [
        {
          "data": {
            "text/plain": [
              "'C:\\\\Users\\\\AEPAC\\\\Desktop\\\\KnowledgeHut\\\\2024\\\\2024_upGrad\\\\Dec\\\\Python for NumPy (DS)'"
            ]
          },
          "execution_count": 453,
          "metadata": {},
          "output_type": "execute_result"
        }
      ],
      "source": [
        "os.getcwd()"
      ]
    },
    {
      "cell_type": "code",
      "execution_count": null,
      "id": "c8cc06c8",
      "metadata": {
        "id": "c8cc06c8"
      },
      "outputs": [],
      "source": [
        "np?"
      ]
    },
    {
      "cell_type": "markdown",
      "id": "72a336c4",
      "metadata": {
        "id": "72a336c4"
      },
      "source": [
        "### Numpy Arrays:"
      ]
    },
    {
      "cell_type": "code",
      "execution_count": null,
      "id": "f861325e",
      "metadata": {
        "id": "f861325e",
        "outputId": "3edbba1b-79b3-4fc2-ef83-d4526d804cb1"
      },
      "outputs": [
        {
          "ename": "TypeError",
          "evalue": "array() missing required argument 'object' (pos 0)",
          "output_type": "error",
          "traceback": [
            "\u001b[1;31m---------------------------------------------------------------------------\u001b[0m",
            "\u001b[1;31mTypeError\u001b[0m                                 Traceback (most recent call last)",
            "Cell \u001b[1;32mIn[3], line 1\u001b[0m\n\u001b[1;32m----> 1\u001b[0m np_arr \u001b[38;5;241m=\u001b[39m \u001b[43mnp\u001b[49m\u001b[38;5;241;43m.\u001b[39;49m\u001b[43marray\u001b[49m\u001b[43m(\u001b[49m\u001b[43m)\u001b[49m\n",
            "\u001b[1;31mTypeError\u001b[0m: array() missing required argument 'object' (pos 0)"
          ]
        }
      ],
      "source": [
        "np_arr = np.array()"
      ]
    },
    {
      "cell_type": "code",
      "execution_count": null,
      "id": "a3a181ff",
      "metadata": {
        "id": "a3a181ff"
      },
      "outputs": [],
      "source": [
        "arr = np.array([])"
      ]
    },
    {
      "cell_type": "code",
      "execution_count": null,
      "id": "579a2cb8",
      "metadata": {
        "id": "579a2cb8",
        "outputId": "88997ab8-2ba1-4bab-cc22-6052208fbaf9"
      },
      "outputs": [
        {
          "data": {
            "text/plain": [
              "array([], dtype=float64)"
            ]
          },
          "execution_count": 5,
          "metadata": {},
          "output_type": "execute_result"
        }
      ],
      "source": [
        "arr"
      ]
    },
    {
      "cell_type": "code",
      "execution_count": null,
      "id": "b9661ae0",
      "metadata": {
        "id": "b9661ae0",
        "outputId": "1cf51baa-8c5a-4ec3-c79b-5dda61eb977c"
      },
      "outputs": [
        {
          "data": {
            "text/plain": [
              "numpy.ndarray"
            ]
          },
          "execution_count": 6,
          "metadata": {},
          "output_type": "execute_result"
        }
      ],
      "source": [
        "type(arr)"
      ]
    },
    {
      "cell_type": "code",
      "execution_count": null,
      "id": "0a401944",
      "metadata": {
        "id": "0a401944",
        "outputId": "2e7b8914-915a-4c50-bb86-61cde4afe699"
      },
      "outputs": [
        {
          "data": {
            "text/plain": [
              "0"
            ]
          },
          "execution_count": 7,
          "metadata": {},
          "output_type": "execute_result"
        }
      ],
      "source": [
        "len(arr)"
      ]
    },
    {
      "cell_type": "code",
      "execution_count": null,
      "id": "5f79df09",
      "metadata": {
        "id": "5f79df09"
      },
      "outputs": [],
      "source": [
        "lst = [1,2,3,6]"
      ]
    },
    {
      "cell_type": "code",
      "execution_count": null,
      "id": "d8bb3c3c",
      "metadata": {
        "id": "d8bb3c3c"
      },
      "outputs": [],
      "source": [
        "arr = np.array(object = lst)"
      ]
    },
    {
      "cell_type": "code",
      "execution_count": null,
      "id": "b73220e8",
      "metadata": {
        "id": "b73220e8",
        "outputId": "0791ad32-59fc-4b25-e483-d2dfcb2b5b3c"
      },
      "outputs": [
        {
          "data": {
            "text/plain": [
              "array([1, 2, 3, 6])"
            ]
          },
          "execution_count": 10,
          "metadata": {},
          "output_type": "execute_result"
        }
      ],
      "source": [
        "arr"
      ]
    },
    {
      "cell_type": "code",
      "execution_count": null,
      "id": "1e8f54c9",
      "metadata": {
        "id": "1e8f54c9",
        "outputId": "c36de3f4-f736-47f5-b2c5-8af4b42e72cb"
      },
      "outputs": [
        {
          "data": {
            "text/plain": [
              "dtype('int32')"
            ]
          },
          "execution_count": 11,
          "metadata": {},
          "output_type": "execute_result"
        }
      ],
      "source": [
        "arr.dtype"
      ]
    },
    {
      "cell_type": "code",
      "execution_count": null,
      "id": "02291f12",
      "metadata": {
        "id": "02291f12"
      },
      "outputs": [],
      "source": [
        "arr = np.array(['Apple','Orange','Banana','Watermelon','Jackfruit'])"
      ]
    },
    {
      "cell_type": "code",
      "execution_count": null,
      "id": "c089894e",
      "metadata": {
        "id": "c089894e",
        "outputId": "b2aec076-38f9-44b2-a612-c79f4b08966e"
      },
      "outputs": [
        {
          "data": {
            "text/plain": [
              "array(['Apple', 'Orange', 'Banana', 'Watermelon', 'Jackfruit'],\n",
              "      dtype='<U10')"
            ]
          },
          "execution_count": 13,
          "metadata": {},
          "output_type": "execute_result"
        }
      ],
      "source": [
        "arr"
      ]
    },
    {
      "cell_type": "markdown",
      "id": "e4fe6555",
      "metadata": {
        "id": "e4fe6555"
      },
      "source": [
        "### Note:\n",
        "\n",
        "Array is the collection of similar data type."
      ]
    },
    {
      "cell_type": "code",
      "execution_count": null,
      "id": "b73b3dea",
      "metadata": {
        "id": "b73b3dea"
      },
      "outputs": [],
      "source": [
        "lst.index?"
      ]
    },
    {
      "cell_type": "code",
      "execution_count": null,
      "id": "fba1bf1b",
      "metadata": {
        "id": "fba1bf1b",
        "outputId": "549e90e4-53e1-4853-ce4a-e6f7baa04e26"
      },
      "outputs": [
        {
          "data": {
            "text/plain": [
              "[1, 2, 3, 6]"
            ]
          },
          "execution_count": 15,
          "metadata": {},
          "output_type": "execute_result"
        }
      ],
      "source": [
        "lst"
      ]
    },
    {
      "cell_type": "code",
      "execution_count": null,
      "id": "c7f13971",
      "metadata": {
        "id": "c7f13971",
        "outputId": "54ebccfe-4e2e-49af-d9a9-5b46c7543df9"
      },
      "outputs": [
        {
          "data": {
            "text/plain": [
              "3"
            ]
          },
          "execution_count": 16,
          "metadata": {},
          "output_type": "execute_result"
        }
      ],
      "source": [
        "lst.index(6)"
      ]
    },
    {
      "cell_type": "code",
      "execution_count": null,
      "id": "20e5fa59",
      "metadata": {
        "id": "20e5fa59"
      },
      "outputs": [],
      "source": [
        "np.array?"
      ]
    },
    {
      "cell_type": "code",
      "execution_count": null,
      "id": "e17eb3ad",
      "metadata": {
        "id": "e17eb3ad"
      },
      "outputs": [],
      "source": [
        "lst.append?"
      ]
    },
    {
      "cell_type": "code",
      "execution_count": null,
      "id": "2425c8d1",
      "metadata": {
        "id": "2425c8d1"
      },
      "outputs": [],
      "source": [
        "lst.append(\"Abhishek\")"
      ]
    },
    {
      "cell_type": "code",
      "execution_count": null,
      "id": "17d5f3fb",
      "metadata": {
        "id": "17d5f3fb"
      },
      "outputs": [],
      "source": [
        "arr = np.array([1,5,7,8,10.25])"
      ]
    },
    {
      "cell_type": "code",
      "execution_count": null,
      "id": "93e34542",
      "metadata": {
        "id": "93e34542",
        "outputId": "078a1273-98bd-4d20-ff7b-80cc5421c935"
      },
      "outputs": [
        {
          "data": {
            "text/plain": [
              "array([ 1.  ,  5.  ,  7.  ,  8.  , 10.25])"
            ]
          },
          "execution_count": 22,
          "metadata": {},
          "output_type": "execute_result"
        }
      ],
      "source": [
        "arr"
      ]
    },
    {
      "cell_type": "code",
      "execution_count": null,
      "id": "eb4d8c75",
      "metadata": {
        "id": "eb4d8c75"
      },
      "outputs": [],
      "source": [
        "arr = np.array([1,4,6,7,'ABC'])"
      ]
    },
    {
      "cell_type": "code",
      "execution_count": null,
      "id": "57c83b0f",
      "metadata": {
        "id": "57c83b0f",
        "outputId": "3d1f8a8e-d9e3-401d-e99b-ed469a4b7980"
      },
      "outputs": [
        {
          "data": {
            "text/plain": [
              "array(['1', '4', '6', '7', 'ABC'], dtype='<U11')"
            ]
          },
          "execution_count": 24,
          "metadata": {},
          "output_type": "execute_result"
        }
      ],
      "source": [
        "arr"
      ]
    },
    {
      "cell_type": "code",
      "execution_count": null,
      "id": "c8df79aa",
      "metadata": {
        "id": "c8df79aa"
      },
      "outputs": [],
      "source": [
        "tp = (0,5,7,9,0,4)"
      ]
    },
    {
      "cell_type": "code",
      "execution_count": null,
      "id": "0f299b3a",
      "metadata": {
        "id": "0f299b3a",
        "outputId": "5ce12394-fce0-4269-8e6e-b08aba81e2fd"
      },
      "outputs": [
        {
          "data": {
            "text/plain": [
              "array([0, 5, 7, 9, 0, 4])"
            ]
          },
          "execution_count": 26,
          "metadata": {},
          "output_type": "execute_result"
        }
      ],
      "source": [
        "np.array(tp)"
      ]
    },
    {
      "cell_type": "code",
      "execution_count": null,
      "id": "5c2c8e64",
      "metadata": {
        "id": "5c2c8e64"
      },
      "outputs": [],
      "source": [
        "setA = {1.5,6,8,-8.5}"
      ]
    },
    {
      "cell_type": "code",
      "execution_count": null,
      "id": "86ffacad",
      "metadata": {
        "id": "86ffacad",
        "outputId": "23b5e561-1d50-4a05-8860-80c9fac966de"
      },
      "outputs": [
        {
          "data": {
            "text/plain": [
              "array({8, 1.5, 6, -8.5}, dtype=object)"
            ]
          },
          "execution_count": 28,
          "metadata": {},
          "output_type": "execute_result"
        }
      ],
      "source": [
        "np.array(setA)"
      ]
    },
    {
      "cell_type": "markdown",
      "id": "ebc93709",
      "metadata": {
        "id": "ebc93709"
      },
      "source": [
        "### Multidimensional arrays:"
      ]
    },
    {
      "cell_type": "code",
      "execution_count": null,
      "id": "a9a6587d",
      "metadata": {
        "id": "a9a6587d",
        "outputId": "b9a9ad24-7114-4c7c-d5d2-f5d5a59c122f"
      },
      "outputs": [
        {
          "data": {
            "text/plain": [
              "[1, 2, 3, 6, 'Abhishek']"
            ]
          },
          "execution_count": 29,
          "metadata": {},
          "output_type": "execute_result"
        }
      ],
      "source": [
        "lst"
      ]
    },
    {
      "cell_type": "code",
      "execution_count": null,
      "id": "542ba0a3",
      "metadata": {
        "id": "542ba0a3",
        "outputId": "3377e552-b750-44d9-ce68-6e2bd4c74345"
      },
      "outputs": [
        {
          "data": {
            "text/plain": [
              "array([  2,   3,   4,   5, -10])"
            ]
          },
          "execution_count": 30,
          "metadata": {},
          "output_type": "execute_result"
        }
      ],
      "source": [
        "np.array([2,3,4,5,-10])"
      ]
    },
    {
      "cell_type": "code",
      "execution_count": null,
      "id": "15984724",
      "metadata": {
        "id": "15984724"
      },
      "outputs": [],
      "source": [
        "arr_2d = np.array([[1,2,3],[4,5,6]])"
      ]
    },
    {
      "cell_type": "code",
      "execution_count": null,
      "id": "3fee21e2",
      "metadata": {
        "id": "3fee21e2",
        "outputId": "7e351c00-ba48-4613-e256-bc376d4e88b2"
      },
      "outputs": [
        {
          "data": {
            "text/plain": [
              "array([[1, 2, 3],\n",
              "       [4, 5, 6]])"
            ]
          },
          "execution_count": 32,
          "metadata": {},
          "output_type": "execute_result"
        }
      ],
      "source": [
        "arr_2d"
      ]
    },
    {
      "cell_type": "code",
      "execution_count": null,
      "id": "b49647ba",
      "metadata": {
        "id": "b49647ba"
      },
      "outputs": [],
      "source": [
        "arr_3d = np.array([[[1,5],[3,4],[5,6],[7,9],[8,9]]])"
      ]
    },
    {
      "cell_type": "code",
      "execution_count": null,
      "id": "e7487ee8",
      "metadata": {
        "id": "e7487ee8",
        "outputId": "b5594946-bb0e-48f7-9e89-d0d6c73e9968"
      },
      "outputs": [
        {
          "data": {
            "text/plain": [
              "array([[[1, 5],\n",
              "        [3, 4],\n",
              "        [5, 6],\n",
              "        [7, 9],\n",
              "        [8, 9]]])"
            ]
          },
          "execution_count": 34,
          "metadata": {},
          "output_type": "execute_result"
        }
      ],
      "source": [
        "arr_3d"
      ]
    },
    {
      "cell_type": "code",
      "execution_count": null,
      "id": "efa9401c",
      "metadata": {
        "id": "efa9401c",
        "outputId": "5f935cbf-cda5-47c7-98c6-aa5ee9128110"
      },
      "outputs": [
        {
          "data": {
            "text/plain": [
              "array(['1', '4', '6', '7', 'ABC'], dtype='<U11')"
            ]
          },
          "execution_count": 35,
          "metadata": {},
          "output_type": "execute_result"
        }
      ],
      "source": [
        "arr"
      ]
    },
    {
      "cell_type": "code",
      "execution_count": null,
      "id": "e5908c59",
      "metadata": {
        "id": "e5908c59"
      },
      "outputs": [],
      "source": [
        "a = \"Priyanka\""
      ]
    },
    {
      "cell_type": "code",
      "execution_count": null,
      "id": "77f1954b",
      "metadata": {
        "id": "77f1954b",
        "outputId": "ff04b5ef-1813-47ca-806e-90d38439937c"
      },
      "outputs": [
        {
          "data": {
            "text/plain": [
              "1"
            ]
          },
          "execution_count": 37,
          "metadata": {},
          "output_type": "execute_result"
        }
      ],
      "source": [
        "arr.ndim"
      ]
    },
    {
      "cell_type": "code",
      "execution_count": null,
      "id": "2ff4e103",
      "metadata": {
        "id": "2ff4e103",
        "outputId": "1c12e1a6-6fc7-4317-a244-c73a1c0ba526"
      },
      "outputs": [
        {
          "data": {
            "text/plain": [
              "array([[1, 2, 3],\n",
              "       [4, 5, 6]])"
            ]
          },
          "execution_count": 38,
          "metadata": {},
          "output_type": "execute_result"
        }
      ],
      "source": [
        "arr_2d"
      ]
    },
    {
      "cell_type": "code",
      "execution_count": null,
      "id": "73fddcce",
      "metadata": {
        "id": "73fddcce",
        "outputId": "2a2dec6c-d11d-47f5-fd0a-1eeb39ce491e"
      },
      "outputs": [
        {
          "data": {
            "text/plain": [
              "2"
            ]
          },
          "execution_count": 39,
          "metadata": {},
          "output_type": "execute_result"
        }
      ],
      "source": [
        "arr_2d.ndim"
      ]
    },
    {
      "cell_type": "code",
      "execution_count": null,
      "id": "6a88b3da",
      "metadata": {
        "id": "6a88b3da",
        "outputId": "a57dc002-6725-4da3-dd4e-cef24eb71749"
      },
      "outputs": [
        {
          "data": {
            "text/plain": [
              "3"
            ]
          },
          "execution_count": 40,
          "metadata": {},
          "output_type": "execute_result"
        }
      ],
      "source": [
        "arr_3d.ndim"
      ]
    },
    {
      "cell_type": "code",
      "execution_count": null,
      "id": "4ef84ee9",
      "metadata": {
        "id": "4ef84ee9",
        "outputId": "2f780793-3f09-4547-92b0-84c044c0e051"
      },
      "outputs": [
        {
          "data": {
            "text/plain": [
              "array(['1', '4', '6', '7', 'ABC'], dtype='<U11')"
            ]
          },
          "execution_count": 41,
          "metadata": {},
          "output_type": "execute_result"
        }
      ],
      "source": [
        "arr"
      ]
    },
    {
      "cell_type": "code",
      "execution_count": null,
      "id": "08a50b1b",
      "metadata": {
        "id": "08a50b1b",
        "outputId": "b0a110be-5136-45ac-c829-7e3f7e1c67a1"
      },
      "outputs": [
        {
          "data": {
            "text/plain": [
              "(5,)"
            ]
          },
          "execution_count": 42,
          "metadata": {},
          "output_type": "execute_result"
        }
      ],
      "source": [
        "arr.shape"
      ]
    },
    {
      "cell_type": "code",
      "execution_count": null,
      "id": "3c880f64",
      "metadata": {
        "id": "3c880f64",
        "outputId": "928b5eb5-2041-4aae-9b51-fd5866c248e1"
      },
      "outputs": [
        {
          "data": {
            "text/plain": [
              "(2, 3)"
            ]
          },
          "execution_count": 43,
          "metadata": {},
          "output_type": "execute_result"
        }
      ],
      "source": [
        "arr_2d.shape"
      ]
    },
    {
      "cell_type": "code",
      "execution_count": null,
      "id": "8e188f1b",
      "metadata": {
        "id": "8e188f1b",
        "outputId": "b2f18f32-144f-4d2f-95f4-a9610a7ac646"
      },
      "outputs": [
        {
          "data": {
            "text/plain": [
              "(1, 5, 2)"
            ]
          },
          "execution_count": 44,
          "metadata": {},
          "output_type": "execute_result"
        }
      ],
      "source": [
        "arr_3d.shape"
      ]
    },
    {
      "cell_type": "code",
      "execution_count": null,
      "id": "8008c8fe",
      "metadata": {
        "id": "8008c8fe"
      },
      "outputs": [],
      "source": [
        "arr1 = np.array(['1', '2', '3', 'Testsjflk', '1', '2', '3',\n",
        "                 '1', '2', '3', '1', '2', '3'], dtype='<U11')"
      ]
    },
    {
      "cell_type": "code",
      "execution_count": null,
      "id": "cd033b6c",
      "metadata": {
        "id": "cd033b6c",
        "outputId": "8c6f7d47-1ae8-4065-e14a-50ae39840768"
      },
      "outputs": [
        {
          "data": {
            "text/plain": [
              "array(['1', '2', '3', 'Testsjflk', '1', '2', '3', '1', '2', '3', '1', '2',\n",
              "       '3'], dtype='<U11')"
            ]
          },
          "execution_count": 61,
          "metadata": {},
          "output_type": "execute_result"
        }
      ],
      "source": [
        "arr1"
      ]
    },
    {
      "cell_type": "code",
      "execution_count": null,
      "id": "9ad43d7d",
      "metadata": {
        "id": "9ad43d7d",
        "outputId": "9447afb0-9574-4b2d-bcf5-154a4d21c141"
      },
      "outputs": [
        {
          "data": {
            "text/plain": [
              "array([[1, 2, 3],\n",
              "       [4, 5, 6]])"
            ]
          },
          "execution_count": 62,
          "metadata": {},
          "output_type": "execute_result"
        }
      ],
      "source": [
        "arr_2d"
      ]
    },
    {
      "cell_type": "code",
      "execution_count": null,
      "id": "cbb3a5bd",
      "metadata": {
        "id": "cbb3a5bd",
        "outputId": "88630193-64f2-40e4-9f08-353136be048e"
      },
      "outputs": [
        {
          "data": {
            "text/plain": [
              "(2, 3)"
            ]
          },
          "execution_count": 63,
          "metadata": {},
          "output_type": "execute_result"
        }
      ],
      "source": [
        "arr_2d.shape"
      ]
    },
    {
      "cell_type": "code",
      "execution_count": null,
      "id": "8620a1ec",
      "metadata": {
        "id": "8620a1ec",
        "outputId": "f20b6b26-342c-4786-95c8-cb18e023ec37"
      },
      "outputs": [
        {
          "data": {
            "text/plain": [
              "6"
            ]
          },
          "execution_count": 64,
          "metadata": {},
          "output_type": "execute_result"
        }
      ],
      "source": [
        "arr_2d.size"
      ]
    },
    {
      "cell_type": "code",
      "execution_count": null,
      "id": "0eb729c9",
      "metadata": {
        "id": "0eb729c9"
      },
      "outputs": [],
      "source": [
        "arr = np.array([22,-36,32,47,71,-45])"
      ]
    },
    {
      "cell_type": "code",
      "execution_count": null,
      "id": "911ce907",
      "metadata": {
        "id": "911ce907",
        "outputId": "fdd9c310-d349-4a60-fb52-ecf96ebb7a48"
      },
      "outputs": [
        {
          "data": {
            "text/plain": [
              "array([ 22, -36,  32,  47,  71, -45])"
            ]
          },
          "execution_count": 66,
          "metadata": {},
          "output_type": "execute_result"
        }
      ],
      "source": [
        "arr"
      ]
    },
    {
      "cell_type": "code",
      "execution_count": null,
      "id": "1a2f1ea1",
      "metadata": {
        "id": "1a2f1ea1",
        "outputId": "0e6967dc-0748-4926-e2e9-2050b8d301da"
      },
      "outputs": [
        {
          "data": {
            "text/plain": [
              "-36"
            ]
          },
          "execution_count": 67,
          "metadata": {},
          "output_type": "execute_result"
        }
      ],
      "source": [
        "arr[1]"
      ]
    },
    {
      "cell_type": "code",
      "execution_count": null,
      "id": "5f602549",
      "metadata": {
        "id": "5f602549",
        "outputId": "a0aecfb0-ac77-4c2e-d364-28d2d8e314f5"
      },
      "outputs": [
        {
          "data": {
            "text/plain": [
              "array([-36,  32,  47])"
            ]
          },
          "execution_count": 68,
          "metadata": {},
          "output_type": "execute_result"
        }
      ],
      "source": [
        "arr[1:4]"
      ]
    },
    {
      "cell_type": "code",
      "execution_count": null,
      "id": "1b20129b",
      "metadata": {
        "id": "1b20129b",
        "outputId": "6c4e3742-68eb-473d-fc9a-7ffe69b6784d"
      },
      "outputs": [
        {
          "data": {
            "text/plain": [
              "array([-36,  32,  47])"
            ]
          },
          "execution_count": 69,
          "metadata": {},
          "output_type": "execute_result"
        }
      ],
      "source": [
        "arr[[1,2,3]]"
      ]
    },
    {
      "cell_type": "code",
      "execution_count": null,
      "id": "7bff9e3e",
      "metadata": {
        "id": "7bff9e3e",
        "outputId": "937d1d94-d2ed-4ffe-9885-52301f13ac8c"
      },
      "outputs": [
        {
          "data": {
            "text/plain": [
              "array([ 22, -36,  32,  47,  71, -45])"
            ]
          },
          "execution_count": 70,
          "metadata": {},
          "output_type": "execute_result"
        }
      ],
      "source": [
        "arr"
      ]
    },
    {
      "cell_type": "code",
      "execution_count": null,
      "id": "89199cc1",
      "metadata": {
        "id": "89199cc1",
        "outputId": "e4e08188-aed0-421f-f8ab-3486d6d5a701"
      },
      "outputs": [
        {
          "data": {
            "text/plain": [
              "array([ 32,  47,  71, -45])"
            ]
          },
          "execution_count": 71,
          "metadata": {},
          "output_type": "execute_result"
        }
      ],
      "source": [
        "arr[2:]"
      ]
    },
    {
      "cell_type": "code",
      "execution_count": null,
      "id": "5f7b1e16",
      "metadata": {
        "id": "5f7b1e16",
        "outputId": "4c55ede4-b6c8-4a15-fc28-ceaa1fa2c0c0"
      },
      "outputs": [
        {
          "data": {
            "text/plain": [
              "array([ 22, -36,  32])"
            ]
          },
          "execution_count": 72,
          "metadata": {},
          "output_type": "execute_result"
        }
      ],
      "source": [
        "arr[:3]"
      ]
    },
    {
      "cell_type": "code",
      "execution_count": null,
      "id": "8ee47cd1",
      "metadata": {
        "id": "8ee47cd1",
        "outputId": "08814549-10a7-4074-e5ea-1eba40626ab3"
      },
      "outputs": [
        {
          "data": {
            "text/plain": [
              "array([-45,  71,  47,  32, -36,  22])"
            ]
          },
          "execution_count": 73,
          "metadata": {},
          "output_type": "execute_result"
        }
      ],
      "source": [
        "arr[::-1]"
      ]
    },
    {
      "cell_type": "code",
      "execution_count": null,
      "id": "34ea722a",
      "metadata": {
        "id": "34ea722a",
        "outputId": "157b3a9b-a6b7-493e-9b78-6a1878c25bd1"
      },
      "outputs": [
        {
          "data": {
            "text/plain": [
              "array([ 22, -36,  32,  47,  71, -45])"
            ]
          },
          "execution_count": 74,
          "metadata": {},
          "output_type": "execute_result"
        }
      ],
      "source": [
        "arr"
      ]
    },
    {
      "cell_type": "code",
      "execution_count": null,
      "id": "3304985f",
      "metadata": {
        "id": "3304985f",
        "outputId": "29527e6a-0abe-49a7-915b-b8ebfa349838"
      },
      "outputs": [
        {
          "data": {
            "text/plain": [
              "array([-36,  32,  47,  71])"
            ]
          },
          "execution_count": 75,
          "metadata": {},
          "output_type": "execute_result"
        }
      ],
      "source": [
        "arr[1:-1]"
      ]
    },
    {
      "cell_type": "code",
      "execution_count": null,
      "id": "22eabda5",
      "metadata": {
        "id": "22eabda5",
        "outputId": "3f3c9427-90a1-4dde-fbc4-e52cda2e1723"
      },
      "outputs": [
        {
          "data": {
            "text/plain": [
              "array([-36,  32,  47,  71])"
            ]
          },
          "execution_count": 77,
          "metadata": {},
          "output_type": "execute_result"
        }
      ],
      "source": [
        "arr[1:len(arr)-1]"
      ]
    },
    {
      "cell_type": "code",
      "execution_count": null,
      "id": "e5007509",
      "metadata": {
        "id": "e5007509",
        "outputId": "a09b653c-e522-4e42-8c2d-b57319a1ce2c"
      },
      "outputs": [
        {
          "data": {
            "text/plain": [
              "array([ 22, -36,  32,  47,  71, -45])"
            ]
          },
          "execution_count": 78,
          "metadata": {},
          "output_type": "execute_result"
        }
      ],
      "source": [
        "arr"
      ]
    },
    {
      "cell_type": "code",
      "execution_count": null,
      "id": "a36cacd9",
      "metadata": {
        "id": "a36cacd9"
      },
      "outputs": [],
      "source": [
        "lst = [22,-36,32,47,71,-45]"
      ]
    },
    {
      "cell_type": "code",
      "execution_count": null,
      "id": "01aae07c",
      "metadata": {
        "id": "01aae07c",
        "outputId": "4a187b05-3c3c-4765-f7f3-b5bfc5613656"
      },
      "outputs": [
        {
          "data": {
            "text/plain": [
              "[-36, 32, 47, 71]"
            ]
          },
          "execution_count": 80,
          "metadata": {},
          "output_type": "execute_result"
        }
      ],
      "source": [
        "lst[1:-1]"
      ]
    },
    {
      "cell_type": "code",
      "execution_count": null,
      "id": "2e4f83c6",
      "metadata": {
        "id": "2e4f83c6",
        "outputId": "86a86881-196d-4417-c3bc-3a072f1e9992"
      },
      "outputs": [
        {
          "data": {
            "text/plain": [
              "[22, -36, 32]"
            ]
          },
          "execution_count": 81,
          "metadata": {},
          "output_type": "execute_result"
        }
      ],
      "source": [
        "lst[:3]"
      ]
    },
    {
      "cell_type": "code",
      "execution_count": null,
      "id": "c0ffbe11",
      "metadata": {
        "id": "c0ffbe11",
        "outputId": "4f5015ef-728f-4a99-8906-1309c57298d1"
      },
      "outputs": [
        {
          "data": {
            "text/plain": [
              "[-36, 32, 47]"
            ]
          },
          "execution_count": 82,
          "metadata": {},
          "output_type": "execute_result"
        }
      ],
      "source": [
        "lst[1:4]"
      ]
    },
    {
      "cell_type": "code",
      "execution_count": null,
      "id": "72f32e99",
      "metadata": {
        "id": "72f32e99"
      },
      "outputs": [],
      "source": [
        "arr = np.array([['Python','R','C++'], [len('Python'),len('R'),\n",
        "                                       len('C++')]])"
      ]
    },
    {
      "cell_type": "code",
      "execution_count": null,
      "id": "4332f97c",
      "metadata": {
        "id": "4332f97c",
        "outputId": "fc1535f6-828d-4343-c917-c002c06c8d29"
      },
      "outputs": [
        {
          "data": {
            "text/plain": [
              "array([['Python', 'R', 'C++'],\n",
              "       ['6', '1', '3']], dtype='<U11')"
            ]
          },
          "execution_count": 87,
          "metadata": {},
          "output_type": "execute_result"
        }
      ],
      "source": [
        "arr"
      ]
    },
    {
      "cell_type": "code",
      "execution_count": null,
      "id": "93e21af2",
      "metadata": {
        "id": "93e21af2",
        "outputId": "4b6058b1-2b38-44dd-8f56-4e0bcbdefe45"
      },
      "outputs": [
        {
          "data": {
            "text/plain": [
              "2"
            ]
          },
          "execution_count": 88,
          "metadata": {},
          "output_type": "execute_result"
        }
      ],
      "source": [
        "len(arr)"
      ]
    },
    {
      "cell_type": "code",
      "execution_count": null,
      "id": "c4767b02",
      "metadata": {
        "id": "c4767b02",
        "outputId": "1d5ed1d0-645e-4e89-a34e-42d92b058318"
      },
      "outputs": [
        {
          "data": {
            "text/plain": [
              "'Python'"
            ]
          },
          "execution_count": 89,
          "metadata": {},
          "output_type": "execute_result"
        }
      ],
      "source": [
        "arr[0][0]"
      ]
    },
    {
      "cell_type": "code",
      "execution_count": null,
      "id": "ebc5ae52",
      "metadata": {
        "id": "ebc5ae52",
        "outputId": "46ed6b0f-631c-4255-813a-0b4315b0bb95"
      },
      "outputs": [
        {
          "data": {
            "text/plain": [
              "'Python'"
            ]
          },
          "execution_count": 90,
          "metadata": {},
          "output_type": "execute_result"
        }
      ],
      "source": [
        "arr[0,0]"
      ]
    },
    {
      "cell_type": "code",
      "execution_count": null,
      "id": "7bf748ec",
      "metadata": {
        "id": "7bf748ec",
        "outputId": "53e1533b-181d-4125-a89d-a082daa1bfeb"
      },
      "outputs": [
        {
          "data": {
            "text/plain": [
              "array(['Python', 'R', 'C++'], dtype='<U11')"
            ]
          },
          "execution_count": 91,
          "metadata": {},
          "output_type": "execute_result"
        }
      ],
      "source": [
        "arr[0]"
      ]
    },
    {
      "cell_type": "code",
      "execution_count": null,
      "id": "52110d91",
      "metadata": {
        "id": "52110d91",
        "outputId": "f79774ef-2f9c-4bd0-bbaf-6dd717ac603e"
      },
      "outputs": [
        {
          "data": {
            "text/plain": [
              "(3,)"
            ]
          },
          "execution_count": 92,
          "metadata": {},
          "output_type": "execute_result"
        }
      ],
      "source": [
        "arr[0].shape"
      ]
    },
    {
      "cell_type": "code",
      "execution_count": null,
      "id": "82d0731e",
      "metadata": {
        "id": "82d0731e",
        "outputId": "e6d665e6-293a-4cf6-972f-589abcc412a5"
      },
      "outputs": [
        {
          "data": {
            "text/plain": [
              "(1, 3)"
            ]
          },
          "execution_count": 93,
          "metadata": {},
          "output_type": "execute_result"
        }
      ],
      "source": [
        "arr[[0]].shape"
      ]
    },
    {
      "cell_type": "code",
      "execution_count": null,
      "id": "949e2f77",
      "metadata": {
        "id": "949e2f77",
        "outputId": "353e07d2-6fe6-48ba-c2e2-e2df4077f677"
      },
      "outputs": [
        {
          "data": {
            "text/plain": [
              "array([['Python', 'R', 'C++'],\n",
              "       ['6', '1', '3']], dtype='<U11')"
            ]
          },
          "execution_count": 94,
          "metadata": {},
          "output_type": "execute_result"
        }
      ],
      "source": [
        "arr"
      ]
    },
    {
      "cell_type": "code",
      "execution_count": null,
      "id": "25985894",
      "metadata": {
        "id": "25985894",
        "outputId": "280c9ed8-2d6e-42c8-97bc-69a82192a70f"
      },
      "outputs": [
        {
          "data": {
            "text/plain": [
              "'Python'"
            ]
          },
          "execution_count": 96,
          "metadata": {},
          "output_type": "execute_result"
        }
      ],
      "source": [
        "arr[0,0]"
      ]
    },
    {
      "cell_type": "code",
      "execution_count": null,
      "id": "d9406b6e",
      "metadata": {
        "id": "d9406b6e",
        "outputId": "23e2f745-7c5f-4481-8f38-0a35ddfd1b92"
      },
      "outputs": [
        {
          "data": {
            "text/plain": [
              "'Python'"
            ]
          },
          "execution_count": 97,
          "metadata": {},
          "output_type": "execute_result"
        }
      ],
      "source": [
        "arr[0][0]"
      ]
    },
    {
      "cell_type": "code",
      "execution_count": null,
      "id": "12d8fa1e",
      "metadata": {
        "id": "12d8fa1e",
        "outputId": "04b45c58-f278-443f-b340-884540090380"
      },
      "outputs": [
        {
          "data": {
            "text/plain": [
              "array([['Python', 'R', 'C++'],\n",
              "       ['6', '1', '3']], dtype='<U11')"
            ]
          },
          "execution_count": 98,
          "metadata": {},
          "output_type": "execute_result"
        }
      ],
      "source": [
        "arr[0:]"
      ]
    },
    {
      "cell_type": "code",
      "execution_count": null,
      "id": "209b76c7",
      "metadata": {
        "id": "209b76c7",
        "outputId": "1a85c70c-0fb2-4856-95ab-0dc4e7966285"
      },
      "outputs": [
        {
          "data": {
            "text/plain": [
              "array(['Python', 'R', 'C++'], dtype='<U11')"
            ]
          },
          "execution_count": 99,
          "metadata": {},
          "output_type": "execute_result"
        }
      ],
      "source": [
        "arr[0][:]"
      ]
    },
    {
      "cell_type": "code",
      "execution_count": null,
      "id": "69999db6",
      "metadata": {
        "id": "69999db6",
        "outputId": "96389c94-8305-4b3d-8833-7d8b5dd8bbc1"
      },
      "outputs": [
        {
          "data": {
            "text/plain": [
              "array(['Python', 'R'], dtype='<U11')"
            ]
          },
          "execution_count": 100,
          "metadata": {},
          "output_type": "execute_result"
        }
      ],
      "source": [
        "arr[0,[0,1]]"
      ]
    },
    {
      "cell_type": "code",
      "execution_count": null,
      "id": "90541a85",
      "metadata": {
        "id": "90541a85",
        "outputId": "36fbf52a-a4e4-47a6-833f-b9f8393c1a5d"
      },
      "outputs": [
        {
          "data": {
            "text/plain": [
              "[22, -36, 32, 47, 71, -45]"
            ]
          },
          "execution_count": 101,
          "metadata": {},
          "output_type": "execute_result"
        }
      ],
      "source": [
        "lst"
      ]
    },
    {
      "cell_type": "code",
      "execution_count": null,
      "id": "020ae239",
      "metadata": {
        "id": "020ae239",
        "outputId": "c0d61901-ac29-481a-d5f6-a9564d87d677"
      },
      "outputs": [
        {
          "data": {
            "text/plain": [
              "[22, -36, 32, 47, 71, -45]"
            ]
          },
          "execution_count": 102,
          "metadata": {},
          "output_type": "execute_result"
        }
      ],
      "source": [
        "lst[0:]"
      ]
    },
    {
      "cell_type": "code",
      "execution_count": null,
      "id": "c3ba5f1c",
      "metadata": {
        "id": "c3ba5f1c",
        "outputId": "42d67e7f-8d63-4361-a793-ebf7700825e1"
      },
      "outputs": [
        {
          "data": {
            "text/plain": [
              "array([['Python', 'R', 'C++'],\n",
              "       ['6', '1', '3']], dtype='<U11')"
            ]
          },
          "execution_count": 103,
          "metadata": {},
          "output_type": "execute_result"
        }
      ],
      "source": [
        "arr[0:]"
      ]
    },
    {
      "cell_type": "code",
      "execution_count": null,
      "id": "8a5ffb48",
      "metadata": {
        "id": "8a5ffb48",
        "outputId": "f91fa661-b295-49af-a487-3e4dc4022684"
      },
      "outputs": [
        {
          "data": {
            "text/plain": [
              "(2, 3)"
            ]
          },
          "execution_count": 104,
          "metadata": {},
          "output_type": "execute_result"
        }
      ],
      "source": [
        "arr.shape"
      ]
    },
    {
      "cell_type": "code",
      "execution_count": null,
      "id": "7a9bfbcd",
      "metadata": {
        "id": "7a9bfbcd",
        "outputId": "3910fe09-c680-423b-cf62-a1b1d026dca1"
      },
      "outputs": [
        {
          "data": {
            "text/plain": [
              "2"
            ]
          },
          "execution_count": 105,
          "metadata": {},
          "output_type": "execute_result"
        }
      ],
      "source": [
        "arr.ndim"
      ]
    },
    {
      "cell_type": "code",
      "execution_count": null,
      "id": "bd712a5d",
      "metadata": {
        "id": "bd712a5d"
      },
      "outputs": [],
      "source": [
        "lst = [[1,2,3],[4,5,6]]"
      ]
    },
    {
      "cell_type": "code",
      "execution_count": null,
      "id": "5269671f",
      "metadata": {
        "id": "5269671f",
        "outputId": "b526f692-e935-49dc-bc48-ca76c13a8a9a"
      },
      "outputs": [
        {
          "data": {
            "text/plain": [
              "[[1, 2, 3], [4, 5, 6]]"
            ]
          },
          "execution_count": 107,
          "metadata": {},
          "output_type": "execute_result"
        }
      ],
      "source": [
        "lst"
      ]
    },
    {
      "cell_type": "code",
      "execution_count": null,
      "id": "303e8d27",
      "metadata": {
        "id": "303e8d27",
        "outputId": "f7edc09f-894c-49a2-9850-091bf6ddf794"
      },
      "outputs": [
        {
          "data": {
            "text/plain": [
              "2"
            ]
          },
          "execution_count": 108,
          "metadata": {},
          "output_type": "execute_result"
        }
      ],
      "source": [
        "len(lst)"
      ]
    },
    {
      "cell_type": "code",
      "execution_count": null,
      "id": "508d4723",
      "metadata": {
        "id": "508d4723",
        "outputId": "8b73f9a5-6fc0-43ed-af19-668bfd62c878"
      },
      "outputs": [
        {
          "data": {
            "text/plain": [
              "[4, 5, 6]"
            ]
          },
          "execution_count": 109,
          "metadata": {},
          "output_type": "execute_result"
        }
      ],
      "source": [
        "lst[1]"
      ]
    },
    {
      "cell_type": "code",
      "execution_count": null,
      "id": "17bfd2d6",
      "metadata": {
        "id": "17bfd2d6",
        "outputId": "b62d3661-a9a1-40f5-dd25-69b7479a3f1d"
      },
      "outputs": [
        {
          "data": {
            "text/plain": [
              "[1, 2, 3]"
            ]
          },
          "execution_count": 110,
          "metadata": {},
          "output_type": "execute_result"
        }
      ],
      "source": [
        "lst[0]"
      ]
    },
    {
      "cell_type": "code",
      "execution_count": null,
      "id": "dfb8c3ea",
      "metadata": {
        "id": "dfb8c3ea",
        "outputId": "fbe36be9-76ad-4c55-e12c-a3d0a2401ef5"
      },
      "outputs": [
        {
          "data": {
            "text/plain": [
              "[[1, 2, 3], [4, 5, 6]]"
            ]
          },
          "execution_count": 111,
          "metadata": {},
          "output_type": "execute_result"
        }
      ],
      "source": [
        "lst[0:]"
      ]
    },
    {
      "cell_type": "code",
      "execution_count": null,
      "id": "e1d13bfa",
      "metadata": {
        "id": "e1d13bfa",
        "outputId": "9d05abcf-8bf2-42b3-9b23-b17d627e1ee0"
      },
      "outputs": [
        {
          "data": {
            "text/plain": [
              "[]"
            ]
          },
          "execution_count": 112,
          "metadata": {},
          "output_type": "execute_result"
        }
      ],
      "source": [
        "lst[0:0]"
      ]
    },
    {
      "cell_type": "code",
      "execution_count": null,
      "id": "00282855",
      "metadata": {
        "id": "00282855",
        "outputId": "2f3f0f32-c0b9-45d0-f0f0-2e3fcaafbeca"
      },
      "outputs": [
        {
          "data": {
            "text/plain": [
              "[1, 2, 3]"
            ]
          },
          "execution_count": 113,
          "metadata": {},
          "output_type": "execute_result"
        }
      ],
      "source": [
        "lst[0][:]"
      ]
    },
    {
      "cell_type": "code",
      "execution_count": null,
      "id": "53f28218",
      "metadata": {
        "id": "53f28218",
        "outputId": "c99b5bd6-0740-4756-ecee-aa4aa3f4e5ce"
      },
      "outputs": [
        {
          "data": {
            "text/plain": [
              "[4, 5, 6]"
            ]
          },
          "execution_count": 114,
          "metadata": {},
          "output_type": "execute_result"
        }
      ],
      "source": [
        "lst[-1][:]"
      ]
    },
    {
      "cell_type": "code",
      "execution_count": null,
      "id": "e1eb784b",
      "metadata": {
        "id": "e1eb784b"
      },
      "outputs": [],
      "source": [
        "arr = np.array([[1,2,3],[4,5,6]])"
      ]
    },
    {
      "cell_type": "code",
      "execution_count": null,
      "id": "c2254cb8",
      "metadata": {
        "id": "c2254cb8",
        "outputId": "94dcca24-2b81-4350-f547-06cb47f68d8f"
      },
      "outputs": [
        {
          "data": {
            "text/plain": [
              "array([[1, 2, 3],\n",
              "       [4, 5, 6]])"
            ]
          },
          "execution_count": 116,
          "metadata": {},
          "output_type": "execute_result"
        }
      ],
      "source": [
        "arr"
      ]
    },
    {
      "cell_type": "code",
      "execution_count": null,
      "id": "dab86062",
      "metadata": {
        "id": "dab86062",
        "outputId": "47143932-e6bb-4003-8550-6de0ce0a0911"
      },
      "outputs": [
        {
          "data": {
            "text/plain": [
              "array([[False, False,  True],\n",
              "       [ True,  True,  True]])"
            ]
          },
          "execution_count": 119,
          "metadata": {},
          "output_type": "execute_result"
        }
      ],
      "source": [
        "arr > 2"
      ]
    },
    {
      "cell_type": "code",
      "execution_count": null,
      "id": "9aa44b78",
      "metadata": {
        "id": "9aa44b78"
      },
      "outputs": [],
      "source": [
        "# False : 0\n",
        "# True : 1"
      ]
    },
    {
      "cell_type": "code",
      "execution_count": null,
      "id": "c1f9f08c",
      "metadata": {
        "id": "c1f9f08c",
        "outputId": "1a58817c-2aab-4716-b5c0-7e1e69558510"
      },
      "outputs": [
        {
          "data": {
            "text/plain": [
              "array([5, 7, 9])"
            ]
          },
          "execution_count": 121,
          "metadata": {},
          "output_type": "execute_result"
        }
      ],
      "source": [
        "sum(arr)"
      ]
    },
    {
      "cell_type": "code",
      "execution_count": null,
      "id": "954d8bbf",
      "metadata": {
        "id": "954d8bbf",
        "outputId": "853ebccd-f7d0-43b5-a499-5a4fd59d20b3"
      },
      "outputs": [
        {
          "data": {
            "text/plain": [
              "array([[1, 2, 3],\n",
              "       [4, 5, 6]])"
            ]
          },
          "execution_count": 122,
          "metadata": {},
          "output_type": "execute_result"
        }
      ],
      "source": [
        "arr"
      ]
    },
    {
      "cell_type": "code",
      "execution_count": null,
      "id": "eb922365",
      "metadata": {
        "id": "eb922365",
        "outputId": "fd700a35-4de9-41cc-d83a-ff124cebb636"
      },
      "outputs": [
        {
          "data": {
            "text/plain": [
              "array([[1, 2, 3],\n",
              "       [4, 5, 6]])"
            ]
          },
          "execution_count": 126,
          "metadata": {},
          "output_type": "execute_result"
        }
      ],
      "source": [
        "arr"
      ]
    },
    {
      "cell_type": "code",
      "execution_count": null,
      "id": "96270200",
      "metadata": {
        "id": "96270200",
        "outputId": "b20f3d13-c0b0-409b-8cf4-197bea3cb75c"
      },
      "outputs": [
        {
          "data": {
            "text/plain": [
              "8"
            ]
          },
          "execution_count": 133,
          "metadata": {},
          "output_type": "execute_result"
        }
      ],
      "source": [
        "df['Order Date'].isna().sum()"
      ]
    },
    {
      "cell_type": "code",
      "execution_count": null,
      "id": "d2b608e6",
      "metadata": {
        "id": "d2b608e6",
        "outputId": "fd79d9a8-12f3-464e-d7e6-012eac28c4a3"
      },
      "outputs": [
        {
          "data": {
            "text/plain": [
              "array([[1, 2, 3],\n",
              "       [4, 5, 6]])"
            ]
          },
          "execution_count": 134,
          "metadata": {},
          "output_type": "execute_result"
        }
      ],
      "source": [
        "arr"
      ]
    },
    {
      "cell_type": "code",
      "execution_count": null,
      "id": "f7bff353",
      "metadata": {
        "id": "f7bff353",
        "outputId": "12a9d030-d0a1-4860-cef9-9bf0e5bc2ca4"
      },
      "outputs": [
        {
          "data": {
            "text/plain": [
              "array([[False, False,  True],\n",
              "       [ True, False, False]])"
            ]
          },
          "execution_count": 135,
          "metadata": {},
          "output_type": "execute_result"
        }
      ],
      "source": [
        "(arr > 2) & (arr < 5)"
      ]
    },
    {
      "cell_type": "code",
      "execution_count": null,
      "id": "ef738541",
      "metadata": {
        "id": "ef738541",
        "outputId": "ac05f411-52df-4c97-a4ca-633380884100"
      },
      "outputs": [
        {
          "data": {
            "text/plain": [
              "array([1, 2, 3, 4, 5, 6])"
            ]
          },
          "execution_count": 139,
          "metadata": {},
          "output_type": "execute_result"
        }
      ],
      "source": [
        "arr[(arr > 2) |(arr < 5)]"
      ]
    },
    {
      "cell_type": "code",
      "execution_count": null,
      "id": "eeb842d6",
      "metadata": {
        "id": "eeb842d6"
      },
      "outputs": [],
      "source": [
        "arr_numbers = np.array([34,56,87,90,34,56,12,34,67,89,90,88,\n",
        "                      35,67,12,45,78,23,56])"
      ]
    },
    {
      "cell_type": "code",
      "execution_count": null,
      "id": "f0d627ae",
      "metadata": {
        "id": "f0d627ae"
      },
      "outputs": [],
      "source": [
        "lst = [34,56,87,90,34,56,12,34,67,89,90,88,35,67,12,45,78,23,56]"
      ]
    },
    {
      "cell_type": "code",
      "execution_count": null,
      "id": "753b16b9",
      "metadata": {
        "id": "753b16b9",
        "outputId": "b1665ba2-9370-4578-d464-23ee66e9959e"
      },
      "outputs": [
        {
          "data": {
            "text/plain": [
              "[56, 87, 90, 56, 67, 89, 90, 88, 67, 78, 56]"
            ]
          },
          "execution_count": 143,
          "metadata": {},
          "output_type": "execute_result"
        }
      ],
      "source": [
        "list(filter(lambda x : x > 50, lst))"
      ]
    },
    {
      "cell_type": "code",
      "execution_count": null,
      "id": "6375805e",
      "metadata": {
        "id": "6375805e",
        "outputId": "32dbc16f-516e-4216-80e0-3f9dccda4097"
      },
      "outputs": [
        {
          "data": {
            "text/plain": [
              "array([34, 56, 87, 90, 34, 56, 12, 34, 67, 89, 90, 88, 35, 67, 12, 45, 78,\n",
              "       23, 56])"
            ]
          },
          "execution_count": 144,
          "metadata": {},
          "output_type": "execute_result"
        }
      ],
      "source": [
        "arr_numbers"
      ]
    },
    {
      "cell_type": "code",
      "execution_count": null,
      "id": "8eefde3b",
      "metadata": {
        "id": "8eefde3b",
        "outputId": "262709d8-8740-41c6-ff0c-90e9737debe9"
      },
      "outputs": [
        {
          "data": {
            "text/plain": [
              "19"
            ]
          },
          "execution_count": 146,
          "metadata": {},
          "output_type": "execute_result"
        }
      ],
      "source": [
        "len(arr_numbers > 50)"
      ]
    },
    {
      "cell_type": "code",
      "execution_count": null,
      "id": "8b5d647a",
      "metadata": {
        "id": "8b5d647a",
        "outputId": "2f376f30-e73c-4b89-a59b-1effdafc01a8"
      },
      "outputs": [
        {
          "data": {
            "text/plain": [
              "array([56, 87, 90, 56, 67, 89, 90, 88, 67, 78, 56])"
            ]
          },
          "execution_count": 147,
          "metadata": {},
          "output_type": "execute_result"
        }
      ],
      "source": [
        "arr_numbers[arr_numbers > 50]"
      ]
    },
    {
      "cell_type": "code",
      "execution_count": null,
      "id": "fb3e53a1",
      "metadata": {
        "id": "fb3e53a1",
        "outputId": "04fc2f74-e631-4bdc-f253-77323d334c30"
      },
      "outputs": [
        {
          "data": {
            "text/plain": [
              "11"
            ]
          },
          "execution_count": 148,
          "metadata": {},
          "output_type": "execute_result"
        }
      ],
      "source": [
        "len(arr_numbers[arr_numbers > 50])"
      ]
    },
    {
      "cell_type": "code",
      "execution_count": null,
      "id": "9b5673d2",
      "metadata": {
        "id": "9b5673d2",
        "outputId": "a9c6cda1-86f2-4b67-80c2-57405a7bc251"
      },
      "outputs": [
        {
          "data": {
            "text/plain": [
              "array([34, 56, 87, 90, 34, 56, 12, 34, 67, 89, 90, 88, 35, 67, 12, 45, 78,\n",
              "       23, 56])"
            ]
          },
          "execution_count": 149,
          "metadata": {},
          "output_type": "execute_result"
        }
      ],
      "source": [
        "arr_numbers"
      ]
    },
    {
      "cell_type": "code",
      "execution_count": null,
      "id": "a59e7616",
      "metadata": {
        "id": "a59e7616",
        "outputId": "18fd21c5-b042-44de-ddc9-2c99ba9bd0b7"
      },
      "outputs": [
        {
          "data": {
            "text/plain": [
              "array([34, 56, 90, 34, 56, 12, 34, 90, 88, 12, 78, 56])"
            ]
          },
          "execution_count": 150,
          "metadata": {},
          "output_type": "execute_result"
        }
      ],
      "source": [
        "arr_numbers[arr_numbers % 2 == 0]"
      ]
    },
    {
      "cell_type": "code",
      "execution_count": null,
      "id": "4efa14cc",
      "metadata": {
        "id": "4efa14cc",
        "outputId": "afbf1742-b5f1-4830-ebd2-2ca92c06a971"
      },
      "outputs": [
        {
          "data": {
            "text/plain": [
              "array([87, 67, 89, 35, 67, 45, 23])"
            ]
          },
          "execution_count": 151,
          "metadata": {},
          "output_type": "execute_result"
        }
      ],
      "source": [
        "arr_numbers[arr_numbers % 2 != 0]"
      ]
    },
    {
      "cell_type": "code",
      "execution_count": null,
      "id": "7919796b",
      "metadata": {
        "id": "7919796b",
        "outputId": "082a5f14-dcd4-486b-d872-bd262c90ea14"
      },
      "outputs": [
        {
          "data": {
            "text/plain": [
              "array([90, 90, 35, 45])"
            ]
          },
          "execution_count": 152,
          "metadata": {},
          "output_type": "execute_result"
        }
      ],
      "source": [
        "arr_numbers[arr_numbers % 5 == 0]"
      ]
    },
    {
      "cell_type": "code",
      "execution_count": null,
      "id": "a2eda66e",
      "metadata": {
        "id": "a2eda66e",
        "outputId": "9bf1c4f7-9a0f-4d5c-eab8-db0998c1347d"
      },
      "outputs": [
        {
          "data": {
            "text/plain": [
              "19"
            ]
          },
          "execution_count": 153,
          "metadata": {},
          "output_type": "execute_result"
        }
      ],
      "source": [
        "len(arr_numbers)"
      ]
    },
    {
      "cell_type": "markdown",
      "id": "8c9fc1d7",
      "metadata": {
        "id": "8c9fc1d7"
      },
      "source": [
        "### numpy where method"
      ]
    },
    {
      "cell_type": "code",
      "execution_count": null,
      "id": "93dd76d3",
      "metadata": {
        "id": "93dd76d3",
        "outputId": "1cab8d76-190b-41ab-f7d7-6d6593386745"
      },
      "outputs": [
        {
          "data": {
            "text/plain": [
              "array([34, 56, 87, 90, 34, 56, 12, 34, 67, 89, 90, 88, 35, 67, 12, 45, 78,\n",
              "       23, 56])"
            ]
          },
          "execution_count": 154,
          "metadata": {},
          "output_type": "execute_result"
        }
      ],
      "source": [
        "arr_numbers"
      ]
    },
    {
      "cell_type": "code",
      "execution_count": null,
      "id": "8e092fa5",
      "metadata": {
        "id": "8e092fa5",
        "outputId": "78faaee8-35b3-45dd-975e-738cb50de2ad"
      },
      "outputs": [
        {
          "data": {
            "text/plain": [
              "(array([ 0,  4,  6,  7, 12, 14, 15, 17], dtype=int64),)"
            ]
          },
          "execution_count": 155,
          "metadata": {},
          "output_type": "execute_result"
        }
      ],
      "source": [
        "np.where(arr_numbers < 50)"
      ]
    },
    {
      "cell_type": "code",
      "execution_count": null,
      "id": "213413a8",
      "metadata": {
        "id": "213413a8",
        "outputId": "172e6fab-bafb-41bc-ba15-33a694652919"
      },
      "outputs": [
        {
          "data": {
            "text/plain": [
              "(array([ 3, 10], dtype=int64),)"
            ]
          },
          "execution_count": 156,
          "metadata": {},
          "output_type": "execute_result"
        }
      ],
      "source": [
        "np.where(arr_numbers == 90)"
      ]
    },
    {
      "cell_type": "code",
      "execution_count": null,
      "id": "ab826079",
      "metadata": {
        "id": "ab826079",
        "outputId": "2224d80f-f070-492d-8c74-6fd64c983932"
      },
      "outputs": [
        {
          "data": {
            "text/plain": [
              "(array([ 1,  5, 18], dtype=int64),)"
            ]
          },
          "execution_count": 157,
          "metadata": {},
          "output_type": "execute_result"
        }
      ],
      "source": [
        "np.where((arr_numbers >50) & (arr_numbers < 60))"
      ]
    },
    {
      "cell_type": "code",
      "execution_count": null,
      "id": "f9abe069",
      "metadata": {
        "id": "f9abe069",
        "outputId": "bf5dbd37-08b2-4ab2-8d8d-b1210ba30c04"
      },
      "outputs": [
        {
          "data": {
            "text/plain": [
              "array([[1, 2, 3],\n",
              "       [4, 5, 6]])"
            ]
          },
          "execution_count": 158,
          "metadata": {},
          "output_type": "execute_result"
        }
      ],
      "source": [
        "arr_2d"
      ]
    },
    {
      "cell_type": "code",
      "execution_count": null,
      "id": "96ab8074",
      "metadata": {
        "id": "96ab8074",
        "outputId": "acad382a-0599-4bbf-9b60-7f7d0a404a8c"
      },
      "outputs": [
        {
          "data": {
            "text/plain": [
              "(array([1, 1, 1], dtype=int64), array([0, 1, 2], dtype=int64))"
            ]
          },
          "execution_count": 159,
          "metadata": {},
          "output_type": "execute_result"
        }
      ],
      "source": [
        "np.where(arr_2d > 3)"
      ]
    },
    {
      "cell_type": "code",
      "execution_count": null,
      "id": "b1d74151",
      "metadata": {
        "id": "b1d74151",
        "outputId": "0c1cd2db-2620-42b5-c3cd-258261657695"
      },
      "outputs": [
        {
          "data": {
            "text/plain": [
              "array([[False, False, False],\n",
              "       [ True,  True,  True]])"
            ]
          },
          "execution_count": 161,
          "metadata": {},
          "output_type": "execute_result"
        }
      ],
      "source": [
        "arr_2d > 3"
      ]
    },
    {
      "cell_type": "code",
      "execution_count": null,
      "id": "6050ef7a",
      "metadata": {
        "id": "6050ef7a",
        "outputId": "5011c2e6-2973-44ff-97ab-d655bcdb9faf"
      },
      "outputs": [
        {
          "data": {
            "text/plain": [
              "array([4, 5, 6])"
            ]
          },
          "execution_count": 162,
          "metadata": {},
          "output_type": "execute_result"
        }
      ],
      "source": [
        "arr_2d[np.where(arr_2d > 3)]"
      ]
    },
    {
      "cell_type": "code",
      "execution_count": null,
      "id": "1c5ae5ae",
      "metadata": {
        "id": "1c5ae5ae",
        "outputId": "59814079-bba4-4762-a4ff-f9dbfe8018a7"
      },
      "outputs": [
        {
          "data": {
            "text/plain": [
              "array([34, 56, 87, 90, 34, 56, 12, 34, 67, 89, 90, 88, 35, 67, 12, 45, 78,\n",
              "       23, 56])"
            ]
          },
          "execution_count": 163,
          "metadata": {},
          "output_type": "execute_result"
        }
      ],
      "source": [
        "arr_numbers"
      ]
    },
    {
      "cell_type": "code",
      "execution_count": null,
      "id": "51803247",
      "metadata": {
        "id": "51803247",
        "outputId": "82d2f4b5-3a7f-4240-9d04-c7799c0c97d2"
      },
      "outputs": [
        {
          "data": {
            "text/plain": [
              "array(['<50', '56', '87', '90', '<50', '56', '<50', '<50', '67', '89',\n",
              "       '90', '88', '<50', '67', '<50', '<50', '78', '<50', '56'],\n",
              "      dtype='<U11')"
            ]
          },
          "execution_count": 164,
          "metadata": {},
          "output_type": "execute_result"
        }
      ],
      "source": [
        "np.where((arr_numbers < 50),\"<50\", arr_numbers)"
      ]
    },
    {
      "cell_type": "markdown",
      "id": "f36670fb",
      "metadata": {
        "id": "f36670fb"
      },
      "source": [
        "### Operations on Numpy Arrays:"
      ]
    },
    {
      "cell_type": "code",
      "execution_count": null,
      "id": "b0820281",
      "metadata": {
        "id": "b0820281"
      },
      "outputs": [],
      "source": [
        "np_arr = np.array([1,2,3])"
      ]
    },
    {
      "cell_type": "code",
      "execution_count": null,
      "id": "4c4b1f89",
      "metadata": {
        "id": "4c4b1f89",
        "outputId": "f89c124d-2de2-4e55-e04c-1109eb2472d1"
      },
      "outputs": [
        {
          "data": {
            "text/plain": [
              "array([1, 2, 3])"
            ]
          },
          "execution_count": 173,
          "metadata": {},
          "output_type": "execute_result"
        }
      ],
      "source": [
        "np_arr"
      ]
    },
    {
      "cell_type": "markdown",
      "id": "965492b8",
      "metadata": {
        "id": "965492b8"
      },
      "source": [
        "### Adding elements to 1D array"
      ]
    },
    {
      "cell_type": "code",
      "execution_count": null,
      "id": "1ccf79c3",
      "metadata": {
        "id": "1ccf79c3",
        "outputId": "14500d32-d4bd-4165-c18c-a786b8cbe45e"
      },
      "outputs": [
        {
          "data": {
            "text/plain": [
              "array([1, 2, 3, 4])"
            ]
          },
          "execution_count": 174,
          "metadata": {},
          "output_type": "execute_result"
        }
      ],
      "source": [
        "np.append(arr = np_arr, values = 4)"
      ]
    },
    {
      "cell_type": "code",
      "execution_count": null,
      "id": "652394e1",
      "metadata": {
        "id": "652394e1",
        "outputId": "3bd1fcab-f037-4837-a7c7-bd1082bb67e4"
      },
      "outputs": [
        {
          "data": {
            "text/plain": [
              "array([1, 2, 3, 4])"
            ]
          },
          "execution_count": 175,
          "metadata": {},
          "output_type": "execute_result"
        }
      ],
      "source": [
        "np.append(np_arr,4)"
      ]
    },
    {
      "cell_type": "code",
      "execution_count": null,
      "id": "0fc8f05e",
      "metadata": {
        "id": "0fc8f05e",
        "outputId": "c368502a-6eaa-4330-a84f-1ce1f91a91fd"
      },
      "outputs": [
        {
          "data": {
            "text/plain": [
              "array([1, 2, 3, 5, 6, 7, 8, 9])"
            ]
          },
          "execution_count": 176,
          "metadata": {},
          "output_type": "execute_result"
        }
      ],
      "source": [
        "np.append(np_arr,[5,6,7,8,9])"
      ]
    },
    {
      "cell_type": "markdown",
      "id": "f4c97803",
      "metadata": {
        "id": "f4c97803"
      },
      "source": [
        "### Removing elements from 1d arrays"
      ]
    },
    {
      "cell_type": "code",
      "execution_count": null,
      "id": "ae518060",
      "metadata": {
        "id": "ae518060",
        "outputId": "336abc57-a449-4be3-a75a-f8cc37572b48"
      },
      "outputs": [
        {
          "data": {
            "text/plain": [
              "array([1, 2, 3])"
            ]
          },
          "execution_count": 177,
          "metadata": {},
          "output_type": "execute_result"
        }
      ],
      "source": [
        "np_arr"
      ]
    },
    {
      "cell_type": "markdown",
      "id": "8e9c4d06",
      "metadata": {
        "id": "8e9c4d06"
      },
      "source": [
        "### numpy delete method\n",
        "\n",
        "This method can delete an item based on item's index."
      ]
    },
    {
      "cell_type": "code",
      "execution_count": null,
      "id": "33c045d1",
      "metadata": {
        "id": "33c045d1",
        "outputId": "2c1938af-122e-4d9d-8f2c-6be937bb4dd1"
      },
      "outputs": [
        {
          "data": {
            "text/plain": [
              "array([1, 2])"
            ]
          },
          "execution_count": 178,
          "metadata": {},
          "output_type": "execute_result"
        }
      ],
      "source": [
        "np.delete(np_arr, 2)"
      ]
    },
    {
      "cell_type": "code",
      "execution_count": null,
      "id": "25a4c219",
      "metadata": {
        "id": "25a4c219",
        "outputId": "fd7c2c67-1d55-4d13-da94-8231b9d6d1f7"
      },
      "outputs": [
        {
          "name": "stdout",
          "output_type": "stream",
          "text": [
            "['append', 'clear', 'copy', 'count', 'extend', 'index', 'insert', 'pop', 'remove', 'reverse', 'sort']\n"
          ]
        }
      ],
      "source": [
        "print([i for i in dir(list) if \"__\" not in i])"
      ]
    },
    {
      "cell_type": "code",
      "execution_count": null,
      "id": "c6c73ce5",
      "metadata": {
        "id": "c6c73ce5",
        "outputId": "181d2ebb-e0b2-4236-815a-3a131086c1e0"
      },
      "outputs": [
        {
          "data": {
            "text/plain": [
              "array([34, 56, 87, 90, 34, 56, 12, 34, 67, 89, 90, 88, 35, 67, 12, 45, 78,\n",
              "       23, 56])"
            ]
          },
          "execution_count": 182,
          "metadata": {},
          "output_type": "execute_result"
        }
      ],
      "source": [
        "arr_numbers"
      ]
    },
    {
      "cell_type": "code",
      "execution_count": null,
      "id": "14c603f4",
      "metadata": {
        "id": "14c603f4",
        "outputId": "24686b93-edba-4f8f-e698-93120b3223a1"
      },
      "outputs": [
        {
          "data": {
            "text/plain": [
              "array([56, 87, 90, 34, 56, 12, 34, 67, 89, 90, 88, 35, 67, 12, 45, 78, 23])"
            ]
          },
          "execution_count": 183,
          "metadata": {},
          "output_type": "execute_result"
        }
      ],
      "source": [
        "np.delete(arr_numbers,[0,-1])"
      ]
    },
    {
      "cell_type": "code",
      "execution_count": null,
      "id": "f3cb95ac",
      "metadata": {
        "id": "f3cb95ac",
        "outputId": "c57fc0a2-ecf9-4682-d7e1-09df99587198"
      },
      "outputs": [
        {
          "data": {
            "text/plain": [
              "array([87, 67, 89, 35, 67, 45, 23])"
            ]
          },
          "execution_count": 184,
          "metadata": {},
          "output_type": "execute_result"
        }
      ],
      "source": [
        "np.delete(arr_numbers, np.where(arr_numbers % 2 == 0))"
      ]
    },
    {
      "cell_type": "code",
      "execution_count": null,
      "id": "5f968f20",
      "metadata": {
        "id": "5f968f20"
      },
      "outputs": [],
      "source": [
        "np_arr1 = np.array([[4.7,1.4,-4.6],[2.6,-1.2,-2],[6.6,-3.2,4.9]])"
      ]
    },
    {
      "cell_type": "code",
      "execution_count": null,
      "id": "142dc4ea",
      "metadata": {
        "id": "142dc4ea",
        "outputId": "6b14358a-c639-47cb-a395-3bffd0b1f575"
      },
      "outputs": [
        {
          "data": {
            "text/plain": [
              "array([[ 4.7,  1.4, -4.6],\n",
              "       [ 2.6, -1.2, -2. ],\n",
              "       [ 6.6, -3.2,  4.9]])"
            ]
          },
          "execution_count": 186,
          "metadata": {},
          "output_type": "execute_result"
        }
      ],
      "source": [
        "np_arr1"
      ]
    },
    {
      "cell_type": "code",
      "execution_count": null,
      "id": "e7c5bf97",
      "metadata": {
        "id": "e7c5bf97",
        "outputId": "0f116618-f41d-40a5-dacc-d3780abfd78d"
      },
      "outputs": [
        {
          "data": {
            "text/plain": [
              "array([ 1.4, -4.6,  2.6, -1.2, -2. ,  6.6, -3.2,  4.9])"
            ]
          },
          "execution_count": 187,
          "metadata": {},
          "output_type": "execute_result"
        }
      ],
      "source": [
        "np.delete(np_arr1, 0)"
      ]
    },
    {
      "cell_type": "code",
      "execution_count": null,
      "id": "1c3edb02",
      "metadata": {
        "id": "1c3edb02",
        "outputId": "21e166ce-7b90-4b7b-bd6a-647b2ab4b8b3"
      },
      "outputs": [
        {
          "data": {
            "text/plain": [
              "array([[ 2.6, -1.2, -2. ],\n",
              "       [ 6.6, -3.2,  4.9]])"
            ]
          },
          "execution_count": 188,
          "metadata": {},
          "output_type": "execute_result"
        }
      ],
      "source": [
        "np.delete(np_arr1, 0, axis = 0)"
      ]
    },
    {
      "cell_type": "code",
      "execution_count": null,
      "id": "08cc3c18",
      "metadata": {
        "id": "08cc3c18",
        "outputId": "b1644700-c9ca-4c2f-b7c4-93065e5e13df"
      },
      "outputs": [
        {
          "data": {
            "text/plain": [
              "array([[ 4.7,  1.4, -4.6],\n",
              "       [ 2.6, -1.2, -2. ]])"
            ]
          },
          "execution_count": 190,
          "metadata": {},
          "output_type": "execute_result"
        }
      ],
      "source": [
        "np.delete(np_arr1, [0-1], axis = 0)"
      ]
    },
    {
      "cell_type": "code",
      "execution_count": null,
      "id": "243b8c70",
      "metadata": {
        "id": "243b8c70",
        "outputId": "6da74332-23f9-4a2a-bf49-1bd641fe6db8"
      },
      "outputs": [
        {
          "data": {
            "text/plain": [
              "array([[ 6.6, -3.2,  4.9]])"
            ]
          },
          "execution_count": 191,
          "metadata": {},
          "output_type": "execute_result"
        }
      ],
      "source": [
        "np.delete(np_arr1,[0,1], axis = 0)"
      ]
    },
    {
      "cell_type": "code",
      "execution_count": null,
      "id": "505c5077",
      "metadata": {
        "id": "505c5077",
        "outputId": "13458c23-e185-48f7-a561-27622cadf98f"
      },
      "outputs": [
        {
          "data": {
            "text/plain": [
              "array([[ 4.7,  1.4, -4.6],\n",
              "       [ 2.6, -1.2, -2. ],\n",
              "       [ 6.6, -3.2,  4.9]])"
            ]
          },
          "execution_count": 192,
          "metadata": {},
          "output_type": "execute_result"
        }
      ],
      "source": [
        "np_arr1"
      ]
    },
    {
      "cell_type": "code",
      "execution_count": null,
      "id": "d0decc11",
      "metadata": {
        "id": "d0decc11",
        "outputId": "0921915c-4def-4538-d4ed-988ae4f3c882"
      },
      "outputs": [
        {
          "data": {
            "text/plain": [
              "array([[ 4.7, -4.6],\n",
              "       [ 2.6, -2. ],\n",
              "       [ 6.6,  4.9]])"
            ]
          },
          "execution_count": 193,
          "metadata": {},
          "output_type": "execute_result"
        }
      ],
      "source": [
        "np.delete(np_arr1, 1,axis = 1)"
      ]
    },
    {
      "cell_type": "code",
      "execution_count": null,
      "id": "45b5ac93",
      "metadata": {
        "id": "45b5ac93"
      },
      "outputs": [],
      "source": [
        "lst.extend?"
      ]
    },
    {
      "cell_type": "code",
      "execution_count": null,
      "id": "651aaa90",
      "metadata": {
        "id": "651aaa90"
      },
      "outputs": [],
      "source": [
        "filter?"
      ]
    },
    {
      "cell_type": "code",
      "execution_count": null,
      "id": "ce721857",
      "metadata": {
        "id": "ce721857"
      },
      "outputs": [],
      "source": [
        "lst = [2,5,7,None,\"\",34,56,False,60,0,False,True,-50, None,40,60, None]"
      ]
    },
    {
      "cell_type": "code",
      "execution_count": null,
      "id": "52420adb",
      "metadata": {
        "id": "52420adb",
        "outputId": "dbad465f-c98f-476c-9d99-f29dba1b4e7a"
      },
      "outputs": [
        {
          "data": {
            "text/plain": [
              "[2, 5, 7, 34, 56, 60, True, -50, 40, 60]"
            ]
          },
          "execution_count": 216,
          "metadata": {},
          "output_type": "execute_result"
        }
      ],
      "source": [
        "list(filter(None,lst))"
      ]
    },
    {
      "cell_type": "code",
      "execution_count": null,
      "id": "7f8df0bc",
      "metadata": {
        "id": "7f8df0bc"
      },
      "outputs": [],
      "source": [
        "axis = None,\n",
        "axis = 0\n",
        "axis = 1"
      ]
    },
    {
      "cell_type": "code",
      "execution_count": null,
      "id": "ef34082e",
      "metadata": {
        "id": "ef34082e",
        "outputId": "fdf0302a-9ccc-4a4b-ffca-f4be51cd32d0"
      },
      "outputs": [
        {
          "data": {
            "text/plain": [
              "array([[ 4.7,  1.4, -4.6],\n",
              "       [ 2.6, -1.2, -2. ],\n",
              "       [ 6.6, -3.2,  4.9]])"
            ]
          },
          "execution_count": 211,
          "metadata": {},
          "output_type": "execute_result"
        }
      ],
      "source": [
        "np_arr1"
      ]
    },
    {
      "cell_type": "code",
      "execution_count": null,
      "id": "5306ed80",
      "metadata": {
        "id": "5306ed80",
        "outputId": "160189b4-4a52-465d-ccae-11d45b0521bd"
      },
      "outputs": [
        {
          "data": {
            "text/plain": [
              "array([ 1.4, -4.6,  2.6, -1.2, -2. ,  6.6, -3.2,  4.9])"
            ]
          },
          "execution_count": 212,
          "metadata": {},
          "output_type": "execute_result"
        }
      ],
      "source": [
        "np.delete(np_arr1, 0, axis = None)"
      ]
    },
    {
      "cell_type": "code",
      "execution_count": null,
      "id": "98d8bbdd",
      "metadata": {
        "id": "98d8bbdd",
        "outputId": "48721e94-a10b-4e7f-f40a-8b809cca2a3b"
      },
      "outputs": [
        {
          "data": {
            "text/plain": [
              "array([[ 1.4],\n",
              "       [-1.2],\n",
              "       [-3.2]])"
            ]
          },
          "execution_count": 214,
          "metadata": {},
          "output_type": "execute_result"
        }
      ],
      "source": [
        "np.delete(np_arr1, [0,-1],axis = 1)"
      ]
    },
    {
      "cell_type": "code",
      "execution_count": null,
      "id": "2a156a86",
      "metadata": {
        "id": "2a156a86",
        "outputId": "fccae2ed-789f-4e6c-afe6-127065a8954f"
      },
      "outputs": [
        {
          "data": {
            "text/plain": [
              "array([[ 4.7,  1.4, -4.6],\n",
              "       [ 2.6, -1.2, -2. ],\n",
              "       [ 6.6, -3.2,  4.9]])"
            ]
          },
          "execution_count": 217,
          "metadata": {},
          "output_type": "execute_result"
        }
      ],
      "source": [
        "np_arr1"
      ]
    },
    {
      "cell_type": "code",
      "execution_count": null,
      "id": "41080e72",
      "metadata": {
        "id": "41080e72",
        "outputId": "26523784-6728-4c7b-a072-31d4f78c50b0"
      },
      "outputs": [
        {
          "data": {
            "text/plain": [
              "array([[-1.2, -2. ],\n",
              "       [-3.2,  4.9]])"
            ]
          },
          "execution_count": 225,
          "metadata": {},
          "output_type": "execute_result"
        }
      ],
      "source": [
        "np.delete(np.delete(np_arr1, 0, axis = 0), 0, axis = 1)"
      ]
    },
    {
      "cell_type": "code",
      "execution_count": null,
      "id": "786bc853",
      "metadata": {
        "id": "786bc853",
        "outputId": "88c6175c-0436-4526-97d6-bd34ed3f8436"
      },
      "outputs": [
        {
          "data": {
            "text/plain": [
              "[2, 5, 7, None, '', 34, 56, False, 60, 0, False, True, -50, None, 40, 60, None]"
            ]
          },
          "execution_count": 226,
          "metadata": {},
          "output_type": "execute_result"
        }
      ],
      "source": [
        "lst"
      ]
    },
    {
      "cell_type": "code",
      "execution_count": null,
      "id": "d1df287e",
      "metadata": {
        "id": "d1df287e"
      },
      "outputs": [],
      "source": [
        "lst.append(7)"
      ]
    },
    {
      "cell_type": "code",
      "execution_count": null,
      "id": "2651f2ed",
      "metadata": {
        "id": "2651f2ed"
      },
      "outputs": [],
      "source": [
        "lst.append(5)"
      ]
    },
    {
      "cell_type": "code",
      "execution_count": null,
      "id": "7bcc79bb",
      "metadata": {
        "id": "7bcc79bb"
      },
      "outputs": [],
      "source": [
        "lst.extend([5,6,7,8,3,5,7,0,7])"
      ]
    },
    {
      "cell_type": "code",
      "execution_count": null,
      "id": "e4d323bf",
      "metadata": {
        "id": "e4d323bf",
        "outputId": "b1fa1fa4-cc7f-4e4e-96c9-67e3d6ed69e7"
      },
      "outputs": [
        {
          "name": "stdout",
          "output_type": "stream",
          "text": [
            "[2, 5, 7, None, '', 34, 56, False, 60, 0, False, True, -50, None, 40, 60, None, 7, 5, 5, 6, 7, 8, 3, 5, 7, 0, 7]\n"
          ]
        }
      ],
      "source": [
        "print(lst)"
      ]
    },
    {
      "cell_type": "code",
      "execution_count": null,
      "id": "ff1644c3",
      "metadata": {
        "id": "ff1644c3",
        "outputId": "a510e47e-cbd6-4c45-811b-5a0535bc4b26"
      },
      "outputs": [
        {
          "data": {
            "text/plain": [
              "2"
            ]
          },
          "execution_count": 232,
          "metadata": {},
          "output_type": "execute_result"
        }
      ],
      "source": [
        "lst.index(7)"
      ]
    },
    {
      "cell_type": "code",
      "execution_count": null,
      "id": "2a604992",
      "metadata": {
        "id": "2a604992",
        "outputId": "d8c19e8c-2502-4151-e4ec-bb2afb037213"
      },
      "outputs": [
        {
          "data": {
            "text/plain": [
              "17"
            ]
          },
          "execution_count": 233,
          "metadata": {},
          "output_type": "execute_result"
        }
      ],
      "source": [
        "lst.index(7, 2+1)"
      ]
    },
    {
      "cell_type": "code",
      "execution_count": null,
      "id": "f32837d7",
      "metadata": {
        "id": "f32837d7",
        "outputId": "d91ecd6c-26bb-440f-e0cd-d4cdc44d8fa7"
      },
      "outputs": [
        {
          "data": {
            "text/plain": [
              "7"
            ]
          },
          "execution_count": 234,
          "metadata": {},
          "output_type": "execute_result"
        }
      ],
      "source": [
        "lst[17]"
      ]
    },
    {
      "cell_type": "code",
      "execution_count": null,
      "id": "81a15afb",
      "metadata": {
        "id": "81a15afb",
        "outputId": "c39de402-a420-4557-833d-461445cd16f5"
      },
      "outputs": [
        {
          "data": {
            "text/plain": [
              "21"
            ]
          },
          "execution_count": 235,
          "metadata": {},
          "output_type": "execute_result"
        }
      ],
      "source": [
        "lst.index(7,17+1)"
      ]
    },
    {
      "cell_type": "code",
      "execution_count": null,
      "id": "83621614",
      "metadata": {
        "id": "83621614",
        "outputId": "1eb4d5c1-3ca6-42c9-8ed4-b98fdd7c9cb7"
      },
      "outputs": [
        {
          "name": "stdout",
          "output_type": "stream",
          "text": [
            "2 17 21 25 27 "
          ]
        }
      ],
      "source": [
        "for pair in enumerate(lst):\n",
        "    if pair[-1] == 7:\n",
        "        print(pair[0], end = \" \")\n"
      ]
    },
    {
      "cell_type": "markdown",
      "id": "6255ccba",
      "metadata": {
        "id": "6255ccba"
      },
      "source": [
        "### How to generate random numbers"
      ]
    },
    {
      "cell_type": "code",
      "execution_count": null,
      "id": "a2699d6e",
      "metadata": {
        "id": "a2699d6e",
        "outputId": "03aaf3fb-06a4-491d-c4a6-e04357b095ea"
      },
      "outputs": [
        {
          "data": {
            "text/plain": [
              "array([17, 37, 22, 47, 31, 93, 92, 30, 11, 10, 74, 91, 72, 76, 33, 21, 56,\n",
              "       32, 67, 62, 80, 89, 23, 66, 78, 84, 86, 75, 92, 21, 63, 15, 83, 67,\n",
              "       15, 23, 16, 92, 29, 16, 97, 83, 95, 97, 14, 72, 10, 39, 87, 67])"
            ]
          },
          "execution_count": 267,
          "metadata": {},
          "output_type": "execute_result"
        }
      ],
      "source": [
        "np.random.randint(low = 10, high = 99, size = 50)"
      ]
    },
    {
      "cell_type": "code",
      "execution_count": null,
      "id": "a1274a3b",
      "metadata": {
        "id": "a1274a3b",
        "outputId": "0f4e2516-7b2b-42da-9dcf-2f54874d2b39"
      },
      "outputs": [
        {
          "data": {
            "text/plain": [
              "array([0.65260198, 0.26751268, 0.10435632, 0.21925879, 0.68762057,\n",
              "       0.79200452, 0.66055733, 0.95952961, 0.83449451, 0.26859558,\n",
              "       0.17126075, 0.02366749, 0.58841728, 0.27812057, 0.25396988,\n",
              "       0.30453645, 0.21383576, 0.94616023, 0.39367805, 0.35975746])"
            ]
          },
          "execution_count": 243,
          "metadata": {},
          "output_type": "execute_result"
        }
      ],
      "source": [
        "np.random.rand(20)"
      ]
    },
    {
      "cell_type": "code",
      "execution_count": null,
      "id": "6a2eacfa",
      "metadata": {
        "id": "6a2eacfa",
        "outputId": "32ef5747-f500-49d4-d0b0-0402509ba12c"
      },
      "outputs": [
        {
          "data": {
            "text/plain": [
              "-2.31163869350953"
            ]
          },
          "execution_count": 263,
          "metadata": {},
          "output_type": "execute_result"
        }
      ],
      "source": [
        "min(np.random.randn(100))"
      ]
    },
    {
      "cell_type": "code",
      "execution_count": null,
      "id": "f50dd661",
      "metadata": {
        "id": "f50dd661"
      },
      "outputs": [],
      "source": [
        "np.random.randn?"
      ]
    },
    {
      "cell_type": "code",
      "execution_count": null,
      "id": "e9aad71f",
      "metadata": {
        "id": "e9aad71f",
        "outputId": "56459074-d9ef-4820-8804-cadee363a75d"
      },
      "outputs": [
        {
          "data": {
            "text/plain": [
              "array([10, 79, 73, 12, 13, 82, 75, 33, 57, 72, 38, 78, 49, 47, 73, 83, 30,\n",
              "       82, 55, 89, 58, 32, 57, 37, 63, 71, 90, 68, 36, 94, 85, 67, 15, 43,\n",
              "       63, 54, 29, 10, 35, 68, 57, 75, 71, 90, 31, 74, 48, 29, 73, 50])"
            ]
          },
          "execution_count": 271,
          "metadata": {},
          "output_type": "execute_result"
        }
      ],
      "source": [
        "np.random.randint(low = 10, high = 99, size = 50)"
      ]
    },
    {
      "cell_type": "markdown",
      "id": "3350b74e",
      "metadata": {
        "id": "3350b74e"
      },
      "source": [
        "### Numpy Seed\n",
        "\n",
        "Whenever you are working on numbers and you are performing any x,y,z analysis on your dataset and the same data you want in your system."
      ]
    },
    {
      "cell_type": "code",
      "execution_count": null,
      "id": "85948c9b",
      "metadata": {
        "id": "85948c9b",
        "outputId": "ec0112d7-2a24-4763-a105-9fce5592f8bf"
      },
      "outputs": [
        {
          "data": {
            "text/plain": [
              "array([19, 25, 74, 38, 39, 18, 83, 10, 50, 46, 26, 21, 64, 98, 72, 43, 82,\n",
              "       88, 59, 61, 64, 87, 79, 23, 35, 23, 96, 40, 40, 22, 75, 41, 67, 46,\n",
              "       37, 28, 87, 32, 33, 21, 38, 84, 98, 19, 25, 28, 90, 81, 98, 21])"
            ]
          },
          "execution_count": 277,
          "metadata": {},
          "output_type": "execute_result"
        }
      ],
      "source": [
        "np.random.seed(10)\n",
        "np.random.randint(low = 10, high = 99, size = 50)"
      ]
    },
    {
      "cell_type": "code",
      "execution_count": null,
      "id": "01b8f9bd",
      "metadata": {
        "id": "01b8f9bd",
        "outputId": "5e502153-d1c1-4feb-8587-a7c75a0065bd"
      },
      "outputs": [
        {
          "data": {
            "text/plain": [
              "array([35, 73, 90, 91, 65, 23, 86, 43, 81, 92, 34, 58, 42, 55, 14, 44, 22,\n",
              "       11, 84, 47, 94, 91, 34, 27, 77, 80, 53, 74, 89, 33, 37, 80, 20, 67,\n",
              "       37, 54, 24, 17, 65, 89, 74, 50, 37, 15, 63, 81, 60, 69, 11, 13])"
            ]
          },
          "execution_count": 278,
          "metadata": {},
          "output_type": "execute_result"
        }
      ],
      "source": [
        "np.random.seed(11)\n",
        "np.random.randint(low = 10, high = 99, size = 50)"
      ]
    },
    {
      "cell_type": "code",
      "execution_count": null,
      "id": "2f5e541b",
      "metadata": {
        "id": "2f5e541b",
        "outputId": "00aae977-690d-4f46-bd97-f7735bef83c7"
      },
      "outputs": [
        {
          "data": {
            "text/plain": [
              "array([61, 24, 81, 70, 30, 92, 96, 84, 84, 97, 33, 12, 31, 62, 11, 97, 39,\n",
              "       47, 11, 73, 69, 30, 42, 85, 67, 31, 98, 58, 68, 51, 69, 89, 24, 71,\n",
              "       71, 56, 71, 60, 64, 73, 12, 60, 16, 30, 82, 48, 27, 13, 98, 69])"
            ]
          },
          "execution_count": 279,
          "metadata": {},
          "output_type": "execute_result"
        }
      ],
      "source": [
        "np.random.seed(42)\n",
        "np.random.randint(low = 10, high = 99, size = 50)"
      ]
    },
    {
      "cell_type": "code",
      "execution_count": null,
      "id": "25b678c4",
      "metadata": {
        "id": "25b678c4",
        "outputId": "e7776319-58b3-4268-bac8-13f9393f8ad0"
      },
      "outputs": [
        {
          "data": {
            "text/plain": [
              "array([18, 34, 77, 97, 89, 58, 20, 62, 63, 76, 24, 44, 34, 25, 70, 68, 26,\n",
              "       19, 96, 12, 37, 14, 41, 11, 23, 93, 14, 69, 77, 17, 59, 57, 75, 71,\n",
              "       24, 65, 81, 90, 12, 29, 73, 63, 37, 66, 40, 58, 57, 49, 48, 54])"
            ]
          },
          "execution_count": 280,
          "metadata": {},
          "output_type": "execute_result"
        }
      ],
      "source": [
        "np.random.seed(100)\n",
        "np.random.randint(low = 10, high = 99, size = 50)"
      ]
    },
    {
      "cell_type": "code",
      "execution_count": null,
      "id": "c8106a7d",
      "metadata": {
        "id": "c8106a7d",
        "outputId": "038f0421-af97-49d1-db62-81310b925347"
      },
      "outputs": [
        {
          "data": {
            "text/plain": [
              "array([22, 63, 41, 50, 57, 12, 31, 82, 71, 27, 80, 82, 95, 64, 49, 44, 72,\n",
              "       85, 61, 86, 24, 25, 17, 82, 53, 51, 84, 44, 36, 54, 45, 87, 40, 16,\n",
              "       87, 68, 56, 98, 14, 88, 89, 92, 95, 90, 70, 65, 50, 96, 78, 37])"
            ]
          },
          "execution_count": 281,
          "metadata": {},
          "output_type": "execute_result"
        }
      ],
      "source": [
        "np.random.seed(10000)\n",
        "np.random.randint(low = 10, high = 99, size = 50)"
      ]
    },
    {
      "cell_type": "code",
      "execution_count": null,
      "id": "8eb1e6a3",
      "metadata": {
        "id": "8eb1e6a3",
        "outputId": "550dae04-7528-497e-b568-4c3f77e7310a"
      },
      "outputs": [
        {
          "data": {
            "text/plain": [
              "array([275, 135, 537, 330, 379])"
            ]
          },
          "execution_count": 288,
          "metadata": {},
          "output_type": "execute_result"
        }
      ],
      "source": [
        "np.random.seed(10)\n",
        "np.random.randint(10,1000,5)"
      ]
    },
    {
      "cell_type": "markdown",
      "id": "0e7c30af",
      "metadata": {
        "id": "0e7c30af"
      },
      "source": [
        "### Concatenating and Splitting arrays:"
      ]
    },
    {
      "cell_type": "code",
      "execution_count": null,
      "id": "21798fa5",
      "metadata": {
        "id": "21798fa5"
      },
      "outputs": [],
      "source": [
        "arr1 = np.array([[1,2],[-4,3],[2,-5]])"
      ]
    },
    {
      "cell_type": "code",
      "execution_count": null,
      "id": "7e063061",
      "metadata": {
        "id": "7e063061",
        "outputId": "8d16a4e8-8050-4b34-8785-80da647e36c6"
      },
      "outputs": [
        {
          "data": {
            "text/plain": [
              "array([[ 1,  2],\n",
              "       [-4,  3],\n",
              "       [ 2, -5]])"
            ]
          },
          "execution_count": 305,
          "metadata": {},
          "output_type": "execute_result"
        }
      ],
      "source": [
        "arr1"
      ]
    },
    {
      "cell_type": "code",
      "execution_count": null,
      "id": "1cf1b686",
      "metadata": {
        "id": "1cf1b686",
        "outputId": "b050e377-e022-4396-a233-20b01e968bfd"
      },
      "outputs": [
        {
          "data": {
            "text/plain": [
              "array([[ 1,  2],\n",
              "       [-4,  3],\n",
              "       [ 2, -5]])"
            ]
          },
          "execution_count": 308,
          "metadata": {},
          "output_type": "execute_result"
        }
      ],
      "source": [
        "arr2 = np.array([[1,2],[-4,3],[2,-5]])\n",
        "arr2"
      ]
    },
    {
      "cell_type": "code",
      "execution_count": null,
      "id": "784f8089",
      "metadata": {
        "id": "784f8089",
        "outputId": "82c1cf8e-946f-46e9-dd90-8a2150e89345"
      },
      "outputs": [
        {
          "data": {
            "text/plain": [
              "array([[ 1,  2],\n",
              "       [-4,  3],\n",
              "       [ 2, -5],\n",
              "       [ 1,  2],\n",
              "       [-4,  3],\n",
              "       [ 2, -5]])"
            ]
          },
          "execution_count": 307,
          "metadata": {},
          "output_type": "execute_result"
        }
      ],
      "source": [
        "np.concatenate((arr1,arr2))"
      ]
    },
    {
      "cell_type": "code",
      "execution_count": null,
      "id": "3807ba51",
      "metadata": {
        "id": "3807ba51",
        "outputId": "01946b9f-130a-4a71-c92c-09caf247f259"
      },
      "outputs": [
        {
          "data": {
            "text/plain": [
              "array([[ 1,  2],\n",
              "       [-4,  3],\n",
              "       [ 2, -5],\n",
              "       [ 1,  2],\n",
              "       [-4,  3],\n",
              "       [ 2, -5]])"
            ]
          },
          "execution_count": 309,
          "metadata": {},
          "output_type": "execute_result"
        }
      ],
      "source": [
        "np.concatenate((arr1,arr2), axis = 0)"
      ]
    },
    {
      "cell_type": "code",
      "execution_count": null,
      "id": "78d3b7b2",
      "metadata": {
        "id": "78d3b7b2",
        "outputId": "2f508965-4094-47e5-8d89-0fedf1c28da9"
      },
      "outputs": [
        {
          "data": {
            "text/plain": [
              "array([[ 1,  2,  1,  2],\n",
              "       [-4,  3, -4,  3],\n",
              "       [ 2, -5,  2, -5]])"
            ]
          },
          "execution_count": 310,
          "metadata": {},
          "output_type": "execute_result"
        }
      ],
      "source": [
        "np.concatenate((arr1,arr2), axis = 1)"
      ]
    },
    {
      "cell_type": "code",
      "execution_count": null,
      "id": "f7859c8e",
      "metadata": {
        "id": "f7859c8e",
        "outputId": "f1f4b64e-484c-44be-9fd5-34ca360475af"
      },
      "outputs": [
        {
          "data": {
            "text/plain": [
              "array([[ 1,  2,  1,  2],\n",
              "       [-4,  3, -4,  3],\n",
              "       [ 2, -5,  2, -5]])"
            ]
          },
          "execution_count": 311,
          "metadata": {},
          "output_type": "execute_result"
        }
      ],
      "source": [
        "arr3 = np.concatenate((arr1,arr2), axis = 1)\n",
        "arr3"
      ]
    },
    {
      "cell_type": "code",
      "execution_count": null,
      "id": "f9e58978",
      "metadata": {
        "id": "f9e58978",
        "outputId": "7f9ef06e-641c-4455-9e42-d18605ded821"
      },
      "outputs": [
        {
          "data": {
            "text/plain": [
              "[array([[1, 2, 1, 2]]),\n",
              " array([[-4,  3, -4,  3],\n",
              "        [ 2, -5,  2, -5]])]"
            ]
          },
          "execution_count": 313,
          "metadata": {},
          "output_type": "execute_result"
        }
      ],
      "source": [
        "np.split(ary = arr3, indices_or_sections=[1])"
      ]
    },
    {
      "cell_type": "markdown",
      "id": "c8c68649",
      "metadata": {
        "id": "c8c68649"
      },
      "source": [
        "### Arithematic Operations:"
      ]
    },
    {
      "cell_type": "code",
      "execution_count": null,
      "id": "f5ec363c",
      "metadata": {
        "id": "f5ec363c"
      },
      "outputs": [],
      "source": [
        "revenue_nov = np.array([3485.09, 2784.89, 1930.80])\n",
        "revenue_dec = np.array([4859.90,1800.00,4500.50])"
      ]
    },
    {
      "cell_type": "code",
      "execution_count": null,
      "id": "8c187848",
      "metadata": {
        "id": "8c187848",
        "outputId": "88cf6bd6-dc7e-42f2-f9e7-2754d7dae0d8"
      },
      "outputs": [
        {
          "data": {
            "text/plain": [
              "array([8344.99, 4584.89, 6431.3 ])"
            ]
          },
          "execution_count": 315,
          "metadata": {},
          "output_type": "execute_result"
        }
      ],
      "source": [
        "revenue_nov + revenue_dec"
      ]
    },
    {
      "cell_type": "code",
      "execution_count": null,
      "id": "04663a46",
      "metadata": {
        "id": "04663a46"
      },
      "outputs": [],
      "source": [
        "total_revenue = revenue_nov + revenue_dec"
      ]
    },
    {
      "cell_type": "code",
      "execution_count": null,
      "id": "8290ac3c",
      "metadata": {
        "id": "8290ac3c",
        "outputId": "b3f54a23-3ea9-42eb-9128-a0b856d2f274"
      },
      "outputs": [
        {
          "data": {
            "text/plain": [
              "array([8344.99, 4584.89, 6431.3 ])"
            ]
          },
          "execution_count": 317,
          "metadata": {},
          "output_type": "execute_result"
        }
      ],
      "source": [
        "total_revenue"
      ]
    },
    {
      "cell_type": "code",
      "execution_count": null,
      "id": "fff05a40",
      "metadata": {
        "id": "fff05a40",
        "outputId": "25f8c5ee-0639-421a-cb52-c611aff41d53"
      },
      "outputs": [
        {
          "data": {
            "text/plain": [
              "array([3535.09, 2834.89, 1980.8 ])"
            ]
          },
          "execution_count": 318,
          "metadata": {},
          "output_type": "execute_result"
        }
      ],
      "source": [
        "revenue_nov + 50"
      ]
    },
    {
      "cell_type": "code",
      "execution_count": null,
      "id": "1bb2ab88",
      "metadata": {
        "id": "1bb2ab88",
        "outputId": "b58d6ba2-c59a-475e-8db9-32fd49444771"
      },
      "outputs": [
        {
          "data": {
            "text/plain": [
              "array([3435.09, 2734.89, 1880.8 ])"
            ]
          },
          "execution_count": 319,
          "metadata": {},
          "output_type": "execute_result"
        }
      ],
      "source": [
        "revenue_nov - 50"
      ]
    },
    {
      "cell_type": "code",
      "execution_count": null,
      "id": "394221de",
      "metadata": {
        "id": "394221de",
        "outputId": "64621563-dfe4-4c25-cc7c-63c688e247c5"
      },
      "outputs": [
        {
          "data": {
            "text/plain": [
              "array([1742.545, 1392.445,  965.4  ])"
            ]
          },
          "execution_count": 320,
          "metadata": {},
          "output_type": "execute_result"
        }
      ],
      "source": [
        "revenue_nov / 2"
      ]
    },
    {
      "cell_type": "code",
      "execution_count": null,
      "id": "386b288d",
      "metadata": {
        "id": "386b288d",
        "outputId": "2479fcf9-1363-4137-8313-ce9eb0150af2"
      },
      "outputs": [
        {
          "data": {
            "text/plain": [
              "array([6970.18, 5569.78, 3861.6 ])"
            ]
          },
          "execution_count": 321,
          "metadata": {},
          "output_type": "execute_result"
        }
      ],
      "source": [
        "revenue_nov * 2"
      ]
    },
    {
      "cell_type": "code",
      "execution_count": null,
      "id": "20a13b33",
      "metadata": {
        "id": "20a13b33"
      },
      "outputs": [],
      "source": [
        "v1 = np.array([[5,-4],[-3,2]])\n",
        "v2 = np.array([[3,8],[-6,0]])"
      ]
    },
    {
      "cell_type": "code",
      "execution_count": null,
      "id": "9d89399e",
      "metadata": {
        "id": "9d89399e",
        "outputId": "7329b1da-9561-4da6-fc5a-4ca4fd4a3590"
      },
      "outputs": [
        {
          "data": {
            "text/plain": [
              "array([[ 5, -4],\n",
              "       [-3,  2]])"
            ]
          },
          "execution_count": 323,
          "metadata": {},
          "output_type": "execute_result"
        }
      ],
      "source": [
        "v1"
      ]
    },
    {
      "cell_type": "code",
      "execution_count": null,
      "id": "4d4e6e64",
      "metadata": {
        "id": "4d4e6e64",
        "outputId": "f56921e7-f0bb-48a4-c59d-1eae53f4fd5b"
      },
      "outputs": [
        {
          "data": {
            "text/plain": [
              "array([[ 3,  8],\n",
              "       [-6,  0]])"
            ]
          },
          "execution_count": 324,
          "metadata": {},
          "output_type": "execute_result"
        }
      ],
      "source": [
        "v2"
      ]
    },
    {
      "cell_type": "code",
      "execution_count": null,
      "id": "ca04f41c",
      "metadata": {
        "id": "ca04f41c",
        "outputId": "cb86dab4-adb4-48c5-af1a-07a7a4832d30"
      },
      "outputs": [
        {
          "data": {
            "text/plain": [
              "array([[ 8,  4],\n",
              "       [-9,  2]])"
            ]
          },
          "execution_count": 325,
          "metadata": {},
          "output_type": "execute_result"
        }
      ],
      "source": [
        "v1 + v2"
      ]
    },
    {
      "cell_type": "code",
      "execution_count": null,
      "id": "9978fbf4",
      "metadata": {
        "id": "9978fbf4",
        "outputId": "f9dc8ce0-d118-42da-fae1-a0aad5261eb5"
      },
      "outputs": [
        {
          "data": {
            "text/plain": [
              "array([[  2, -12],\n",
              "       [  3,   2]])"
            ]
          },
          "execution_count": 326,
          "metadata": {},
          "output_type": "execute_result"
        }
      ],
      "source": [
        "v1 - v2"
      ]
    },
    {
      "cell_type": "code",
      "execution_count": null,
      "id": "9b2d3558",
      "metadata": {
        "id": "9b2d3558",
        "outputId": "2132da77-a0d1-4675-b4ae-4503d6ffe7ad"
      },
      "outputs": [
        {
          "data": {
            "text/plain": [
              "array([[ 5, -4],\n",
              "       [-3,  2]])"
            ]
          },
          "execution_count": 327,
          "metadata": {},
          "output_type": "execute_result"
        }
      ],
      "source": [
        "v1"
      ]
    },
    {
      "cell_type": "code",
      "execution_count": null,
      "id": "cf39173a",
      "metadata": {
        "id": "cf39173a"
      },
      "outputs": [],
      "source": [
        "sum_arr = v1 + 8"
      ]
    },
    {
      "cell_type": "code",
      "execution_count": null,
      "id": "28ae7a45",
      "metadata": {
        "id": "28ae7a45",
        "outputId": "0e80f7db-f085-4781-c07c-ee95435ad5f2"
      },
      "outputs": [
        {
          "data": {
            "text/plain": [
              "array([16,  7])"
            ]
          },
          "execution_count": 332,
          "metadata": {},
          "output_type": "execute_result"
        }
      ],
      "source": [
        "sum_arr[0] + 3\n"
      ]
    },
    {
      "cell_type": "code",
      "execution_count": null,
      "id": "61ee84f6",
      "metadata": {
        "id": "61ee84f6",
        "outputId": "b5e19738-4cfb-407a-e305-70746d28e509"
      },
      "outputs": [
        {
          "data": {
            "text/plain": [
              "array([[13,  4],\n",
              "       [ 5, 10]])"
            ]
          },
          "execution_count": 333,
          "metadata": {},
          "output_type": "execute_result"
        }
      ],
      "source": [
        "sum_arr"
      ]
    },
    {
      "cell_type": "code",
      "execution_count": null,
      "id": "7294585f",
      "metadata": {
        "id": "7294585f",
        "outputId": "c01926f9-2bd3-4e54-d128-6c369158555f"
      },
      "outputs": [
        {
          "data": {
            "text/plain": [
              "array([[16,  7],\n",
              "       [ 5, 10]])"
            ]
          },
          "execution_count": 334,
          "metadata": {},
          "output_type": "execute_result"
        }
      ],
      "source": [
        "sum_arr[0] = sum_arr[0] + 3\n",
        "sum_arr"
      ]
    },
    {
      "cell_type": "markdown",
      "id": "435b8844",
      "metadata": {
        "id": "435b8844"
      },
      "source": [
        "### Numpy provides set operations  as follows:\n",
        "\n",
        "* setdiff1d\n",
        "* intersection1d"
      ]
    },
    {
      "cell_type": "code",
      "execution_count": null,
      "id": "9bad836d",
      "metadata": {
        "id": "9bad836d"
      },
      "outputs": [],
      "source": [
        "x = np.array([4,5,6,7,8,9,0])\n",
        "y = np.array([4,5,1,8,12])"
      ]
    },
    {
      "cell_type": "code",
      "execution_count": null,
      "id": "4b1ee520",
      "metadata": {
        "id": "4b1ee520",
        "outputId": "8d116deb-f7e5-4129-9c5e-1006b46a9c56"
      },
      "outputs": [
        {
          "data": {
            "text/plain": [
              "array([0, 6, 7, 9])"
            ]
          },
          "execution_count": 336,
          "metadata": {},
          "output_type": "execute_result"
        }
      ],
      "source": [
        "np.setdiff1d(x,y)"
      ]
    },
    {
      "cell_type": "code",
      "execution_count": null,
      "id": "2cc0141b",
      "metadata": {
        "id": "2cc0141b",
        "outputId": "479be5d3-f502-4813-9a99-3e81ffb3df62"
      },
      "outputs": [
        {
          "data": {
            "text/plain": [
              "array([ 1, 12])"
            ]
          },
          "execution_count": 337,
          "metadata": {},
          "output_type": "execute_result"
        }
      ],
      "source": [
        "np.setdiff1d(y,x)"
      ]
    },
    {
      "cell_type": "code",
      "execution_count": null,
      "id": "6392b14a",
      "metadata": {
        "id": "6392b14a",
        "outputId": "25fa4ea2-a841-48bd-9b8c-3ffc67170a75"
      },
      "outputs": [
        {
          "data": {
            "text/plain": [
              "array([4, 5, 8])"
            ]
          },
          "execution_count": 338,
          "metadata": {},
          "output_type": "execute_result"
        }
      ],
      "source": [
        "np.intersect1d(x,y)"
      ]
    },
    {
      "cell_type": "code",
      "execution_count": null,
      "id": "1e8eaa5f",
      "metadata": {
        "id": "1e8eaa5f",
        "outputId": "05228188-ba45-4202-865d-3c1e2d1dcc53"
      },
      "outputs": [
        {
          "data": {
            "text/plain": [
              "array([4, 5, 6, 7, 8, 9, 0])"
            ]
          },
          "execution_count": 340,
          "metadata": {},
          "output_type": "execute_result"
        }
      ],
      "source": [
        "x"
      ]
    },
    {
      "cell_type": "code",
      "execution_count": null,
      "id": "6eaba579",
      "metadata": {
        "id": "6eaba579",
        "outputId": "52841e04-a924-49ae-d072-8a2bc56b647c"
      },
      "outputs": [
        {
          "data": {
            "text/plain": [
              "array([ 4,  5,  1,  8, 12])"
            ]
          },
          "execution_count": 341,
          "metadata": {},
          "output_type": "execute_result"
        }
      ],
      "source": [
        "y"
      ]
    },
    {
      "cell_type": "code",
      "execution_count": null,
      "id": "2e0addb8",
      "metadata": {
        "id": "2e0addb8",
        "outputId": "944f6b22-cac9-429d-b8ab-f8aca9648a4b"
      },
      "outputs": [
        {
          "data": {
            "text/plain": [
              "(array([4, 5, 8]),\n",
              " array([0, 1, 4], dtype=int64),\n",
              " array([0, 1, 3], dtype=int64))"
            ]
          },
          "execution_count": 339,
          "metadata": {},
          "output_type": "execute_result"
        }
      ],
      "source": [
        "np.intersect1d(x,y, return_indices=True)"
      ]
    },
    {
      "cell_type": "markdown",
      "id": "4f2c3087",
      "metadata": {
        "id": "4f2c3087"
      },
      "source": [
        "### Mathematical and Statistical Function in numpy"
      ]
    },
    {
      "cell_type": "code",
      "execution_count": null,
      "id": "90c5d3b6",
      "metadata": {
        "id": "90c5d3b6"
      },
      "outputs": [],
      "source": [
        "x1 = np.array([1,2,3])\n",
        "x2 = np.array([2,2,2])"
      ]
    },
    {
      "cell_type": "code",
      "execution_count": null,
      "id": "7e52c778",
      "metadata": {
        "id": "7e52c778",
        "outputId": "83ae8535-a6f5-4298-cf1c-641f96e55b3d"
      },
      "outputs": [
        {
          "data": {
            "text/plain": [
              "array([3, 4, 5])"
            ]
          },
          "execution_count": 343,
          "metadata": {},
          "output_type": "execute_result"
        }
      ],
      "source": [
        "np.add(x1,x2)"
      ]
    },
    {
      "cell_type": "code",
      "execution_count": null,
      "id": "eac434b6",
      "metadata": {
        "id": "eac434b6",
        "outputId": "5147afa0-474b-4290-f42e-5d85da96428b"
      },
      "outputs": [
        {
          "data": {
            "text/plain": [
              "array([-1,  0,  1])"
            ]
          },
          "execution_count": 344,
          "metadata": {},
          "output_type": "execute_result"
        }
      ],
      "source": [
        "np.subtract(x1,x2)"
      ]
    },
    {
      "cell_type": "code",
      "execution_count": null,
      "id": "542781d1",
      "metadata": {
        "id": "542781d1",
        "outputId": "6f6bb3e6-44a0-46e9-aecb-792b68b596b0"
      },
      "outputs": [
        {
          "data": {
            "text/plain": [
              "array([2, 4, 6])"
            ]
          },
          "execution_count": 345,
          "metadata": {},
          "output_type": "execute_result"
        }
      ],
      "source": [
        "np.multiply(x1,x2)"
      ]
    },
    {
      "cell_type": "code",
      "execution_count": null,
      "id": "0c89dd03",
      "metadata": {
        "id": "0c89dd03",
        "outputId": "6ddeaf03-511d-4c4f-d73a-d3498f6b4405"
      },
      "outputs": [
        {
          "data": {
            "text/plain": [
              "array([1, 4, 9], dtype=int32)"
            ]
          },
          "execution_count": 346,
          "metadata": {},
          "output_type": "execute_result"
        }
      ],
      "source": [
        "np.power(x1,2)"
      ]
    },
    {
      "cell_type": "code",
      "execution_count": null,
      "id": "aa1f6db5",
      "metadata": {
        "id": "aa1f6db5",
        "outputId": "11dbeefb-f65d-4dc5-8c57-675fde85734b"
      },
      "outputs": [
        {
          "data": {
            "text/plain": [
              "array([1.41421356, 1.41421356, 1.41421356])"
            ]
          },
          "execution_count": 347,
          "metadata": {},
          "output_type": "execute_result"
        }
      ],
      "source": [
        "np.sqrt(x2)"
      ]
    },
    {
      "cell_type": "code",
      "execution_count": null,
      "id": "b1f2d1bb",
      "metadata": {
        "id": "b1f2d1bb",
        "outputId": "3c593366-1b2c-4522-f194-ff77eeddf725"
      },
      "outputs": [
        {
          "data": {
            "text/plain": [
              "array([1, 2, 3])"
            ]
          },
          "execution_count": 348,
          "metadata": {},
          "output_type": "execute_result"
        }
      ],
      "source": [
        "x1"
      ]
    },
    {
      "cell_type": "code",
      "execution_count": null,
      "id": "ca340878",
      "metadata": {
        "id": "ca340878",
        "outputId": "0151acaf-e5d1-4663-8d27-ad2912a606f4"
      },
      "outputs": [
        {
          "data": {
            "text/plain": [
              "array([2, 2, 2])"
            ]
          },
          "execution_count": 349,
          "metadata": {},
          "output_type": "execute_result"
        }
      ],
      "source": [
        "x2"
      ]
    },
    {
      "cell_type": "code",
      "execution_count": null,
      "id": "8af682e6",
      "metadata": {
        "id": "8af682e6",
        "outputId": "90e7f0b5-4718-4eb1-9052-ee55fd511fa7"
      },
      "outputs": [
        {
          "data": {
            "text/plain": [
              "(array([0, 1, 1]), array([1, 0, 1]))"
            ]
          },
          "execution_count": 350,
          "metadata": {},
          "output_type": "execute_result"
        }
      ],
      "source": [
        "np.divmod(x1,x2)"
      ]
    },
    {
      "cell_type": "code",
      "execution_count": null,
      "id": "9f209a97",
      "metadata": {
        "id": "9f209a97",
        "outputId": "9111ee84-0ca4-484b-a3a9-8349e3d0c202"
      },
      "outputs": [
        {
          "data": {
            "text/plain": [
              "array([ 4,  5,  1,  8, 12])"
            ]
          },
          "execution_count": 351,
          "metadata": {},
          "output_type": "execute_result"
        }
      ],
      "source": [
        "y"
      ]
    },
    {
      "cell_type": "code",
      "execution_count": null,
      "id": "8692567d",
      "metadata": {
        "id": "8692567d"
      },
      "outputs": [],
      "source": [
        "y = np.append(y,11)"
      ]
    },
    {
      "cell_type": "code",
      "execution_count": null,
      "id": "747ac9ce",
      "metadata": {
        "id": "747ac9ce",
        "outputId": "1724c50d-3d9a-49d4-97f6-18d46fa5c452"
      },
      "outputs": [
        {
          "data": {
            "text/plain": [
              "array([ 4,  5,  1,  8, 12, 11])"
            ]
          },
          "execution_count": 355,
          "metadata": {},
          "output_type": "execute_result"
        }
      ],
      "source": [
        "y"
      ]
    },
    {
      "cell_type": "code",
      "execution_count": null,
      "id": "5c612074",
      "metadata": {
        "id": "5c612074",
        "outputId": "7e02950b-c140-48a1-efba-f9cc95ba47e0"
      },
      "outputs": [
        {
          "data": {
            "text/plain": [
              "array([4, 5, 6, 7, 8, 9, 0])"
            ]
          },
          "execution_count": 356,
          "metadata": {},
          "output_type": "execute_result"
        }
      ],
      "source": [
        "x"
      ]
    },
    {
      "cell_type": "code",
      "execution_count": null,
      "id": "3f51baee",
      "metadata": {
        "id": "3f51baee"
      },
      "outputs": [],
      "source": [
        "x1 = np.array([10,20,30])\n",
        "x2 = np.array([5,6,6])"
      ]
    },
    {
      "cell_type": "code",
      "execution_count": null,
      "id": "4c832d9b",
      "metadata": {
        "id": "4c832d9b",
        "outputId": "c3da40ff-b96f-4abc-c703-f170d1fdd9d3"
      },
      "outputs": [
        {
          "data": {
            "text/plain": [
              "(array([2, 3, 5]), array([0, 2, 0]))"
            ]
          },
          "execution_count": 359,
          "metadata": {},
          "output_type": "execute_result"
        }
      ],
      "source": [
        "np.divmod(x1,x2)"
      ]
    },
    {
      "cell_type": "code",
      "execution_count": null,
      "id": "c873628c",
      "metadata": {
        "id": "c873628c"
      },
      "outputs": [],
      "source": [
        "quotient, remainder = np.divmod(x1,x2)"
      ]
    },
    {
      "cell_type": "code",
      "execution_count": null,
      "id": "678c9d00",
      "metadata": {
        "id": "678c9d00",
        "outputId": "62f4b9cb-94b7-4c75-fda5-3bd5fc12b5b9"
      },
      "outputs": [
        {
          "data": {
            "text/plain": [
              "array([2, 3, 5])"
            ]
          },
          "execution_count": 361,
          "metadata": {},
          "output_type": "execute_result"
        }
      ],
      "source": [
        "quotient"
      ]
    },
    {
      "cell_type": "code",
      "execution_count": null,
      "id": "27396a39",
      "metadata": {
        "id": "27396a39",
        "outputId": "b31ad402-e699-4d44-e7ee-9ae23f66efed"
      },
      "outputs": [
        {
          "data": {
            "text/plain": [
              "array([0, 2, 0])"
            ]
          },
          "execution_count": 362,
          "metadata": {},
          "output_type": "execute_result"
        }
      ],
      "source": [
        "remainder"
      ]
    },
    {
      "cell_type": "code",
      "execution_count": null,
      "id": "7ec1b22e",
      "metadata": {
        "id": "7ec1b22e",
        "outputId": "db3a6381-97fe-4df8-8ef2-671c99852215"
      },
      "outputs": [
        {
          "data": {
            "text/plain": [
              "array([2.        , 3.33333333, 5.        ])"
            ]
          },
          "execution_count": 363,
          "metadata": {},
          "output_type": "execute_result"
        }
      ],
      "source": [
        "np.divide(x1,x2)"
      ]
    },
    {
      "cell_type": "code",
      "execution_count": null,
      "id": "d864aef9",
      "metadata": {
        "id": "d864aef9",
        "outputId": "532a6a67-1ae6-4498-c1e1-92538976436d"
      },
      "outputs": [
        {
          "data": {
            "text/plain": [
              "array([2, 3, 5])"
            ]
          },
          "execution_count": 364,
          "metadata": {},
          "output_type": "execute_result"
        }
      ],
      "source": [
        "np.floor_divide(x1,x2)"
      ]
    },
    {
      "cell_type": "code",
      "execution_count": null,
      "id": "ad47ada4",
      "metadata": {
        "id": "ad47ada4",
        "outputId": "c8589b84-f636-406c-d44b-07a5b361cdc6"
      },
      "outputs": [
        {
          "data": {
            "text/plain": [
              "array([0, 2, 0])"
            ]
          },
          "execution_count": 365,
          "metadata": {},
          "output_type": "execute_result"
        }
      ],
      "source": [
        "np.mod(x1,x2)"
      ]
    },
    {
      "cell_type": "code",
      "execution_count": null,
      "id": "c963cc51",
      "metadata": {
        "id": "c963cc51"
      },
      "outputs": [],
      "source": [
        "arr = np.random.randint(10,100,40)"
      ]
    },
    {
      "cell_type": "code",
      "execution_count": null,
      "id": "f8c0c4f5",
      "metadata": {
        "id": "f8c0c4f5",
        "outputId": "d8ae78f6-7995-4844-dd51-69608800c73a"
      },
      "outputs": [
        {
          "data": {
            "text/plain": [
              "array([33, 21, 38, 84, 98, 19, 25, 28, 90, 81, 98, 21, 27, 56, 17, 85, 38,\n",
              "       43, 94, 98, 54, 15, 14, 81, 98, 98, 60, 64, 44, 25, 87, 98, 25, 16,\n",
              "       95, 32, 21, 22, 72, 67])"
            ]
          },
          "execution_count": 381,
          "metadata": {},
          "output_type": "execute_result"
        }
      ],
      "source": [
        "arr"
      ]
    },
    {
      "cell_type": "code",
      "execution_count": null,
      "id": "42b03ec7",
      "metadata": {
        "id": "42b03ec7",
        "outputId": "ff40c3c1-8450-4850-98c3-265197cd47f8"
      },
      "outputs": [
        {
          "data": {
            "text/plain": [
              "54.55"
            ]
          },
          "execution_count": 382,
          "metadata": {},
          "output_type": "execute_result"
        }
      ],
      "source": [
        "np.mean(arr)"
      ]
    },
    {
      "cell_type": "code",
      "execution_count": null,
      "id": "bd076b5b",
      "metadata": {
        "id": "bd076b5b",
        "outputId": "5ad5cb30-9b20-4bf5-976c-3d7757e26c5f"
      },
      "outputs": [
        {
          "data": {
            "text/plain": [
              "2182"
            ]
          },
          "execution_count": 383,
          "metadata": {},
          "output_type": "execute_result"
        }
      ],
      "source": [
        "np.sum(arr)"
      ]
    },
    {
      "cell_type": "code",
      "execution_count": null,
      "id": "7c5a34e0",
      "metadata": {
        "id": "7c5a34e0",
        "outputId": "a4b7083e-a2bc-4f4f-b169-7aa417719307"
      },
      "outputs": [
        {
          "data": {
            "text/plain": [
              "54.55"
            ]
          },
          "execution_count": 384,
          "metadata": {},
          "output_type": "execute_result"
        }
      ],
      "source": [
        "np.average(arr)"
      ]
    },
    {
      "cell_type": "code",
      "execution_count": null,
      "id": "22c11f26",
      "metadata": {
        "id": "22c11f26",
        "outputId": "c2114e44-3180-4a06-b3e1-25c12397fe9f"
      },
      "outputs": [
        {
          "data": {
            "text/plain": [
              "30.926485412991887"
            ]
          },
          "execution_count": 385,
          "metadata": {},
          "output_type": "execute_result"
        }
      ],
      "source": [
        "np.std(arr)"
      ]
    },
    {
      "cell_type": "code",
      "execution_count": null,
      "id": "dd237958",
      "metadata": {
        "id": "dd237958",
        "outputId": "2fa8cccf-520c-449a-e5f7-ad403284cc92"
      },
      "outputs": [
        {
          "data": {
            "text/plain": [
              "49.0"
            ]
          },
          "execution_count": 386,
          "metadata": {},
          "output_type": "execute_result"
        }
      ],
      "source": [
        "np.median(arr)"
      ]
    },
    {
      "cell_type": "code",
      "execution_count": null,
      "id": "7a962cb3",
      "metadata": {
        "id": "7a962cb3",
        "outputId": "d873e01d-4545-48a8-b188-d07f63747f26"
      },
      "outputs": [
        {
          "data": {
            "text/plain": [
              "14.0975"
            ]
          },
          "execution_count": 387,
          "metadata": {},
          "output_type": "execute_result"
        }
      ],
      "source": [
        "np.percentile(arr,0.25)"
      ]
    },
    {
      "cell_type": "code",
      "execution_count": null,
      "id": "0b7a9024",
      "metadata": {
        "id": "0b7a9024",
        "outputId": "c2aafc50-dc7f-4361-bb02-2a8f03e5ba7d"
      },
      "outputs": [
        {
          "name": "stdout",
          "output_type": "stream",
          "text": [
            "[33 21 38 84 98 19 25 28 90 81 98 21 27 56 17 85 38 43 94 98 54 15 14 81\n",
            " 98 98 60 64 44 25 87 98 25 16 95 32 21 22 72 67]\n"
          ]
        }
      ],
      "source": [
        "print(arr)"
      ]
    },
    {
      "cell_type": "code",
      "execution_count": null,
      "id": "5f6e4147",
      "metadata": {
        "id": "5f6e4147"
      },
      "outputs": [],
      "source": [
        "arr1 = np.array([4,np.nan,5,6,np.nan,5,10,np.nan])"
      ]
    },
    {
      "cell_type": "code",
      "execution_count": null,
      "id": "76a919b3",
      "metadata": {
        "id": "76a919b3",
        "outputId": "dc3c15cc-3927-412c-a6b7-00d1f9ea884d"
      },
      "outputs": [
        {
          "data": {
            "text/plain": [
              "array([ 4., nan,  5.,  6., nan,  5., 10., nan])"
            ]
          },
          "execution_count": 401,
          "metadata": {},
          "output_type": "execute_result"
        }
      ],
      "source": [
        "arr1"
      ]
    },
    {
      "cell_type": "code",
      "execution_count": null,
      "id": "be8c717c",
      "metadata": {
        "id": "be8c717c",
        "outputId": "dc2ec16e-d617-468d-be7a-fd5dc4d63720"
      },
      "outputs": [
        {
          "data": {
            "text/plain": [
              "nan"
            ]
          },
          "execution_count": 402,
          "metadata": {},
          "output_type": "execute_result"
        }
      ],
      "source": [
        "sum(arr)"
      ]
    },
    {
      "cell_type": "code",
      "execution_count": null,
      "id": "44b5a11d",
      "metadata": {
        "id": "44b5a11d",
        "outputId": "e8520e61-10e9-4495-a24a-57fb8a919516"
      },
      "outputs": [
        {
          "data": {
            "text/plain": [
              "10.0"
            ]
          },
          "execution_count": 403,
          "metadata": {},
          "output_type": "execute_result"
        }
      ],
      "source": [
        "max(arr)"
      ]
    },
    {
      "cell_type": "code",
      "execution_count": null,
      "id": "480c33ff",
      "metadata": {
        "id": "480c33ff",
        "outputId": "295e73ce-70f7-48a5-c132-b716b5c5adee"
      },
      "outputs": [
        {
          "data": {
            "text/plain": [
              "4.0"
            ]
          },
          "execution_count": 404,
          "metadata": {},
          "output_type": "execute_result"
        }
      ],
      "source": [
        "min(arr)"
      ]
    },
    {
      "cell_type": "code",
      "execution_count": null,
      "id": "3b0cdb7d",
      "metadata": {
        "id": "3b0cdb7d",
        "outputId": "b002829c-6aff-4053-8e35-c591f4a548ba"
      },
      "outputs": [
        {
          "data": {
            "text/plain": [
              "nan"
            ]
          },
          "execution_count": 405,
          "metadata": {},
          "output_type": "execute_result"
        }
      ],
      "source": [
        "np.mean(arr1)"
      ]
    },
    {
      "cell_type": "code",
      "execution_count": null,
      "id": "4716fefb",
      "metadata": {
        "id": "4716fefb",
        "outputId": "bfca5dfd-a20b-4470-b38d-ffd8e98062a5"
      },
      "outputs": [
        {
          "data": {
            "text/plain": [
              "nan"
            ]
          },
          "execution_count": 406,
          "metadata": {},
          "output_type": "execute_result"
        }
      ],
      "source": [
        "np.std(arr1)"
      ]
    },
    {
      "cell_type": "code",
      "execution_count": null,
      "id": "fb973c46",
      "metadata": {
        "id": "fb973c46",
        "outputId": "7bf1a783-5957-4c8d-85f3-d327430aa154"
      },
      "outputs": [
        {
          "data": {
            "text/plain": [
              "array([ 4.,  5.,  6., nan,  5., 10., nan])"
            ]
          },
          "execution_count": 407,
          "metadata": {},
          "output_type": "execute_result"
        }
      ],
      "source": [
        "arr"
      ]
    },
    {
      "cell_type": "code",
      "execution_count": null,
      "id": "75061ef7",
      "metadata": {
        "id": "75061ef7",
        "outputId": "0367b5a7-ce92-40a8-8366-70fce737cf07"
      },
      "outputs": [
        {
          "data": {
            "text/plain": [
              "30.0"
            ]
          },
          "execution_count": 408,
          "metadata": {},
          "output_type": "execute_result"
        }
      ],
      "source": [
        "np.nansum(arr)"
      ]
    },
    {
      "cell_type": "code",
      "execution_count": null,
      "id": "9142d6a8",
      "metadata": {
        "id": "9142d6a8",
        "outputId": "76982061-47e4-49e4-9116-9e22b7af8bf1"
      },
      "outputs": [
        {
          "data": {
            "text/plain": [
              "6.0"
            ]
          },
          "execution_count": 409,
          "metadata": {},
          "output_type": "execute_result"
        }
      ],
      "source": [
        "np.nanmean(arr)"
      ]
    },
    {
      "cell_type": "code",
      "execution_count": null,
      "id": "33dce9f3",
      "metadata": {
        "id": "33dce9f3",
        "outputId": "1eb5de26-a3f0-4619-dfb4-4fc8764e6510"
      },
      "outputs": [
        {
          "data": {
            "text/plain": [
              "4.01"
            ]
          },
          "execution_count": 411,
          "metadata": {},
          "output_type": "execute_result"
        }
      ],
      "source": [
        "np.nanpercentile(arr,0.25)"
      ]
    },
    {
      "cell_type": "code",
      "execution_count": null,
      "id": "d9d160e6",
      "metadata": {
        "id": "d9d160e6",
        "outputId": "9d7080e7-fa85-4d96-9b0f-ed6cc230b00c"
      },
      "outputs": [
        {
          "data": {
            "text/plain": [
              "10.0"
            ]
          },
          "execution_count": 412,
          "metadata": {},
          "output_type": "execute_result"
        }
      ],
      "source": [
        "np.nanmax(arr)"
      ]
    },
    {
      "cell_type": "code",
      "execution_count": null,
      "id": "1ddd41d2",
      "metadata": {
        "id": "1ddd41d2",
        "outputId": "fc02d921-d034-40ba-e5eb-9bebd90d77d1"
      },
      "outputs": [
        {
          "name": "stdout",
          "output_type": "stream",
          "text": [
            "All the function from numpy:  ['ALLOW_THREADS', 'BUFSIZE', 'CLIP', 'DataSource', 'ERR_CALL', 'ERR_DEFAULT', 'ERR_IGNORE', 'ERR_LOG', 'ERR_PRINT', 'ERR_RAISE', 'ERR_WARN', 'FLOATING_POINT_SUPPORT', 'FPE_DIVIDEBYZERO', 'FPE_INVALID', 'FPE_OVERFLOW', 'FPE_UNDERFLOW', 'False_', 'Inf', 'Infinity', 'MAXDIMS', 'MAY_SHARE_BOUNDS', 'MAY_SHARE_EXACT', 'NAN', 'NINF', 'NZERO', 'NaN', 'PINF', 'PZERO', 'RAISE', 'RankWarning', 'SHIFT_DIVIDEBYZERO', 'SHIFT_INVALID', 'SHIFT_OVERFLOW', 'SHIFT_UNDERFLOW', 'ScalarType', 'True_', 'UFUNC_BUFSIZE_DEFAULT', 'UFUNC_PYVALS_NAME', 'WRAP', '_CopyMode', '_NoValue', '_UFUNC_API', '_add_newdoc_ufunc', '_builtins', '_core', '_distributor_init', '_financial_names', '_get_promotion_state', '_globals', '_int_extended_msg', '_mat', '_no_nep50_warning', '_pyinstaller_hooks_dir', '_pytesttester', '_set_promotion_state', '_specific_msg', '_typing', '_using_numpy2_behavior', '_utils', 'abs', 'absolute', 'add', 'add_docstring', 'add_newdoc', 'add_newdoc_ufunc', 'all', 'allclose', 'alltrue', 'amax', 'amin', 'angle', 'any', 'append', 'apply_along_axis', 'apply_over_axes', 'arange', 'arccos', 'arccosh', 'arcsin', 'arcsinh', 'arctan', 'arctan2', 'arctanh', 'argmax', 'argmin', 'argpartition', 'argsort', 'argwhere', 'around', 'array', 'array2string', 'array_equal', 'array_equiv', 'array_repr', 'array_split', 'array_str', 'asanyarray', 'asarray', 'asarray_chkfinite', 'ascontiguousarray', 'asfarray', 'asfortranarray', 'asmatrix', 'atleast_1d', 'atleast_2d', 'atleast_3d', 'average', 'bartlett', 'base_repr', 'binary_repr', 'bincount', 'bitwise_and', 'bitwise_not', 'bitwise_or', 'bitwise_xor', 'blackman', 'block', 'bmat', 'bool_', 'broadcast', 'broadcast_arrays', 'broadcast_shapes', 'broadcast_to', 'busday_count', 'busday_offset', 'busdaycalendar', 'byte', 'byte_bounds', 'bytes_', 'c_', 'can_cast', 'cast', 'cbrt', 'cdouble', 'ceil', 'cfloat', 'char', 'character', 'chararray', 'choose', 'clip', 'clongdouble', 'clongfloat', 'column_stack', 'common_type', 'compare_chararrays', 'compat', 'complex128', 'complex64', 'complex_', 'complexfloating', 'compress', 'concatenate', 'conj', 'conjugate', 'convolve', 'copy', 'copysign', 'copyto', 'corrcoef', 'correlate', 'cos', 'cosh', 'count_nonzero', 'cov', 'cross', 'csingle', 'ctypeslib', 'cumprod', 'cumproduct', 'cumsum', 'datetime64', 'datetime_as_string', 'datetime_data', 'deg2rad', 'degrees', 'delete', 'deprecate', 'deprecate_with_doc', 'diag', 'diag_indices', 'diag_indices_from', 'diagflat', 'diagonal', 'diff', 'digitize', 'disp', 'divide', 'divmod', 'dot', 'double', 'dsplit', 'dstack', 'dtype', 'dtypes', 'e', 'ediff1d', 'einsum', 'einsum_path', 'emath', 'empty', 'empty_like', 'equal', 'errstate', 'euler_gamma', 'exceptions', 'exp', 'exp2', 'expand_dims', 'expm1', 'extract', 'eye', 'fabs', 'fastCopyAndTranspose', 'fft', 'fill_diagonal', 'find_common_type', 'finfo', 'fix', 'flatiter', 'flatnonzero', 'flexible', 'flip', 'fliplr', 'flipud', 'float16', 'float32', 'float64', 'float_', 'float_power', 'floating', 'floor', 'floor_divide', 'fmax', 'fmin', 'fmod', 'format_float_positional', 'format_float_scientific', 'format_parser', 'frexp', 'from_dlpack', 'frombuffer', 'fromfile', 'fromfunction', 'fromiter', 'frompyfunc', 'fromregex', 'fromstring', 'full', 'full_like', 'gcd', 'generic', 'genfromtxt', 'geomspace', 'get_array_wrap', 'get_include', 'get_printoptions', 'getbufsize', 'geterr', 'geterrcall', 'geterrobj', 'gradient', 'greater', 'greater_equal', 'half', 'hamming', 'hanning', 'heaviside', 'histogram', 'histogram2d', 'histogram_bin_edges', 'histogramdd', 'hsplit', 'hstack', 'hypot', 'i0', 'identity', 'iinfo', 'imag', 'in1d', 'index_exp', 'indices', 'inexact', 'inf', 'info', 'infty', 'inner', 'insert', 'int16', 'int32', 'int64', 'int8', 'int_', 'intc', 'integer', 'interp', 'intersect1d', 'intp', 'invert', 'is_busday', 'isclose', 'iscomplex', 'iscomplexobj', 'isfinite', 'isfortran', 'isin', 'isinf', 'isnan', 'isnat', 'isneginf', 'isposinf', 'isreal', 'isrealobj', 'isscalar', 'issctype', 'issubclass_', 'issubdtype', 'issubsctype', 'iterable', 'ix_', 'kaiser', 'kron', 'lcm', 'ldexp', 'left_shift', 'less', 'less_equal', 'lexsort', 'lib', 'linalg', 'linspace', 'little_endian', 'load', 'loadtxt', 'log', 'log10', 'log1p', 'log2', 'logaddexp', 'logaddexp2', 'logical_and', 'logical_not', 'logical_or', 'logical_xor', 'logspace', 'longcomplex', 'longdouble', 'longfloat', 'longlong', 'lookfor', 'ma', 'mask_indices', 'mat', 'matmul', 'matrix', 'max', 'maximum', 'maximum_sctype', 'may_share_memory', 'mean', 'median', 'memmap', 'meshgrid', 'mgrid', 'min', 'min_scalar_type', 'minimum', 'mintypecode', 'mod', 'modf', 'moveaxis', 'msort', 'multiply', 'nan', 'nan_to_num', 'nanargmax', 'nanargmin', 'nancumprod', 'nancumsum', 'nanmax', 'nanmean', 'nanmedian', 'nanmin', 'nanpercentile', 'nanprod', 'nanquantile', 'nanstd', 'nansum', 'nanvar', 'nbytes', 'ndarray', 'ndenumerate', 'ndim', 'ndindex', 'nditer', 'negative', 'nested_iters', 'newaxis', 'nextafter', 'nonzero', 'not_equal', 'numarray', 'number', 'obj2sctype', 'object_', 'ogrid', 'oldnumeric', 'ones', 'ones_like', 'outer', 'packbits', 'pad', 'partition', 'percentile', 'pi', 'piecewise', 'place', 'poly', 'poly1d', 'polyadd', 'polyder', 'polydiv', 'polyfit', 'polyint', 'polymul', 'polynomial', 'polysub', 'polyval', 'positive', 'power', 'printoptions', 'prod', 'product', 'promote_types', 'ptp', 'put', 'put_along_axis', 'putmask', 'quantile', 'r_', 'rad2deg', 'radians', 'random', 'ravel', 'ravel_multi_index', 'real', 'real_if_close', 'rec', 'recarray', 'recfromcsv', 'recfromtxt', 'reciprocal', 'record', 'remainder', 'repeat', 'require', 'reshape', 'resize', 'result_type', 'right_shift', 'rint', 'roll', 'rollaxis', 'roots', 'rot90', 'round', 'round_', 'row_stack', 's_', 'safe_eval', 'save', 'savetxt', 'savez', 'savez_compressed', 'sctype2char', 'sctypeDict', 'sctypes', 'searchsorted', 'select', 'set_numeric_ops', 'set_printoptions', 'set_string_function', 'setbufsize', 'setdiff1d', 'seterr', 'seterrcall', 'seterrobj', 'setxor1d', 'shape', 'shares_memory', 'short', 'show_config', 'show_runtime', 'sign', 'signbit', 'signedinteger', 'sin', 'sinc', 'single', 'singlecomplex', 'sinh', 'size', 'sometrue', 'sort', 'sort_complex', 'source', 'spacing', 'split', 'sqrt', 'square', 'squeeze', 'stack', 'std', 'str_', 'string_', 'subtract', 'sum', 'swapaxes', 'take', 'take_along_axis', 'tan', 'tanh', 'tensordot', 'test', 'testing', 'tile', 'timedelta64', 'trace', 'tracemalloc_domain', 'transpose', 'trapz', 'tri', 'tril', 'tril_indices', 'tril_indices_from', 'trim_zeros', 'triu', 'triu_indices', 'triu_indices_from', 'true_divide', 'trunc', 'typecodes', 'typename', 'ubyte', 'ufunc', 'uint', 'uint16', 'uint32', 'uint64', 'uint8', 'uintc', 'uintp', 'ulonglong', 'unicode_', 'union1d', 'unique', 'unpackbits', 'unravel_index', 'unsignedinteger', 'unwrap', 'ushort', 'vander', 'var', 'vdot', 'vectorize', 'version', 'void', 'vsplit', 'vstack', 'where', 'who', 'zeros', 'zeros_like']\n"
          ]
        }
      ],
      "source": [
        "print(\"All the function from numpy: \",\n",
        "     [i for i in dir(np) if \"__\" not in i])"
      ]
    },
    {
      "cell_type": "code",
      "execution_count": null,
      "id": "b516f488",
      "metadata": {
        "id": "b516f488"
      },
      "outputs": [],
      "source": [
        "# print(\"All the methods form list: \", [i for i in dir(list) if \"__\" not in i])\n",
        "# print()\n",
        "# print(\"All the methods form tuple: \", [i for i in dir(tuple) if \"__\" not in i])\n",
        "# print()\n",
        "# print(\"All the methods form set: \", [i for i in dir(set) if \"__\" not in i])\n",
        "\n",
        "# print()\n",
        "# print(\"All the methods form dict: \", [i for i in dir(dict) if \"__\" not in i])\n",
        "# print()\n",
        "# print(\"All the methods form str: \", [i for i in dir(str) if \"__\" not in i])\n"
      ]
    },
    {
      "cell_type": "code",
      "execution_count": null,
      "id": "ff0c273a",
      "metadata": {
        "id": "ff0c273a"
      },
      "outputs": [],
      "source": [
        "# print(dir(__builtins__))"
      ]
    },
    {
      "cell_type": "code",
      "execution_count": null,
      "id": "df47c5ba",
      "metadata": {
        "id": "df47c5ba",
        "outputId": "c224639e-e05e-4448-c6aa-a24b66326def"
      },
      "outputs": [
        {
          "data": {
            "text/plain": [
              "array([[ 0,  1,  2,  3],\n",
              "       [ 4,  5,  6,  7],\n",
              "       [ 8,  9, 10, 11],\n",
              "       [12, 13, 14, 15]])"
            ]
          },
          "execution_count": 425,
          "metadata": {},
          "output_type": "execute_result"
        }
      ],
      "source": [
        "np.arange(16).reshape(4,4)"
      ]
    },
    {
      "cell_type": "code",
      "execution_count": null,
      "id": "e12acba3",
      "metadata": {
        "id": "e12acba3",
        "outputId": "bf4d3ff9-54d9-44ef-86a8-19b64052559e"
      },
      "outputs": [
        {
          "data": {
            "text/plain": [
              "array([[[ 0,  1,  2,  3,  4],\n",
              "        [ 5,  6,  7,  8,  9],\n",
              "        [10, 11, 12, 13, 14],\n",
              "        [15, 16, 17, 18, 19],\n",
              "        [20, 21, 22, 23, 24],\n",
              "        [25, 26, 27, 28, 29]],\n",
              "\n",
              "       [[30, 31, 32, 33, 34],\n",
              "        [35, 36, 37, 38, 39],\n",
              "        [40, 41, 42, 43, 44],\n",
              "        [45, 46, 47, 48, 49],\n",
              "        [50, 51, 52, 53, 54],\n",
              "        [55, 56, 57, 58, 59]]])"
            ]
          },
          "execution_count": 427,
          "metadata": {},
          "output_type": "execute_result"
        }
      ],
      "source": [
        "np.arange(60).reshape(2,6,5)"
      ]
    },
    {
      "cell_type": "code",
      "execution_count": null,
      "id": "5708b4b5",
      "metadata": {
        "id": "5708b4b5"
      },
      "outputs": [],
      "source": [
        "arr = np.arange(30).reshape(6,5)"
      ]
    },
    {
      "cell_type": "code",
      "execution_count": null,
      "id": "42a2f32b",
      "metadata": {
        "id": "42a2f32b",
        "outputId": "dda9e53d-a382-40ab-fe67-2ac5d75d6ae1"
      },
      "outputs": [
        {
          "data": {
            "text/plain": [
              "array([[ 0,  1,  2,  3,  4],\n",
              "       [ 5,  6,  7,  8,  9],\n",
              "       [10, 11, 12, 13, 14],\n",
              "       [15, 16, 17, 18, 19],\n",
              "       [20, 21, 22, 23, 24],\n",
              "       [25, 26, 27, 28, 29]])"
            ]
          },
          "execution_count": 430,
          "metadata": {},
          "output_type": "execute_result"
        }
      ],
      "source": [
        "arr"
      ]
    },
    {
      "cell_type": "code",
      "execution_count": null,
      "id": "3796b536",
      "metadata": {
        "id": "3796b536",
        "outputId": "d96c0034-55d1-4866-f873-8aaa72bc1748"
      },
      "outputs": [
        {
          "data": {
            "text/plain": [
              "435"
            ]
          },
          "execution_count": 431,
          "metadata": {},
          "output_type": "execute_result"
        }
      ],
      "source": [
        "arr.sum()"
      ]
    },
    {
      "cell_type": "code",
      "execution_count": null,
      "id": "9cd916ef",
      "metadata": {
        "id": "9cd916ef",
        "outputId": "5b2f4922-1613-4944-9953-e9ce07051ce6"
      },
      "outputs": [
        {
          "data": {
            "text/plain": [
              "array([75, 81, 87, 93, 99])"
            ]
          },
          "execution_count": 432,
          "metadata": {},
          "output_type": "execute_result"
        }
      ],
      "source": [
        "arr.sum(axis=0)"
      ]
    },
    {
      "cell_type": "code",
      "execution_count": null,
      "id": "56488511",
      "metadata": {
        "id": "56488511",
        "outputId": "cc47c90c-ea0d-4065-8c98-6f26c2b0b568"
      },
      "outputs": [
        {
          "data": {
            "text/plain": [
              "array([ 10,  35,  60,  85, 110, 135])"
            ]
          },
          "execution_count": 433,
          "metadata": {},
          "output_type": "execute_result"
        }
      ],
      "source": [
        "arr.sum(axis=1)"
      ]
    },
    {
      "cell_type": "code",
      "execution_count": null,
      "id": "a5a0a71f",
      "metadata": {
        "id": "a5a0a71f",
        "outputId": "8b68da53-bc71-4124-a86a-f239ce0e84dd"
      },
      "outputs": [
        {
          "data": {
            "text/plain": [
              "array([[ 0,  1,  2,  3,  4],\n",
              "       [ 5,  6,  7,  8,  9],\n",
              "       [10, 11, 12, 13, 14],\n",
              "       [15, 16, 17, 18, 19],\n",
              "       [20, 21, 22, 23, 24],\n",
              "       [25, 26, 27, 28, 29]])"
            ]
          },
          "execution_count": 435,
          "metadata": {},
          "output_type": "execute_result"
        }
      ],
      "source": [
        "arr"
      ]
    },
    {
      "cell_type": "code",
      "execution_count": null,
      "id": "fe0aa3c4",
      "metadata": {
        "id": "fe0aa3c4"
      },
      "outputs": [],
      "source": [
        "arr[0][0] = 1"
      ]
    },
    {
      "cell_type": "code",
      "execution_count": null,
      "id": "7d2ef14f",
      "metadata": {
        "id": "7d2ef14f",
        "outputId": "387865ed-1666-488f-9532-d6616213d36e"
      },
      "outputs": [
        {
          "data": {
            "text/plain": [
              "array([[ 1,  1,  2,  3,  4],\n",
              "       [ 5,  6,  7,  8,  9],\n",
              "       [10, 11, 12, 13, 14],\n",
              "       [15, 16, 17, 18, 19],\n",
              "       [20, 21, 22, 23, 24],\n",
              "       [25, 26, 27, 28, 29]])"
            ]
          },
          "execution_count": 445,
          "metadata": {},
          "output_type": "execute_result"
        }
      ],
      "source": [
        "arr"
      ]
    },
    {
      "cell_type": "code",
      "execution_count": null,
      "id": "d3dfcf9f",
      "metadata": {
        "id": "d3dfcf9f",
        "outputId": "38c6219a-19e3-4206-d319-660f867a532e"
      },
      "outputs": [
        {
          "data": {
            "text/plain": [
              "array([ 375000,  576576, 1696464, 3616704, 6664896])"
            ]
          },
          "execution_count": 447,
          "metadata": {},
          "output_type": "execute_result"
        }
      ],
      "source": [
        "arr.prod(axis=0)"
      ]
    },
    {
      "cell_type": "code",
      "execution_count": null,
      "id": "3b40dd72",
      "metadata": {
        "id": "3b40dd72",
        "outputId": "15dbf8b9-2c9f-4741-a3b2-dac6aa7a7669"
      },
      "outputs": [
        {
          "data": {
            "text/plain": [
              "array([      24,    15120,   240240,  1395360,  5100480, 14250600])"
            ]
          },
          "execution_count": 448,
          "metadata": {},
          "output_type": "execute_result"
        }
      ],
      "source": [
        "arr.prod(axis=1)"
      ]
    },
    {
      "cell_type": "code",
      "execution_count": null,
      "id": "82606020",
      "metadata": {
        "id": "82606020",
        "outputId": "2485cdc0-d521-4247-e9fd-fa914fc41910"
      },
      "outputs": [
        {
          "data": {
            "text/plain": [
              "14.533333333333333"
            ]
          },
          "execution_count": 449,
          "metadata": {},
          "output_type": "execute_result"
        }
      ],
      "source": [
        "arr.mean()"
      ]
    },
    {
      "cell_type": "code",
      "execution_count": null,
      "id": "8cb813e9",
      "metadata": {
        "id": "8cb813e9",
        "outputId": "2aaa5ea2-74a9-42c8-a8b7-a116813d7b44"
      },
      "outputs": [
        {
          "data": {
            "text/plain": [
              "array([12.66666667, 13.5       , 14.5       , 15.5       , 16.5       ])"
            ]
          },
          "execution_count": 450,
          "metadata": {},
          "output_type": "execute_result"
        }
      ],
      "source": [
        "arr.mean(axis=0)"
      ]
    },
    {
      "cell_type": "code",
      "execution_count": null,
      "id": "1ec1c979",
      "metadata": {
        "id": "1ec1c979",
        "outputId": "fd879d9c-209f-4227-c4d6-ec9f5df187ff"
      },
      "outputs": [
        {
          "data": {
            "text/plain": [
              "array([ 2.2,  7. , 12. , 17. , 22. , 27. ])"
            ]
          },
          "execution_count": 451,
          "metadata": {},
          "output_type": "execute_result"
        }
      ],
      "source": [
        "arr.mean(axis=1)"
      ]
    },
    {
      "cell_type": "code",
      "execution_count": 1,
      "id": "78377b16",
      "metadata": {
        "id": "78377b16"
      },
      "outputs": [],
      "source": [
        "import pandas as pd\n",
        "import numpy as np"
      ]
    },
    {
      "cell_type": "code",
      "source": [],
      "metadata": {
        "id": "7zKqfNCqoY8d"
      },
      "id": "7zKqfNCqoY8d",
      "execution_count": null,
      "outputs": []
    }
  ],
  "metadata": {
    "kernelspec": {
      "display_name": "Python 3 (ipykernel)",
      "language": "python",
      "name": "python3"
    },
    "language_info": {
      "codemirror_mode": {
        "name": "ipython",
        "version": 3
      },
      "file_extension": ".py",
      "mimetype": "text/x-python",
      "name": "python",
      "nbconvert_exporter": "python",
      "pygments_lexer": "ipython3",
      "version": "3.11.2"
    },
    "colab": {
      "provenance": [],
      "include_colab_link": true
    }
  },
  "nbformat": 4,
  "nbformat_minor": 5
}