{
  "cells": [
    {
      "cell_type": "markdown",
      "id": "637a608c",
      "metadata": {
        "id": "637a608c"
      },
      "source": [
        "### Introduction of Numpy:\n",
        "\n",
        "Numpy stands for numerical python. The primary use of numpy is effiecient data handling and manipulation.\n",
        "\n",
        "Numpy has inbuilt function for working with numpy object.\n"
      ]
    },
    {
      "cell_type": "code",
      "execution_count": null,
      "id": "2e61d175",
      "metadata": {
        "id": "2e61d175"
      },
      "outputs": [],
      "source": [
        "import numpy as np\n",
        "import os"
      ]
    },
    {
      "cell_type": "code",
      "execution_count": null,
      "id": "bb445065",
      "metadata": {
        "id": "bb445065",
        "outputId": "3bb621ee-b9f2-420a-fbe0-0726a0cbe7f3"
      },
      "outputs": [
        {
          "data": {
            "text/plain": [
              "'C:\\\\Users\\\\AEPAC\\\\Desktop\\\\KnowledgeHut\\\\2024\\\\2024_upGrad\\\\Dec\\\\Python for NumPy (DS)'"
            ]
          },
          "execution_count": 453,
          "metadata": {},
          "output_type": "execute_result"
        }
      ],
      "source": [
        "os.getcwd()"
      ]
    },
    {
      "cell_type": "code",
      "execution_count": null,
      "id": "c8cc06c8",
      "metadata": {
        "id": "c8cc06c8"
      },
      "outputs": [],
      "source": [
        "np?"
      ]
    },
    {
      "cell_type": "markdown",
      "id": "72a336c4",
      "metadata": {
        "id": "72a336c4"
      },
      "source": [
        "### Numpy Arrays:"
      ]
    },
    {
      "cell_type": "code",
      "execution_count": null,
      "id": "f861325e",
      "metadata": {
        "id": "f861325e",
        "outputId": "1a5e712a-54e6-485e-d5e1-d0a34da51560"
      },
      "outputs": [
        {
          "ename": "TypeError",
          "evalue": "array() missing required argument 'object' (pos 0)",
          "output_type": "error",
          "traceback": [
            "\u001b[1;31m---------------------------------------------------------------------------\u001b[0m",
            "\u001b[1;31mTypeError\u001b[0m                                 Traceback (most recent call last)",
            "Cell \u001b[1;32mIn[3], line 1\u001b[0m\n\u001b[1;32m----> 1\u001b[0m np_arr \u001b[38;5;241m=\u001b[39m \u001b[43mnp\u001b[49m\u001b[38;5;241;43m.\u001b[39;49m\u001b[43marray\u001b[49m\u001b[43m(\u001b[49m\u001b[43m)\u001b[49m\n",
            "\u001b[1;31mTypeError\u001b[0m: array() missing required argument 'object' (pos 0)"
          ]
        }
      ],
      "source": [
        "np_arr = np.array()"
      ]
    },
    {
      "cell_type": "code",
      "execution_count": null,
      "id": "a3a181ff",
      "metadata": {
        "id": "a3a181ff"
      },
      "outputs": [],
      "source": [
        "arr = np.array([])"
      ]
    },
    {
      "cell_type": "code",
      "execution_count": null,
      "id": "579a2cb8",
      "metadata": {
        "id": "579a2cb8",
        "outputId": "fa5e14a0-4851-404b-a9bf-196887f3cd42"
      },
      "outputs": [
        {
          "data": {
            "text/plain": [
              "array([], dtype=float64)"
            ]
          },
          "execution_count": 5,
          "metadata": {},
          "output_type": "execute_result"
        }
      ],
      "source": [
        "arr"
      ]
    },
    {
      "cell_type": "code",
      "execution_count": null,
      "id": "b9661ae0",
      "metadata": {
        "id": "b9661ae0",
        "outputId": "e1a74115-766b-46e7-c275-0d0a6d1fc069"
      },
      "outputs": [
        {
          "data": {
            "text/plain": [
              "numpy.ndarray"
            ]
          },
          "execution_count": 6,
          "metadata": {},
          "output_type": "execute_result"
        }
      ],
      "source": [
        "type(arr)"
      ]
    },
    {
      "cell_type": "code",
      "execution_count": null,
      "id": "0a401944",
      "metadata": {
        "id": "0a401944",
        "outputId": "3aa5f606-5fa1-4e1e-c1b6-710037647587"
      },
      "outputs": [
        {
          "data": {
            "text/plain": [
              "0"
            ]
          },
          "execution_count": 7,
          "metadata": {},
          "output_type": "execute_result"
        }
      ],
      "source": [
        "len(arr)"
      ]
    },
    {
      "cell_type": "code",
      "execution_count": null,
      "id": "5f79df09",
      "metadata": {
        "id": "5f79df09"
      },
      "outputs": [],
      "source": [
        "lst = [1,2,3,6]"
      ]
    },
    {
      "cell_type": "code",
      "execution_count": null,
      "id": "d8bb3c3c",
      "metadata": {
        "id": "d8bb3c3c"
      },
      "outputs": [],
      "source": [
        "arr = np.array(object = lst)"
      ]
    },
    {
      "cell_type": "code",
      "execution_count": null,
      "id": "b73220e8",
      "metadata": {
        "id": "b73220e8",
        "outputId": "c98770a8-d6f9-4241-b7f5-8f36accb9312"
      },
      "outputs": [
        {
          "data": {
            "text/plain": [
              "array([1, 2, 3, 6])"
            ]
          },
          "execution_count": 10,
          "metadata": {},
          "output_type": "execute_result"
        }
      ],
      "source": [
        "arr"
      ]
    },
    {
      "cell_type": "code",
      "execution_count": null,
      "id": "1e8f54c9",
      "metadata": {
        "id": "1e8f54c9",
        "outputId": "aefe6a1d-32bf-4e10-fe56-715be9c1c5e8"
      },
      "outputs": [
        {
          "data": {
            "text/plain": [
              "dtype('int32')"
            ]
          },
          "execution_count": 11,
          "metadata": {},
          "output_type": "execute_result"
        }
      ],
      "source": [
        "arr.dtype"
      ]
    },
    {
      "cell_type": "code",
      "execution_count": null,
      "id": "02291f12",
      "metadata": {
        "id": "02291f12"
      },
      "outputs": [],
      "source": [
        "arr = np.array(['Apple','Orange','Banana','Watermelon','Jackfruit'])"
      ]
    },
    {
      "cell_type": "code",
      "execution_count": null,
      "id": "c089894e",
      "metadata": {
        "id": "c089894e",
        "outputId": "be87d035-ebf8-44ae-ceda-662aabc1234b"
      },
      "outputs": [
        {
          "data": {
            "text/plain": [
              "array(['Apple', 'Orange', 'Banana', 'Watermelon', 'Jackfruit'],\n",
              "      dtype='<U10')"
            ]
          },
          "execution_count": 13,
          "metadata": {},
          "output_type": "execute_result"
        }
      ],
      "source": [
        "arr"
      ]
    },
    {
      "cell_type": "markdown",
      "id": "e4fe6555",
      "metadata": {
        "id": "e4fe6555"
      },
      "source": [
        "### Note:\n",
        "\n",
        "Array is the collection of similar data type."
      ]
    },
    {
      "cell_type": "code",
      "execution_count": null,
      "id": "b73b3dea",
      "metadata": {
        "id": "b73b3dea"
      },
      "outputs": [],
      "source": [
        "lst.index?"
      ]
    },
    {
      "cell_type": "code",
      "execution_count": null,
      "id": "fba1bf1b",
      "metadata": {
        "id": "fba1bf1b",
        "outputId": "270b319f-ca00-4f0f-e6c6-05fbe6fb6776"
      },
      "outputs": [
        {
          "data": {
            "text/plain": [
              "[1, 2, 3, 6]"
            ]
          },
          "execution_count": 15,
          "metadata": {},
          "output_type": "execute_result"
        }
      ],
      "source": [
        "lst"
      ]
    },
    {
      "cell_type": "code",
      "execution_count": null,
      "id": "c7f13971",
      "metadata": {
        "id": "c7f13971",
        "outputId": "ece2107c-9938-4eec-c5d9-8ed198515d2d"
      },
      "outputs": [
        {
          "data": {
            "text/plain": [
              "3"
            ]
          },
          "execution_count": 16,
          "metadata": {},
          "output_type": "execute_result"
        }
      ],
      "source": [
        "lst.index(6)"
      ]
    },
    {
      "cell_type": "code",
      "execution_count": null,
      "id": "20e5fa59",
      "metadata": {
        "id": "20e5fa59"
      },
      "outputs": [],
      "source": [
        "np.array?"
      ]
    },
    {
      "cell_type": "code",
      "execution_count": null,
      "id": "e17eb3ad",
      "metadata": {
        "id": "e17eb3ad"
      },
      "outputs": [],
      "source": [
        "lst.append?"
      ]
    },
    {
      "cell_type": "code",
      "execution_count": null,
      "id": "2425c8d1",
      "metadata": {
        "id": "2425c8d1"
      },
      "outputs": [],
      "source": [
        "lst.append(\"Abhishek\")"
      ]
    },
    {
      "cell_type": "code",
      "execution_count": null,
      "id": "17d5f3fb",
      "metadata": {
        "id": "17d5f3fb"
      },
      "outputs": [],
      "source": [
        "arr = np.array([1,5,7,8,10.25])"
      ]
    },
    {
      "cell_type": "code",
      "execution_count": null,
      "id": "93e34542",
      "metadata": {
        "id": "93e34542",
        "outputId": "8a9c86ed-b8cc-4254-c15d-802df6df2cec"
      },
      "outputs": [
        {
          "data": {
            "text/plain": [
              "array([ 1.  ,  5.  ,  7.  ,  8.  , 10.25])"
            ]
          },
          "execution_count": 22,
          "metadata": {},
          "output_type": "execute_result"
        }
      ],
      "source": [
        "arr"
      ]
    },
    {
      "cell_type": "code",
      "execution_count": null,
      "id": "eb4d8c75",
      "metadata": {
        "id": "eb4d8c75"
      },
      "outputs": [],
      "source": [
        "arr = np.array([1,4,6,7,'ABC'])"
      ]
    },
    {
      "cell_type": "code",
      "execution_count": null,
      "id": "57c83b0f",
      "metadata": {
        "id": "57c83b0f",
        "outputId": "4ebf0dc8-25ac-4927-e365-ad61cb154b86"
      },
      "outputs": [
        {
          "data": {
            "text/plain": [
              "array(['1', '4', '6', '7', 'ABC'], dtype='<U11')"
            ]
          },
          "execution_count": 24,
          "metadata": {},
          "output_type": "execute_result"
        }
      ],
      "source": [
        "arr"
      ]
    },
    {
      "cell_type": "code",
      "execution_count": null,
      "id": "c8df79aa",
      "metadata": {
        "id": "c8df79aa"
      },
      "outputs": [],
      "source": [
        "tp = (0,5,7,9,0,4)"
      ]
    },
    {
      "cell_type": "code",
      "execution_count": null,
      "id": "0f299b3a",
      "metadata": {
        "id": "0f299b3a",
        "outputId": "f0cbb9db-a660-49da-d9c4-0d403d1db17b"
      },
      "outputs": [
        {
          "data": {
            "text/plain": [
              "array([0, 5, 7, 9, 0, 4])"
            ]
          },
          "execution_count": 26,
          "metadata": {},
          "output_type": "execute_result"
        }
      ],
      "source": [
        "np.array(tp)"
      ]
    },
    {
      "cell_type": "code",
      "execution_count": null,
      "id": "5c2c8e64",
      "metadata": {
        "id": "5c2c8e64"
      },
      "outputs": [],
      "source": [
        "setA = {1.5,6,8,-8.5}"
      ]
    },
    {
      "cell_type": "code",
      "execution_count": null,
      "id": "86ffacad",
      "metadata": {
        "id": "86ffacad",
        "outputId": "f5b231d3-d8be-4b30-b15f-b7b50478e0c3"
      },
      "outputs": [
        {
          "data": {
            "text/plain": [
              "array({8, 1.5, 6, -8.5}, dtype=object)"
            ]
          },
          "execution_count": 28,
          "metadata": {},
          "output_type": "execute_result"
        }
      ],
      "source": [
        "np.array(setA)"
      ]
    },
    {
      "cell_type": "markdown",
      "id": "ebc93709",
      "metadata": {
        "id": "ebc93709"
      },
      "source": [
        "### Multidimensional arrays:"
      ]
    },
    {
      "cell_type": "code",
      "execution_count": null,
      "id": "a9a6587d",
      "metadata": {
        "id": "a9a6587d",
        "outputId": "69e80c99-8c8d-4f4a-a3cd-a4e21238250f"
      },
      "outputs": [
        {
          "data": {
            "text/plain": [
              "[1, 2, 3, 6, 'Abhishek']"
            ]
          },
          "execution_count": 29,
          "metadata": {},
          "output_type": "execute_result"
        }
      ],
      "source": [
        "lst"
      ]
    },
    {
      "cell_type": "code",
      "execution_count": null,
      "id": "542ba0a3",
      "metadata": {
        "id": "542ba0a3",
        "outputId": "a939e87c-e10e-4929-e3cc-cd792f1845e3"
      },
      "outputs": [
        {
          "data": {
            "text/plain": [
              "array([  2,   3,   4,   5, -10])"
            ]
          },
          "execution_count": 30,
          "metadata": {},
          "output_type": "execute_result"
        }
      ],
      "source": [
        "np.array([2,3,4,5,-10])"
      ]
    },
    {
      "cell_type": "code",
      "execution_count": null,
      "id": "15984724",
      "metadata": {
        "id": "15984724"
      },
      "outputs": [],
      "source": [
        "arr_2d = np.array([[1,2,3],[4,5,6]])"
      ]
    },
    {
      "cell_type": "code",
      "execution_count": null,
      "id": "3fee21e2",
      "metadata": {
        "id": "3fee21e2",
        "outputId": "ad95a690-24e9-4294-c078-3cabbea35e67"
      },
      "outputs": [
        {
          "data": {
            "text/plain": [
              "array([[1, 2, 3],\n",
              "       [4, 5, 6]])"
            ]
          },
          "execution_count": 32,
          "metadata": {},
          "output_type": "execute_result"
        }
      ],
      "source": [
        "arr_2d"
      ]
    },
    {
      "cell_type": "code",
      "execution_count": null,
      "id": "b49647ba",
      "metadata": {
        "id": "b49647ba"
      },
      "outputs": [],
      "source": [
        "arr_3d = np.array([[[1,5],[3,4],[5,6],[7,9],[8,9]]])"
      ]
    },
    {
      "cell_type": "code",
      "execution_count": null,
      "id": "e7487ee8",
      "metadata": {
        "id": "e7487ee8",
        "outputId": "263b2bdb-ca08-49c7-aefe-a42f4faf5bfd"
      },
      "outputs": [
        {
          "data": {
            "text/plain": [
              "array([[[1, 5],\n",
              "        [3, 4],\n",
              "        [5, 6],\n",
              "        [7, 9],\n",
              "        [8, 9]]])"
            ]
          },
          "execution_count": 34,
          "metadata": {},
          "output_type": "execute_result"
        }
      ],
      "source": [
        "arr_3d"
      ]
    },
    {
      "cell_type": "code",
      "execution_count": null,
      "id": "efa9401c",
      "metadata": {
        "id": "efa9401c",
        "outputId": "4fdb40e5-dcea-453f-8ee3-5066d2d20706"
      },
      "outputs": [
        {
          "data": {
            "text/plain": [
              "array(['1', '4', '6', '7', 'ABC'], dtype='<U11')"
            ]
          },
          "execution_count": 35,
          "metadata": {},
          "output_type": "execute_result"
        }
      ],
      "source": [
        "arr"
      ]
    },
    {
      "cell_type": "code",
      "execution_count": null,
      "id": "e5908c59",
      "metadata": {
        "id": "e5908c59"
      },
      "outputs": [],
      "source": [
        "a = \"Priyanka\""
      ]
    },
    {
      "cell_type": "code",
      "execution_count": null,
      "id": "77f1954b",
      "metadata": {
        "id": "77f1954b",
        "outputId": "6d51ce9f-655a-4298-de22-25f686d5d29e"
      },
      "outputs": [
        {
          "data": {
            "text/plain": [
              "1"
            ]
          },
          "execution_count": 37,
          "metadata": {},
          "output_type": "execute_result"
        }
      ],
      "source": [
        "arr.ndim"
      ]
    },
    {
      "cell_type": "code",
      "execution_count": null,
      "id": "2ff4e103",
      "metadata": {
        "id": "2ff4e103",
        "outputId": "a22af158-8517-4f4e-cd5e-cd84af49b03d"
      },
      "outputs": [
        {
          "data": {
            "text/plain": [
              "array([[1, 2, 3],\n",
              "       [4, 5, 6]])"
            ]
          },
          "execution_count": 38,
          "metadata": {},
          "output_type": "execute_result"
        }
      ],
      "source": [
        "arr_2d"
      ]
    },
    {
      "cell_type": "code",
      "execution_count": null,
      "id": "73fddcce",
      "metadata": {
        "id": "73fddcce",
        "outputId": "a88bc990-7e0a-4e20-bc43-e36fe672bb5c"
      },
      "outputs": [
        {
          "data": {
            "text/plain": [
              "2"
            ]
          },
          "execution_count": 39,
          "metadata": {},
          "output_type": "execute_result"
        }
      ],
      "source": [
        "arr_2d.ndim"
      ]
    },
    {
      "cell_type": "code",
      "execution_count": null,
      "id": "6a88b3da",
      "metadata": {
        "id": "6a88b3da",
        "outputId": "550db6a5-2497-4400-d586-e41aea8b9dbe"
      },
      "outputs": [
        {
          "data": {
            "text/plain": [
              "3"
            ]
          },
          "execution_count": 40,
          "metadata": {},
          "output_type": "execute_result"
        }
      ],
      "source": [
        "arr_3d.ndim"
      ]
    },
    {
      "cell_type": "code",
      "execution_count": null,
      "id": "4ef84ee9",
      "metadata": {
        "id": "4ef84ee9",
        "outputId": "29a0ad49-0b46-4586-eec9-9b6a32d37f8f"
      },
      "outputs": [
        {
          "data": {
            "text/plain": [
              "array(['1', '4', '6', '7', 'ABC'], dtype='<U11')"
            ]
          },
          "execution_count": 41,
          "metadata": {},
          "output_type": "execute_result"
        }
      ],
      "source": [
        "arr"
      ]
    },
    {
      "cell_type": "code",
      "execution_count": null,
      "id": "08a50b1b",
      "metadata": {
        "id": "08a50b1b",
        "outputId": "c47a9df4-b6f6-4bf7-9418-f87103d8cba4"
      },
      "outputs": [
        {
          "data": {
            "text/plain": [
              "(5,)"
            ]
          },
          "execution_count": 42,
          "metadata": {},
          "output_type": "execute_result"
        }
      ],
      "source": [
        "arr.shape"
      ]
    },
    {
      "cell_type": "code",
      "execution_count": null,
      "id": "3c880f64",
      "metadata": {
        "id": "3c880f64",
        "outputId": "a1ff92da-0d49-4d45-99a0-afd76a8ca525"
      },
      "outputs": [
        {
          "data": {
            "text/plain": [
              "(2, 3)"
            ]
          },
          "execution_count": 43,
          "metadata": {},
          "output_type": "execute_result"
        }
      ],
      "source": [
        "arr_2d.shape"
      ]
    },
    {
      "cell_type": "code",
      "execution_count": null,
      "id": "8e188f1b",
      "metadata": {
        "id": "8e188f1b",
        "outputId": "e0ab2fb7-dd30-491e-eb7c-434e0de6d704"
      },
      "outputs": [
        {
          "data": {
            "text/plain": [
              "(1, 5, 2)"
            ]
          },
          "execution_count": 44,
          "metadata": {},
          "output_type": "execute_result"
        }
      ],
      "source": [
        "arr_3d.shape"
      ]
    },
    {
      "cell_type": "code",
      "execution_count": null,
      "id": "8008c8fe",
      "metadata": {
        "id": "8008c8fe"
      },
      "outputs": [],
      "source": [
        "arr1 = np.array(['1', '2', '3', 'Testsjflk', '1', '2', '3',\n",
        "                 '1', '2', '3', '1', '2', '3'], dtype='<U11')"
      ]
    },
    {
      "cell_type": "code",
      "execution_count": null,
      "id": "cd033b6c",
      "metadata": {
        "id": "cd033b6c",
        "outputId": "8240b6bc-1a8b-4ba4-985f-c5163f45b72b"
      },
      "outputs": [
        {
          "data": {
            "text/plain": [
              "array(['1', '2', '3', 'Testsjflk', '1', '2', '3', '1', '2', '3', '1', '2',\n",
              "       '3'], dtype='<U11')"
            ]
          },
          "execution_count": 61,
          "metadata": {},
          "output_type": "execute_result"
        }
      ],
      "source": [
        "arr1"
      ]
    },
    {
      "cell_type": "code",
      "execution_count": null,
      "id": "9ad43d7d",
      "metadata": {
        "id": "9ad43d7d",
        "outputId": "c58dd42d-248d-43a9-d2b0-b5e57415f7bf"
      },
      "outputs": [
        {
          "data": {
            "text/plain": [
              "array([[1, 2, 3],\n",
              "       [4, 5, 6]])"
            ]
          },
          "execution_count": 62,
          "metadata": {},
          "output_type": "execute_result"
        }
      ],
      "source": [
        "arr_2d"
      ]
    },
    {
      "cell_type": "code",
      "execution_count": null,
      "id": "cbb3a5bd",
      "metadata": {
        "id": "cbb3a5bd",
        "outputId": "3755b03a-1a7c-47e8-bb10-7d4f78aefba6"
      },
      "outputs": [
        {
          "data": {
            "text/plain": [
              "(2, 3)"
            ]
          },
          "execution_count": 63,
          "metadata": {},
          "output_type": "execute_result"
        }
      ],
      "source": [
        "arr_2d.shape"
      ]
    },
    {
      "cell_type": "code",
      "execution_count": null,
      "id": "8620a1ec",
      "metadata": {
        "id": "8620a1ec",
        "outputId": "2c0d9c43-42b5-404f-82c7-f0fc97ac72f4"
      },
      "outputs": [
        {
          "data": {
            "text/plain": [
              "6"
            ]
          },
          "execution_count": 64,
          "metadata": {},
          "output_type": "execute_result"
        }
      ],
      "source": [
        "arr_2d.size"
      ]
    },
    {
      "cell_type": "code",
      "execution_count": null,
      "id": "0eb729c9",
      "metadata": {
        "id": "0eb729c9"
      },
      "outputs": [],
      "source": [
        "arr = np.array([22,-36,32,47,71,-45])"
      ]
    },
    {
      "cell_type": "code",
      "execution_count": null,
      "id": "911ce907",
      "metadata": {
        "id": "911ce907",
        "outputId": "c84f8577-a91e-42de-84b1-29f00f451153"
      },
      "outputs": [
        {
          "data": {
            "text/plain": [
              "array([ 22, -36,  32,  47,  71, -45])"
            ]
          },
          "execution_count": 66,
          "metadata": {},
          "output_type": "execute_result"
        }
      ],
      "source": [
        "arr"
      ]
    },
    {
      "cell_type": "code",
      "execution_count": null,
      "id": "1a2f1ea1",
      "metadata": {
        "id": "1a2f1ea1",
        "outputId": "c5262755-8340-4819-b776-f5de10fe2675"
      },
      "outputs": [
        {
          "data": {
            "text/plain": [
              "-36"
            ]
          },
          "execution_count": 67,
          "metadata": {},
          "output_type": "execute_result"
        }
      ],
      "source": [
        "arr[1]"
      ]
    },
    {
      "cell_type": "code",
      "execution_count": null,
      "id": "5f602549",
      "metadata": {
        "id": "5f602549",
        "outputId": "7aec030b-0477-4ad2-8e58-7b661678b36c"
      },
      "outputs": [
        {
          "data": {
            "text/plain": [
              "array([-36,  32,  47])"
            ]
          },
          "execution_count": 68,
          "metadata": {},
          "output_type": "execute_result"
        }
      ],
      "source": [
        "arr[1:4]"
      ]
    },
    {
      "cell_type": "code",
      "execution_count": null,
      "id": "1b20129b",
      "metadata": {
        "id": "1b20129b",
        "outputId": "4fcd2af8-54ad-44a1-bb62-9fa3f6b7dc4c"
      },
      "outputs": [
        {
          "data": {
            "text/plain": [
              "array([-36,  32,  47])"
            ]
          },
          "execution_count": 69,
          "metadata": {},
          "output_type": "execute_result"
        }
      ],
      "source": [
        "arr[[1,2,3]]"
      ]
    },
    {
      "cell_type": "code",
      "execution_count": null,
      "id": "7bff9e3e",
      "metadata": {
        "id": "7bff9e3e",
        "outputId": "981e16e7-d170-470a-ba6d-23503bc8e633"
      },
      "outputs": [
        {
          "data": {
            "text/plain": [
              "array([ 22, -36,  32,  47,  71, -45])"
            ]
          },
          "execution_count": 70,
          "metadata": {},
          "output_type": "execute_result"
        }
      ],
      "source": [
        "arr"
      ]
    },
    {
      "cell_type": "code",
      "execution_count": null,
      "id": "89199cc1",
      "metadata": {
        "id": "89199cc1",
        "outputId": "d707aa3c-4733-4024-c3a7-fb1af5b76364"
      },
      "outputs": [
        {
          "data": {
            "text/plain": [
              "array([ 32,  47,  71, -45])"
            ]
          },
          "execution_count": 71,
          "metadata": {},
          "output_type": "execute_result"
        }
      ],
      "source": [
        "arr[2:]"
      ]
    },
    {
      "cell_type": "code",
      "execution_count": null,
      "id": "5f7b1e16",
      "metadata": {
        "id": "5f7b1e16",
        "outputId": "143711f6-a568-451f-8133-768ef7dc6fb9"
      },
      "outputs": [
        {
          "data": {
            "text/plain": [
              "array([ 22, -36,  32])"
            ]
          },
          "execution_count": 72,
          "metadata": {},
          "output_type": "execute_result"
        }
      ],
      "source": [
        "arr[:3]"
      ]
    },
    {
      "cell_type": "code",
      "execution_count": null,
      "id": "8ee47cd1",
      "metadata": {
        "id": "8ee47cd1",
        "outputId": "ea970cfe-444b-4c23-ab74-38b28103e7ed"
      },
      "outputs": [
        {
          "data": {
            "text/plain": [
              "array([-45,  71,  47,  32, -36,  22])"
            ]
          },
          "execution_count": 73,
          "metadata": {},
          "output_type": "execute_result"
        }
      ],
      "source": [
        "arr[::-1]"
      ]
    },
    {
      "cell_type": "code",
      "execution_count": null,
      "id": "34ea722a",
      "metadata": {
        "id": "34ea722a",
        "outputId": "12852d17-6c34-413c-92b4-f573648c25f0"
      },
      "outputs": [
        {
          "data": {
            "text/plain": [
              "array([ 22, -36,  32,  47,  71, -45])"
            ]
          },
          "execution_count": 74,
          "metadata": {},
          "output_type": "execute_result"
        }
      ],
      "source": [
        "arr"
      ]
    },
    {
      "cell_type": "code",
      "execution_count": null,
      "id": "3304985f",
      "metadata": {
        "id": "3304985f",
        "outputId": "5573eaa6-f7bf-460e-d204-2382f1f789af"
      },
      "outputs": [
        {
          "data": {
            "text/plain": [
              "array([-36,  32,  47,  71])"
            ]
          },
          "execution_count": 75,
          "metadata": {},
          "output_type": "execute_result"
        }
      ],
      "source": [
        "arr[1:-1]"
      ]
    },
    {
      "cell_type": "code",
      "execution_count": null,
      "id": "22eabda5",
      "metadata": {
        "id": "22eabda5",
        "outputId": "ce88ff06-9fee-4816-ab35-519ce2fd4c0d"
      },
      "outputs": [
        {
          "data": {
            "text/plain": [
              "array([-36,  32,  47,  71])"
            ]
          },
          "execution_count": 77,
          "metadata": {},
          "output_type": "execute_result"
        }
      ],
      "source": [
        "arr[1:len(arr)-1]"
      ]
    },
    {
      "cell_type": "code",
      "execution_count": null,
      "id": "e5007509",
      "metadata": {
        "id": "e5007509",
        "outputId": "aac50a9c-e4bb-44a5-dde8-00b163ecc52e"
      },
      "outputs": [
        {
          "data": {
            "text/plain": [
              "array([ 22, -36,  32,  47,  71, -45])"
            ]
          },
          "execution_count": 78,
          "metadata": {},
          "output_type": "execute_result"
        }
      ],
      "source": [
        "arr"
      ]
    },
    {
      "cell_type": "code",
      "execution_count": null,
      "id": "a36cacd9",
      "metadata": {
        "id": "a36cacd9"
      },
      "outputs": [],
      "source": [
        "lst = [22,-36,32,47,71,-45]"
      ]
    },
    {
      "cell_type": "code",
      "execution_count": null,
      "id": "01aae07c",
      "metadata": {
        "id": "01aae07c",
        "outputId": "8b8cd1a1-a603-4c96-851e-439cfd29c77c"
      },
      "outputs": [
        {
          "data": {
            "text/plain": [
              "[-36, 32, 47, 71]"
            ]
          },
          "execution_count": 80,
          "metadata": {},
          "output_type": "execute_result"
        }
      ],
      "source": [
        "lst[1:-1]"
      ]
    },
    {
      "cell_type": "code",
      "execution_count": null,
      "id": "2e4f83c6",
      "metadata": {
        "id": "2e4f83c6",
        "outputId": "00b505c0-f441-489e-c39b-bbc252d47084"
      },
      "outputs": [
        {
          "data": {
            "text/plain": [
              "[22, -36, 32]"
            ]
          },
          "execution_count": 81,
          "metadata": {},
          "output_type": "execute_result"
        }
      ],
      "source": [
        "lst[:3]"
      ]
    },
    {
      "cell_type": "code",
      "execution_count": null,
      "id": "c0ffbe11",
      "metadata": {
        "id": "c0ffbe11",
        "outputId": "afb7593f-9cd1-409a-e3cb-a61ca4577878"
      },
      "outputs": [
        {
          "data": {
            "text/plain": [
              "[-36, 32, 47]"
            ]
          },
          "execution_count": 82,
          "metadata": {},
          "output_type": "execute_result"
        }
      ],
      "source": [
        "lst[1:4]"
      ]
    },
    {
      "cell_type": "code",
      "execution_count": null,
      "id": "72f32e99",
      "metadata": {
        "id": "72f32e99"
      },
      "outputs": [],
      "source": [
        "arr = np.array([['Python','R','C++'], [len('Python'),len('R'),\n",
        "                                       len('C++')]])"
      ]
    },
    {
      "cell_type": "code",
      "execution_count": null,
      "id": "4332f97c",
      "metadata": {
        "id": "4332f97c",
        "outputId": "a23f9d7b-cdf2-433a-fc7f-a09ddb917370"
      },
      "outputs": [
        {
          "data": {
            "text/plain": [
              "array([['Python', 'R', 'C++'],\n",
              "       ['6', '1', '3']], dtype='<U11')"
            ]
          },
          "execution_count": 87,
          "metadata": {},
          "output_type": "execute_result"
        }
      ],
      "source": [
        "arr"
      ]
    },
    {
      "cell_type": "code",
      "execution_count": null,
      "id": "93e21af2",
      "metadata": {
        "id": "93e21af2",
        "outputId": "b42cdbfc-34b7-4ca2-9565-b47ada79b201"
      },
      "outputs": [
        {
          "data": {
            "text/plain": [
              "2"
            ]
          },
          "execution_count": 88,
          "metadata": {},
          "output_type": "execute_result"
        }
      ],
      "source": [
        "len(arr)"
      ]
    },
    {
      "cell_type": "code",
      "execution_count": null,
      "id": "c4767b02",
      "metadata": {
        "id": "c4767b02",
        "outputId": "303e8f8b-6f10-41d5-9092-e8b248ff9d0b"
      },
      "outputs": [
        {
          "data": {
            "text/plain": [
              "'Python'"
            ]
          },
          "execution_count": 89,
          "metadata": {},
          "output_type": "execute_result"
        }
      ],
      "source": [
        "arr[0][0]"
      ]
    },
    {
      "cell_type": "code",
      "execution_count": null,
      "id": "ebc5ae52",
      "metadata": {
        "id": "ebc5ae52",
        "outputId": "2860f9a8-144b-4642-f409-660ef1920663"
      },
      "outputs": [
        {
          "data": {
            "text/plain": [
              "'Python'"
            ]
          },
          "execution_count": 90,
          "metadata": {},
          "output_type": "execute_result"
        }
      ],
      "source": [
        "arr[0,0]"
      ]
    },
    {
      "cell_type": "code",
      "execution_count": null,
      "id": "7bf748ec",
      "metadata": {
        "id": "7bf748ec",
        "outputId": "0bac54ba-432f-484f-8f24-4bb0210ba9b2"
      },
      "outputs": [
        {
          "data": {
            "text/plain": [
              "array(['Python', 'R', 'C++'], dtype='<U11')"
            ]
          },
          "execution_count": 91,
          "metadata": {},
          "output_type": "execute_result"
        }
      ],
      "source": [
        "arr[0]"
      ]
    },
    {
      "cell_type": "code",
      "execution_count": null,
      "id": "52110d91",
      "metadata": {
        "id": "52110d91",
        "outputId": "e592c7fd-9eb4-4da2-bfc8-c1d4e5e6f2d2"
      },
      "outputs": [
        {
          "data": {
            "text/plain": [
              "(3,)"
            ]
          },
          "execution_count": 92,
          "metadata": {},
          "output_type": "execute_result"
        }
      ],
      "source": [
        "arr[0].shape"
      ]
    },
    {
      "cell_type": "code",
      "execution_count": null,
      "id": "82d0731e",
      "metadata": {
        "id": "82d0731e",
        "outputId": "d7b3eb62-e86d-41bc-d4a6-10ff9e1d35cd"
      },
      "outputs": [
        {
          "data": {
            "text/plain": [
              "(1, 3)"
            ]
          },
          "execution_count": 93,
          "metadata": {},
          "output_type": "execute_result"
        }
      ],
      "source": [
        "arr[[0]].shape"
      ]
    },
    {
      "cell_type": "code",
      "execution_count": null,
      "id": "949e2f77",
      "metadata": {
        "id": "949e2f77",
        "outputId": "977e46fd-5bd9-419e-ff6d-8fec7fcfa49d"
      },
      "outputs": [
        {
          "data": {
            "text/plain": [
              "array([['Python', 'R', 'C++'],\n",
              "       ['6', '1', '3']], dtype='<U11')"
            ]
          },
          "execution_count": 94,
          "metadata": {},
          "output_type": "execute_result"
        }
      ],
      "source": [
        "arr"
      ]
    },
    {
      "cell_type": "code",
      "execution_count": null,
      "id": "25985894",
      "metadata": {
        "id": "25985894",
        "outputId": "10032911-1067-4f86-8b39-6c14a70fbf38"
      },
      "outputs": [
        {
          "data": {
            "text/plain": [
              "'Python'"
            ]
          },
          "execution_count": 96,
          "metadata": {},
          "output_type": "execute_result"
        }
      ],
      "source": [
        "arr[0,0]"
      ]
    },
    {
      "cell_type": "code",
      "execution_count": null,
      "id": "d9406b6e",
      "metadata": {
        "id": "d9406b6e",
        "outputId": "e6dae203-d46f-47b6-ef2e-e1ec69b8d6eb"
      },
      "outputs": [
        {
          "data": {
            "text/plain": [
              "'Python'"
            ]
          },
          "execution_count": 97,
          "metadata": {},
          "output_type": "execute_result"
        }
      ],
      "source": [
        "arr[0][0]"
      ]
    },
    {
      "cell_type": "code",
      "execution_count": null,
      "id": "12d8fa1e",
      "metadata": {
        "id": "12d8fa1e",
        "outputId": "45144f4e-4c01-4d0d-fcf2-e21f1823c3c7"
      },
      "outputs": [
        {
          "data": {
            "text/plain": [
              "array([['Python', 'R', 'C++'],\n",
              "       ['6', '1', '3']], dtype='<U11')"
            ]
          },
          "execution_count": 98,
          "metadata": {},
          "output_type": "execute_result"
        }
      ],
      "source": [
        "arr[0:]"
      ]
    },
    {
      "cell_type": "code",
      "execution_count": null,
      "id": "209b76c7",
      "metadata": {
        "id": "209b76c7",
        "outputId": "f332a768-884a-4591-9afc-64a31b6cc2dc"
      },
      "outputs": [
        {
          "data": {
            "text/plain": [
              "array(['Python', 'R', 'C++'], dtype='<U11')"
            ]
          },
          "execution_count": 99,
          "metadata": {},
          "output_type": "execute_result"
        }
      ],
      "source": [
        "arr[0][:]"
      ]
    },
    {
      "cell_type": "code",
      "execution_count": null,
      "id": "69999db6",
      "metadata": {
        "id": "69999db6",
        "outputId": "a781ba18-1436-4105-ad76-d130b46fcf73"
      },
      "outputs": [
        {
          "data": {
            "text/plain": [
              "array(['Python', 'R'], dtype='<U11')"
            ]
          },
          "execution_count": 100,
          "metadata": {},
          "output_type": "execute_result"
        }
      ],
      "source": [
        "arr[0,[0,1]]"
      ]
    },
    {
      "cell_type": "code",
      "execution_count": null,
      "id": "90541a85",
      "metadata": {
        "id": "90541a85",
        "outputId": "fdc6e6c1-5de8-4f66-933e-69d476670e5f"
      },
      "outputs": [
        {
          "data": {
            "text/plain": [
              "[22, -36, 32, 47, 71, -45]"
            ]
          },
          "execution_count": 101,
          "metadata": {},
          "output_type": "execute_result"
        }
      ],
      "source": [
        "lst"
      ]
    },
    {
      "cell_type": "code",
      "execution_count": null,
      "id": "020ae239",
      "metadata": {
        "id": "020ae239",
        "outputId": "070ca890-21d5-4284-d656-4b3fa21ffe94"
      },
      "outputs": [
        {
          "data": {
            "text/plain": [
              "[22, -36, 32, 47, 71, -45]"
            ]
          },
          "execution_count": 102,
          "metadata": {},
          "output_type": "execute_result"
        }
      ],
      "source": [
        "lst[0:]"
      ]
    },
    {
      "cell_type": "code",
      "execution_count": null,
      "id": "c3ba5f1c",
      "metadata": {
        "id": "c3ba5f1c",
        "outputId": "4cc373e9-3ede-4762-9502-e9374f424647"
      },
      "outputs": [
        {
          "data": {
            "text/plain": [
              "array([['Python', 'R', 'C++'],\n",
              "       ['6', '1', '3']], dtype='<U11')"
            ]
          },
          "execution_count": 103,
          "metadata": {},
          "output_type": "execute_result"
        }
      ],
      "source": [
        "arr[0:]"
      ]
    },
    {
      "cell_type": "code",
      "execution_count": null,
      "id": "8a5ffb48",
      "metadata": {
        "id": "8a5ffb48",
        "outputId": "8ee1fd82-c8a3-4bb6-b665-901e8ac7b4ac"
      },
      "outputs": [
        {
          "data": {
            "text/plain": [
              "(2, 3)"
            ]
          },
          "execution_count": 104,
          "metadata": {},
          "output_type": "execute_result"
        }
      ],
      "source": [
        "arr.shape"
      ]
    },
    {
      "cell_type": "code",
      "execution_count": null,
      "id": "7a9bfbcd",
      "metadata": {
        "id": "7a9bfbcd",
        "outputId": "59434aad-865f-4ffe-af4c-11ae7df231da"
      },
      "outputs": [
        {
          "data": {
            "text/plain": [
              "2"
            ]
          },
          "execution_count": 105,
          "metadata": {},
          "output_type": "execute_result"
        }
      ],
      "source": [
        "arr.ndim"
      ]
    },
    {
      "cell_type": "code",
      "execution_count": null,
      "id": "bd712a5d",
      "metadata": {
        "id": "bd712a5d"
      },
      "outputs": [],
      "source": [
        "lst = [[1,2,3],[4,5,6]]"
      ]
    },
    {
      "cell_type": "code",
      "execution_count": null,
      "id": "5269671f",
      "metadata": {
        "id": "5269671f",
        "outputId": "b72df42f-26a7-4fbd-a58d-aaa21313cef1"
      },
      "outputs": [
        {
          "data": {
            "text/plain": [
              "[[1, 2, 3], [4, 5, 6]]"
            ]
          },
          "execution_count": 107,
          "metadata": {},
          "output_type": "execute_result"
        }
      ],
      "source": [
        "lst"
      ]
    },
    {
      "cell_type": "code",
      "execution_count": null,
      "id": "303e8d27",
      "metadata": {
        "id": "303e8d27",
        "outputId": "e1a99bb6-bcf3-4374-cff1-4de19ef24c51"
      },
      "outputs": [
        {
          "data": {
            "text/plain": [
              "2"
            ]
          },
          "execution_count": 108,
          "metadata": {},
          "output_type": "execute_result"
        }
      ],
      "source": [
        "len(lst)"
      ]
    },
    {
      "cell_type": "code",
      "execution_count": null,
      "id": "508d4723",
      "metadata": {
        "id": "508d4723",
        "outputId": "287e6435-746f-46a2-b6e4-9da22bf1c14b"
      },
      "outputs": [
        {
          "data": {
            "text/plain": [
              "[4, 5, 6]"
            ]
          },
          "execution_count": 109,
          "metadata": {},
          "output_type": "execute_result"
        }
      ],
      "source": [
        "lst[1]"
      ]
    },
    {
      "cell_type": "code",
      "execution_count": null,
      "id": "17bfd2d6",
      "metadata": {
        "id": "17bfd2d6",
        "outputId": "835ed50c-1264-491b-ffcf-318de3144fe4"
      },
      "outputs": [
        {
          "data": {
            "text/plain": [
              "[1, 2, 3]"
            ]
          },
          "execution_count": 110,
          "metadata": {},
          "output_type": "execute_result"
        }
      ],
      "source": [
        "lst[0]"
      ]
    },
    {
      "cell_type": "code",
      "execution_count": null,
      "id": "dfb8c3ea",
      "metadata": {
        "id": "dfb8c3ea",
        "outputId": "8b0fd4f6-3658-4876-8100-b26530ff9398"
      },
      "outputs": [
        {
          "data": {
            "text/plain": [
              "[[1, 2, 3], [4, 5, 6]]"
            ]
          },
          "execution_count": 111,
          "metadata": {},
          "output_type": "execute_result"
        }
      ],
      "source": [
        "lst[0:]"
      ]
    },
    {
      "cell_type": "code",
      "execution_count": null,
      "id": "e1d13bfa",
      "metadata": {
        "id": "e1d13bfa",
        "outputId": "ed8a0746-c14f-4a7a-d194-c101c1a50e39"
      },
      "outputs": [
        {
          "data": {
            "text/plain": [
              "[]"
            ]
          },
          "execution_count": 112,
          "metadata": {},
          "output_type": "execute_result"
        }
      ],
      "source": [
        "lst[0:0]"
      ]
    },
    {
      "cell_type": "code",
      "execution_count": null,
      "id": "00282855",
      "metadata": {
        "id": "00282855",
        "outputId": "dbb7cbd2-58c2-4152-9f08-0f15035c4ade"
      },
      "outputs": [
        {
          "data": {
            "text/plain": [
              "[1, 2, 3]"
            ]
          },
          "execution_count": 113,
          "metadata": {},
          "output_type": "execute_result"
        }
      ],
      "source": [
        "lst[0][:]"
      ]
    },
    {
      "cell_type": "code",
      "execution_count": null,
      "id": "53f28218",
      "metadata": {
        "id": "53f28218",
        "outputId": "f6ae660c-32f0-4d5d-e66a-28146f0a36f7"
      },
      "outputs": [
        {
          "data": {
            "text/plain": [
              "[4, 5, 6]"
            ]
          },
          "execution_count": 114,
          "metadata": {},
          "output_type": "execute_result"
        }
      ],
      "source": [
        "lst[-1][:]"
      ]
    },
    {
      "cell_type": "code",
      "execution_count": null,
      "id": "e1eb784b",
      "metadata": {
        "id": "e1eb784b"
      },
      "outputs": [],
      "source": [
        "arr = np.array([[1,2,3],[4,5,6]])"
      ]
    },
    {
      "cell_type": "code",
      "execution_count": null,
      "id": "c2254cb8",
      "metadata": {
        "id": "c2254cb8",
        "outputId": "b35139f7-3d53-471c-bb0d-21b1f507f640"
      },
      "outputs": [
        {
          "data": {
            "text/plain": [
              "array([[1, 2, 3],\n",
              "       [4, 5, 6]])"
            ]
          },
          "execution_count": 116,
          "metadata": {},
          "output_type": "execute_result"
        }
      ],
      "source": [
        "arr"
      ]
    },
    {
      "cell_type": "code",
      "execution_count": null,
      "id": "dab86062",
      "metadata": {
        "id": "dab86062",
        "outputId": "3a92d9f4-aec7-4e46-f668-da7944ce9bed"
      },
      "outputs": [
        {
          "data": {
            "text/plain": [
              "array([[False, False,  True],\n",
              "       [ True,  True,  True]])"
            ]
          },
          "execution_count": 119,
          "metadata": {},
          "output_type": "execute_result"
        }
      ],
      "source": [
        "arr > 2"
      ]
    },
    {
      "cell_type": "code",
      "execution_count": null,
      "id": "9aa44b78",
      "metadata": {
        "id": "9aa44b78"
      },
      "outputs": [],
      "source": [
        "# False : 0\n",
        "# True : 1"
      ]
    },
    {
      "cell_type": "code",
      "execution_count": null,
      "id": "c1f9f08c",
      "metadata": {
        "id": "c1f9f08c",
        "outputId": "9f569795-c4bd-4225-a957-59e80723a38c"
      },
      "outputs": [
        {
          "data": {
            "text/plain": [
              "array([5, 7, 9])"
            ]
          },
          "execution_count": 121,
          "metadata": {},
          "output_type": "execute_result"
        }
      ],
      "source": [
        "sum(arr)"
      ]
    },
    {
      "cell_type": "code",
      "execution_count": null,
      "id": "954d8bbf",
      "metadata": {
        "id": "954d8bbf",
        "outputId": "ec5bd60f-d173-4d1d-8d6f-ffca6205e408"
      },
      "outputs": [
        {
          "data": {
            "text/plain": [
              "array([[1, 2, 3],\n",
              "       [4, 5, 6]])"
            ]
          },
          "execution_count": 122,
          "metadata": {},
          "output_type": "execute_result"
        }
      ],
      "source": [
        "arr"
      ]
    },
    {
      "cell_type": "code",
      "execution_count": null,
      "id": "eb922365",
      "metadata": {
        "id": "eb922365",
        "outputId": "2649927f-aa0d-4c60-ba17-c2db104319ce"
      },
      "outputs": [
        {
          "data": {
            "text/plain": [
              "array([[1, 2, 3],\n",
              "       [4, 5, 6]])"
            ]
          },
          "execution_count": 126,
          "metadata": {},
          "output_type": "execute_result"
        }
      ],
      "source": [
        "arr"
      ]
    },
    {
      "cell_type": "code",
      "execution_count": null,
      "id": "96270200",
      "metadata": {
        "id": "96270200",
        "outputId": "49e3a8e2-c45a-4cea-9f76-860247127f9b"
      },
      "outputs": [
        {
          "data": {
            "text/plain": [
              "8"
            ]
          },
          "execution_count": 133,
          "metadata": {},
          "output_type": "execute_result"
        }
      ],
      "source": [
        "df['Order Date'].isna().sum()"
      ]
    },
    {
      "cell_type": "code",
      "execution_count": null,
      "id": "d2b608e6",
      "metadata": {
        "id": "d2b608e6",
        "outputId": "eafbe24a-7f38-4628-da2c-e64de8f6bd11"
      },
      "outputs": [
        {
          "data": {
            "text/plain": [
              "array([[1, 2, 3],\n",
              "       [4, 5, 6]])"
            ]
          },
          "execution_count": 134,
          "metadata": {},
          "output_type": "execute_result"
        }
      ],
      "source": [
        "arr"
      ]
    },
    {
      "cell_type": "code",
      "execution_count": null,
      "id": "f7bff353",
      "metadata": {
        "id": "f7bff353",
        "outputId": "af170a7c-1c88-44d8-c718-466f8969a456"
      },
      "outputs": [
        {
          "data": {
            "text/plain": [
              "array([[False, False,  True],\n",
              "       [ True, False, False]])"
            ]
          },
          "execution_count": 135,
          "metadata": {},
          "output_type": "execute_result"
        }
      ],
      "source": [
        "(arr > 2) & (arr < 5)"
      ]
    },
    {
      "cell_type": "code",
      "execution_count": null,
      "id": "ef738541",
      "metadata": {
        "id": "ef738541",
        "outputId": "49f0faaa-1e1d-46e8-96ed-5041229c14d1"
      },
      "outputs": [
        {
          "data": {
            "text/plain": [
              "array([1, 2, 3, 4, 5, 6])"
            ]
          },
          "execution_count": 139,
          "metadata": {},
          "output_type": "execute_result"
        }
      ],
      "source": [
        "arr[(arr > 2) |(arr < 5)]"
      ]
    },
    {
      "cell_type": "code",
      "execution_count": null,
      "id": "eeb842d6",
      "metadata": {
        "id": "eeb842d6"
      },
      "outputs": [],
      "source": [
        "arr_numbers = np.array([34,56,87,90,34,56,12,34,67,89,90,88,\n",
        "                      35,67,12,45,78,23,56])"
      ]
    },
    {
      "cell_type": "code",
      "execution_count": null,
      "id": "f0d627ae",
      "metadata": {
        "id": "f0d627ae"
      },
      "outputs": [],
      "source": [
        "lst = [34,56,87,90,34,56,12,34,67,89,90,88,35,67,12,45,78,23,56]"
      ]
    },
    {
      "cell_type": "code",
      "execution_count": null,
      "id": "753b16b9",
      "metadata": {
        "id": "753b16b9",
        "outputId": "555dec75-e174-416f-e04d-c51536d0a433"
      },
      "outputs": [
        {
          "data": {
            "text/plain": [
              "[56, 87, 90, 56, 67, 89, 90, 88, 67, 78, 56]"
            ]
          },
          "execution_count": 143,
          "metadata": {},
          "output_type": "execute_result"
        }
      ],
      "source": [
        "list(filter(lambda x : x > 50, lst))"
      ]
    },
    {
      "cell_type": "code",
      "execution_count": null,
      "id": "6375805e",
      "metadata": {
        "id": "6375805e",
        "outputId": "4afc3deb-7a96-42b9-8a74-15bffa142f5d"
      },
      "outputs": [
        {
          "data": {
            "text/plain": [
              "array([34, 56, 87, 90, 34, 56, 12, 34, 67, 89, 90, 88, 35, 67, 12, 45, 78,\n",
              "       23, 56])"
            ]
          },
          "execution_count": 144,
          "metadata": {},
          "output_type": "execute_result"
        }
      ],
      "source": [
        "arr_numbers"
      ]
    },
    {
      "cell_type": "code",
      "execution_count": null,
      "id": "8eefde3b",
      "metadata": {
        "id": "8eefde3b",
        "outputId": "52851ceb-ffe0-4be6-f186-8caddd271adb"
      },
      "outputs": [
        {
          "data": {
            "text/plain": [
              "19"
            ]
          },
          "execution_count": 146,
          "metadata": {},
          "output_type": "execute_result"
        }
      ],
      "source": [
        "len(arr_numbers > 50)"
      ]
    },
    {
      "cell_type": "code",
      "execution_count": null,
      "id": "8b5d647a",
      "metadata": {
        "id": "8b5d647a",
        "outputId": "cea98864-2e27-4eb3-adac-49b0f0bfc378"
      },
      "outputs": [
        {
          "data": {
            "text/plain": [
              "array([56, 87, 90, 56, 67, 89, 90, 88, 67, 78, 56])"
            ]
          },
          "execution_count": 147,
          "metadata": {},
          "output_type": "execute_result"
        }
      ],
      "source": [
        "arr_numbers[arr_numbers > 50]"
      ]
    },
    {
      "cell_type": "code",
      "execution_count": null,
      "id": "fb3e53a1",
      "metadata": {
        "id": "fb3e53a1",
        "outputId": "f5719f08-55e5-40fb-cf77-b9dffce33262"
      },
      "outputs": [
        {
          "data": {
            "text/plain": [
              "11"
            ]
          },
          "execution_count": 148,
          "metadata": {},
          "output_type": "execute_result"
        }
      ],
      "source": [
        "len(arr_numbers[arr_numbers > 50])"
      ]
    },
    {
      "cell_type": "code",
      "execution_count": null,
      "id": "9b5673d2",
      "metadata": {
        "id": "9b5673d2",
        "outputId": "416c740f-9fc4-49c8-ea37-9c7b7160c129"
      },
      "outputs": [
        {
          "data": {
            "text/plain": [
              "array([34, 56, 87, 90, 34, 56, 12, 34, 67, 89, 90, 88, 35, 67, 12, 45, 78,\n",
              "       23, 56])"
            ]
          },
          "execution_count": 149,
          "metadata": {},
          "output_type": "execute_result"
        }
      ],
      "source": [
        "arr_numbers"
      ]
    },
    {
      "cell_type": "code",
      "execution_count": null,
      "id": "a59e7616",
      "metadata": {
        "id": "a59e7616",
        "outputId": "f18e391a-b993-4c13-a71e-e48201e4792c"
      },
      "outputs": [
        {
          "data": {
            "text/plain": [
              "array([34, 56, 90, 34, 56, 12, 34, 90, 88, 12, 78, 56])"
            ]
          },
          "execution_count": 150,
          "metadata": {},
          "output_type": "execute_result"
        }
      ],
      "source": [
        "arr_numbers[arr_numbers % 2 == 0]"
      ]
    },
    {
      "cell_type": "code",
      "execution_count": null,
      "id": "4efa14cc",
      "metadata": {
        "id": "4efa14cc",
        "outputId": "e7dffd21-ee2c-4b07-f847-8f239c11e75f"
      },
      "outputs": [
        {
          "data": {
            "text/plain": [
              "array([87, 67, 89, 35, 67, 45, 23])"
            ]
          },
          "execution_count": 151,
          "metadata": {},
          "output_type": "execute_result"
        }
      ],
      "source": [
        "arr_numbers[arr_numbers % 2 != 0]"
      ]
    },
    {
      "cell_type": "code",
      "execution_count": null,
      "id": "7919796b",
      "metadata": {
        "id": "7919796b",
        "outputId": "185502a6-dfc1-48c6-f35f-c1b5e73fe38c"
      },
      "outputs": [
        {
          "data": {
            "text/plain": [
              "array([90, 90, 35, 45])"
            ]
          },
          "execution_count": 152,
          "metadata": {},
          "output_type": "execute_result"
        }
      ],
      "source": [
        "arr_numbers[arr_numbers % 5 == 0]"
      ]
    },
    {
      "cell_type": "code",
      "execution_count": null,
      "id": "a2eda66e",
      "metadata": {
        "id": "a2eda66e",
        "outputId": "9b1ae745-8abd-41e2-fa45-3ee9cdd1ea6a"
      },
      "outputs": [
        {
          "data": {
            "text/plain": [
              "19"
            ]
          },
          "execution_count": 153,
          "metadata": {},
          "output_type": "execute_result"
        }
      ],
      "source": [
        "len(arr_numbers)"
      ]
    },
    {
      "cell_type": "markdown",
      "id": "8c9fc1d7",
      "metadata": {
        "id": "8c9fc1d7"
      },
      "source": [
        "### numpy where method"
      ]
    },
    {
      "cell_type": "code",
      "execution_count": null,
      "id": "93dd76d3",
      "metadata": {
        "id": "93dd76d3",
        "outputId": "474f7ffc-1a0b-4ebb-f864-6f97e2223e95"
      },
      "outputs": [
        {
          "data": {
            "text/plain": [
              "array([34, 56, 87, 90, 34, 56, 12, 34, 67, 89, 90, 88, 35, 67, 12, 45, 78,\n",
              "       23, 56])"
            ]
          },
          "execution_count": 154,
          "metadata": {},
          "output_type": "execute_result"
        }
      ],
      "source": [
        "arr_numbers"
      ]
    },
    {
      "cell_type": "code",
      "execution_count": null,
      "id": "8e092fa5",
      "metadata": {
        "id": "8e092fa5",
        "outputId": "f6c9a407-21ba-448e-ae21-b3a834843a57"
      },
      "outputs": [
        {
          "data": {
            "text/plain": [
              "(array([ 0,  4,  6,  7, 12, 14, 15, 17], dtype=int64),)"
            ]
          },
          "execution_count": 155,
          "metadata": {},
          "output_type": "execute_result"
        }
      ],
      "source": [
        "np.where(arr_numbers < 50)"
      ]
    },
    {
      "cell_type": "code",
      "execution_count": null,
      "id": "213413a8",
      "metadata": {
        "id": "213413a8",
        "outputId": "073b946e-6e35-4a0d-c9b3-bc526e544997"
      },
      "outputs": [
        {
          "data": {
            "text/plain": [
              "(array([ 3, 10], dtype=int64),)"
            ]
          },
          "execution_count": 156,
          "metadata": {},
          "output_type": "execute_result"
        }
      ],
      "source": [
        "np.where(arr_numbers == 90)"
      ]
    },
    {
      "cell_type": "code",
      "execution_count": null,
      "id": "ab826079",
      "metadata": {
        "id": "ab826079",
        "outputId": "242724b6-ad36-4116-a746-89d3e321ac0e"
      },
      "outputs": [
        {
          "data": {
            "text/plain": [
              "(array([ 1,  5, 18], dtype=int64),)"
            ]
          },
          "execution_count": 157,
          "metadata": {},
          "output_type": "execute_result"
        }
      ],
      "source": [
        "np.where((arr_numbers >50) & (arr_numbers < 60))"
      ]
    },
    {
      "cell_type": "code",
      "execution_count": null,
      "id": "f9abe069",
      "metadata": {
        "id": "f9abe069",
        "outputId": "cc785813-c483-4cc0-d7ea-628bcbddb315"
      },
      "outputs": [
        {
          "data": {
            "text/plain": [
              "array([[1, 2, 3],\n",
              "       [4, 5, 6]])"
            ]
          },
          "execution_count": 158,
          "metadata": {},
          "output_type": "execute_result"
        }
      ],
      "source": [
        "arr_2d"
      ]
    },
    {
      "cell_type": "code",
      "execution_count": null,
      "id": "96ab8074",
      "metadata": {
        "id": "96ab8074",
        "outputId": "165e5f88-84b2-4393-a60a-b4cc9bf5fe65"
      },
      "outputs": [
        {
          "data": {
            "text/plain": [
              "(array([1, 1, 1], dtype=int64), array([0, 1, 2], dtype=int64))"
            ]
          },
          "execution_count": 159,
          "metadata": {},
          "output_type": "execute_result"
        }
      ],
      "source": [
        "np.where(arr_2d > 3)"
      ]
    },
    {
      "cell_type": "code",
      "execution_count": null,
      "id": "b1d74151",
      "metadata": {
        "id": "b1d74151",
        "outputId": "241058a5-bd0d-4eb5-b89e-24de3c3ba31a"
      },
      "outputs": [
        {
          "data": {
            "text/plain": [
              "array([[False, False, False],\n",
              "       [ True,  True,  True]])"
            ]
          },
          "execution_count": 161,
          "metadata": {},
          "output_type": "execute_result"
        }
      ],
      "source": [
        "arr_2d > 3"
      ]
    },
    {
      "cell_type": "code",
      "execution_count": null,
      "id": "6050ef7a",
      "metadata": {
        "id": "6050ef7a",
        "outputId": "f64ac5aa-4954-450e-f70a-fe93273efbc6"
      },
      "outputs": [
        {
          "data": {
            "text/plain": [
              "array([4, 5, 6])"
            ]
          },
          "execution_count": 162,
          "metadata": {},
          "output_type": "execute_result"
        }
      ],
      "source": [
        "arr_2d[np.where(arr_2d > 3)]"
      ]
    },
    {
      "cell_type": "code",
      "execution_count": null,
      "id": "1c5ae5ae",
      "metadata": {
        "id": "1c5ae5ae",
        "outputId": "6fd436dd-8667-4a1b-c09c-2152362f8b29"
      },
      "outputs": [
        {
          "data": {
            "text/plain": [
              "array([34, 56, 87, 90, 34, 56, 12, 34, 67, 89, 90, 88, 35, 67, 12, 45, 78,\n",
              "       23, 56])"
            ]
          },
          "execution_count": 163,
          "metadata": {},
          "output_type": "execute_result"
        }
      ],
      "source": [
        "arr_numbers"
      ]
    },
    {
      "cell_type": "code",
      "execution_count": null,
      "id": "51803247",
      "metadata": {
        "id": "51803247",
        "outputId": "26deba6e-7c42-4b02-c4b7-d8b6089369c7"
      },
      "outputs": [
        {
          "data": {
            "text/plain": [
              "array(['<50', '56', '87', '90', '<50', '56', '<50', '<50', '67', '89',\n",
              "       '90', '88', '<50', '67', '<50', '<50', '78', '<50', '56'],\n",
              "      dtype='<U11')"
            ]
          },
          "execution_count": 164,
          "metadata": {},
          "output_type": "execute_result"
        }
      ],
      "source": [
        "np.where((arr_numbers < 50),\"<50\", arr_numbers)"
      ]
    },
    {
      "cell_type": "markdown",
      "id": "f36670fb",
      "metadata": {
        "id": "f36670fb"
      },
      "source": [
        "### Operations on Numpy Arrays:"
      ]
    },
    {
      "cell_type": "code",
      "execution_count": null,
      "id": "b0820281",
      "metadata": {
        "id": "b0820281"
      },
      "outputs": [],
      "source": [
        "np_arr = np.array([1,2,3])"
      ]
    },
    {
      "cell_type": "code",
      "execution_count": null,
      "id": "4c4b1f89",
      "metadata": {
        "id": "4c4b1f89",
        "outputId": "2ca31f1b-99fb-4363-ff36-3983f81619a4"
      },
      "outputs": [
        {
          "data": {
            "text/plain": [
              "array([1, 2, 3])"
            ]
          },
          "execution_count": 173,
          "metadata": {},
          "output_type": "execute_result"
        }
      ],
      "source": [
        "np_arr"
      ]
    },
    {
      "cell_type": "markdown",
      "id": "965492b8",
      "metadata": {
        "id": "965492b8"
      },
      "source": [
        "### Adding elements to 1D array"
      ]
    },
    {
      "cell_type": "code",
      "execution_count": null,
      "id": "1ccf79c3",
      "metadata": {
        "id": "1ccf79c3",
        "outputId": "9f82bbc8-49ac-45b6-bcae-982b4a4dbdc0"
      },
      "outputs": [
        {
          "data": {
            "text/plain": [
              "array([1, 2, 3, 4])"
            ]
          },
          "execution_count": 174,
          "metadata": {},
          "output_type": "execute_result"
        }
      ],
      "source": [
        "np.append(arr = np_arr, values = 4)"
      ]
    },
    {
      "cell_type": "code",
      "execution_count": null,
      "id": "652394e1",
      "metadata": {
        "id": "652394e1",
        "outputId": "6e69f7dd-cacd-41a1-f66b-d0df0c64dddd"
      },
      "outputs": [
        {
          "data": {
            "text/plain": [
              "array([1, 2, 3, 4])"
            ]
          },
          "execution_count": 175,
          "metadata": {},
          "output_type": "execute_result"
        }
      ],
      "source": [
        "np.append(np_arr,4)"
      ]
    },
    {
      "cell_type": "code",
      "execution_count": null,
      "id": "0fc8f05e",
      "metadata": {
        "id": "0fc8f05e",
        "outputId": "c4119ab9-a1e0-4906-a534-49950550e12c"
      },
      "outputs": [
        {
          "data": {
            "text/plain": [
              "array([1, 2, 3, 5, 6, 7, 8, 9])"
            ]
          },
          "execution_count": 176,
          "metadata": {},
          "output_type": "execute_result"
        }
      ],
      "source": [
        "np.append(np_arr,[5,6,7,8,9])"
      ]
    },
    {
      "cell_type": "markdown",
      "id": "f4c97803",
      "metadata": {
        "id": "f4c97803"
      },
      "source": [
        "### Removing elements from 1d arrays"
      ]
    },
    {
      "cell_type": "code",
      "execution_count": null,
      "id": "ae518060",
      "metadata": {
        "id": "ae518060",
        "outputId": "b8715464-f097-49c3-e024-1ecbc75a0e9b"
      },
      "outputs": [
        {
          "data": {
            "text/plain": [
              "array([1, 2, 3])"
            ]
          },
          "execution_count": 177,
          "metadata": {},
          "output_type": "execute_result"
        }
      ],
      "source": [
        "np_arr"
      ]
    },
    {
      "cell_type": "markdown",
      "id": "8e9c4d06",
      "metadata": {
        "id": "8e9c4d06"
      },
      "source": [
        "### numpy delete method\n",
        "\n",
        "This method can delete an item based on item's index."
      ]
    },
    {
      "cell_type": "code",
      "execution_count": null,
      "id": "33c045d1",
      "metadata": {
        "id": "33c045d1",
        "outputId": "1b10be8a-b653-41bb-9fa3-86709af88e0b"
      },
      "outputs": [
        {
          "data": {
            "text/plain": [
              "array([1, 2])"
            ]
          },
          "execution_count": 178,
          "metadata": {},
          "output_type": "execute_result"
        }
      ],
      "source": [
        "np.delete(np_arr, 2)"
      ]
    },
    {
      "cell_type": "code",
      "execution_count": null,
      "id": "25a4c219",
      "metadata": {
        "id": "25a4c219",
        "outputId": "4cbae1a5-5769-4b86-ee16-d9c894c4e0f7"
      },
      "outputs": [
        {
          "name": "stdout",
          "output_type": "stream",
          "text": [
            "['append', 'clear', 'copy', 'count', 'extend', 'index', 'insert', 'pop', 'remove', 'reverse', 'sort']\n"
          ]
        }
      ],
      "source": [
        "print([i for i in dir(list) if \"__\" not in i])"
      ]
    },
    {
      "cell_type": "code",
      "execution_count": null,
      "id": "c6c73ce5",
      "metadata": {
        "id": "c6c73ce5",
        "outputId": "a54a919c-1155-4631-ba4b-9b71cdb5f4b3"
      },
      "outputs": [
        {
          "data": {
            "text/plain": [
              "array([34, 56, 87, 90, 34, 56, 12, 34, 67, 89, 90, 88, 35, 67, 12, 45, 78,\n",
              "       23, 56])"
            ]
          },
          "execution_count": 182,
          "metadata": {},
          "output_type": "execute_result"
        }
      ],
      "source": [
        "arr_numbers"
      ]
    },
    {
      "cell_type": "code",
      "execution_count": null,
      "id": "14c603f4",
      "metadata": {
        "id": "14c603f4",
        "outputId": "7fe1d2de-5764-45a4-9941-fd5231be8e17"
      },
      "outputs": [
        {
          "data": {
            "text/plain": [
              "array([56, 87, 90, 34, 56, 12, 34, 67, 89, 90, 88, 35, 67, 12, 45, 78, 23])"
            ]
          },
          "execution_count": 183,
          "metadata": {},
          "output_type": "execute_result"
        }
      ],
      "source": [
        "np.delete(arr_numbers,[0,-1])"
      ]
    },
    {
      "cell_type": "code",
      "execution_count": null,
      "id": "f3cb95ac",
      "metadata": {
        "id": "f3cb95ac",
        "outputId": "aeb7417d-6c0a-45b3-d174-2488ab6f5918"
      },
      "outputs": [
        {
          "data": {
            "text/plain": [
              "array([87, 67, 89, 35, 67, 45, 23])"
            ]
          },
          "execution_count": 184,
          "metadata": {},
          "output_type": "execute_result"
        }
      ],
      "source": [
        "np.delete(arr_numbers, np.where(arr_numbers % 2 == 0))"
      ]
    },
    {
      "cell_type": "code",
      "execution_count": null,
      "id": "5f968f20",
      "metadata": {
        "id": "5f968f20"
      },
      "outputs": [],
      "source": [
        "np_arr1 = np.array([[4.7,1.4,-4.6],[2.6,-1.2,-2],[6.6,-3.2,4.9]])"
      ]
    },
    {
      "cell_type": "code",
      "execution_count": null,
      "id": "142dc4ea",
      "metadata": {
        "id": "142dc4ea",
        "outputId": "960948d6-f2b1-4682-9b40-8d3424446506"
      },
      "outputs": [
        {
          "data": {
            "text/plain": [
              "array([[ 4.7,  1.4, -4.6],\n",
              "       [ 2.6, -1.2, -2. ],\n",
              "       [ 6.6, -3.2,  4.9]])"
            ]
          },
          "execution_count": 186,
          "metadata": {},
          "output_type": "execute_result"
        }
      ],
      "source": [
        "np_arr1"
      ]
    },
    {
      "cell_type": "code",
      "execution_count": null,
      "id": "e7c5bf97",
      "metadata": {
        "id": "e7c5bf97",
        "outputId": "50126f13-9440-44d8-eb94-44906836c0cf"
      },
      "outputs": [
        {
          "data": {
            "text/plain": [
              "array([ 1.4, -4.6,  2.6, -1.2, -2. ,  6.6, -3.2,  4.9])"
            ]
          },
          "execution_count": 187,
          "metadata": {},
          "output_type": "execute_result"
        }
      ],
      "source": [
        "np.delete(np_arr1, 0)"
      ]
    },
    {
      "cell_type": "code",
      "execution_count": null,
      "id": "1c3edb02",
      "metadata": {
        "id": "1c3edb02",
        "outputId": "d06d6f9d-2f9d-42ca-bb33-c55e04babd47"
      },
      "outputs": [
        {
          "data": {
            "text/plain": [
              "array([[ 2.6, -1.2, -2. ],\n",
              "       [ 6.6, -3.2,  4.9]])"
            ]
          },
          "execution_count": 188,
          "metadata": {},
          "output_type": "execute_result"
        }
      ],
      "source": [
        "np.delete(np_arr1, 0, axis = 0)"
      ]
    },
    {
      "cell_type": "code",
      "execution_count": null,
      "id": "08cc3c18",
      "metadata": {
        "id": "08cc3c18",
        "outputId": "ed7d87b2-ec31-4eaf-b799-ec7fd18298ce"
      },
      "outputs": [
        {
          "data": {
            "text/plain": [
              "array([[ 4.7,  1.4, -4.6],\n",
              "       [ 2.6, -1.2, -2. ]])"
            ]
          },
          "execution_count": 190,
          "metadata": {},
          "output_type": "execute_result"
        }
      ],
      "source": [
        "np.delete(np_arr1, [0-1], axis = 0)"
      ]
    },
    {
      "cell_type": "code",
      "execution_count": null,
      "id": "243b8c70",
      "metadata": {
        "id": "243b8c70",
        "outputId": "172b363c-2d2b-4bb8-ee6c-31c912843803"
      },
      "outputs": [
        {
          "data": {
            "text/plain": [
              "array([[ 6.6, -3.2,  4.9]])"
            ]
          },
          "execution_count": 191,
          "metadata": {},
          "output_type": "execute_result"
        }
      ],
      "source": [
        "np.delete(np_arr1,[0,1], axis = 0)"
      ]
    },
    {
      "cell_type": "code",
      "execution_count": null,
      "id": "505c5077",
      "metadata": {
        "id": "505c5077",
        "outputId": "48c6e7ef-1041-4a5e-fa23-889f1faf1cc4"
      },
      "outputs": [
        {
          "data": {
            "text/plain": [
              "array([[ 4.7,  1.4, -4.6],\n",
              "       [ 2.6, -1.2, -2. ],\n",
              "       [ 6.6, -3.2,  4.9]])"
            ]
          },
          "execution_count": 192,
          "metadata": {},
          "output_type": "execute_result"
        }
      ],
      "source": [
        "np_arr1"
      ]
    },
    {
      "cell_type": "code",
      "execution_count": null,
      "id": "d0decc11",
      "metadata": {
        "id": "d0decc11",
        "outputId": "c8831fe7-2a4c-4e39-e218-ea343585520c"
      },
      "outputs": [
        {
          "data": {
            "text/plain": [
              "array([[ 4.7, -4.6],\n",
              "       [ 2.6, -2. ],\n",
              "       [ 6.6,  4.9]])"
            ]
          },
          "execution_count": 193,
          "metadata": {},
          "output_type": "execute_result"
        }
      ],
      "source": [
        "np.delete(np_arr1, 1,axis = 1)"
      ]
    },
    {
      "cell_type": "code",
      "execution_count": null,
      "id": "45b5ac93",
      "metadata": {
        "id": "45b5ac93"
      },
      "outputs": [],
      "source": [
        "lst.extend?"
      ]
    },
    {
      "cell_type": "code",
      "execution_count": null,
      "id": "651aaa90",
      "metadata": {
        "id": "651aaa90"
      },
      "outputs": [],
      "source": [
        "filter?"
      ]
    },
    {
      "cell_type": "code",
      "execution_count": null,
      "id": "ce721857",
      "metadata": {
        "id": "ce721857"
      },
      "outputs": [],
      "source": [
        "lst = [2,5,7,None,\"\",34,56,False,60,0,False,True,-50, None,40,60, None]"
      ]
    },
    {
      "cell_type": "code",
      "execution_count": null,
      "id": "52420adb",
      "metadata": {
        "id": "52420adb",
        "outputId": "e01e5729-3edb-431c-87ac-d97bf0c1d455"
      },
      "outputs": [
        {
          "data": {
            "text/plain": [
              "[2, 5, 7, 34, 56, 60, True, -50, 40, 60]"
            ]
          },
          "execution_count": 216,
          "metadata": {},
          "output_type": "execute_result"
        }
      ],
      "source": [
        "list(filter(None,lst))"
      ]
    },
    {
      "cell_type": "code",
      "execution_count": null,
      "id": "7f8df0bc",
      "metadata": {
        "id": "7f8df0bc"
      },
      "outputs": [],
      "source": [
        "axis = None,\n",
        "axis = 0\n",
        "axis = 1"
      ]
    },
    {
      "cell_type": "code",
      "execution_count": null,
      "id": "ef34082e",
      "metadata": {
        "id": "ef34082e",
        "outputId": "16148e06-efdc-4411-8d54-9dad7675870e"
      },
      "outputs": [
        {
          "data": {
            "text/plain": [
              "array([[ 4.7,  1.4, -4.6],\n",
              "       [ 2.6, -1.2, -2. ],\n",
              "       [ 6.6, -3.2,  4.9]])"
            ]
          },
          "execution_count": 211,
          "metadata": {},
          "output_type": "execute_result"
        }
      ],
      "source": [
        "np_arr1"
      ]
    },
    {
      "cell_type": "code",
      "execution_count": null,
      "id": "5306ed80",
      "metadata": {
        "id": "5306ed80",
        "outputId": "08e79883-a73f-40f2-9346-ccc898666aaf"
      },
      "outputs": [
        {
          "data": {
            "text/plain": [
              "array([ 1.4, -4.6,  2.6, -1.2, -2. ,  6.6, -3.2,  4.9])"
            ]
          },
          "execution_count": 212,
          "metadata": {},
          "output_type": "execute_result"
        }
      ],
      "source": [
        "np.delete(np_arr1, 0, axis = None)"
      ]
    },
    {
      "cell_type": "code",
      "execution_count": null,
      "id": "98d8bbdd",
      "metadata": {
        "id": "98d8bbdd",
        "outputId": "8cb828f6-a080-4633-c3f5-463a5689f5be"
      },
      "outputs": [
        {
          "data": {
            "text/plain": [
              "array([[ 1.4],\n",
              "       [-1.2],\n",
              "       [-3.2]])"
            ]
          },
          "execution_count": 214,
          "metadata": {},
          "output_type": "execute_result"
        }
      ],
      "source": [
        "np.delete(np_arr1, [0,-1],axis = 1)"
      ]
    },
    {
      "cell_type": "code",
      "execution_count": null,
      "id": "2a156a86",
      "metadata": {
        "id": "2a156a86",
        "outputId": "4d5f4ab5-6cdc-4bc2-cc9c-73887e3d122e"
      },
      "outputs": [
        {
          "data": {
            "text/plain": [
              "array([[ 4.7,  1.4, -4.6],\n",
              "       [ 2.6, -1.2, -2. ],\n",
              "       [ 6.6, -3.2,  4.9]])"
            ]
          },
          "execution_count": 217,
          "metadata": {},
          "output_type": "execute_result"
        }
      ],
      "source": [
        "np_arr1"
      ]
    },
    {
      "cell_type": "code",
      "execution_count": null,
      "id": "41080e72",
      "metadata": {
        "id": "41080e72",
        "outputId": "bf4c6b79-5990-447d-d74b-ca7a7b316c2a"
      },
      "outputs": [
        {
          "data": {
            "text/plain": [
              "array([[-1.2, -2. ],\n",
              "       [-3.2,  4.9]])"
            ]
          },
          "execution_count": 225,
          "metadata": {},
          "output_type": "execute_result"
        }
      ],
      "source": [
        "np.delete(np.delete(np_arr1, 0, axis = 0), 0, axis = 1)"
      ]
    },
    {
      "cell_type": "code",
      "execution_count": null,
      "id": "786bc853",
      "metadata": {
        "id": "786bc853",
        "outputId": "e4039b39-3253-4f5e-b69f-a3a6318eb382"
      },
      "outputs": [
        {
          "data": {
            "text/plain": [
              "[2, 5, 7, None, '', 34, 56, False, 60, 0, False, True, -50, None, 40, 60, None]"
            ]
          },
          "execution_count": 226,
          "metadata": {},
          "output_type": "execute_result"
        }
      ],
      "source": [
        "lst"
      ]
    },
    {
      "cell_type": "code",
      "execution_count": null,
      "id": "d1df287e",
      "metadata": {
        "id": "d1df287e"
      },
      "outputs": [],
      "source": [
        "lst.append(7)"
      ]
    },
    {
      "cell_type": "code",
      "execution_count": null,
      "id": "2651f2ed",
      "metadata": {
        "id": "2651f2ed"
      },
      "outputs": [],
      "source": [
        "lst.append(5)"
      ]
    },
    {
      "cell_type": "code",
      "execution_count": null,
      "id": "7bcc79bb",
      "metadata": {
        "id": "7bcc79bb"
      },
      "outputs": [],
      "source": [
        "lst.extend([5,6,7,8,3,5,7,0,7])"
      ]
    },
    {
      "cell_type": "code",
      "execution_count": null,
      "id": "e4d323bf",
      "metadata": {
        "id": "e4d323bf",
        "outputId": "942d1c6b-686f-45ea-ff48-f2e5c2ed4f66"
      },
      "outputs": [
        {
          "name": "stdout",
          "output_type": "stream",
          "text": [
            "[2, 5, 7, None, '', 34, 56, False, 60, 0, False, True, -50, None, 40, 60, None, 7, 5, 5, 6, 7, 8, 3, 5, 7, 0, 7]\n"
          ]
        }
      ],
      "source": [
        "print(lst)"
      ]
    },
    {
      "cell_type": "code",
      "execution_count": null,
      "id": "ff1644c3",
      "metadata": {
        "id": "ff1644c3",
        "outputId": "618f8241-1a74-4cb0-be3e-14b6d9296549"
      },
      "outputs": [
        {
          "data": {
            "text/plain": [
              "2"
            ]
          },
          "execution_count": 232,
          "metadata": {},
          "output_type": "execute_result"
        }
      ],
      "source": [
        "lst.index(7)"
      ]
    },
    {
      "cell_type": "code",
      "execution_count": null,
      "id": "2a604992",
      "metadata": {
        "id": "2a604992",
        "outputId": "2ce5b22e-8f87-4ec7-fb22-4b4d3fdb4401"
      },
      "outputs": [
        {
          "data": {
            "text/plain": [
              "17"
            ]
          },
          "execution_count": 233,
          "metadata": {},
          "output_type": "execute_result"
        }
      ],
      "source": [
        "lst.index(7, 2+1)"
      ]
    },
    {
      "cell_type": "code",
      "execution_count": null,
      "id": "f32837d7",
      "metadata": {
        "id": "f32837d7",
        "outputId": "358b754c-140b-4530-b5d1-948804787817"
      },
      "outputs": [
        {
          "data": {
            "text/plain": [
              "7"
            ]
          },
          "execution_count": 234,
          "metadata": {},
          "output_type": "execute_result"
        }
      ],
      "source": [
        "lst[17]"
      ]
    },
    {
      "cell_type": "code",
      "execution_count": null,
      "id": "81a15afb",
      "metadata": {
        "id": "81a15afb",
        "outputId": "272d5c8b-e49e-4db6-c114-162b84299528"
      },
      "outputs": [
        {
          "data": {
            "text/plain": [
              "21"
            ]
          },
          "execution_count": 235,
          "metadata": {},
          "output_type": "execute_result"
        }
      ],
      "source": [
        "lst.index(7,17+1)"
      ]
    },
    {
      "cell_type": "code",
      "execution_count": null,
      "id": "83621614",
      "metadata": {
        "id": "83621614",
        "outputId": "c28fb1d8-3039-4101-810a-419a29f9300c"
      },
      "outputs": [
        {
          "name": "stdout",
          "output_type": "stream",
          "text": [
            "2 17 21 25 27 "
          ]
        }
      ],
      "source": [
        "for pair in enumerate(lst):\n",
        "    if pair[-1] == 7:\n",
        "        print(pair[0], end = \" \")\n"
      ]
    },
    {
      "cell_type": "markdown",
      "id": "6255ccba",
      "metadata": {
        "id": "6255ccba"
      },
      "source": [
        "### How to generate random numbers"
      ]
    },
    {
      "cell_type": "code",
      "execution_count": null,
      "id": "a2699d6e",
      "metadata": {
        "id": "a2699d6e",
        "outputId": "cec48b07-3c37-4b6d-d7bf-c0873cdf56fc"
      },
      "outputs": [
        {
          "data": {
            "text/plain": [
              "array([17, 37, 22, 47, 31, 93, 92, 30, 11, 10, 74, 91, 72, 76, 33, 21, 56,\n",
              "       32, 67, 62, 80, 89, 23, 66, 78, 84, 86, 75, 92, 21, 63, 15, 83, 67,\n",
              "       15, 23, 16, 92, 29, 16, 97, 83, 95, 97, 14, 72, 10, 39, 87, 67])"
            ]
          },
          "execution_count": 267,
          "metadata": {},
          "output_type": "execute_result"
        }
      ],
      "source": [
        "np.random.randint(low = 10, high = 99, size = 50)"
      ]
    },
    {
      "cell_type": "code",
      "execution_count": null,
      "id": "a1274a3b",
      "metadata": {
        "id": "a1274a3b",
        "outputId": "9f5b204f-4403-4f5f-a99c-c02165144f4e"
      },
      "outputs": [
        {
          "data": {
            "text/plain": [
              "array([0.65260198, 0.26751268, 0.10435632, 0.21925879, 0.68762057,\n",
              "       0.79200452, 0.66055733, 0.95952961, 0.83449451, 0.26859558,\n",
              "       0.17126075, 0.02366749, 0.58841728, 0.27812057, 0.25396988,\n",
              "       0.30453645, 0.21383576, 0.94616023, 0.39367805, 0.35975746])"
            ]
          },
          "execution_count": 243,
          "metadata": {},
          "output_type": "execute_result"
        }
      ],
      "source": [
        "np.random.rand(20)"
      ]
    },
    {
      "cell_type": "code",
      "execution_count": null,
      "id": "6a2eacfa",
      "metadata": {
        "id": "6a2eacfa",
        "outputId": "27f14166-6441-4509-82cc-7415a9244f57"
      },
      "outputs": [
        {
          "data": {
            "text/plain": [
              "-2.31163869350953"
            ]
          },
          "execution_count": 263,
          "metadata": {},
          "output_type": "execute_result"
        }
      ],
      "source": [
        "min(np.random.randn(100))"
      ]
    },
    {
      "cell_type": "code",
      "execution_count": null,
      "id": "f50dd661",
      "metadata": {
        "id": "f50dd661"
      },
      "outputs": [],
      "source": [
        "np.random.randn?"
      ]
    },
    {
      "cell_type": "code",
      "execution_count": null,
      "id": "e9aad71f",
      "metadata": {
        "id": "e9aad71f",
        "outputId": "a405aed9-6a07-4788-cbc0-0218484add4b"
      },
      "outputs": [
        {
          "data": {
            "text/plain": [
              "array([10, 79, 73, 12, 13, 82, 75, 33, 57, 72, 38, 78, 49, 47, 73, 83, 30,\n",
              "       82, 55, 89, 58, 32, 57, 37, 63, 71, 90, 68, 36, 94, 85, 67, 15, 43,\n",
              "       63, 54, 29, 10, 35, 68, 57, 75, 71, 90, 31, 74, 48, 29, 73, 50])"
            ]
          },
          "execution_count": 271,
          "metadata": {},
          "output_type": "execute_result"
        }
      ],
      "source": [
        "np.random.randint(low = 10, high = 99, size = 50)"
      ]
    },
    {
      "cell_type": "markdown",
      "id": "3350b74e",
      "metadata": {
        "id": "3350b74e"
      },
      "source": [
        "### Numpy Seed\n",
        "\n",
        "Whenever you are working on numbers and you are performing any x,y,z analysis on your dataset and the same data you want in your system."
      ]
    },
    {
      "cell_type": "code",
      "execution_count": null,
      "id": "85948c9b",
      "metadata": {
        "id": "85948c9b",
        "outputId": "a7e54f45-b14e-4c7e-8d39-72fcb33d16a9"
      },
      "outputs": [
        {
          "data": {
            "text/plain": [
              "array([19, 25, 74, 38, 39, 18, 83, 10, 50, 46, 26, 21, 64, 98, 72, 43, 82,\n",
              "       88, 59, 61, 64, 87, 79, 23, 35, 23, 96, 40, 40, 22, 75, 41, 67, 46,\n",
              "       37, 28, 87, 32, 33, 21, 38, 84, 98, 19, 25, 28, 90, 81, 98, 21])"
            ]
          },
          "execution_count": 277,
          "metadata": {},
          "output_type": "execute_result"
        }
      ],
      "source": [
        "np.random.seed(10)\n",
        "np.random.randint(low = 10, high = 99, size = 50)"
      ]
    },
    {
      "cell_type": "code",
      "execution_count": null,
      "id": "01b8f9bd",
      "metadata": {
        "id": "01b8f9bd",
        "outputId": "3287abe4-2b54-461d-fdd2-f6ee1865b37b"
      },
      "outputs": [
        {
          "data": {
            "text/plain": [
              "array([35, 73, 90, 91, 65, 23, 86, 43, 81, 92, 34, 58, 42, 55, 14, 44, 22,\n",
              "       11, 84, 47, 94, 91, 34, 27, 77, 80, 53, 74, 89, 33, 37, 80, 20, 67,\n",
              "       37, 54, 24, 17, 65, 89, 74, 50, 37, 15, 63, 81, 60, 69, 11, 13])"
            ]
          },
          "execution_count": 278,
          "metadata": {},
          "output_type": "execute_result"
        }
      ],
      "source": [
        "np.random.seed(11)\n",
        "np.random.randint(low = 10, high = 99, size = 50)"
      ]
    },
    {
      "cell_type": "code",
      "execution_count": null,
      "id": "2f5e541b",
      "metadata": {
        "id": "2f5e541b",
        "outputId": "d22119c4-212b-444a-aaa3-acde301e7cb0"
      },
      "outputs": [
        {
          "data": {
            "text/plain": [
              "array([61, 24, 81, 70, 30, 92, 96, 84, 84, 97, 33, 12, 31, 62, 11, 97, 39,\n",
              "       47, 11, 73, 69, 30, 42, 85, 67, 31, 98, 58, 68, 51, 69, 89, 24, 71,\n",
              "       71, 56, 71, 60, 64, 73, 12, 60, 16, 30, 82, 48, 27, 13, 98, 69])"
            ]
          },
          "execution_count": 279,
          "metadata": {},
          "output_type": "execute_result"
        }
      ],
      "source": [
        "np.random.seed(42)\n",
        "np.random.randint(low = 10, high = 99, size = 50)"
      ]
    },
    {
      "cell_type": "code",
      "execution_count": null,
      "id": "25b678c4",
      "metadata": {
        "id": "25b678c4",
        "outputId": "d09cf2b7-daa7-42db-b2a5-aee9fb86b3ad"
      },
      "outputs": [
        {
          "data": {
            "text/plain": [
              "array([18, 34, 77, 97, 89, 58, 20, 62, 63, 76, 24, 44, 34, 25, 70, 68, 26,\n",
              "       19, 96, 12, 37, 14, 41, 11, 23, 93, 14, 69, 77, 17, 59, 57, 75, 71,\n",
              "       24, 65, 81, 90, 12, 29, 73, 63, 37, 66, 40, 58, 57, 49, 48, 54])"
            ]
          },
          "execution_count": 280,
          "metadata": {},
          "output_type": "execute_result"
        }
      ],
      "source": [
        "np.random.seed(100)\n",
        "np.random.randint(low = 10, high = 99, size = 50)"
      ]
    },
    {
      "cell_type": "code",
      "execution_count": null,
      "id": "c8106a7d",
      "metadata": {
        "id": "c8106a7d",
        "outputId": "73997692-f8c7-49e1-8895-6a1dfec98e79"
      },
      "outputs": [
        {
          "data": {
            "text/plain": [
              "array([22, 63, 41, 50, 57, 12, 31, 82, 71, 27, 80, 82, 95, 64, 49, 44, 72,\n",
              "       85, 61, 86, 24, 25, 17, 82, 53, 51, 84, 44, 36, 54, 45, 87, 40, 16,\n",
              "       87, 68, 56, 98, 14, 88, 89, 92, 95, 90, 70, 65, 50, 96, 78, 37])"
            ]
          },
          "execution_count": 281,
          "metadata": {},
          "output_type": "execute_result"
        }
      ],
      "source": [
        "np.random.seed(10000)\n",
        "np.random.randint(low = 10, high = 99, size = 50)"
      ]
    },
    {
      "cell_type": "code",
      "execution_count": null,
      "id": "8eb1e6a3",
      "metadata": {
        "id": "8eb1e6a3",
        "outputId": "862261b1-7cae-4d31-d26f-be44d4e9f219"
      },
      "outputs": [
        {
          "data": {
            "text/plain": [
              "array([275, 135, 537, 330, 379])"
            ]
          },
          "execution_count": 288,
          "metadata": {},
          "output_type": "execute_result"
        }
      ],
      "source": [
        "np.random.seed(10)\n",
        "np.random.randint(10,1000,5)"
      ]
    },
    {
      "cell_type": "markdown",
      "id": "0e7c30af",
      "metadata": {
        "id": "0e7c30af"
      },
      "source": [
        "### Concatenating and Splitting arrays:"
      ]
    },
    {
      "cell_type": "code",
      "execution_count": null,
      "id": "21798fa5",
      "metadata": {
        "id": "21798fa5"
      },
      "outputs": [],
      "source": [
        "arr1 = np.array([[1,2],[-4,3],[2,-5]])"
      ]
    },
    {
      "cell_type": "code",
      "execution_count": null,
      "id": "7e063061",
      "metadata": {
        "id": "7e063061",
        "outputId": "fdcb8919-23d8-4874-8cf1-788710d1b0e1"
      },
      "outputs": [
        {
          "data": {
            "text/plain": [
              "array([[ 1,  2],\n",
              "       [-4,  3],\n",
              "       [ 2, -5]])"
            ]
          },
          "execution_count": 305,
          "metadata": {},
          "output_type": "execute_result"
        }
      ],
      "source": [
        "arr1"
      ]
    },
    {
      "cell_type": "code",
      "execution_count": null,
      "id": "1cf1b686",
      "metadata": {
        "id": "1cf1b686",
        "outputId": "c98a61f7-93e8-4c5b-c75b-5c0dfbc8632c"
      },
      "outputs": [
        {
          "data": {
            "text/plain": [
              "array([[ 1,  2],\n",
              "       [-4,  3],\n",
              "       [ 2, -5]])"
            ]
          },
          "execution_count": 308,
          "metadata": {},
          "output_type": "execute_result"
        }
      ],
      "source": [
        "arr2 = np.array([[1,2],[-4,3],[2,-5]])\n",
        "arr2"
      ]
    },
    {
      "cell_type": "code",
      "execution_count": null,
      "id": "784f8089",
      "metadata": {
        "id": "784f8089",
        "outputId": "8eb7dbf9-67dc-4031-9a34-5b27513f1222"
      },
      "outputs": [
        {
          "data": {
            "text/plain": [
              "array([[ 1,  2],\n",
              "       [-4,  3],\n",
              "       [ 2, -5],\n",
              "       [ 1,  2],\n",
              "       [-4,  3],\n",
              "       [ 2, -5]])"
            ]
          },
          "execution_count": 307,
          "metadata": {},
          "output_type": "execute_result"
        }
      ],
      "source": [
        "np.concatenate((arr1,arr2))"
      ]
    },
    {
      "cell_type": "code",
      "execution_count": null,
      "id": "3807ba51",
      "metadata": {
        "id": "3807ba51",
        "outputId": "15285632-e180-4ac2-9785-d266494b3ff4"
      },
      "outputs": [
        {
          "data": {
            "text/plain": [
              "array([[ 1,  2],\n",
              "       [-4,  3],\n",
              "       [ 2, -5],\n",
              "       [ 1,  2],\n",
              "       [-4,  3],\n",
              "       [ 2, -5]])"
            ]
          },
          "execution_count": 309,
          "metadata": {},
          "output_type": "execute_result"
        }
      ],
      "source": [
        "np.concatenate((arr1,arr2), axis = 0)"
      ]
    },
    {
      "cell_type": "code",
      "execution_count": null,
      "id": "78d3b7b2",
      "metadata": {
        "id": "78d3b7b2",
        "outputId": "1142af3e-2e63-4ea0-8731-ab4292db9858"
      },
      "outputs": [
        {
          "data": {
            "text/plain": [
              "array([[ 1,  2,  1,  2],\n",
              "       [-4,  3, -4,  3],\n",
              "       [ 2, -5,  2, -5]])"
            ]
          },
          "execution_count": 310,
          "metadata": {},
          "output_type": "execute_result"
        }
      ],
      "source": [
        "np.concatenate((arr1,arr2), axis = 1)"
      ]
    },
    {
      "cell_type": "code",
      "execution_count": null,
      "id": "f7859c8e",
      "metadata": {
        "id": "f7859c8e",
        "outputId": "d86ad4ed-170d-40c2-a2cb-63220030820e"
      },
      "outputs": [
        {
          "data": {
            "text/plain": [
              "array([[ 1,  2,  1,  2],\n",
              "       [-4,  3, -4,  3],\n",
              "       [ 2, -5,  2, -5]])"
            ]
          },
          "execution_count": 311,
          "metadata": {},
          "output_type": "execute_result"
        }
      ],
      "source": [
        "arr3 = np.concatenate((arr1,arr2), axis = 1)\n",
        "arr3"
      ]
    },
    {
      "cell_type": "code",
      "execution_count": null,
      "id": "f9e58978",
      "metadata": {
        "id": "f9e58978",
        "outputId": "64d29f2d-dee7-4029-97c1-08974a53b82e"
      },
      "outputs": [
        {
          "data": {
            "text/plain": [
              "[array([[1, 2, 1, 2]]),\n",
              " array([[-4,  3, -4,  3],\n",
              "        [ 2, -5,  2, -5]])]"
            ]
          },
          "execution_count": 313,
          "metadata": {},
          "output_type": "execute_result"
        }
      ],
      "source": [
        "np.split(ary = arr3, indices_or_sections=[1])"
      ]
    },
    {
      "cell_type": "markdown",
      "id": "c8c68649",
      "metadata": {
        "id": "c8c68649"
      },
      "source": [
        "### Arithematic Operations:"
      ]
    },
    {
      "cell_type": "code",
      "execution_count": null,
      "id": "f5ec363c",
      "metadata": {
        "id": "f5ec363c"
      },
      "outputs": [],
      "source": [
        "revenue_nov = np.array([3485.09, 2784.89, 1930.80])\n",
        "revenue_dec = np.array([4859.90,1800.00,4500.50])"
      ]
    },
    {
      "cell_type": "code",
      "execution_count": null,
      "id": "8c187848",
      "metadata": {
        "id": "8c187848",
        "outputId": "dd5ba858-5a42-4687-f742-4ec4e8c8963f"
      },
      "outputs": [
        {
          "data": {
            "text/plain": [
              "array([8344.99, 4584.89, 6431.3 ])"
            ]
          },
          "execution_count": 315,
          "metadata": {},
          "output_type": "execute_result"
        }
      ],
      "source": [
        "revenue_nov + revenue_dec"
      ]
    },
    {
      "cell_type": "code",
      "execution_count": null,
      "id": "04663a46",
      "metadata": {
        "id": "04663a46"
      },
      "outputs": [],
      "source": [
        "total_revenue = revenue_nov + revenue_dec"
      ]
    },
    {
      "cell_type": "code",
      "execution_count": null,
      "id": "8290ac3c",
      "metadata": {
        "id": "8290ac3c",
        "outputId": "27aa0e51-a4dd-4049-a1cd-67f311c86760"
      },
      "outputs": [
        {
          "data": {
            "text/plain": [
              "array([8344.99, 4584.89, 6431.3 ])"
            ]
          },
          "execution_count": 317,
          "metadata": {},
          "output_type": "execute_result"
        }
      ],
      "source": [
        "total_revenue"
      ]
    },
    {
      "cell_type": "code",
      "execution_count": null,
      "id": "fff05a40",
      "metadata": {
        "id": "fff05a40",
        "outputId": "1561a6ce-b5da-42b1-bc37-faa5ba8f7754"
      },
      "outputs": [
        {
          "data": {
            "text/plain": [
              "array([3535.09, 2834.89, 1980.8 ])"
            ]
          },
          "execution_count": 318,
          "metadata": {},
          "output_type": "execute_result"
        }
      ],
      "source": [
        "revenue_nov + 50"
      ]
    },
    {
      "cell_type": "code",
      "execution_count": null,
      "id": "1bb2ab88",
      "metadata": {
        "id": "1bb2ab88",
        "outputId": "ae36ff92-1548-4288-e3c6-35ef2cae3060"
      },
      "outputs": [
        {
          "data": {
            "text/plain": [
              "array([3435.09, 2734.89, 1880.8 ])"
            ]
          },
          "execution_count": 319,
          "metadata": {},
          "output_type": "execute_result"
        }
      ],
      "source": [
        "revenue_nov - 50"
      ]
    },
    {
      "cell_type": "code",
      "execution_count": null,
      "id": "394221de",
      "metadata": {
        "id": "394221de",
        "outputId": "2ac005c7-b196-4598-d739-2d2871208941"
      },
      "outputs": [
        {
          "data": {
            "text/plain": [
              "array([1742.545, 1392.445,  965.4  ])"
            ]
          },
          "execution_count": 320,
          "metadata": {},
          "output_type": "execute_result"
        }
      ],
      "source": [
        "revenue_nov / 2"
      ]
    },
    {
      "cell_type": "code",
      "execution_count": null,
      "id": "386b288d",
      "metadata": {
        "id": "386b288d",
        "outputId": "32a07e92-ce35-4062-d8a1-fb5e681de847"
      },
      "outputs": [
        {
          "data": {
            "text/plain": [
              "array([6970.18, 5569.78, 3861.6 ])"
            ]
          },
          "execution_count": 321,
          "metadata": {},
          "output_type": "execute_result"
        }
      ],
      "source": [
        "revenue_nov * 2"
      ]
    },
    {
      "cell_type": "code",
      "execution_count": null,
      "id": "20a13b33",
      "metadata": {
        "id": "20a13b33"
      },
      "outputs": [],
      "source": [
        "v1 = np.array([[5,-4],[-3,2]])\n",
        "v2 = np.array([[3,8],[-6,0]])"
      ]
    },
    {
      "cell_type": "code",
      "execution_count": null,
      "id": "9d89399e",
      "metadata": {
        "id": "9d89399e",
        "outputId": "d45e4785-2178-44c0-bfc2-9341e0fd7e9d"
      },
      "outputs": [
        {
          "data": {
            "text/plain": [
              "array([[ 5, -4],\n",
              "       [-3,  2]])"
            ]
          },
          "execution_count": 323,
          "metadata": {},
          "output_type": "execute_result"
        }
      ],
      "source": [
        "v1"
      ]
    },
    {
      "cell_type": "code",
      "execution_count": null,
      "id": "4d4e6e64",
      "metadata": {
        "id": "4d4e6e64",
        "outputId": "bdb9d635-1246-4bcc-dcd3-69dc75fe5da3"
      },
      "outputs": [
        {
          "data": {
            "text/plain": [
              "array([[ 3,  8],\n",
              "       [-6,  0]])"
            ]
          },
          "execution_count": 324,
          "metadata": {},
          "output_type": "execute_result"
        }
      ],
      "source": [
        "v2"
      ]
    },
    {
      "cell_type": "code",
      "execution_count": null,
      "id": "ca04f41c",
      "metadata": {
        "id": "ca04f41c",
        "outputId": "548ca898-8bd0-451f-a91c-3d9e7364fd4d"
      },
      "outputs": [
        {
          "data": {
            "text/plain": [
              "array([[ 8,  4],\n",
              "       [-9,  2]])"
            ]
          },
          "execution_count": 325,
          "metadata": {},
          "output_type": "execute_result"
        }
      ],
      "source": [
        "v1 + v2"
      ]
    },
    {
      "cell_type": "code",
      "execution_count": null,
      "id": "9978fbf4",
      "metadata": {
        "id": "9978fbf4",
        "outputId": "20a5ed10-2973-4abd-ceed-553c5c44aa81"
      },
      "outputs": [
        {
          "data": {
            "text/plain": [
              "array([[  2, -12],\n",
              "       [  3,   2]])"
            ]
          },
          "execution_count": 326,
          "metadata": {},
          "output_type": "execute_result"
        }
      ],
      "source": [
        "v1 - v2"
      ]
    },
    {
      "cell_type": "code",
      "execution_count": null,
      "id": "9b2d3558",
      "metadata": {
        "id": "9b2d3558",
        "outputId": "2e3ff2fb-d365-4a80-c4b9-17615cea4402"
      },
      "outputs": [
        {
          "data": {
            "text/plain": [
              "array([[ 5, -4],\n",
              "       [-3,  2]])"
            ]
          },
          "execution_count": 327,
          "metadata": {},
          "output_type": "execute_result"
        }
      ],
      "source": [
        "v1"
      ]
    },
    {
      "cell_type": "code",
      "execution_count": null,
      "id": "cf39173a",
      "metadata": {
        "id": "cf39173a"
      },
      "outputs": [],
      "source": [
        "sum_arr = v1 + 8"
      ]
    },
    {
      "cell_type": "code",
      "execution_count": null,
      "id": "28ae7a45",
      "metadata": {
        "id": "28ae7a45",
        "outputId": "ae5cf02b-c76f-43bd-a3de-5f5273da2a18"
      },
      "outputs": [
        {
          "data": {
            "text/plain": [
              "array([16,  7])"
            ]
          },
          "execution_count": 332,
          "metadata": {},
          "output_type": "execute_result"
        }
      ],
      "source": [
        "sum_arr[0] + 3\n"
      ]
    },
    {
      "cell_type": "code",
      "execution_count": null,
      "id": "61ee84f6",
      "metadata": {
        "id": "61ee84f6",
        "outputId": "459e3b10-b639-4d36-87bb-c121909fc87d"
      },
      "outputs": [
        {
          "data": {
            "text/plain": [
              "array([[13,  4],\n",
              "       [ 5, 10]])"
            ]
          },
          "execution_count": 333,
          "metadata": {},
          "output_type": "execute_result"
        }
      ],
      "source": [
        "sum_arr"
      ]
    },
    {
      "cell_type": "code",
      "execution_count": null,
      "id": "7294585f",
      "metadata": {
        "id": "7294585f",
        "outputId": "c7f62707-3c20-4ef7-fe37-17d0b8278ef8"
      },
      "outputs": [
        {
          "data": {
            "text/plain": [
              "array([[16,  7],\n",
              "       [ 5, 10]])"
            ]
          },
          "execution_count": 334,
          "metadata": {},
          "output_type": "execute_result"
        }
      ],
      "source": [
        "sum_arr[0] = sum_arr[0] + 3\n",
        "sum_arr"
      ]
    },
    {
      "cell_type": "markdown",
      "id": "435b8844",
      "metadata": {
        "id": "435b8844"
      },
      "source": [
        "### Numpy provides set operations  as follows:\n",
        "\n",
        "* setdiff1d\n",
        "* intersection1d"
      ]
    },
    {
      "cell_type": "code",
      "execution_count": null,
      "id": "9bad836d",
      "metadata": {
        "id": "9bad836d"
      },
      "outputs": [],
      "source": [
        "x = np.array([4,5,6,7,8,9,0])\n",
        "y = np.array([4,5,1,8,12])"
      ]
    },
    {
      "cell_type": "code",
      "execution_count": null,
      "id": "4b1ee520",
      "metadata": {
        "id": "4b1ee520",
        "outputId": "7036e794-6401-471e-baca-e22f334d0570"
      },
      "outputs": [
        {
          "data": {
            "text/plain": [
              "array([0, 6, 7, 9])"
            ]
          },
          "execution_count": 336,
          "metadata": {},
          "output_type": "execute_result"
        }
      ],
      "source": [
        "np.setdiff1d(x,y)"
      ]
    },
    {
      "cell_type": "code",
      "execution_count": null,
      "id": "2cc0141b",
      "metadata": {
        "id": "2cc0141b",
        "outputId": "533c66d7-30c6-4a5d-c192-a102daba3d26"
      },
      "outputs": [
        {
          "data": {
            "text/plain": [
              "array([ 1, 12])"
            ]
          },
          "execution_count": 337,
          "metadata": {},
          "output_type": "execute_result"
        }
      ],
      "source": [
        "np.setdiff1d(y,x)"
      ]
    },
    {
      "cell_type": "code",
      "execution_count": null,
      "id": "6392b14a",
      "metadata": {
        "id": "6392b14a",
        "outputId": "f0de5101-b086-429f-9fff-412a143dc277"
      },
      "outputs": [
        {
          "data": {
            "text/plain": [
              "array([4, 5, 8])"
            ]
          },
          "execution_count": 338,
          "metadata": {},
          "output_type": "execute_result"
        }
      ],
      "source": [
        "np.intersect1d(x,y)"
      ]
    },
    {
      "cell_type": "code",
      "execution_count": null,
      "id": "1e8eaa5f",
      "metadata": {
        "id": "1e8eaa5f",
        "outputId": "36f20a3c-2dee-4553-996f-af7e1eb1a51e"
      },
      "outputs": [
        {
          "data": {
            "text/plain": [
              "array([4, 5, 6, 7, 8, 9, 0])"
            ]
          },
          "execution_count": 340,
          "metadata": {},
          "output_type": "execute_result"
        }
      ],
      "source": [
        "x"
      ]
    },
    {
      "cell_type": "code",
      "execution_count": null,
      "id": "6eaba579",
      "metadata": {
        "id": "6eaba579",
        "outputId": "12f895ae-52ad-43fc-90cc-cb4007fa86a5"
      },
      "outputs": [
        {
          "data": {
            "text/plain": [
              "array([ 4,  5,  1,  8, 12])"
            ]
          },
          "execution_count": 341,
          "metadata": {},
          "output_type": "execute_result"
        }
      ],
      "source": [
        "y"
      ]
    },
    {
      "cell_type": "code",
      "execution_count": null,
      "id": "2e0addb8",
      "metadata": {
        "id": "2e0addb8",
        "outputId": "ebf1789b-4580-45d9-9b7d-65a0020fb2c3"
      },
      "outputs": [
        {
          "data": {
            "text/plain": [
              "(array([4, 5, 8]),\n",
              " array([0, 1, 4], dtype=int64),\n",
              " array([0, 1, 3], dtype=int64))"
            ]
          },
          "execution_count": 339,
          "metadata": {},
          "output_type": "execute_result"
        }
      ],
      "source": [
        "np.intersect1d(x,y, return_indices=True)"
      ]
    },
    {
      "cell_type": "markdown",
      "id": "4f2c3087",
      "metadata": {
        "id": "4f2c3087"
      },
      "source": [
        "### Mathematical and Statistical Function in numpy"
      ]
    },
    {
      "cell_type": "code",
      "execution_count": null,
      "id": "90c5d3b6",
      "metadata": {
        "id": "90c5d3b6"
      },
      "outputs": [],
      "source": [
        "x1 = np.array([1,2,3])\n",
        "x2 = np.array([2,2,2])"
      ]
    },
    {
      "cell_type": "code",
      "execution_count": null,
      "id": "7e52c778",
      "metadata": {
        "id": "7e52c778",
        "outputId": "eb22f2b8-1602-44ef-e3e4-5f0e87640504"
      },
      "outputs": [
        {
          "data": {
            "text/plain": [
              "array([3, 4, 5])"
            ]
          },
          "execution_count": 343,
          "metadata": {},
          "output_type": "execute_result"
        }
      ],
      "source": [
        "np.add(x1,x2)"
      ]
    },
    {
      "cell_type": "code",
      "execution_count": null,
      "id": "eac434b6",
      "metadata": {
        "id": "eac434b6",
        "outputId": "6cf20a23-b66a-4c56-ef80-854845088ebb"
      },
      "outputs": [
        {
          "data": {
            "text/plain": [
              "array([-1,  0,  1])"
            ]
          },
          "execution_count": 344,
          "metadata": {},
          "output_type": "execute_result"
        }
      ],
      "source": [
        "np.subtract(x1,x2)"
      ]
    },
    {
      "cell_type": "code",
      "execution_count": null,
      "id": "542781d1",
      "metadata": {
        "id": "542781d1",
        "outputId": "b3e4075c-7b17-4043-9387-375ccd58f273"
      },
      "outputs": [
        {
          "data": {
            "text/plain": [
              "array([2, 4, 6])"
            ]
          },
          "execution_count": 345,
          "metadata": {},
          "output_type": "execute_result"
        }
      ],
      "source": [
        "np.multiply(x1,x2)"
      ]
    },
    {
      "cell_type": "code",
      "execution_count": null,
      "id": "0c89dd03",
      "metadata": {
        "id": "0c89dd03",
        "outputId": "b56ad837-6045-4591-b636-c1fd8c24458a"
      },
      "outputs": [
        {
          "data": {
            "text/plain": [
              "array([1, 4, 9], dtype=int32)"
            ]
          },
          "execution_count": 346,
          "metadata": {},
          "output_type": "execute_result"
        }
      ],
      "source": [
        "np.power(x1,2)"
      ]
    },
    {
      "cell_type": "code",
      "execution_count": null,
      "id": "aa1f6db5",
      "metadata": {
        "id": "aa1f6db5",
        "outputId": "9dc179f1-33a3-4771-afc4-5f0334a505e5"
      },
      "outputs": [
        {
          "data": {
            "text/plain": [
              "array([1.41421356, 1.41421356, 1.41421356])"
            ]
          },
          "execution_count": 347,
          "metadata": {},
          "output_type": "execute_result"
        }
      ],
      "source": [
        "np.sqrt(x2)"
      ]
    },
    {
      "cell_type": "code",
      "execution_count": null,
      "id": "b1f2d1bb",
      "metadata": {
        "id": "b1f2d1bb",
        "outputId": "18609251-6703-4783-aa79-60133e73c34b"
      },
      "outputs": [
        {
          "data": {
            "text/plain": [
              "array([1, 2, 3])"
            ]
          },
          "execution_count": 348,
          "metadata": {},
          "output_type": "execute_result"
        }
      ],
      "source": [
        "x1"
      ]
    },
    {
      "cell_type": "code",
      "execution_count": null,
      "id": "ca340878",
      "metadata": {
        "id": "ca340878",
        "outputId": "6235aa63-3b49-46cf-9e8c-5e183307e76f"
      },
      "outputs": [
        {
          "data": {
            "text/plain": [
              "array([2, 2, 2])"
            ]
          },
          "execution_count": 349,
          "metadata": {},
          "output_type": "execute_result"
        }
      ],
      "source": [
        "x2"
      ]
    },
    {
      "cell_type": "code",
      "execution_count": null,
      "id": "8af682e6",
      "metadata": {
        "id": "8af682e6",
        "outputId": "c70a67dc-961a-4c5c-d3fe-655972199469"
      },
      "outputs": [
        {
          "data": {
            "text/plain": [
              "(array([0, 1, 1]), array([1, 0, 1]))"
            ]
          },
          "execution_count": 350,
          "metadata": {},
          "output_type": "execute_result"
        }
      ],
      "source": [
        "np.divmod(x1,x2)"
      ]
    },
    {
      "cell_type": "code",
      "execution_count": null,
      "id": "9f209a97",
      "metadata": {
        "id": "9f209a97",
        "outputId": "7f438232-993a-4373-a7ae-8f3ef692c1ce"
      },
      "outputs": [
        {
          "data": {
            "text/plain": [
              "array([ 4,  5,  1,  8, 12])"
            ]
          },
          "execution_count": 351,
          "metadata": {},
          "output_type": "execute_result"
        }
      ],
      "source": [
        "y"
      ]
    },
    {
      "cell_type": "code",
      "execution_count": null,
      "id": "8692567d",
      "metadata": {
        "id": "8692567d"
      },
      "outputs": [],
      "source": [
        "y = np.append(y,11)"
      ]
    },
    {
      "cell_type": "code",
      "execution_count": null,
      "id": "747ac9ce",
      "metadata": {
        "id": "747ac9ce",
        "outputId": "b3cb6ba6-0147-47bc-bb5b-91eb086daa41"
      },
      "outputs": [
        {
          "data": {
            "text/plain": [
              "array([ 4,  5,  1,  8, 12, 11])"
            ]
          },
          "execution_count": 355,
          "metadata": {},
          "output_type": "execute_result"
        }
      ],
      "source": [
        "y"
      ]
    },
    {
      "cell_type": "code",
      "execution_count": null,
      "id": "5c612074",
      "metadata": {
        "id": "5c612074",
        "outputId": "c3ce68ab-b0ad-4a79-abb8-dca2ebc7d88b"
      },
      "outputs": [
        {
          "data": {
            "text/plain": [
              "array([4, 5, 6, 7, 8, 9, 0])"
            ]
          },
          "execution_count": 356,
          "metadata": {},
          "output_type": "execute_result"
        }
      ],
      "source": [
        "x"
      ]
    },
    {
      "cell_type": "code",
      "execution_count": null,
      "id": "3f51baee",
      "metadata": {
        "id": "3f51baee"
      },
      "outputs": [],
      "source": [
        "x1 = np.array([10,20,30])\n",
        "x2 = np.array([5,6,6])"
      ]
    },
    {
      "cell_type": "code",
      "execution_count": null,
      "id": "4c832d9b",
      "metadata": {
        "id": "4c832d9b",
        "outputId": "287cc69c-a2ac-4589-dac4-0f0fb3690774"
      },
      "outputs": [
        {
          "data": {
            "text/plain": [
              "(array([2, 3, 5]), array([0, 2, 0]))"
            ]
          },
          "execution_count": 359,
          "metadata": {},
          "output_type": "execute_result"
        }
      ],
      "source": [
        "np.divmod(x1,x2)"
      ]
    },
    {
      "cell_type": "code",
      "execution_count": null,
      "id": "c873628c",
      "metadata": {
        "id": "c873628c"
      },
      "outputs": [],
      "source": [
        "quotient, remainder = np.divmod(x1,x2)"
      ]
    },
    {
      "cell_type": "code",
      "execution_count": null,
      "id": "678c9d00",
      "metadata": {
        "id": "678c9d00",
        "outputId": "367489c4-5d0d-448c-db20-91592094876e"
      },
      "outputs": [
        {
          "data": {
            "text/plain": [
              "array([2, 3, 5])"
            ]
          },
          "execution_count": 361,
          "metadata": {},
          "output_type": "execute_result"
        }
      ],
      "source": [
        "quotient"
      ]
    },
    {
      "cell_type": "code",
      "execution_count": null,
      "id": "27396a39",
      "metadata": {
        "id": "27396a39",
        "outputId": "d9e07315-ffa9-4ef5-ba9f-b40089efc111"
      },
      "outputs": [
        {
          "data": {
            "text/plain": [
              "array([0, 2, 0])"
            ]
          },
          "execution_count": 362,
          "metadata": {},
          "output_type": "execute_result"
        }
      ],
      "source": [
        "remainder"
      ]
    },
    {
      "cell_type": "code",
      "execution_count": null,
      "id": "7ec1b22e",
      "metadata": {
        "id": "7ec1b22e",
        "outputId": "629c5fd8-c4df-4765-ec45-5a5a89474a7d"
      },
      "outputs": [
        {
          "data": {
            "text/plain": [
              "array([2.        , 3.33333333, 5.        ])"
            ]
          },
          "execution_count": 363,
          "metadata": {},
          "output_type": "execute_result"
        }
      ],
      "source": [
        "np.divide(x1,x2)"
      ]
    },
    {
      "cell_type": "code",
      "execution_count": null,
      "id": "d864aef9",
      "metadata": {
        "id": "d864aef9",
        "outputId": "d9a2201b-40b8-468c-b38e-2e83e028c5e0"
      },
      "outputs": [
        {
          "data": {
            "text/plain": [
              "array([2, 3, 5])"
            ]
          },
          "execution_count": 364,
          "metadata": {},
          "output_type": "execute_result"
        }
      ],
      "source": [
        "np.floor_divide(x1,x2)"
      ]
    },
    {
      "cell_type": "code",
      "execution_count": null,
      "id": "ad47ada4",
      "metadata": {
        "id": "ad47ada4",
        "outputId": "9c4fff92-fb2f-4c08-81ca-623fa258d96c"
      },
      "outputs": [
        {
          "data": {
            "text/plain": [
              "array([0, 2, 0])"
            ]
          },
          "execution_count": 365,
          "metadata": {},
          "output_type": "execute_result"
        }
      ],
      "source": [
        "np.mod(x1,x2)"
      ]
    },
    {
      "cell_type": "code",
      "execution_count": null,
      "id": "c963cc51",
      "metadata": {
        "id": "c963cc51"
      },
      "outputs": [],
      "source": [
        "arr = np.random.randint(10,100,40)"
      ]
    },
    {
      "cell_type": "code",
      "execution_count": null,
      "id": "f8c0c4f5",
      "metadata": {
        "id": "f8c0c4f5",
        "outputId": "0c8b44a3-21fc-48e1-9318-1100ed812242"
      },
      "outputs": [
        {
          "data": {
            "text/plain": [
              "array([33, 21, 38, 84, 98, 19, 25, 28, 90, 81, 98, 21, 27, 56, 17, 85, 38,\n",
              "       43, 94, 98, 54, 15, 14, 81, 98, 98, 60, 64, 44, 25, 87, 98, 25, 16,\n",
              "       95, 32, 21, 22, 72, 67])"
            ]
          },
          "execution_count": 381,
          "metadata": {},
          "output_type": "execute_result"
        }
      ],
      "source": [
        "arr"
      ]
    },
    {
      "cell_type": "code",
      "execution_count": null,
      "id": "42b03ec7",
      "metadata": {
        "id": "42b03ec7",
        "outputId": "882e2784-7a95-460b-96e6-be442d331ccf"
      },
      "outputs": [
        {
          "data": {
            "text/plain": [
              "54.55"
            ]
          },
          "execution_count": 382,
          "metadata": {},
          "output_type": "execute_result"
        }
      ],
      "source": [
        "np.mean(arr)"
      ]
    },
    {
      "cell_type": "code",
      "execution_count": null,
      "id": "bd076b5b",
      "metadata": {
        "id": "bd076b5b",
        "outputId": "a4677717-b9cf-466e-aa71-84fab1c26ed0"
      },
      "outputs": [
        {
          "data": {
            "text/plain": [
              "2182"
            ]
          },
          "execution_count": 383,
          "metadata": {},
          "output_type": "execute_result"
        }
      ],
      "source": [
        "np.sum(arr)"
      ]
    },
    {
      "cell_type": "code",
      "execution_count": null,
      "id": "7c5a34e0",
      "metadata": {
        "id": "7c5a34e0",
        "outputId": "5db96c05-659b-45b0-f8cc-6292b74709d0"
      },
      "outputs": [
        {
          "data": {
            "text/plain": [
              "54.55"
            ]
          },
          "execution_count": 384,
          "metadata": {},
          "output_type": "execute_result"
        }
      ],
      "source": [
        "np.average(arr)"
      ]
    },
    {
      "cell_type": "code",
      "execution_count": null,
      "id": "22c11f26",
      "metadata": {
        "id": "22c11f26",
        "outputId": "600be4e5-4aad-41c4-c699-68ee63c4babf"
      },
      "outputs": [
        {
          "data": {
            "text/plain": [
              "30.926485412991887"
            ]
          },
          "execution_count": 385,
          "metadata": {},
          "output_type": "execute_result"
        }
      ],
      "source": [
        "np.std(arr)"
      ]
    },
    {
      "cell_type": "code",
      "execution_count": null,
      "id": "dd237958",
      "metadata": {
        "id": "dd237958",
        "outputId": "94664202-ee51-4e07-9dd0-d724fd88d03a"
      },
      "outputs": [
        {
          "data": {
            "text/plain": [
              "49.0"
            ]
          },
          "execution_count": 386,
          "metadata": {},
          "output_type": "execute_result"
        }
      ],
      "source": [
        "np.median(arr)"
      ]
    },
    {
      "cell_type": "code",
      "execution_count": null,
      "id": "7a962cb3",
      "metadata": {
        "id": "7a962cb3",
        "outputId": "16f92620-dd42-4834-a62d-bb341b972842"
      },
      "outputs": [
        {
          "data": {
            "text/plain": [
              "14.0975"
            ]
          },
          "execution_count": 387,
          "metadata": {},
          "output_type": "execute_result"
        }
      ],
      "source": [
        "np.percentile(arr,0.25)"
      ]
    },
    {
      "cell_type": "code",
      "execution_count": null,
      "id": "0b7a9024",
      "metadata": {
        "id": "0b7a9024",
        "outputId": "237a3ece-420e-45c3-94cf-0c90facbedfb"
      },
      "outputs": [
        {
          "name": "stdout",
          "output_type": "stream",
          "text": [
            "[33 21 38 84 98 19 25 28 90 81 98 21 27 56 17 85 38 43 94 98 54 15 14 81\n",
            " 98 98 60 64 44 25 87 98 25 16 95 32 21 22 72 67]\n"
          ]
        }
      ],
      "source": [
        "print(arr)"
      ]
    },
    {
      "cell_type": "code",
      "execution_count": null,
      "id": "5f6e4147",
      "metadata": {
        "id": "5f6e4147"
      },
      "outputs": [],
      "source": [
        "arr1 = np.array([4,np.nan,5,6,np.nan,5,10,np.nan])"
      ]
    },
    {
      "cell_type": "code",
      "execution_count": null,
      "id": "76a919b3",
      "metadata": {
        "id": "76a919b3",
        "outputId": "d0fab55f-f13d-48dd-ed15-1fca5a08a74d"
      },
      "outputs": [
        {
          "data": {
            "text/plain": [
              "array([ 4., nan,  5.,  6., nan,  5., 10., nan])"
            ]
          },
          "execution_count": 401,
          "metadata": {},
          "output_type": "execute_result"
        }
      ],
      "source": [
        "arr1"
      ]
    },
    {
      "cell_type": "code",
      "execution_count": null,
      "id": "be8c717c",
      "metadata": {
        "id": "be8c717c",
        "outputId": "e844cb4d-751e-4da2-b8d5-2b2b9287efe0"
      },
      "outputs": [
        {
          "data": {
            "text/plain": [
              "nan"
            ]
          },
          "execution_count": 402,
          "metadata": {},
          "output_type": "execute_result"
        }
      ],
      "source": [
        "sum(arr)"
      ]
    },
    {
      "cell_type": "code",
      "execution_count": null,
      "id": "44b5a11d",
      "metadata": {
        "id": "44b5a11d",
        "outputId": "04530d57-a1a8-4b37-86a7-32df83618db2"
      },
      "outputs": [
        {
          "data": {
            "text/plain": [
              "10.0"
            ]
          },
          "execution_count": 403,
          "metadata": {},
          "output_type": "execute_result"
        }
      ],
      "source": [
        "max(arr)"
      ]
    },
    {
      "cell_type": "code",
      "execution_count": null,
      "id": "480c33ff",
      "metadata": {
        "id": "480c33ff",
        "outputId": "f34244e2-2fdc-4c6a-bf2d-1594aba6eeee"
      },
      "outputs": [
        {
          "data": {
            "text/plain": [
              "4.0"
            ]
          },
          "execution_count": 404,
          "metadata": {},
          "output_type": "execute_result"
        }
      ],
      "source": [
        "min(arr)"
      ]
    },
    {
      "cell_type": "code",
      "execution_count": null,
      "id": "3b0cdb7d",
      "metadata": {
        "id": "3b0cdb7d",
        "outputId": "2f2057e8-4430-4513-8ca1-11e82dc4601b"
      },
      "outputs": [
        {
          "data": {
            "text/plain": [
              "nan"
            ]
          },
          "execution_count": 405,
          "metadata": {},
          "output_type": "execute_result"
        }
      ],
      "source": [
        "np.mean(arr1)"
      ]
    },
    {
      "cell_type": "code",
      "execution_count": null,
      "id": "4716fefb",
      "metadata": {
        "id": "4716fefb",
        "outputId": "e9aa16be-1416-44fe-aee6-6e8058f9323b"
      },
      "outputs": [
        {
          "data": {
            "text/plain": [
              "nan"
            ]
          },
          "execution_count": 406,
          "metadata": {},
          "output_type": "execute_result"
        }
      ],
      "source": [
        "np.std(arr1)"
      ]
    },
    {
      "cell_type": "code",
      "execution_count": null,
      "id": "fb973c46",
      "metadata": {
        "id": "fb973c46",
        "outputId": "16dfa67d-bdf2-477c-c5b7-00955f08efde"
      },
      "outputs": [
        {
          "data": {
            "text/plain": [
              "array([ 4.,  5.,  6., nan,  5., 10., nan])"
            ]
          },
          "execution_count": 407,
          "metadata": {},
          "output_type": "execute_result"
        }
      ],
      "source": [
        "arr"
      ]
    },
    {
      "cell_type": "code",
      "execution_count": null,
      "id": "75061ef7",
      "metadata": {
        "id": "75061ef7",
        "outputId": "2c7103df-f7bb-40e4-8904-6a2792da222a"
      },
      "outputs": [
        {
          "data": {
            "text/plain": [
              "30.0"
            ]
          },
          "execution_count": 408,
          "metadata": {},
          "output_type": "execute_result"
        }
      ],
      "source": [
        "np.nansum(arr)"
      ]
    },
    {
      "cell_type": "code",
      "execution_count": null,
      "id": "9142d6a8",
      "metadata": {
        "id": "9142d6a8",
        "outputId": "cd2502de-f770-4ad1-ebb1-38760fb1d4a6"
      },
      "outputs": [
        {
          "data": {
            "text/plain": [
              "6.0"
            ]
          },
          "execution_count": 409,
          "metadata": {},
          "output_type": "execute_result"
        }
      ],
      "source": [
        "np.nanmean(arr)"
      ]
    },
    {
      "cell_type": "code",
      "execution_count": null,
      "id": "33dce9f3",
      "metadata": {
        "id": "33dce9f3",
        "outputId": "653155b0-3335-4ca9-da80-2dc5fd0ad2e8"
      },
      "outputs": [
        {
          "data": {
            "text/plain": [
              "4.01"
            ]
          },
          "execution_count": 411,
          "metadata": {},
          "output_type": "execute_result"
        }
      ],
      "source": [
        "np.nanpercentile(arr,0.25)"
      ]
    },
    {
      "cell_type": "code",
      "execution_count": null,
      "id": "d9d160e6",
      "metadata": {
        "id": "d9d160e6",
        "outputId": "03f259c1-873e-41f6-9219-86611c228967"
      },
      "outputs": [
        {
          "data": {
            "text/plain": [
              "10.0"
            ]
          },
          "execution_count": 412,
          "metadata": {},
          "output_type": "execute_result"
        }
      ],
      "source": [
        "np.nanmax(arr)"
      ]
    },
    {
      "cell_type": "code",
      "execution_count": null,
      "id": "1ddd41d2",
      "metadata": {
        "id": "1ddd41d2",
        "outputId": "9d061bf6-ee14-4708-e96a-63d12802aeef"
      },
      "outputs": [
        {
          "name": "stdout",
          "output_type": "stream",
          "text": [
            "All the function from numpy:  ['ALLOW_THREADS', 'BUFSIZE', 'CLIP', 'DataSource', 'ERR_CALL', 'ERR_DEFAULT', 'ERR_IGNORE', 'ERR_LOG', 'ERR_PRINT', 'ERR_RAISE', 'ERR_WARN', 'FLOATING_POINT_SUPPORT', 'FPE_DIVIDEBYZERO', 'FPE_INVALID', 'FPE_OVERFLOW', 'FPE_UNDERFLOW', 'False_', 'Inf', 'Infinity', 'MAXDIMS', 'MAY_SHARE_BOUNDS', 'MAY_SHARE_EXACT', 'NAN', 'NINF', 'NZERO', 'NaN', 'PINF', 'PZERO', 'RAISE', 'RankWarning', 'SHIFT_DIVIDEBYZERO', 'SHIFT_INVALID', 'SHIFT_OVERFLOW', 'SHIFT_UNDERFLOW', 'ScalarType', 'True_', 'UFUNC_BUFSIZE_DEFAULT', 'UFUNC_PYVALS_NAME', 'WRAP', '_CopyMode', '_NoValue', '_UFUNC_API', '_add_newdoc_ufunc', '_builtins', '_core', '_distributor_init', '_financial_names', '_get_promotion_state', '_globals', '_int_extended_msg', '_mat', '_no_nep50_warning', '_pyinstaller_hooks_dir', '_pytesttester', '_set_promotion_state', '_specific_msg', '_typing', '_using_numpy2_behavior', '_utils', 'abs', 'absolute', 'add', 'add_docstring', 'add_newdoc', 'add_newdoc_ufunc', 'all', 'allclose', 'alltrue', 'amax', 'amin', 'angle', 'any', 'append', 'apply_along_axis', 'apply_over_axes', 'arange', 'arccos', 'arccosh', 'arcsin', 'arcsinh', 'arctan', 'arctan2', 'arctanh', 'argmax', 'argmin', 'argpartition', 'argsort', 'argwhere', 'around', 'array', 'array2string', 'array_equal', 'array_equiv', 'array_repr', 'array_split', 'array_str', 'asanyarray', 'asarray', 'asarray_chkfinite', 'ascontiguousarray', 'asfarray', 'asfortranarray', 'asmatrix', 'atleast_1d', 'atleast_2d', 'atleast_3d', 'average', 'bartlett', 'base_repr', 'binary_repr', 'bincount', 'bitwise_and', 'bitwise_not', 'bitwise_or', 'bitwise_xor', 'blackman', 'block', 'bmat', 'bool_', 'broadcast', 'broadcast_arrays', 'broadcast_shapes', 'broadcast_to', 'busday_count', 'busday_offset', 'busdaycalendar', 'byte', 'byte_bounds', 'bytes_', 'c_', 'can_cast', 'cast', 'cbrt', 'cdouble', 'ceil', 'cfloat', 'char', 'character', 'chararray', 'choose', 'clip', 'clongdouble', 'clongfloat', 'column_stack', 'common_type', 'compare_chararrays', 'compat', 'complex128', 'complex64', 'complex_', 'complexfloating', 'compress', 'concatenate', 'conj', 'conjugate', 'convolve', 'copy', 'copysign', 'copyto', 'corrcoef', 'correlate', 'cos', 'cosh', 'count_nonzero', 'cov', 'cross', 'csingle', 'ctypeslib', 'cumprod', 'cumproduct', 'cumsum', 'datetime64', 'datetime_as_string', 'datetime_data', 'deg2rad', 'degrees', 'delete', 'deprecate', 'deprecate_with_doc', 'diag', 'diag_indices', 'diag_indices_from', 'diagflat', 'diagonal', 'diff', 'digitize', 'disp', 'divide', 'divmod', 'dot', 'double', 'dsplit', 'dstack', 'dtype', 'dtypes', 'e', 'ediff1d', 'einsum', 'einsum_path', 'emath', 'empty', 'empty_like', 'equal', 'errstate', 'euler_gamma', 'exceptions', 'exp', 'exp2', 'expand_dims', 'expm1', 'extract', 'eye', 'fabs', 'fastCopyAndTranspose', 'fft', 'fill_diagonal', 'find_common_type', 'finfo', 'fix', 'flatiter', 'flatnonzero', 'flexible', 'flip', 'fliplr', 'flipud', 'float16', 'float32', 'float64', 'float_', 'float_power', 'floating', 'floor', 'floor_divide', 'fmax', 'fmin', 'fmod', 'format_float_positional', 'format_float_scientific', 'format_parser', 'frexp', 'from_dlpack', 'frombuffer', 'fromfile', 'fromfunction', 'fromiter', 'frompyfunc', 'fromregex', 'fromstring', 'full', 'full_like', 'gcd', 'generic', 'genfromtxt', 'geomspace', 'get_array_wrap', 'get_include', 'get_printoptions', 'getbufsize', 'geterr', 'geterrcall', 'geterrobj', 'gradient', 'greater', 'greater_equal', 'half', 'hamming', 'hanning', 'heaviside', 'histogram', 'histogram2d', 'histogram_bin_edges', 'histogramdd', 'hsplit', 'hstack', 'hypot', 'i0', 'identity', 'iinfo', 'imag', 'in1d', 'index_exp', 'indices', 'inexact', 'inf', 'info', 'infty', 'inner', 'insert', 'int16', 'int32', 'int64', 'int8', 'int_', 'intc', 'integer', 'interp', 'intersect1d', 'intp', 'invert', 'is_busday', 'isclose', 'iscomplex', 'iscomplexobj', 'isfinite', 'isfortran', 'isin', 'isinf', 'isnan', 'isnat', 'isneginf', 'isposinf', 'isreal', 'isrealobj', 'isscalar', 'issctype', 'issubclass_', 'issubdtype', 'issubsctype', 'iterable', 'ix_', 'kaiser', 'kron', 'lcm', 'ldexp', 'left_shift', 'less', 'less_equal', 'lexsort', 'lib', 'linalg', 'linspace', 'little_endian', 'load', 'loadtxt', 'log', 'log10', 'log1p', 'log2', 'logaddexp', 'logaddexp2', 'logical_and', 'logical_not', 'logical_or', 'logical_xor', 'logspace', 'longcomplex', 'longdouble', 'longfloat', 'longlong', 'lookfor', 'ma', 'mask_indices', 'mat', 'matmul', 'matrix', 'max', 'maximum', 'maximum_sctype', 'may_share_memory', 'mean', 'median', 'memmap', 'meshgrid', 'mgrid', 'min', 'min_scalar_type', 'minimum', 'mintypecode', 'mod', 'modf', 'moveaxis', 'msort', 'multiply', 'nan', 'nan_to_num', 'nanargmax', 'nanargmin', 'nancumprod', 'nancumsum', 'nanmax', 'nanmean', 'nanmedian', 'nanmin', 'nanpercentile', 'nanprod', 'nanquantile', 'nanstd', 'nansum', 'nanvar', 'nbytes', 'ndarray', 'ndenumerate', 'ndim', 'ndindex', 'nditer', 'negative', 'nested_iters', 'newaxis', 'nextafter', 'nonzero', 'not_equal', 'numarray', 'number', 'obj2sctype', 'object_', 'ogrid', 'oldnumeric', 'ones', 'ones_like', 'outer', 'packbits', 'pad', 'partition', 'percentile', 'pi', 'piecewise', 'place', 'poly', 'poly1d', 'polyadd', 'polyder', 'polydiv', 'polyfit', 'polyint', 'polymul', 'polynomial', 'polysub', 'polyval', 'positive', 'power', 'printoptions', 'prod', 'product', 'promote_types', 'ptp', 'put', 'put_along_axis', 'putmask', 'quantile', 'r_', 'rad2deg', 'radians', 'random', 'ravel', 'ravel_multi_index', 'real', 'real_if_close', 'rec', 'recarray', 'recfromcsv', 'recfromtxt', 'reciprocal', 'record', 'remainder', 'repeat', 'require', 'reshape', 'resize', 'result_type', 'right_shift', 'rint', 'roll', 'rollaxis', 'roots', 'rot90', 'round', 'round_', 'row_stack', 's_', 'safe_eval', 'save', 'savetxt', 'savez', 'savez_compressed', 'sctype2char', 'sctypeDict', 'sctypes', 'searchsorted', 'select', 'set_numeric_ops', 'set_printoptions', 'set_string_function', 'setbufsize', 'setdiff1d', 'seterr', 'seterrcall', 'seterrobj', 'setxor1d', 'shape', 'shares_memory', 'short', 'show_config', 'show_runtime', 'sign', 'signbit', 'signedinteger', 'sin', 'sinc', 'single', 'singlecomplex', 'sinh', 'size', 'sometrue', 'sort', 'sort_complex', 'source', 'spacing', 'split', 'sqrt', 'square', 'squeeze', 'stack', 'std', 'str_', 'string_', 'subtract', 'sum', 'swapaxes', 'take', 'take_along_axis', 'tan', 'tanh', 'tensordot', 'test', 'testing', 'tile', 'timedelta64', 'trace', 'tracemalloc_domain', 'transpose', 'trapz', 'tri', 'tril', 'tril_indices', 'tril_indices_from', 'trim_zeros', 'triu', 'triu_indices', 'triu_indices_from', 'true_divide', 'trunc', 'typecodes', 'typename', 'ubyte', 'ufunc', 'uint', 'uint16', 'uint32', 'uint64', 'uint8', 'uintc', 'uintp', 'ulonglong', 'unicode_', 'union1d', 'unique', 'unpackbits', 'unravel_index', 'unsignedinteger', 'unwrap', 'ushort', 'vander', 'var', 'vdot', 'vectorize', 'version', 'void', 'vsplit', 'vstack', 'where', 'who', 'zeros', 'zeros_like']\n"
          ]
        }
      ],
      "source": [
        "print(\"All the function from numpy: \",\n",
        "     [i for i in dir(np) if \"__\" not in i])"
      ]
    },
    {
      "cell_type": "code",
      "execution_count": null,
      "id": "b516f488",
      "metadata": {
        "id": "b516f488"
      },
      "outputs": [],
      "source": [
        "# print(\"All the methods form list: \", [i for i in dir(list) if \"__\" not in i])\n",
        "# print()\n",
        "# print(\"All the methods form tuple: \", [i for i in dir(tuple) if \"__\" not in i])\n",
        "# print()\n",
        "# print(\"All the methods form set: \", [i for i in dir(set) if \"__\" not in i])\n",
        "\n",
        "# print()\n",
        "# print(\"All the methods form dict: \", [i for i in dir(dict) if \"__\" not in i])\n",
        "# print()\n",
        "# print(\"All the methods form str: \", [i for i in dir(str) if \"__\" not in i])\n"
      ]
    },
    {
      "cell_type": "code",
      "execution_count": null,
      "id": "ff0c273a",
      "metadata": {
        "id": "ff0c273a"
      },
      "outputs": [],
      "source": [
        "# print(dir(__builtins__))"
      ]
    },
    {
      "cell_type": "code",
      "execution_count": null,
      "id": "df47c5ba",
      "metadata": {
        "id": "df47c5ba",
        "outputId": "5b66f821-b31c-4c50-fd36-118d374cfc6d"
      },
      "outputs": [
        {
          "data": {
            "text/plain": [
              "array([[ 0,  1,  2,  3],\n",
              "       [ 4,  5,  6,  7],\n",
              "       [ 8,  9, 10, 11],\n",
              "       [12, 13, 14, 15]])"
            ]
          },
          "execution_count": 425,
          "metadata": {},
          "output_type": "execute_result"
        }
      ],
      "source": [
        "np.arange(16).reshape(4,4)"
      ]
    },
    {
      "cell_type": "code",
      "execution_count": null,
      "id": "e12acba3",
      "metadata": {
        "id": "e12acba3",
        "outputId": "dd291bf2-e81c-44a4-efb0-cac0232e9df3"
      },
      "outputs": [
        {
          "data": {
            "text/plain": [
              "array([[[ 0,  1,  2,  3,  4],\n",
              "        [ 5,  6,  7,  8,  9],\n",
              "        [10, 11, 12, 13, 14],\n",
              "        [15, 16, 17, 18, 19],\n",
              "        [20, 21, 22, 23, 24],\n",
              "        [25, 26, 27, 28, 29]],\n",
              "\n",
              "       [[30, 31, 32, 33, 34],\n",
              "        [35, 36, 37, 38, 39],\n",
              "        [40, 41, 42, 43, 44],\n",
              "        [45, 46, 47, 48, 49],\n",
              "        [50, 51, 52, 53, 54],\n",
              "        [55, 56, 57, 58, 59]]])"
            ]
          },
          "execution_count": 427,
          "metadata": {},
          "output_type": "execute_result"
        }
      ],
      "source": [
        "np.arange(60).reshape(2,6,5)"
      ]
    },
    {
      "cell_type": "code",
      "execution_count": null,
      "id": "5708b4b5",
      "metadata": {
        "id": "5708b4b5"
      },
      "outputs": [],
      "source": [
        "arr = np.arange(30).reshape(6,5)"
      ]
    },
    {
      "cell_type": "code",
      "execution_count": null,
      "id": "42a2f32b",
      "metadata": {
        "id": "42a2f32b",
        "outputId": "c617f270-8a31-4a18-e512-97af9986e6dc"
      },
      "outputs": [
        {
          "data": {
            "text/plain": [
              "array([[ 0,  1,  2,  3,  4],\n",
              "       [ 5,  6,  7,  8,  9],\n",
              "       [10, 11, 12, 13, 14],\n",
              "       [15, 16, 17, 18, 19],\n",
              "       [20, 21, 22, 23, 24],\n",
              "       [25, 26, 27, 28, 29]])"
            ]
          },
          "execution_count": 430,
          "metadata": {},
          "output_type": "execute_result"
        }
      ],
      "source": [
        "arr"
      ]
    },
    {
      "cell_type": "code",
      "execution_count": null,
      "id": "3796b536",
      "metadata": {
        "id": "3796b536",
        "outputId": "037bf671-c66a-4e88-cfeb-bc81543a8505"
      },
      "outputs": [
        {
          "data": {
            "text/plain": [
              "435"
            ]
          },
          "execution_count": 431,
          "metadata": {},
          "output_type": "execute_result"
        }
      ],
      "source": [
        "arr.sum()"
      ]
    },
    {
      "cell_type": "code",
      "execution_count": null,
      "id": "9cd916ef",
      "metadata": {
        "id": "9cd916ef",
        "outputId": "4570ff1d-5f78-42e6-bb39-c2e5432e2468"
      },
      "outputs": [
        {
          "data": {
            "text/plain": [
              "array([75, 81, 87, 93, 99])"
            ]
          },
          "execution_count": 432,
          "metadata": {},
          "output_type": "execute_result"
        }
      ],
      "source": [
        "arr.sum(axis=0)"
      ]
    },
    {
      "cell_type": "code",
      "execution_count": null,
      "id": "56488511",
      "metadata": {
        "id": "56488511",
        "outputId": "7731283b-d964-45d9-e602-589b0131bd31"
      },
      "outputs": [
        {
          "data": {
            "text/plain": [
              "array([ 10,  35,  60,  85, 110, 135])"
            ]
          },
          "execution_count": 433,
          "metadata": {},
          "output_type": "execute_result"
        }
      ],
      "source": [
        "arr.sum(axis=1)"
      ]
    },
    {
      "cell_type": "code",
      "execution_count": null,
      "id": "a5a0a71f",
      "metadata": {
        "id": "a5a0a71f",
        "outputId": "0e2a7be2-afd2-406e-a2e4-f3955218f03a"
      },
      "outputs": [
        {
          "data": {
            "text/plain": [
              "array([[ 0,  1,  2,  3,  4],\n",
              "       [ 5,  6,  7,  8,  9],\n",
              "       [10, 11, 12, 13, 14],\n",
              "       [15, 16, 17, 18, 19],\n",
              "       [20, 21, 22, 23, 24],\n",
              "       [25, 26, 27, 28, 29]])"
            ]
          },
          "execution_count": 435,
          "metadata": {},
          "output_type": "execute_result"
        }
      ],
      "source": [
        "arr"
      ]
    },
    {
      "cell_type": "code",
      "execution_count": null,
      "id": "fe0aa3c4",
      "metadata": {
        "id": "fe0aa3c4"
      },
      "outputs": [],
      "source": [
        "arr[0][0] = 1"
      ]
    },
    {
      "cell_type": "code",
      "execution_count": null,
      "id": "7d2ef14f",
      "metadata": {
        "id": "7d2ef14f",
        "outputId": "b6fc47c1-8a26-4da3-d8d8-6f42160a0a08"
      },
      "outputs": [
        {
          "data": {
            "text/plain": [
              "array([[ 1,  1,  2,  3,  4],\n",
              "       [ 5,  6,  7,  8,  9],\n",
              "       [10, 11, 12, 13, 14],\n",
              "       [15, 16, 17, 18, 19],\n",
              "       [20, 21, 22, 23, 24],\n",
              "       [25, 26, 27, 28, 29]])"
            ]
          },
          "execution_count": 445,
          "metadata": {},
          "output_type": "execute_result"
        }
      ],
      "source": [
        "arr"
      ]
    },
    {
      "cell_type": "code",
      "execution_count": null,
      "id": "d3dfcf9f",
      "metadata": {
        "id": "d3dfcf9f",
        "outputId": "491fadba-c441-43d4-8e79-0a20fa1ecb13"
      },
      "outputs": [
        {
          "data": {
            "text/plain": [
              "array([ 375000,  576576, 1696464, 3616704, 6664896])"
            ]
          },
          "execution_count": 447,
          "metadata": {},
          "output_type": "execute_result"
        }
      ],
      "source": [
        "arr.prod(axis=0)"
      ]
    },
    {
      "cell_type": "code",
      "execution_count": null,
      "id": "3b40dd72",
      "metadata": {
        "id": "3b40dd72",
        "outputId": "d5c88642-ca89-4f37-f280-82678b435f66"
      },
      "outputs": [
        {
          "data": {
            "text/plain": [
              "array([      24,    15120,   240240,  1395360,  5100480, 14250600])"
            ]
          },
          "execution_count": 448,
          "metadata": {},
          "output_type": "execute_result"
        }
      ],
      "source": [
        "arr.prod(axis=1)"
      ]
    },
    {
      "cell_type": "code",
      "execution_count": null,
      "id": "82606020",
      "metadata": {
        "id": "82606020",
        "outputId": "b7433c5d-89df-41a8-817d-11acce51d2e9"
      },
      "outputs": [
        {
          "data": {
            "text/plain": [
              "14.533333333333333"
            ]
          },
          "execution_count": 449,
          "metadata": {},
          "output_type": "execute_result"
        }
      ],
      "source": [
        "arr.mean()"
      ]
    },
    {
      "cell_type": "code",
      "execution_count": null,
      "id": "8cb813e9",
      "metadata": {
        "id": "8cb813e9",
        "outputId": "9f928d9b-f460-439d-86ef-36a7416fa5d0"
      },
      "outputs": [
        {
          "data": {
            "text/plain": [
              "array([12.66666667, 13.5       , 14.5       , 15.5       , 16.5       ])"
            ]
          },
          "execution_count": 450,
          "metadata": {},
          "output_type": "execute_result"
        }
      ],
      "source": [
        "arr.mean(axis=0)"
      ]
    },
    {
      "cell_type": "code",
      "execution_count": null,
      "id": "1ec1c979",
      "metadata": {
        "id": "1ec1c979",
        "outputId": "2a932031-e45e-49ea-d606-c1b44b92910f"
      },
      "outputs": [
        {
          "data": {
            "text/plain": [
              "array([ 2.2,  7. , 12. , 17. , 22. , 27. ])"
            ]
          },
          "execution_count": 451,
          "metadata": {},
          "output_type": "execute_result"
        }
      ],
      "source": [
        "arr.mean(axis=1)"
      ]
    },
    {
      "cell_type": "code",
      "execution_count": 7,
      "id": "78377b16",
      "metadata": {
        "id": "78377b16"
      },
      "outputs": [],
      "source": [
        "import pandas as pd\n",
        "import numpy as np"
      ]
    },
    {
      "cell_type": "code",
      "source": [],
      "metadata": {
        "id": "pJCFyPXypUIT"
      },
      "id": "pJCFyPXypUIT",
      "execution_count": null,
      "outputs": []
    }
  ],
  "metadata": {
    "kernelspec": {
      "display_name": "Python 3 (ipykernel)",
      "language": "python",
      "name": "python3"
    },
    "language_info": {
      "codemirror_mode": {
        "name": "ipython",
        "version": 3
      },
      "file_extension": ".py",
      "mimetype": "text/x-python",
      "name": "python",
      "nbconvert_exporter": "python",
      "pygments_lexer": "ipython3",
      "version": "3.11.2"
    },
    "colab": {
      "provenance": []
    }
  },
  "nbformat": 4,
  "nbformat_minor": 5
}