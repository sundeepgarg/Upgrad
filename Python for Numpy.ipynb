{
 "cells": [
  {
   "cell_type": "markdown",
   "id": "637a608c",
   "metadata": {},
   "source": [
    "### Introduction of Numpy:\n",
    "\n",
    "Numpy stands for numerical python. The primary use of numpy is effiecient data handling and manipulation.\n",
    "\n",
    "Numpy has inbuilt function for working with numpy object.\n"
   ]
  },
  {
   "cell_type": "code",
   "execution_count": 452,
   "id": "2e61d175",
   "metadata": {},
   "outputs": [],
   "source": [
    "import numpy as np\n",
    "import os"
   ]
  },
  {
   "cell_type": "code",
   "execution_count": 453,
   "id": "bb445065",
   "metadata": {},
   "outputs": [
    {
     "data": {
      "text/plain": [
       "'C:\\\\Users\\\\AEPAC\\\\Desktop\\\\KnowledgeHut\\\\2024\\\\2024_upGrad\\\\Dec\\\\Python for NumPy (DS)'"
      ]
     },
     "execution_count": 453,
     "metadata": {},
     "output_type": "execute_result"
    }
   ],
   "source": [
    "os.getcwd()"
   ]
  },
  {
   "cell_type": "code",
   "execution_count": 2,
   "id": "c8cc06c8",
   "metadata": {},
   "outputs": [],
   "source": [
    "np?"
   ]
  },
  {
   "cell_type": "markdown",
   "id": "72a336c4",
   "metadata": {},
   "source": [
    "### Numpy Arrays:"
   ]
  },
  {
   "cell_type": "code",
   "execution_count": 3,
   "id": "f861325e",
   "metadata": {},
   "outputs": [
    {
     "ename": "TypeError",
     "evalue": "array() missing required argument 'object' (pos 0)",
     "output_type": "error",
     "traceback": [
      "\u001b[1;31m---------------------------------------------------------------------------\u001b[0m",
      "\u001b[1;31mTypeError\u001b[0m                                 Traceback (most recent call last)",
      "Cell \u001b[1;32mIn[3], line 1\u001b[0m\n\u001b[1;32m----> 1\u001b[0m np_arr \u001b[38;5;241m=\u001b[39m \u001b[43mnp\u001b[49m\u001b[38;5;241;43m.\u001b[39;49m\u001b[43marray\u001b[49m\u001b[43m(\u001b[49m\u001b[43m)\u001b[49m\n",
      "\u001b[1;31mTypeError\u001b[0m: array() missing required argument 'object' (pos 0)"
     ]
    }
   ],
   "source": [
    "np_arr = np.array()"
   ]
  },
  {
   "cell_type": "code",
   "execution_count": 4,
   "id": "a3a181ff",
   "metadata": {},
   "outputs": [],
   "source": [
    "arr = np.array([])"
   ]
  },
  {
   "cell_type": "code",
   "execution_count": 5,
   "id": "579a2cb8",
   "metadata": {},
   "outputs": [
    {
     "data": {
      "text/plain": [
       "array([], dtype=float64)"
      ]
     },
     "execution_count": 5,
     "metadata": {},
     "output_type": "execute_result"
    }
   ],
   "source": [
    "arr"
   ]
  },
  {
   "cell_type": "code",
   "execution_count": 6,
   "id": "b9661ae0",
   "metadata": {},
   "outputs": [
    {
     "data": {
      "text/plain": [
       "numpy.ndarray"
      ]
     },
     "execution_count": 6,
     "metadata": {},
     "output_type": "execute_result"
    }
   ],
   "source": [
    "type(arr)"
   ]
  },
  {
   "cell_type": "code",
   "execution_count": 7,
   "id": "0a401944",
   "metadata": {},
   "outputs": [
    {
     "data": {
      "text/plain": [
       "0"
      ]
     },
     "execution_count": 7,
     "metadata": {},
     "output_type": "execute_result"
    }
   ],
   "source": [
    "len(arr)"
   ]
  },
  {
   "cell_type": "code",
   "execution_count": 8,
   "id": "5f79df09",
   "metadata": {},
   "outputs": [],
   "source": [
    "lst = [1,2,3,6]"
   ]
  },
  {
   "cell_type": "code",
   "execution_count": 9,
   "id": "d8bb3c3c",
   "metadata": {},
   "outputs": [],
   "source": [
    "arr = np.array(object = lst)"
   ]
  },
  {
   "cell_type": "code",
   "execution_count": 10,
   "id": "b73220e8",
   "metadata": {},
   "outputs": [
    {
     "data": {
      "text/plain": [
       "array([1, 2, 3, 6])"
      ]
     },
     "execution_count": 10,
     "metadata": {},
     "output_type": "execute_result"
    }
   ],
   "source": [
    "arr"
   ]
  },
  {
   "cell_type": "code",
   "execution_count": 11,
   "id": "1e8f54c9",
   "metadata": {},
   "outputs": [
    {
     "data": {
      "text/plain": [
       "dtype('int32')"
      ]
     },
     "execution_count": 11,
     "metadata": {},
     "output_type": "execute_result"
    }
   ],
   "source": [
    "arr.dtype"
   ]
  },
  {
   "cell_type": "code",
   "execution_count": 12,
   "id": "02291f12",
   "metadata": {},
   "outputs": [],
   "source": [
    "arr = np.array(['Apple','Orange','Banana','Watermelon','Jackfruit'])"
   ]
  },
  {
   "cell_type": "code",
   "execution_count": 13,
   "id": "c089894e",
   "metadata": {},
   "outputs": [
    {
     "data": {
      "text/plain": [
       "array(['Apple', 'Orange', 'Banana', 'Watermelon', 'Jackfruit'],\n",
       "      dtype='<U10')"
      ]
     },
     "execution_count": 13,
     "metadata": {},
     "output_type": "execute_result"
    }
   ],
   "source": [
    "arr"
   ]
  },
  {
   "cell_type": "markdown",
   "id": "e4fe6555",
   "metadata": {},
   "source": [
    "### Note:\n",
    "\n",
    "Array is the collection of similar data type."
   ]
  },
  {
   "cell_type": "code",
   "execution_count": 14,
   "id": "b73b3dea",
   "metadata": {},
   "outputs": [],
   "source": [
    "lst.index?"
   ]
  },
  {
   "cell_type": "code",
   "execution_count": 15,
   "id": "fba1bf1b",
   "metadata": {},
   "outputs": [
    {
     "data": {
      "text/plain": [
       "[1, 2, 3, 6]"
      ]
     },
     "execution_count": 15,
     "metadata": {},
     "output_type": "execute_result"
    }
   ],
   "source": [
    "lst"
   ]
  },
  {
   "cell_type": "code",
   "execution_count": 16,
   "id": "c7f13971",
   "metadata": {},
   "outputs": [
    {
     "data": {
      "text/plain": [
       "3"
      ]
     },
     "execution_count": 16,
     "metadata": {},
     "output_type": "execute_result"
    }
   ],
   "source": [
    "lst.index(6)"
   ]
  },
  {
   "cell_type": "code",
   "execution_count": 18,
   "id": "20e5fa59",
   "metadata": {},
   "outputs": [],
   "source": [
    "np.array?"
   ]
  },
  {
   "cell_type": "code",
   "execution_count": 19,
   "id": "e17eb3ad",
   "metadata": {},
   "outputs": [],
   "source": [
    "lst.append?"
   ]
  },
  {
   "cell_type": "code",
   "execution_count": 20,
   "id": "2425c8d1",
   "metadata": {},
   "outputs": [],
   "source": [
    "lst.append(\"Abhishek\")"
   ]
  },
  {
   "cell_type": "code",
   "execution_count": 21,
   "id": "17d5f3fb",
   "metadata": {},
   "outputs": [],
   "source": [
    "arr = np.array([1,5,7,8,10.25])"
   ]
  },
  {
   "cell_type": "code",
   "execution_count": 22,
   "id": "93e34542",
   "metadata": {},
   "outputs": [
    {
     "data": {
      "text/plain": [
       "array([ 1.  ,  5.  ,  7.  ,  8.  , 10.25])"
      ]
     },
     "execution_count": 22,
     "metadata": {},
     "output_type": "execute_result"
    }
   ],
   "source": [
    "arr"
   ]
  },
  {
   "cell_type": "code",
   "execution_count": 23,
   "id": "eb4d8c75",
   "metadata": {},
   "outputs": [],
   "source": [
    "arr = np.array([1,4,6,7,'ABC'])"
   ]
  },
  {
   "cell_type": "code",
   "execution_count": 24,
   "id": "57c83b0f",
   "metadata": {},
   "outputs": [
    {
     "data": {
      "text/plain": [
       "array(['1', '4', '6', '7', 'ABC'], dtype='<U11')"
      ]
     },
     "execution_count": 24,
     "metadata": {},
     "output_type": "execute_result"
    }
   ],
   "source": [
    "arr"
   ]
  },
  {
   "cell_type": "code",
   "execution_count": 25,
   "id": "c8df79aa",
   "metadata": {},
   "outputs": [],
   "source": [
    "tp = (0,5,7,9,0,4)"
   ]
  },
  {
   "cell_type": "code",
   "execution_count": 26,
   "id": "0f299b3a",
   "metadata": {},
   "outputs": [
    {
     "data": {
      "text/plain": [
       "array([0, 5, 7, 9, 0, 4])"
      ]
     },
     "execution_count": 26,
     "metadata": {},
     "output_type": "execute_result"
    }
   ],
   "source": [
    "np.array(tp)"
   ]
  },
  {
   "cell_type": "code",
   "execution_count": 27,
   "id": "5c2c8e64",
   "metadata": {},
   "outputs": [],
   "source": [
    "setA = {1.5,6,8,-8.5}"
   ]
  },
  {
   "cell_type": "code",
   "execution_count": 28,
   "id": "86ffacad",
   "metadata": {},
   "outputs": [
    {
     "data": {
      "text/plain": [
       "array({8, 1.5, 6, -8.5}, dtype=object)"
      ]
     },
     "execution_count": 28,
     "metadata": {},
     "output_type": "execute_result"
    }
   ],
   "source": [
    "np.array(setA)"
   ]
  },
  {
   "cell_type": "markdown",
   "id": "ebc93709",
   "metadata": {},
   "source": [
    "### Multidimensional arrays:"
   ]
  },
  {
   "cell_type": "code",
   "execution_count": 29,
   "id": "a9a6587d",
   "metadata": {},
   "outputs": [
    {
     "data": {
      "text/plain": [
       "[1, 2, 3, 6, 'Abhishek']"
      ]
     },
     "execution_count": 29,
     "metadata": {},
     "output_type": "execute_result"
    }
   ],
   "source": [
    "lst"
   ]
  },
  {
   "cell_type": "code",
   "execution_count": 30,
   "id": "542ba0a3",
   "metadata": {},
   "outputs": [
    {
     "data": {
      "text/plain": [
       "array([  2,   3,   4,   5, -10])"
      ]
     },
     "execution_count": 30,
     "metadata": {},
     "output_type": "execute_result"
    }
   ],
   "source": [
    "np.array([2,3,4,5,-10])"
   ]
  },
  {
   "cell_type": "code",
   "execution_count": 31,
   "id": "15984724",
   "metadata": {},
   "outputs": [],
   "source": [
    "arr_2d = np.array([[1,2,3],[4,5,6]])"
   ]
  },
  {
   "cell_type": "code",
   "execution_count": 32,
   "id": "3fee21e2",
   "metadata": {},
   "outputs": [
    {
     "data": {
      "text/plain": [
       "array([[1, 2, 3],\n",
       "       [4, 5, 6]])"
      ]
     },
     "execution_count": 32,
     "metadata": {},
     "output_type": "execute_result"
    }
   ],
   "source": [
    "arr_2d"
   ]
  },
  {
   "cell_type": "code",
   "execution_count": 33,
   "id": "b49647ba",
   "metadata": {},
   "outputs": [],
   "source": [
    "arr_3d = np.array([[[1,5],[3,4],[5,6],[7,9],[8,9]]])"
   ]
  },
  {
   "cell_type": "code",
   "execution_count": 34,
   "id": "e7487ee8",
   "metadata": {},
   "outputs": [
    {
     "data": {
      "text/plain": [
       "array([[[1, 5],\n",
       "        [3, 4],\n",
       "        [5, 6],\n",
       "        [7, 9],\n",
       "        [8, 9]]])"
      ]
     },
     "execution_count": 34,
     "metadata": {},
     "output_type": "execute_result"
    }
   ],
   "source": [
    "arr_3d"
   ]
  },
  {
   "cell_type": "code",
   "execution_count": 35,
   "id": "efa9401c",
   "metadata": {},
   "outputs": [
    {
     "data": {
      "text/plain": [
       "array(['1', '4', '6', '7', 'ABC'], dtype='<U11')"
      ]
     },
     "execution_count": 35,
     "metadata": {},
     "output_type": "execute_result"
    }
   ],
   "source": [
    "arr"
   ]
  },
  {
   "cell_type": "code",
   "execution_count": 36,
   "id": "e5908c59",
   "metadata": {},
   "outputs": [],
   "source": [
    "a = \"Priyanka\""
   ]
  },
  {
   "cell_type": "code",
   "execution_count": 37,
   "id": "77f1954b",
   "metadata": {},
   "outputs": [
    {
     "data": {
      "text/plain": [
       "1"
      ]
     },
     "execution_count": 37,
     "metadata": {},
     "output_type": "execute_result"
    }
   ],
   "source": [
    "arr.ndim"
   ]
  },
  {
   "cell_type": "code",
   "execution_count": 38,
   "id": "2ff4e103",
   "metadata": {},
   "outputs": [
    {
     "data": {
      "text/plain": [
       "array([[1, 2, 3],\n",
       "       [4, 5, 6]])"
      ]
     },
     "execution_count": 38,
     "metadata": {},
     "output_type": "execute_result"
    }
   ],
   "source": [
    "arr_2d"
   ]
  },
  {
   "cell_type": "code",
   "execution_count": 39,
   "id": "73fddcce",
   "metadata": {},
   "outputs": [
    {
     "data": {
      "text/plain": [
       "2"
      ]
     },
     "execution_count": 39,
     "metadata": {},
     "output_type": "execute_result"
    }
   ],
   "source": [
    "arr_2d.ndim"
   ]
  },
  {
   "cell_type": "code",
   "execution_count": 40,
   "id": "6a88b3da",
   "metadata": {},
   "outputs": [
    {
     "data": {
      "text/plain": [
       "3"
      ]
     },
     "execution_count": 40,
     "metadata": {},
     "output_type": "execute_result"
    }
   ],
   "source": [
    "arr_3d.ndim"
   ]
  },
  {
   "cell_type": "code",
   "execution_count": 41,
   "id": "4ef84ee9",
   "metadata": {},
   "outputs": [
    {
     "data": {
      "text/plain": [
       "array(['1', '4', '6', '7', 'ABC'], dtype='<U11')"
      ]
     },
     "execution_count": 41,
     "metadata": {},
     "output_type": "execute_result"
    }
   ],
   "source": [
    "arr"
   ]
  },
  {
   "cell_type": "code",
   "execution_count": 42,
   "id": "08a50b1b",
   "metadata": {},
   "outputs": [
    {
     "data": {
      "text/plain": [
       "(5,)"
      ]
     },
     "execution_count": 42,
     "metadata": {},
     "output_type": "execute_result"
    }
   ],
   "source": [
    "arr.shape"
   ]
  },
  {
   "cell_type": "code",
   "execution_count": 43,
   "id": "3c880f64",
   "metadata": {},
   "outputs": [
    {
     "data": {
      "text/plain": [
       "(2, 3)"
      ]
     },
     "execution_count": 43,
     "metadata": {},
     "output_type": "execute_result"
    }
   ],
   "source": [
    "arr_2d.shape"
   ]
  },
  {
   "cell_type": "code",
   "execution_count": 44,
   "id": "8e188f1b",
   "metadata": {},
   "outputs": [
    {
     "data": {
      "text/plain": [
       "(1, 5, 2)"
      ]
     },
     "execution_count": 44,
     "metadata": {},
     "output_type": "execute_result"
    }
   ],
   "source": [
    "arr_3d.shape"
   ]
  },
  {
   "cell_type": "code",
   "execution_count": 60,
   "id": "8008c8fe",
   "metadata": {},
   "outputs": [],
   "source": [
    "arr1 = np.array(['1', '2', '3', 'Testsjflk', '1', '2', '3', \n",
    "                 '1', '2', '3', '1', '2', '3'], dtype='<U11')"
   ]
  },
  {
   "cell_type": "code",
   "execution_count": 61,
   "id": "cd033b6c",
   "metadata": {},
   "outputs": [
    {
     "data": {
      "text/plain": [
       "array(['1', '2', '3', 'Testsjflk', '1', '2', '3', '1', '2', '3', '1', '2',\n",
       "       '3'], dtype='<U11')"
      ]
     },
     "execution_count": 61,
     "metadata": {},
     "output_type": "execute_result"
    }
   ],
   "source": [
    "arr1"
   ]
  },
  {
   "cell_type": "code",
   "execution_count": 62,
   "id": "9ad43d7d",
   "metadata": {},
   "outputs": [
    {
     "data": {
      "text/plain": [
       "array([[1, 2, 3],\n",
       "       [4, 5, 6]])"
      ]
     },
     "execution_count": 62,
     "metadata": {},
     "output_type": "execute_result"
    }
   ],
   "source": [
    "arr_2d"
   ]
  },
  {
   "cell_type": "code",
   "execution_count": 63,
   "id": "cbb3a5bd",
   "metadata": {},
   "outputs": [
    {
     "data": {
      "text/plain": [
       "(2, 3)"
      ]
     },
     "execution_count": 63,
     "metadata": {},
     "output_type": "execute_result"
    }
   ],
   "source": [
    "arr_2d.shape"
   ]
  },
  {
   "cell_type": "code",
   "execution_count": 64,
   "id": "8620a1ec",
   "metadata": {},
   "outputs": [
    {
     "data": {
      "text/plain": [
       "6"
      ]
     },
     "execution_count": 64,
     "metadata": {},
     "output_type": "execute_result"
    }
   ],
   "source": [
    "arr_2d.size"
   ]
  },
  {
   "cell_type": "code",
   "execution_count": 65,
   "id": "0eb729c9",
   "metadata": {},
   "outputs": [],
   "source": [
    "arr = np.array([22,-36,32,47,71,-45])"
   ]
  },
  {
   "cell_type": "code",
   "execution_count": 66,
   "id": "911ce907",
   "metadata": {},
   "outputs": [
    {
     "data": {
      "text/plain": [
       "array([ 22, -36,  32,  47,  71, -45])"
      ]
     },
     "execution_count": 66,
     "metadata": {},
     "output_type": "execute_result"
    }
   ],
   "source": [
    "arr"
   ]
  },
  {
   "cell_type": "code",
   "execution_count": 67,
   "id": "1a2f1ea1",
   "metadata": {},
   "outputs": [
    {
     "data": {
      "text/plain": [
       "-36"
      ]
     },
     "execution_count": 67,
     "metadata": {},
     "output_type": "execute_result"
    }
   ],
   "source": [
    "arr[1]"
   ]
  },
  {
   "cell_type": "code",
   "execution_count": 68,
   "id": "5f602549",
   "metadata": {},
   "outputs": [
    {
     "data": {
      "text/plain": [
       "array([-36,  32,  47])"
      ]
     },
     "execution_count": 68,
     "metadata": {},
     "output_type": "execute_result"
    }
   ],
   "source": [
    "arr[1:4]"
   ]
  },
  {
   "cell_type": "code",
   "execution_count": 69,
   "id": "1b20129b",
   "metadata": {},
   "outputs": [
    {
     "data": {
      "text/plain": [
       "array([-36,  32,  47])"
      ]
     },
     "execution_count": 69,
     "metadata": {},
     "output_type": "execute_result"
    }
   ],
   "source": [
    "arr[[1,2,3]]"
   ]
  },
  {
   "cell_type": "code",
   "execution_count": 70,
   "id": "7bff9e3e",
   "metadata": {},
   "outputs": [
    {
     "data": {
      "text/plain": [
       "array([ 22, -36,  32,  47,  71, -45])"
      ]
     },
     "execution_count": 70,
     "metadata": {},
     "output_type": "execute_result"
    }
   ],
   "source": [
    "arr"
   ]
  },
  {
   "cell_type": "code",
   "execution_count": 71,
   "id": "89199cc1",
   "metadata": {},
   "outputs": [
    {
     "data": {
      "text/plain": [
       "array([ 32,  47,  71, -45])"
      ]
     },
     "execution_count": 71,
     "metadata": {},
     "output_type": "execute_result"
    }
   ],
   "source": [
    "arr[2:]"
   ]
  },
  {
   "cell_type": "code",
   "execution_count": 72,
   "id": "5f7b1e16",
   "metadata": {},
   "outputs": [
    {
     "data": {
      "text/plain": [
       "array([ 22, -36,  32])"
      ]
     },
     "execution_count": 72,
     "metadata": {},
     "output_type": "execute_result"
    }
   ],
   "source": [
    "arr[:3]"
   ]
  },
  {
   "cell_type": "code",
   "execution_count": 73,
   "id": "8ee47cd1",
   "metadata": {},
   "outputs": [
    {
     "data": {
      "text/plain": [
       "array([-45,  71,  47,  32, -36,  22])"
      ]
     },
     "execution_count": 73,
     "metadata": {},
     "output_type": "execute_result"
    }
   ],
   "source": [
    "arr[::-1]"
   ]
  },
  {
   "cell_type": "code",
   "execution_count": 74,
   "id": "34ea722a",
   "metadata": {},
   "outputs": [
    {
     "data": {
      "text/plain": [
       "array([ 22, -36,  32,  47,  71, -45])"
      ]
     },
     "execution_count": 74,
     "metadata": {},
     "output_type": "execute_result"
    }
   ],
   "source": [
    "arr"
   ]
  },
  {
   "cell_type": "code",
   "execution_count": 75,
   "id": "3304985f",
   "metadata": {},
   "outputs": [
    {
     "data": {
      "text/plain": [
       "array([-36,  32,  47,  71])"
      ]
     },
     "execution_count": 75,
     "metadata": {},
     "output_type": "execute_result"
    }
   ],
   "source": [
    "arr[1:-1]"
   ]
  },
  {
   "cell_type": "code",
   "execution_count": 77,
   "id": "22eabda5",
   "metadata": {},
   "outputs": [
    {
     "data": {
      "text/plain": [
       "array([-36,  32,  47,  71])"
      ]
     },
     "execution_count": 77,
     "metadata": {},
     "output_type": "execute_result"
    }
   ],
   "source": [
    "arr[1:len(arr)-1]"
   ]
  },
  {
   "cell_type": "code",
   "execution_count": 78,
   "id": "e5007509",
   "metadata": {},
   "outputs": [
    {
     "data": {
      "text/plain": [
       "array([ 22, -36,  32,  47,  71, -45])"
      ]
     },
     "execution_count": 78,
     "metadata": {},
     "output_type": "execute_result"
    }
   ],
   "source": [
    "arr"
   ]
  },
  {
   "cell_type": "code",
   "execution_count": 79,
   "id": "a36cacd9",
   "metadata": {},
   "outputs": [],
   "source": [
    "lst = [22,-36,32,47,71,-45]"
   ]
  },
  {
   "cell_type": "code",
   "execution_count": 80,
   "id": "01aae07c",
   "metadata": {},
   "outputs": [
    {
     "data": {
      "text/plain": [
       "[-36, 32, 47, 71]"
      ]
     },
     "execution_count": 80,
     "metadata": {},
     "output_type": "execute_result"
    }
   ],
   "source": [
    "lst[1:-1]"
   ]
  },
  {
   "cell_type": "code",
   "execution_count": 81,
   "id": "2e4f83c6",
   "metadata": {},
   "outputs": [
    {
     "data": {
      "text/plain": [
       "[22, -36, 32]"
      ]
     },
     "execution_count": 81,
     "metadata": {},
     "output_type": "execute_result"
    }
   ],
   "source": [
    "lst[:3]"
   ]
  },
  {
   "cell_type": "code",
   "execution_count": 82,
   "id": "c0ffbe11",
   "metadata": {},
   "outputs": [
    {
     "data": {
      "text/plain": [
       "[-36, 32, 47]"
      ]
     },
     "execution_count": 82,
     "metadata": {},
     "output_type": "execute_result"
    }
   ],
   "source": [
    "lst[1:4]"
   ]
  },
  {
   "cell_type": "code",
   "execution_count": 86,
   "id": "72f32e99",
   "metadata": {},
   "outputs": [],
   "source": [
    "arr = np.array([['Python','R','C++'], [len('Python'),len('R'), \n",
    "                                       len('C++')]])"
   ]
  },
  {
   "cell_type": "code",
   "execution_count": 87,
   "id": "4332f97c",
   "metadata": {},
   "outputs": [
    {
     "data": {
      "text/plain": [
       "array([['Python', 'R', 'C++'],\n",
       "       ['6', '1', '3']], dtype='<U11')"
      ]
     },
     "execution_count": 87,
     "metadata": {},
     "output_type": "execute_result"
    }
   ],
   "source": [
    "arr"
   ]
  },
  {
   "cell_type": "code",
   "execution_count": 88,
   "id": "93e21af2",
   "metadata": {},
   "outputs": [
    {
     "data": {
      "text/plain": [
       "2"
      ]
     },
     "execution_count": 88,
     "metadata": {},
     "output_type": "execute_result"
    }
   ],
   "source": [
    "len(arr)"
   ]
  },
  {
   "cell_type": "code",
   "execution_count": 89,
   "id": "c4767b02",
   "metadata": {},
   "outputs": [
    {
     "data": {
      "text/plain": [
       "'Python'"
      ]
     },
     "execution_count": 89,
     "metadata": {},
     "output_type": "execute_result"
    }
   ],
   "source": [
    "arr[0][0]"
   ]
  },
  {
   "cell_type": "code",
   "execution_count": 90,
   "id": "ebc5ae52",
   "metadata": {},
   "outputs": [
    {
     "data": {
      "text/plain": [
       "'Python'"
      ]
     },
     "execution_count": 90,
     "metadata": {},
     "output_type": "execute_result"
    }
   ],
   "source": [
    "arr[0,0]"
   ]
  },
  {
   "cell_type": "code",
   "execution_count": 91,
   "id": "7bf748ec",
   "metadata": {},
   "outputs": [
    {
     "data": {
      "text/plain": [
       "array(['Python', 'R', 'C++'], dtype='<U11')"
      ]
     },
     "execution_count": 91,
     "metadata": {},
     "output_type": "execute_result"
    }
   ],
   "source": [
    "arr[0]"
   ]
  },
  {
   "cell_type": "code",
   "execution_count": 92,
   "id": "52110d91",
   "metadata": {},
   "outputs": [
    {
     "data": {
      "text/plain": [
       "(3,)"
      ]
     },
     "execution_count": 92,
     "metadata": {},
     "output_type": "execute_result"
    }
   ],
   "source": [
    "arr[0].shape"
   ]
  },
  {
   "cell_type": "code",
   "execution_count": 93,
   "id": "82d0731e",
   "metadata": {},
   "outputs": [
    {
     "data": {
      "text/plain": [
       "(1, 3)"
      ]
     },
     "execution_count": 93,
     "metadata": {},
     "output_type": "execute_result"
    }
   ],
   "source": [
    "arr[[0]].shape"
   ]
  },
  {
   "cell_type": "code",
   "execution_count": 94,
   "id": "949e2f77",
   "metadata": {},
   "outputs": [
    {
     "data": {
      "text/plain": [
       "array([['Python', 'R', 'C++'],\n",
       "       ['6', '1', '3']], dtype='<U11')"
      ]
     },
     "execution_count": 94,
     "metadata": {},
     "output_type": "execute_result"
    }
   ],
   "source": [
    "arr"
   ]
  },
  {
   "cell_type": "code",
   "execution_count": 96,
   "id": "25985894",
   "metadata": {},
   "outputs": [
    {
     "data": {
      "text/plain": [
       "'Python'"
      ]
     },
     "execution_count": 96,
     "metadata": {},
     "output_type": "execute_result"
    }
   ],
   "source": [
    "arr[0,0]"
   ]
  },
  {
   "cell_type": "code",
   "execution_count": 97,
   "id": "d9406b6e",
   "metadata": {},
   "outputs": [
    {
     "data": {
      "text/plain": [
       "'Python'"
      ]
     },
     "execution_count": 97,
     "metadata": {},
     "output_type": "execute_result"
    }
   ],
   "source": [
    "arr[0][0]"
   ]
  },
  {
   "cell_type": "code",
   "execution_count": 98,
   "id": "12d8fa1e",
   "metadata": {},
   "outputs": [
    {
     "data": {
      "text/plain": [
       "array([['Python', 'R', 'C++'],\n",
       "       ['6', '1', '3']], dtype='<U11')"
      ]
     },
     "execution_count": 98,
     "metadata": {},
     "output_type": "execute_result"
    }
   ],
   "source": [
    "arr[0:]"
   ]
  },
  {
   "cell_type": "code",
   "execution_count": 99,
   "id": "209b76c7",
   "metadata": {},
   "outputs": [
    {
     "data": {
      "text/plain": [
       "array(['Python', 'R', 'C++'], dtype='<U11')"
      ]
     },
     "execution_count": 99,
     "metadata": {},
     "output_type": "execute_result"
    }
   ],
   "source": [
    "arr[0][:]"
   ]
  },
  {
   "cell_type": "code",
   "execution_count": 100,
   "id": "69999db6",
   "metadata": {},
   "outputs": [
    {
     "data": {
      "text/plain": [
       "array(['Python', 'R'], dtype='<U11')"
      ]
     },
     "execution_count": 100,
     "metadata": {},
     "output_type": "execute_result"
    }
   ],
   "source": [
    "arr[0,[0,1]]"
   ]
  },
  {
   "cell_type": "code",
   "execution_count": 101,
   "id": "90541a85",
   "metadata": {},
   "outputs": [
    {
     "data": {
      "text/plain": [
       "[22, -36, 32, 47, 71, -45]"
      ]
     },
     "execution_count": 101,
     "metadata": {},
     "output_type": "execute_result"
    }
   ],
   "source": [
    "lst"
   ]
  },
  {
   "cell_type": "code",
   "execution_count": 102,
   "id": "020ae239",
   "metadata": {},
   "outputs": [
    {
     "data": {
      "text/plain": [
       "[22, -36, 32, 47, 71, -45]"
      ]
     },
     "execution_count": 102,
     "metadata": {},
     "output_type": "execute_result"
    }
   ],
   "source": [
    "lst[0:]"
   ]
  },
  {
   "cell_type": "code",
   "execution_count": 103,
   "id": "c3ba5f1c",
   "metadata": {},
   "outputs": [
    {
     "data": {
      "text/plain": [
       "array([['Python', 'R', 'C++'],\n",
       "       ['6', '1', '3']], dtype='<U11')"
      ]
     },
     "execution_count": 103,
     "metadata": {},
     "output_type": "execute_result"
    }
   ],
   "source": [
    "arr[0:]"
   ]
  },
  {
   "cell_type": "code",
   "execution_count": 104,
   "id": "8a5ffb48",
   "metadata": {},
   "outputs": [
    {
     "data": {
      "text/plain": [
       "(2, 3)"
      ]
     },
     "execution_count": 104,
     "metadata": {},
     "output_type": "execute_result"
    }
   ],
   "source": [
    "arr.shape"
   ]
  },
  {
   "cell_type": "code",
   "execution_count": 105,
   "id": "7a9bfbcd",
   "metadata": {},
   "outputs": [
    {
     "data": {
      "text/plain": [
       "2"
      ]
     },
     "execution_count": 105,
     "metadata": {},
     "output_type": "execute_result"
    }
   ],
   "source": [
    "arr.ndim"
   ]
  },
  {
   "cell_type": "code",
   "execution_count": 106,
   "id": "bd712a5d",
   "metadata": {},
   "outputs": [],
   "source": [
    "lst = [[1,2,3],[4,5,6]]"
   ]
  },
  {
   "cell_type": "code",
   "execution_count": 107,
   "id": "5269671f",
   "metadata": {},
   "outputs": [
    {
     "data": {
      "text/plain": [
       "[[1, 2, 3], [4, 5, 6]]"
      ]
     },
     "execution_count": 107,
     "metadata": {},
     "output_type": "execute_result"
    }
   ],
   "source": [
    "lst"
   ]
  },
  {
   "cell_type": "code",
   "execution_count": 108,
   "id": "303e8d27",
   "metadata": {},
   "outputs": [
    {
     "data": {
      "text/plain": [
       "2"
      ]
     },
     "execution_count": 108,
     "metadata": {},
     "output_type": "execute_result"
    }
   ],
   "source": [
    "len(lst)"
   ]
  },
  {
   "cell_type": "code",
   "execution_count": 109,
   "id": "508d4723",
   "metadata": {},
   "outputs": [
    {
     "data": {
      "text/plain": [
       "[4, 5, 6]"
      ]
     },
     "execution_count": 109,
     "metadata": {},
     "output_type": "execute_result"
    }
   ],
   "source": [
    "lst[1]"
   ]
  },
  {
   "cell_type": "code",
   "execution_count": 110,
   "id": "17bfd2d6",
   "metadata": {},
   "outputs": [
    {
     "data": {
      "text/plain": [
       "[1, 2, 3]"
      ]
     },
     "execution_count": 110,
     "metadata": {},
     "output_type": "execute_result"
    }
   ],
   "source": [
    "lst[0]"
   ]
  },
  {
   "cell_type": "code",
   "execution_count": 111,
   "id": "dfb8c3ea",
   "metadata": {},
   "outputs": [
    {
     "data": {
      "text/plain": [
       "[[1, 2, 3], [4, 5, 6]]"
      ]
     },
     "execution_count": 111,
     "metadata": {},
     "output_type": "execute_result"
    }
   ],
   "source": [
    "lst[0:]"
   ]
  },
  {
   "cell_type": "code",
   "execution_count": 112,
   "id": "e1d13bfa",
   "metadata": {},
   "outputs": [
    {
     "data": {
      "text/plain": [
       "[]"
      ]
     },
     "execution_count": 112,
     "metadata": {},
     "output_type": "execute_result"
    }
   ],
   "source": [
    "lst[0:0]"
   ]
  },
  {
   "cell_type": "code",
   "execution_count": 113,
   "id": "00282855",
   "metadata": {},
   "outputs": [
    {
     "data": {
      "text/plain": [
       "[1, 2, 3]"
      ]
     },
     "execution_count": 113,
     "metadata": {},
     "output_type": "execute_result"
    }
   ],
   "source": [
    "lst[0][:]"
   ]
  },
  {
   "cell_type": "code",
   "execution_count": 114,
   "id": "53f28218",
   "metadata": {},
   "outputs": [
    {
     "data": {
      "text/plain": [
       "[4, 5, 6]"
      ]
     },
     "execution_count": 114,
     "metadata": {},
     "output_type": "execute_result"
    }
   ],
   "source": [
    "lst[-1][:]"
   ]
  },
  {
   "cell_type": "code",
   "execution_count": 115,
   "id": "e1eb784b",
   "metadata": {},
   "outputs": [],
   "source": [
    "arr = np.array([[1,2,3],[4,5,6]])"
   ]
  },
  {
   "cell_type": "code",
   "execution_count": 116,
   "id": "c2254cb8",
   "metadata": {},
   "outputs": [
    {
     "data": {
      "text/plain": [
       "array([[1, 2, 3],\n",
       "       [4, 5, 6]])"
      ]
     },
     "execution_count": 116,
     "metadata": {},
     "output_type": "execute_result"
    }
   ],
   "source": [
    "arr"
   ]
  },
  {
   "cell_type": "code",
   "execution_count": 119,
   "id": "dab86062",
   "metadata": {},
   "outputs": [
    {
     "data": {
      "text/plain": [
       "array([[False, False,  True],\n",
       "       [ True,  True,  True]])"
      ]
     },
     "execution_count": 119,
     "metadata": {},
     "output_type": "execute_result"
    }
   ],
   "source": [
    "arr > 2"
   ]
  },
  {
   "cell_type": "code",
   "execution_count": 120,
   "id": "9aa44b78",
   "metadata": {},
   "outputs": [],
   "source": [
    "# False : 0\n",
    "# True : 1"
   ]
  },
  {
   "cell_type": "code",
   "execution_count": 121,
   "id": "c1f9f08c",
   "metadata": {},
   "outputs": [
    {
     "data": {
      "text/plain": [
       "array([5, 7, 9])"
      ]
     },
     "execution_count": 121,
     "metadata": {},
     "output_type": "execute_result"
    }
   ],
   "source": [
    "sum(arr)"
   ]
  },
  {
   "cell_type": "code",
   "execution_count": 122,
   "id": "954d8bbf",
   "metadata": {},
   "outputs": [
    {
     "data": {
      "text/plain": [
       "array([[1, 2, 3],\n",
       "       [4, 5, 6]])"
      ]
     },
     "execution_count": 122,
     "metadata": {},
     "output_type": "execute_result"
    }
   ],
   "source": [
    "arr"
   ]
  },
  {
   "cell_type": "code",
   "execution_count": 126,
   "id": "eb922365",
   "metadata": {},
   "outputs": [
    {
     "data": {
      "text/plain": [
       "array([[1, 2, 3],\n",
       "       [4, 5, 6]])"
      ]
     },
     "execution_count": 126,
     "metadata": {},
     "output_type": "execute_result"
    }
   ],
   "source": [
    "arr"
   ]
  },
  {
   "cell_type": "code",
   "execution_count": 133,
   "id": "96270200",
   "metadata": {},
   "outputs": [
    {
     "data": {
      "text/plain": [
       "8"
      ]
     },
     "execution_count": 133,
     "metadata": {},
     "output_type": "execute_result"
    }
   ],
   "source": [
    "df['Order Date'].isna().sum()"
   ]
  },
  {
   "cell_type": "code",
   "execution_count": 134,
   "id": "d2b608e6",
   "metadata": {},
   "outputs": [
    {
     "data": {
      "text/plain": [
       "array([[1, 2, 3],\n",
       "       [4, 5, 6]])"
      ]
     },
     "execution_count": 134,
     "metadata": {},
     "output_type": "execute_result"
    }
   ],
   "source": [
    "arr"
   ]
  },
  {
   "cell_type": "code",
   "execution_count": 135,
   "id": "f7bff353",
   "metadata": {},
   "outputs": [
    {
     "data": {
      "text/plain": [
       "array([[False, False,  True],\n",
       "       [ True, False, False]])"
      ]
     },
     "execution_count": 135,
     "metadata": {},
     "output_type": "execute_result"
    }
   ],
   "source": [
    "(arr > 2) & (arr < 5)"
   ]
  },
  {
   "cell_type": "code",
   "execution_count": 139,
   "id": "ef738541",
   "metadata": {},
   "outputs": [
    {
     "data": {
      "text/plain": [
       "array([1, 2, 3, 4, 5, 6])"
      ]
     },
     "execution_count": 139,
     "metadata": {},
     "output_type": "execute_result"
    }
   ],
   "source": [
    "arr[(arr > 2) |(arr < 5)]"
   ]
  },
  {
   "cell_type": "code",
   "execution_count": 141,
   "id": "eeb842d6",
   "metadata": {},
   "outputs": [],
   "source": [
    "arr_numbers = np.array([34,56,87,90,34,56,12,34,67,89,90,88,\n",
    "                      35,67,12,45,78,23,56])"
   ]
  },
  {
   "cell_type": "code",
   "execution_count": 142,
   "id": "f0d627ae",
   "metadata": {},
   "outputs": [],
   "source": [
    "lst = [34,56,87,90,34,56,12,34,67,89,90,88,35,67,12,45,78,23,56]"
   ]
  },
  {
   "cell_type": "code",
   "execution_count": 143,
   "id": "753b16b9",
   "metadata": {},
   "outputs": [
    {
     "data": {
      "text/plain": [
       "[56, 87, 90, 56, 67, 89, 90, 88, 67, 78, 56]"
      ]
     },
     "execution_count": 143,
     "metadata": {},
     "output_type": "execute_result"
    }
   ],
   "source": [
    "list(filter(lambda x : x > 50, lst))"
   ]
  },
  {
   "cell_type": "code",
   "execution_count": 144,
   "id": "6375805e",
   "metadata": {},
   "outputs": [
    {
     "data": {
      "text/plain": [
       "array([34, 56, 87, 90, 34, 56, 12, 34, 67, 89, 90, 88, 35, 67, 12, 45, 78,\n",
       "       23, 56])"
      ]
     },
     "execution_count": 144,
     "metadata": {},
     "output_type": "execute_result"
    }
   ],
   "source": [
    "arr_numbers"
   ]
  },
  {
   "cell_type": "code",
   "execution_count": 146,
   "id": "8eefde3b",
   "metadata": {},
   "outputs": [
    {
     "data": {
      "text/plain": [
       "19"
      ]
     },
     "execution_count": 146,
     "metadata": {},
     "output_type": "execute_result"
    }
   ],
   "source": [
    "len(arr_numbers > 50)"
   ]
  },
  {
   "cell_type": "code",
   "execution_count": 147,
   "id": "8b5d647a",
   "metadata": {},
   "outputs": [
    {
     "data": {
      "text/plain": [
       "array([56, 87, 90, 56, 67, 89, 90, 88, 67, 78, 56])"
      ]
     },
     "execution_count": 147,
     "metadata": {},
     "output_type": "execute_result"
    }
   ],
   "source": [
    "arr_numbers[arr_numbers > 50]"
   ]
  },
  {
   "cell_type": "code",
   "execution_count": 148,
   "id": "fb3e53a1",
   "metadata": {},
   "outputs": [
    {
     "data": {
      "text/plain": [
       "11"
      ]
     },
     "execution_count": 148,
     "metadata": {},
     "output_type": "execute_result"
    }
   ],
   "source": [
    "len(arr_numbers[arr_numbers > 50])"
   ]
  },
  {
   "cell_type": "code",
   "execution_count": 149,
   "id": "9b5673d2",
   "metadata": {},
   "outputs": [
    {
     "data": {
      "text/plain": [
       "array([34, 56, 87, 90, 34, 56, 12, 34, 67, 89, 90, 88, 35, 67, 12, 45, 78,\n",
       "       23, 56])"
      ]
     },
     "execution_count": 149,
     "metadata": {},
     "output_type": "execute_result"
    }
   ],
   "source": [
    "arr_numbers"
   ]
  },
  {
   "cell_type": "code",
   "execution_count": 150,
   "id": "a59e7616",
   "metadata": {},
   "outputs": [
    {
     "data": {
      "text/plain": [
       "array([34, 56, 90, 34, 56, 12, 34, 90, 88, 12, 78, 56])"
      ]
     },
     "execution_count": 150,
     "metadata": {},
     "output_type": "execute_result"
    }
   ],
   "source": [
    "arr_numbers[arr_numbers % 2 == 0]"
   ]
  },
  {
   "cell_type": "code",
   "execution_count": 151,
   "id": "4efa14cc",
   "metadata": {},
   "outputs": [
    {
     "data": {
      "text/plain": [
       "array([87, 67, 89, 35, 67, 45, 23])"
      ]
     },
     "execution_count": 151,
     "metadata": {},
     "output_type": "execute_result"
    }
   ],
   "source": [
    "arr_numbers[arr_numbers % 2 != 0]"
   ]
  },
  {
   "cell_type": "code",
   "execution_count": 152,
   "id": "7919796b",
   "metadata": {},
   "outputs": [
    {
     "data": {
      "text/plain": [
       "array([90, 90, 35, 45])"
      ]
     },
     "execution_count": 152,
     "metadata": {},
     "output_type": "execute_result"
    }
   ],
   "source": [
    "arr_numbers[arr_numbers % 5 == 0]"
   ]
  },
  {
   "cell_type": "code",
   "execution_count": 153,
   "id": "a2eda66e",
   "metadata": {},
   "outputs": [
    {
     "data": {
      "text/plain": [
       "19"
      ]
     },
     "execution_count": 153,
     "metadata": {},
     "output_type": "execute_result"
    }
   ],
   "source": [
    "len(arr_numbers)"
   ]
  },
  {
   "cell_type": "markdown",
   "id": "8c9fc1d7",
   "metadata": {},
   "source": [
    "### numpy where method"
   ]
  },
  {
   "cell_type": "code",
   "execution_count": 154,
   "id": "93dd76d3",
   "metadata": {},
   "outputs": [
    {
     "data": {
      "text/plain": [
       "array([34, 56, 87, 90, 34, 56, 12, 34, 67, 89, 90, 88, 35, 67, 12, 45, 78,\n",
       "       23, 56])"
      ]
     },
     "execution_count": 154,
     "metadata": {},
     "output_type": "execute_result"
    }
   ],
   "source": [
    "arr_numbers"
   ]
  },
  {
   "cell_type": "code",
   "execution_count": 155,
   "id": "8e092fa5",
   "metadata": {},
   "outputs": [
    {
     "data": {
      "text/plain": [
       "(array([ 0,  4,  6,  7, 12, 14, 15, 17], dtype=int64),)"
      ]
     },
     "execution_count": 155,
     "metadata": {},
     "output_type": "execute_result"
    }
   ],
   "source": [
    "np.where(arr_numbers < 50)"
   ]
  },
  {
   "cell_type": "code",
   "execution_count": 156,
   "id": "213413a8",
   "metadata": {},
   "outputs": [
    {
     "data": {
      "text/plain": [
       "(array([ 3, 10], dtype=int64),)"
      ]
     },
     "execution_count": 156,
     "metadata": {},
     "output_type": "execute_result"
    }
   ],
   "source": [
    "np.where(arr_numbers == 90)"
   ]
  },
  {
   "cell_type": "code",
   "execution_count": 157,
   "id": "ab826079",
   "metadata": {},
   "outputs": [
    {
     "data": {
      "text/plain": [
       "(array([ 1,  5, 18], dtype=int64),)"
      ]
     },
     "execution_count": 157,
     "metadata": {},
     "output_type": "execute_result"
    }
   ],
   "source": [
    "np.where((arr_numbers >50) & (arr_numbers < 60))"
   ]
  },
  {
   "cell_type": "code",
   "execution_count": 158,
   "id": "f9abe069",
   "metadata": {},
   "outputs": [
    {
     "data": {
      "text/plain": [
       "array([[1, 2, 3],\n",
       "       [4, 5, 6]])"
      ]
     },
     "execution_count": 158,
     "metadata": {},
     "output_type": "execute_result"
    }
   ],
   "source": [
    "arr_2d"
   ]
  },
  {
   "cell_type": "code",
   "execution_count": 159,
   "id": "96ab8074",
   "metadata": {},
   "outputs": [
    {
     "data": {
      "text/plain": [
       "(array([1, 1, 1], dtype=int64), array([0, 1, 2], dtype=int64))"
      ]
     },
     "execution_count": 159,
     "metadata": {},
     "output_type": "execute_result"
    }
   ],
   "source": [
    "np.where(arr_2d > 3)"
   ]
  },
  {
   "cell_type": "code",
   "execution_count": 161,
   "id": "b1d74151",
   "metadata": {},
   "outputs": [
    {
     "data": {
      "text/plain": [
       "array([[False, False, False],\n",
       "       [ True,  True,  True]])"
      ]
     },
     "execution_count": 161,
     "metadata": {},
     "output_type": "execute_result"
    }
   ],
   "source": [
    "arr_2d > 3"
   ]
  },
  {
   "cell_type": "code",
   "execution_count": 162,
   "id": "6050ef7a",
   "metadata": {},
   "outputs": [
    {
     "data": {
      "text/plain": [
       "array([4, 5, 6])"
      ]
     },
     "execution_count": 162,
     "metadata": {},
     "output_type": "execute_result"
    }
   ],
   "source": [
    "arr_2d[np.where(arr_2d > 3)]"
   ]
  },
  {
   "cell_type": "code",
   "execution_count": 163,
   "id": "1c5ae5ae",
   "metadata": {},
   "outputs": [
    {
     "data": {
      "text/plain": [
       "array([34, 56, 87, 90, 34, 56, 12, 34, 67, 89, 90, 88, 35, 67, 12, 45, 78,\n",
       "       23, 56])"
      ]
     },
     "execution_count": 163,
     "metadata": {},
     "output_type": "execute_result"
    }
   ],
   "source": [
    "arr_numbers"
   ]
  },
  {
   "cell_type": "code",
   "execution_count": 164,
   "id": "51803247",
   "metadata": {},
   "outputs": [
    {
     "data": {
      "text/plain": [
       "array(['<50', '56', '87', '90', '<50', '56', '<50', '<50', '67', '89',\n",
       "       '90', '88', '<50', '67', '<50', '<50', '78', '<50', '56'],\n",
       "      dtype='<U11')"
      ]
     },
     "execution_count": 164,
     "metadata": {},
     "output_type": "execute_result"
    }
   ],
   "source": [
    "np.where((arr_numbers < 50),\"<50\", arr_numbers)"
   ]
  },
  {
   "cell_type": "markdown",
   "id": "f36670fb",
   "metadata": {},
   "source": [
    "### Operations on Numpy Arrays:"
   ]
  },
  {
   "cell_type": "code",
   "execution_count": 172,
   "id": "b0820281",
   "metadata": {},
   "outputs": [],
   "source": [
    "np_arr = np.array([1,2,3])"
   ]
  },
  {
   "cell_type": "code",
   "execution_count": 173,
   "id": "4c4b1f89",
   "metadata": {},
   "outputs": [
    {
     "data": {
      "text/plain": [
       "array([1, 2, 3])"
      ]
     },
     "execution_count": 173,
     "metadata": {},
     "output_type": "execute_result"
    }
   ],
   "source": [
    "np_arr"
   ]
  },
  {
   "cell_type": "markdown",
   "id": "965492b8",
   "metadata": {},
   "source": [
    "### Adding elements to 1D array"
   ]
  },
  {
   "cell_type": "code",
   "execution_count": 174,
   "id": "1ccf79c3",
   "metadata": {},
   "outputs": [
    {
     "data": {
      "text/plain": [
       "array([1, 2, 3, 4])"
      ]
     },
     "execution_count": 174,
     "metadata": {},
     "output_type": "execute_result"
    }
   ],
   "source": [
    "np.append(arr = np_arr, values = 4)"
   ]
  },
  {
   "cell_type": "code",
   "execution_count": 175,
   "id": "652394e1",
   "metadata": {},
   "outputs": [
    {
     "data": {
      "text/plain": [
       "array([1, 2, 3, 4])"
      ]
     },
     "execution_count": 175,
     "metadata": {},
     "output_type": "execute_result"
    }
   ],
   "source": [
    "np.append(np_arr,4)"
   ]
  },
  {
   "cell_type": "code",
   "execution_count": 176,
   "id": "0fc8f05e",
   "metadata": {},
   "outputs": [
    {
     "data": {
      "text/plain": [
       "array([1, 2, 3, 5, 6, 7, 8, 9])"
      ]
     },
     "execution_count": 176,
     "metadata": {},
     "output_type": "execute_result"
    }
   ],
   "source": [
    "np.append(np_arr,[5,6,7,8,9])"
   ]
  },
  {
   "cell_type": "markdown",
   "id": "f4c97803",
   "metadata": {},
   "source": [
    "### Removing elements from 1d arrays"
   ]
  },
  {
   "cell_type": "code",
   "execution_count": 177,
   "id": "ae518060",
   "metadata": {},
   "outputs": [
    {
     "data": {
      "text/plain": [
       "array([1, 2, 3])"
      ]
     },
     "execution_count": 177,
     "metadata": {},
     "output_type": "execute_result"
    }
   ],
   "source": [
    "np_arr"
   ]
  },
  {
   "cell_type": "markdown",
   "id": "8e9c4d06",
   "metadata": {},
   "source": [
    "### numpy delete method\n",
    "\n",
    "This method can delete an item based on item's index."
   ]
  },
  {
   "cell_type": "code",
   "execution_count": 178,
   "id": "33c045d1",
   "metadata": {},
   "outputs": [
    {
     "data": {
      "text/plain": [
       "array([1, 2])"
      ]
     },
     "execution_count": 178,
     "metadata": {},
     "output_type": "execute_result"
    }
   ],
   "source": [
    "np.delete(np_arr, 2)"
   ]
  },
  {
   "cell_type": "code",
   "execution_count": 179,
   "id": "25a4c219",
   "metadata": {},
   "outputs": [
    {
     "name": "stdout",
     "output_type": "stream",
     "text": [
      "['append', 'clear', 'copy', 'count', 'extend', 'index', 'insert', 'pop', 'remove', 'reverse', 'sort']\n"
     ]
    }
   ],
   "source": [
    "print([i for i in dir(list) if \"__\" not in i])"
   ]
  },
  {
   "cell_type": "code",
   "execution_count": 182,
   "id": "c6c73ce5",
   "metadata": {},
   "outputs": [
    {
     "data": {
      "text/plain": [
       "array([34, 56, 87, 90, 34, 56, 12, 34, 67, 89, 90, 88, 35, 67, 12, 45, 78,\n",
       "       23, 56])"
      ]
     },
     "execution_count": 182,
     "metadata": {},
     "output_type": "execute_result"
    }
   ],
   "source": [
    "arr_numbers"
   ]
  },
  {
   "cell_type": "code",
   "execution_count": 183,
   "id": "14c603f4",
   "metadata": {},
   "outputs": [
    {
     "data": {
      "text/plain": [
       "array([56, 87, 90, 34, 56, 12, 34, 67, 89, 90, 88, 35, 67, 12, 45, 78, 23])"
      ]
     },
     "execution_count": 183,
     "metadata": {},
     "output_type": "execute_result"
    }
   ],
   "source": [
    "np.delete(arr_numbers,[0,-1])"
   ]
  },
  {
   "cell_type": "code",
   "execution_count": 184,
   "id": "f3cb95ac",
   "metadata": {},
   "outputs": [
    {
     "data": {
      "text/plain": [
       "array([87, 67, 89, 35, 67, 45, 23])"
      ]
     },
     "execution_count": 184,
     "metadata": {},
     "output_type": "execute_result"
    }
   ],
   "source": [
    "np.delete(arr_numbers, np.where(arr_numbers % 2 == 0))"
   ]
  },
  {
   "cell_type": "code",
   "execution_count": 185,
   "id": "5f968f20",
   "metadata": {},
   "outputs": [],
   "source": [
    "np_arr1 = np.array([[4.7,1.4,-4.6],[2.6,-1.2,-2],[6.6,-3.2,4.9]])"
   ]
  },
  {
   "cell_type": "code",
   "execution_count": 186,
   "id": "142dc4ea",
   "metadata": {},
   "outputs": [
    {
     "data": {
      "text/plain": [
       "array([[ 4.7,  1.4, -4.6],\n",
       "       [ 2.6, -1.2, -2. ],\n",
       "       [ 6.6, -3.2,  4.9]])"
      ]
     },
     "execution_count": 186,
     "metadata": {},
     "output_type": "execute_result"
    }
   ],
   "source": [
    "np_arr1"
   ]
  },
  {
   "cell_type": "code",
   "execution_count": 187,
   "id": "e7c5bf97",
   "metadata": {},
   "outputs": [
    {
     "data": {
      "text/plain": [
       "array([ 1.4, -4.6,  2.6, -1.2, -2. ,  6.6, -3.2,  4.9])"
      ]
     },
     "execution_count": 187,
     "metadata": {},
     "output_type": "execute_result"
    }
   ],
   "source": [
    "np.delete(np_arr1, 0)"
   ]
  },
  {
   "cell_type": "code",
   "execution_count": 188,
   "id": "1c3edb02",
   "metadata": {},
   "outputs": [
    {
     "data": {
      "text/plain": [
       "array([[ 2.6, -1.2, -2. ],\n",
       "       [ 6.6, -3.2,  4.9]])"
      ]
     },
     "execution_count": 188,
     "metadata": {},
     "output_type": "execute_result"
    }
   ],
   "source": [
    "np.delete(np_arr1, 0, axis = 0)"
   ]
  },
  {
   "cell_type": "code",
   "execution_count": 190,
   "id": "08cc3c18",
   "metadata": {},
   "outputs": [
    {
     "data": {
      "text/plain": [
       "array([[ 4.7,  1.4, -4.6],\n",
       "       [ 2.6, -1.2, -2. ]])"
      ]
     },
     "execution_count": 190,
     "metadata": {},
     "output_type": "execute_result"
    }
   ],
   "source": [
    "np.delete(np_arr1, [0-1], axis = 0)"
   ]
  },
  {
   "cell_type": "code",
   "execution_count": 191,
   "id": "243b8c70",
   "metadata": {},
   "outputs": [
    {
     "data": {
      "text/plain": [
       "array([[ 6.6, -3.2,  4.9]])"
      ]
     },
     "execution_count": 191,
     "metadata": {},
     "output_type": "execute_result"
    }
   ],
   "source": [
    "np.delete(np_arr1,[0,1], axis = 0)"
   ]
  },
  {
   "cell_type": "code",
   "execution_count": 192,
   "id": "505c5077",
   "metadata": {},
   "outputs": [
    {
     "data": {
      "text/plain": [
       "array([[ 4.7,  1.4, -4.6],\n",
       "       [ 2.6, -1.2, -2. ],\n",
       "       [ 6.6, -3.2,  4.9]])"
      ]
     },
     "execution_count": 192,
     "metadata": {},
     "output_type": "execute_result"
    }
   ],
   "source": [
    "np_arr1"
   ]
  },
  {
   "cell_type": "code",
   "execution_count": 193,
   "id": "d0decc11",
   "metadata": {},
   "outputs": [
    {
     "data": {
      "text/plain": [
       "array([[ 4.7, -4.6],\n",
       "       [ 2.6, -2. ],\n",
       "       [ 6.6,  4.9]])"
      ]
     },
     "execution_count": 193,
     "metadata": {},
     "output_type": "execute_result"
    }
   ],
   "source": [
    "np.delete(np_arr1, 1,axis = 1)"
   ]
  },
  {
   "cell_type": "code",
   "execution_count": 203,
   "id": "45b5ac93",
   "metadata": {},
   "outputs": [],
   "source": [
    "lst.extend?"
   ]
  },
  {
   "cell_type": "code",
   "execution_count": 204,
   "id": "651aaa90",
   "metadata": {},
   "outputs": [],
   "source": [
    "filter?"
   ]
  },
  {
   "cell_type": "code",
   "execution_count": 215,
   "id": "ce721857",
   "metadata": {},
   "outputs": [],
   "source": [
    "lst = [2,5,7,None,\"\",34,56,False,60,0,False,True,-50, None,40,60, None]"
   ]
  },
  {
   "cell_type": "code",
   "execution_count": 216,
   "id": "52420adb",
   "metadata": {},
   "outputs": [
    {
     "data": {
      "text/plain": [
       "[2, 5, 7, 34, 56, 60, True, -50, 40, 60]"
      ]
     },
     "execution_count": 216,
     "metadata": {},
     "output_type": "execute_result"
    }
   ],
   "source": [
    "list(filter(None,lst))"
   ]
  },
  {
   "cell_type": "code",
   "execution_count": null,
   "id": "7f8df0bc",
   "metadata": {},
   "outputs": [],
   "source": [
    "axis = None,\n",
    "axis = 0\n",
    "axis = 1"
   ]
  },
  {
   "cell_type": "code",
   "execution_count": 211,
   "id": "ef34082e",
   "metadata": {},
   "outputs": [
    {
     "data": {
      "text/plain": [
       "array([[ 4.7,  1.4, -4.6],\n",
       "       [ 2.6, -1.2, -2. ],\n",
       "       [ 6.6, -3.2,  4.9]])"
      ]
     },
     "execution_count": 211,
     "metadata": {},
     "output_type": "execute_result"
    }
   ],
   "source": [
    "np_arr1"
   ]
  },
  {
   "cell_type": "code",
   "execution_count": 212,
   "id": "5306ed80",
   "metadata": {},
   "outputs": [
    {
     "data": {
      "text/plain": [
       "array([ 1.4, -4.6,  2.6, -1.2, -2. ,  6.6, -3.2,  4.9])"
      ]
     },
     "execution_count": 212,
     "metadata": {},
     "output_type": "execute_result"
    }
   ],
   "source": [
    "np.delete(np_arr1, 0, axis = None)"
   ]
  },
  {
   "cell_type": "code",
   "execution_count": 214,
   "id": "98d8bbdd",
   "metadata": {},
   "outputs": [
    {
     "data": {
      "text/plain": [
       "array([[ 1.4],\n",
       "       [-1.2],\n",
       "       [-3.2]])"
      ]
     },
     "execution_count": 214,
     "metadata": {},
     "output_type": "execute_result"
    }
   ],
   "source": [
    "np.delete(np_arr1, [0,-1],axis = 1)"
   ]
  },
  {
   "cell_type": "code",
   "execution_count": 217,
   "id": "2a156a86",
   "metadata": {},
   "outputs": [
    {
     "data": {
      "text/plain": [
       "array([[ 4.7,  1.4, -4.6],\n",
       "       [ 2.6, -1.2, -2. ],\n",
       "       [ 6.6, -3.2,  4.9]])"
      ]
     },
     "execution_count": 217,
     "metadata": {},
     "output_type": "execute_result"
    }
   ],
   "source": [
    "np_arr1"
   ]
  },
  {
   "cell_type": "code",
   "execution_count": 225,
   "id": "41080e72",
   "metadata": {},
   "outputs": [
    {
     "data": {
      "text/plain": [
       "array([[-1.2, -2. ],\n",
       "       [-3.2,  4.9]])"
      ]
     },
     "execution_count": 225,
     "metadata": {},
     "output_type": "execute_result"
    }
   ],
   "source": [
    "np.delete(np.delete(np_arr1, 0, axis = 0), 0, axis = 1)"
   ]
  },
  {
   "cell_type": "code",
   "execution_count": 226,
   "id": "786bc853",
   "metadata": {},
   "outputs": [
    {
     "data": {
      "text/plain": [
       "[2, 5, 7, None, '', 34, 56, False, 60, 0, False, True, -50, None, 40, 60, None]"
      ]
     },
     "execution_count": 226,
     "metadata": {},
     "output_type": "execute_result"
    }
   ],
   "source": [
    "lst"
   ]
  },
  {
   "cell_type": "code",
   "execution_count": 227,
   "id": "d1df287e",
   "metadata": {},
   "outputs": [],
   "source": [
    "lst.append(7)"
   ]
  },
  {
   "cell_type": "code",
   "execution_count": 228,
   "id": "2651f2ed",
   "metadata": {},
   "outputs": [],
   "source": [
    "lst.append(5)"
   ]
  },
  {
   "cell_type": "code",
   "execution_count": 229,
   "id": "7bcc79bb",
   "metadata": {},
   "outputs": [],
   "source": [
    "lst.extend([5,6,7,8,3,5,7,0,7])"
   ]
  },
  {
   "cell_type": "code",
   "execution_count": 230,
   "id": "e4d323bf",
   "metadata": {},
   "outputs": [
    {
     "name": "stdout",
     "output_type": "stream",
     "text": [
      "[2, 5, 7, None, '', 34, 56, False, 60, 0, False, True, -50, None, 40, 60, None, 7, 5, 5, 6, 7, 8, 3, 5, 7, 0, 7]\n"
     ]
    }
   ],
   "source": [
    "print(lst)"
   ]
  },
  {
   "cell_type": "code",
   "execution_count": 232,
   "id": "ff1644c3",
   "metadata": {},
   "outputs": [
    {
     "data": {
      "text/plain": [
       "2"
      ]
     },
     "execution_count": 232,
     "metadata": {},
     "output_type": "execute_result"
    }
   ],
   "source": [
    "lst.index(7)"
   ]
  },
  {
   "cell_type": "code",
   "execution_count": 233,
   "id": "2a604992",
   "metadata": {},
   "outputs": [
    {
     "data": {
      "text/plain": [
       "17"
      ]
     },
     "execution_count": 233,
     "metadata": {},
     "output_type": "execute_result"
    }
   ],
   "source": [
    "lst.index(7, 2+1)"
   ]
  },
  {
   "cell_type": "code",
   "execution_count": 234,
   "id": "f32837d7",
   "metadata": {},
   "outputs": [
    {
     "data": {
      "text/plain": [
       "7"
      ]
     },
     "execution_count": 234,
     "metadata": {},
     "output_type": "execute_result"
    }
   ],
   "source": [
    "lst[17]"
   ]
  },
  {
   "cell_type": "code",
   "execution_count": 235,
   "id": "81a15afb",
   "metadata": {},
   "outputs": [
    {
     "data": {
      "text/plain": [
       "21"
      ]
     },
     "execution_count": 235,
     "metadata": {},
     "output_type": "execute_result"
    }
   ],
   "source": [
    "lst.index(7,17+1)"
   ]
  },
  {
   "cell_type": "code",
   "execution_count": 237,
   "id": "83621614",
   "metadata": {},
   "outputs": [
    {
     "name": "stdout",
     "output_type": "stream",
     "text": [
      "2 17 21 25 27 "
     ]
    }
   ],
   "source": [
    "for pair in enumerate(lst):\n",
    "    if pair[-1] == 7:\n",
    "        print(pair[0], end = \" \")\n"
   ]
  },
  {
   "cell_type": "markdown",
   "id": "6255ccba",
   "metadata": {},
   "source": [
    "### How to generate random numbers"
   ]
  },
  {
   "cell_type": "code",
   "execution_count": 267,
   "id": "a2699d6e",
   "metadata": {},
   "outputs": [
    {
     "data": {
      "text/plain": [
       "array([17, 37, 22, 47, 31, 93, 92, 30, 11, 10, 74, 91, 72, 76, 33, 21, 56,\n",
       "       32, 67, 62, 80, 89, 23, 66, 78, 84, 86, 75, 92, 21, 63, 15, 83, 67,\n",
       "       15, 23, 16, 92, 29, 16, 97, 83, 95, 97, 14, 72, 10, 39, 87, 67])"
      ]
     },
     "execution_count": 267,
     "metadata": {},
     "output_type": "execute_result"
    }
   ],
   "source": [
    "np.random.randint(low = 10, high = 99, size = 50)"
   ]
  },
  {
   "cell_type": "code",
   "execution_count": 243,
   "id": "a1274a3b",
   "metadata": {},
   "outputs": [
    {
     "data": {
      "text/plain": [
       "array([0.65260198, 0.26751268, 0.10435632, 0.21925879, 0.68762057,\n",
       "       0.79200452, 0.66055733, 0.95952961, 0.83449451, 0.26859558,\n",
       "       0.17126075, 0.02366749, 0.58841728, 0.27812057, 0.25396988,\n",
       "       0.30453645, 0.21383576, 0.94616023, 0.39367805, 0.35975746])"
      ]
     },
     "execution_count": 243,
     "metadata": {},
     "output_type": "execute_result"
    }
   ],
   "source": [
    "np.random.rand(20)"
   ]
  },
  {
   "cell_type": "code",
   "execution_count": 263,
   "id": "6a2eacfa",
   "metadata": {},
   "outputs": [
    {
     "data": {
      "text/plain": [
       "-2.31163869350953"
      ]
     },
     "execution_count": 263,
     "metadata": {},
     "output_type": "execute_result"
    }
   ],
   "source": [
    "min(np.random.randn(100))"
   ]
  },
  {
   "cell_type": "code",
   "execution_count": 246,
   "id": "f50dd661",
   "metadata": {},
   "outputs": [],
   "source": [
    "np.random.randn?"
   ]
  },
  {
   "cell_type": "code",
   "execution_count": 271,
   "id": "e9aad71f",
   "metadata": {},
   "outputs": [
    {
     "data": {
      "text/plain": [
       "array([10, 79, 73, 12, 13, 82, 75, 33, 57, 72, 38, 78, 49, 47, 73, 83, 30,\n",
       "       82, 55, 89, 58, 32, 57, 37, 63, 71, 90, 68, 36, 94, 85, 67, 15, 43,\n",
       "       63, 54, 29, 10, 35, 68, 57, 75, 71, 90, 31, 74, 48, 29, 73, 50])"
      ]
     },
     "execution_count": 271,
     "metadata": {},
     "output_type": "execute_result"
    }
   ],
   "source": [
    "np.random.randint(low = 10, high = 99, size = 50)"
   ]
  },
  {
   "cell_type": "markdown",
   "id": "3350b74e",
   "metadata": {},
   "source": [
    "### Numpy Seed\n",
    "\n",
    "Whenever you are working on numbers and you are performing any x,y,z analysis on your dataset and the same data you want in your system."
   ]
  },
  {
   "cell_type": "code",
   "execution_count": 277,
   "id": "85948c9b",
   "metadata": {},
   "outputs": [
    {
     "data": {
      "text/plain": [
       "array([19, 25, 74, 38, 39, 18, 83, 10, 50, 46, 26, 21, 64, 98, 72, 43, 82,\n",
       "       88, 59, 61, 64, 87, 79, 23, 35, 23, 96, 40, 40, 22, 75, 41, 67, 46,\n",
       "       37, 28, 87, 32, 33, 21, 38, 84, 98, 19, 25, 28, 90, 81, 98, 21])"
      ]
     },
     "execution_count": 277,
     "metadata": {},
     "output_type": "execute_result"
    }
   ],
   "source": [
    "np.random.seed(10)\n",
    "np.random.randint(low = 10, high = 99, size = 50)"
   ]
  },
  {
   "cell_type": "code",
   "execution_count": 278,
   "id": "01b8f9bd",
   "metadata": {},
   "outputs": [
    {
     "data": {
      "text/plain": [
       "array([35, 73, 90, 91, 65, 23, 86, 43, 81, 92, 34, 58, 42, 55, 14, 44, 22,\n",
       "       11, 84, 47, 94, 91, 34, 27, 77, 80, 53, 74, 89, 33, 37, 80, 20, 67,\n",
       "       37, 54, 24, 17, 65, 89, 74, 50, 37, 15, 63, 81, 60, 69, 11, 13])"
      ]
     },
     "execution_count": 278,
     "metadata": {},
     "output_type": "execute_result"
    }
   ],
   "source": [
    "np.random.seed(11)\n",
    "np.random.randint(low = 10, high = 99, size = 50)"
   ]
  },
  {
   "cell_type": "code",
   "execution_count": 279,
   "id": "2f5e541b",
   "metadata": {},
   "outputs": [
    {
     "data": {
      "text/plain": [
       "array([61, 24, 81, 70, 30, 92, 96, 84, 84, 97, 33, 12, 31, 62, 11, 97, 39,\n",
       "       47, 11, 73, 69, 30, 42, 85, 67, 31, 98, 58, 68, 51, 69, 89, 24, 71,\n",
       "       71, 56, 71, 60, 64, 73, 12, 60, 16, 30, 82, 48, 27, 13, 98, 69])"
      ]
     },
     "execution_count": 279,
     "metadata": {},
     "output_type": "execute_result"
    }
   ],
   "source": [
    "np.random.seed(42)\n",
    "np.random.randint(low = 10, high = 99, size = 50)"
   ]
  },
  {
   "cell_type": "code",
   "execution_count": 280,
   "id": "25b678c4",
   "metadata": {},
   "outputs": [
    {
     "data": {
      "text/plain": [
       "array([18, 34, 77, 97, 89, 58, 20, 62, 63, 76, 24, 44, 34, 25, 70, 68, 26,\n",
       "       19, 96, 12, 37, 14, 41, 11, 23, 93, 14, 69, 77, 17, 59, 57, 75, 71,\n",
       "       24, 65, 81, 90, 12, 29, 73, 63, 37, 66, 40, 58, 57, 49, 48, 54])"
      ]
     },
     "execution_count": 280,
     "metadata": {},
     "output_type": "execute_result"
    }
   ],
   "source": [
    "np.random.seed(100)\n",
    "np.random.randint(low = 10, high = 99, size = 50)"
   ]
  },
  {
   "cell_type": "code",
   "execution_count": 281,
   "id": "c8106a7d",
   "metadata": {},
   "outputs": [
    {
     "data": {
      "text/plain": [
       "array([22, 63, 41, 50, 57, 12, 31, 82, 71, 27, 80, 82, 95, 64, 49, 44, 72,\n",
       "       85, 61, 86, 24, 25, 17, 82, 53, 51, 84, 44, 36, 54, 45, 87, 40, 16,\n",
       "       87, 68, 56, 98, 14, 88, 89, 92, 95, 90, 70, 65, 50, 96, 78, 37])"
      ]
     },
     "execution_count": 281,
     "metadata": {},
     "output_type": "execute_result"
    }
   ],
   "source": [
    "np.random.seed(10000)\n",
    "np.random.randint(low = 10, high = 99, size = 50)"
   ]
  },
  {
   "cell_type": "code",
   "execution_count": 288,
   "id": "8eb1e6a3",
   "metadata": {},
   "outputs": [
    {
     "data": {
      "text/plain": [
       "array([275, 135, 537, 330, 379])"
      ]
     },
     "execution_count": 288,
     "metadata": {},
     "output_type": "execute_result"
    }
   ],
   "source": [
    "np.random.seed(10)\n",
    "np.random.randint(10,1000,5)"
   ]
  },
  {
   "cell_type": "markdown",
   "id": "0e7c30af",
   "metadata": {},
   "source": [
    "### Concatenating and Splitting arrays:"
   ]
  },
  {
   "cell_type": "code",
   "execution_count": 304,
   "id": "21798fa5",
   "metadata": {},
   "outputs": [],
   "source": [
    "arr1 = np.array([[1,2],[-4,3],[2,-5]])"
   ]
  },
  {
   "cell_type": "code",
   "execution_count": 305,
   "id": "7e063061",
   "metadata": {},
   "outputs": [
    {
     "data": {
      "text/plain": [
       "array([[ 1,  2],\n",
       "       [-4,  3],\n",
       "       [ 2, -5]])"
      ]
     },
     "execution_count": 305,
     "metadata": {},
     "output_type": "execute_result"
    }
   ],
   "source": [
    "arr1"
   ]
  },
  {
   "cell_type": "code",
   "execution_count": 308,
   "id": "1cf1b686",
   "metadata": {},
   "outputs": [
    {
     "data": {
      "text/plain": [
       "array([[ 1,  2],\n",
       "       [-4,  3],\n",
       "       [ 2, -5]])"
      ]
     },
     "execution_count": 308,
     "metadata": {},
     "output_type": "execute_result"
    }
   ],
   "source": [
    "arr2 = np.array([[1,2],[-4,3],[2,-5]])\n",
    "arr2"
   ]
  },
  {
   "cell_type": "code",
   "execution_count": 307,
   "id": "784f8089",
   "metadata": {},
   "outputs": [
    {
     "data": {
      "text/plain": [
       "array([[ 1,  2],\n",
       "       [-4,  3],\n",
       "       [ 2, -5],\n",
       "       [ 1,  2],\n",
       "       [-4,  3],\n",
       "       [ 2, -5]])"
      ]
     },
     "execution_count": 307,
     "metadata": {},
     "output_type": "execute_result"
    }
   ],
   "source": [
    "np.concatenate((arr1,arr2))"
   ]
  },
  {
   "cell_type": "code",
   "execution_count": 309,
   "id": "3807ba51",
   "metadata": {},
   "outputs": [
    {
     "data": {
      "text/plain": [
       "array([[ 1,  2],\n",
       "       [-4,  3],\n",
       "       [ 2, -5],\n",
       "       [ 1,  2],\n",
       "       [-4,  3],\n",
       "       [ 2, -5]])"
      ]
     },
     "execution_count": 309,
     "metadata": {},
     "output_type": "execute_result"
    }
   ],
   "source": [
    "np.concatenate((arr1,arr2), axis = 0)"
   ]
  },
  {
   "cell_type": "code",
   "execution_count": 310,
   "id": "78d3b7b2",
   "metadata": {},
   "outputs": [
    {
     "data": {
      "text/plain": [
       "array([[ 1,  2,  1,  2],\n",
       "       [-4,  3, -4,  3],\n",
       "       [ 2, -5,  2, -5]])"
      ]
     },
     "execution_count": 310,
     "metadata": {},
     "output_type": "execute_result"
    }
   ],
   "source": [
    "np.concatenate((arr1,arr2), axis = 1)"
   ]
  },
  {
   "cell_type": "code",
   "execution_count": 311,
   "id": "f7859c8e",
   "metadata": {},
   "outputs": [
    {
     "data": {
      "text/plain": [
       "array([[ 1,  2,  1,  2],\n",
       "       [-4,  3, -4,  3],\n",
       "       [ 2, -5,  2, -5]])"
      ]
     },
     "execution_count": 311,
     "metadata": {},
     "output_type": "execute_result"
    }
   ],
   "source": [
    "arr3 = np.concatenate((arr1,arr2), axis = 1)\n",
    "arr3"
   ]
  },
  {
   "cell_type": "code",
   "execution_count": 313,
   "id": "f9e58978",
   "metadata": {},
   "outputs": [
    {
     "data": {
      "text/plain": [
       "[array([[1, 2, 1, 2]]),\n",
       " array([[-4,  3, -4,  3],\n",
       "        [ 2, -5,  2, -5]])]"
      ]
     },
     "execution_count": 313,
     "metadata": {},
     "output_type": "execute_result"
    }
   ],
   "source": [
    "np.split(ary = arr3, indices_or_sections=[1])"
   ]
  },
  {
   "cell_type": "markdown",
   "id": "c8c68649",
   "metadata": {},
   "source": [
    "### Arithematic Operations:"
   ]
  },
  {
   "cell_type": "code",
   "execution_count": 314,
   "id": "f5ec363c",
   "metadata": {},
   "outputs": [],
   "source": [
    "revenue_nov = np.array([3485.09, 2784.89, 1930.80])\n",
    "revenue_dec = np.array([4859.90,1800.00,4500.50])"
   ]
  },
  {
   "cell_type": "code",
   "execution_count": 315,
   "id": "8c187848",
   "metadata": {},
   "outputs": [
    {
     "data": {
      "text/plain": [
       "array([8344.99, 4584.89, 6431.3 ])"
      ]
     },
     "execution_count": 315,
     "metadata": {},
     "output_type": "execute_result"
    }
   ],
   "source": [
    "revenue_nov + revenue_dec"
   ]
  },
  {
   "cell_type": "code",
   "execution_count": 316,
   "id": "04663a46",
   "metadata": {},
   "outputs": [],
   "source": [
    "total_revenue = revenue_nov + revenue_dec"
   ]
  },
  {
   "cell_type": "code",
   "execution_count": 317,
   "id": "8290ac3c",
   "metadata": {},
   "outputs": [
    {
     "data": {
      "text/plain": [
       "array([8344.99, 4584.89, 6431.3 ])"
      ]
     },
     "execution_count": 317,
     "metadata": {},
     "output_type": "execute_result"
    }
   ],
   "source": [
    "total_revenue"
   ]
  },
  {
   "cell_type": "code",
   "execution_count": 318,
   "id": "fff05a40",
   "metadata": {},
   "outputs": [
    {
     "data": {
      "text/plain": [
       "array([3535.09, 2834.89, 1980.8 ])"
      ]
     },
     "execution_count": 318,
     "metadata": {},
     "output_type": "execute_result"
    }
   ],
   "source": [
    "revenue_nov + 50"
   ]
  },
  {
   "cell_type": "code",
   "execution_count": 319,
   "id": "1bb2ab88",
   "metadata": {},
   "outputs": [
    {
     "data": {
      "text/plain": [
       "array([3435.09, 2734.89, 1880.8 ])"
      ]
     },
     "execution_count": 319,
     "metadata": {},
     "output_type": "execute_result"
    }
   ],
   "source": [
    "revenue_nov - 50"
   ]
  },
  {
   "cell_type": "code",
   "execution_count": 320,
   "id": "394221de",
   "metadata": {},
   "outputs": [
    {
     "data": {
      "text/plain": [
       "array([1742.545, 1392.445,  965.4  ])"
      ]
     },
     "execution_count": 320,
     "metadata": {},
     "output_type": "execute_result"
    }
   ],
   "source": [
    "revenue_nov / 2"
   ]
  },
  {
   "cell_type": "code",
   "execution_count": 321,
   "id": "386b288d",
   "metadata": {},
   "outputs": [
    {
     "data": {
      "text/plain": [
       "array([6970.18, 5569.78, 3861.6 ])"
      ]
     },
     "execution_count": 321,
     "metadata": {},
     "output_type": "execute_result"
    }
   ],
   "source": [
    "revenue_nov * 2"
   ]
  },
  {
   "cell_type": "code",
   "execution_count": 322,
   "id": "20a13b33",
   "metadata": {},
   "outputs": [],
   "source": [
    "v1 = np.array([[5,-4],[-3,2]])\n",
    "v2 = np.array([[3,8],[-6,0]])"
   ]
  },
  {
   "cell_type": "code",
   "execution_count": 323,
   "id": "9d89399e",
   "metadata": {},
   "outputs": [
    {
     "data": {
      "text/plain": [
       "array([[ 5, -4],\n",
       "       [-3,  2]])"
      ]
     },
     "execution_count": 323,
     "metadata": {},
     "output_type": "execute_result"
    }
   ],
   "source": [
    "v1"
   ]
  },
  {
   "cell_type": "code",
   "execution_count": 324,
   "id": "4d4e6e64",
   "metadata": {},
   "outputs": [
    {
     "data": {
      "text/plain": [
       "array([[ 3,  8],\n",
       "       [-6,  0]])"
      ]
     },
     "execution_count": 324,
     "metadata": {},
     "output_type": "execute_result"
    }
   ],
   "source": [
    "v2"
   ]
  },
  {
   "cell_type": "code",
   "execution_count": 325,
   "id": "ca04f41c",
   "metadata": {},
   "outputs": [
    {
     "data": {
      "text/plain": [
       "array([[ 8,  4],\n",
       "       [-9,  2]])"
      ]
     },
     "execution_count": 325,
     "metadata": {},
     "output_type": "execute_result"
    }
   ],
   "source": [
    "v1 + v2"
   ]
  },
  {
   "cell_type": "code",
   "execution_count": 326,
   "id": "9978fbf4",
   "metadata": {},
   "outputs": [
    {
     "data": {
      "text/plain": [
       "array([[  2, -12],\n",
       "       [  3,   2]])"
      ]
     },
     "execution_count": 326,
     "metadata": {},
     "output_type": "execute_result"
    }
   ],
   "source": [
    "v1 - v2"
   ]
  },
  {
   "cell_type": "code",
   "execution_count": 327,
   "id": "9b2d3558",
   "metadata": {},
   "outputs": [
    {
     "data": {
      "text/plain": [
       "array([[ 5, -4],\n",
       "       [-3,  2]])"
      ]
     },
     "execution_count": 327,
     "metadata": {},
     "output_type": "execute_result"
    }
   ],
   "source": [
    "v1"
   ]
  },
  {
   "cell_type": "code",
   "execution_count": 329,
   "id": "cf39173a",
   "metadata": {},
   "outputs": [],
   "source": [
    "sum_arr = v1 + 8"
   ]
  },
  {
   "cell_type": "code",
   "execution_count": 332,
   "id": "28ae7a45",
   "metadata": {},
   "outputs": [
    {
     "data": {
      "text/plain": [
       "array([16,  7])"
      ]
     },
     "execution_count": 332,
     "metadata": {},
     "output_type": "execute_result"
    }
   ],
   "source": [
    "sum_arr[0] + 3\n"
   ]
  },
  {
   "cell_type": "code",
   "execution_count": 333,
   "id": "61ee84f6",
   "metadata": {},
   "outputs": [
    {
     "data": {
      "text/plain": [
       "array([[13,  4],\n",
       "       [ 5, 10]])"
      ]
     },
     "execution_count": 333,
     "metadata": {},
     "output_type": "execute_result"
    }
   ],
   "source": [
    "sum_arr"
   ]
  },
  {
   "cell_type": "code",
   "execution_count": 334,
   "id": "7294585f",
   "metadata": {},
   "outputs": [
    {
     "data": {
      "text/plain": [
       "array([[16,  7],\n",
       "       [ 5, 10]])"
      ]
     },
     "execution_count": 334,
     "metadata": {},
     "output_type": "execute_result"
    }
   ],
   "source": [
    "sum_arr[0] = sum_arr[0] + 3\n",
    "sum_arr"
   ]
  },
  {
   "cell_type": "markdown",
   "id": "435b8844",
   "metadata": {},
   "source": [
    "### Numpy provides set operations  as follows:\n",
    "\n",
    "* setdiff1d\n",
    "* intersection1d"
   ]
  },
  {
   "cell_type": "code",
   "execution_count": 335,
   "id": "9bad836d",
   "metadata": {},
   "outputs": [],
   "source": [
    "x = np.array([4,5,6,7,8,9,0])\n",
    "y = np.array([4,5,1,8,12])"
   ]
  },
  {
   "cell_type": "code",
   "execution_count": 336,
   "id": "4b1ee520",
   "metadata": {},
   "outputs": [
    {
     "data": {
      "text/plain": [
       "array([0, 6, 7, 9])"
      ]
     },
     "execution_count": 336,
     "metadata": {},
     "output_type": "execute_result"
    }
   ],
   "source": [
    "np.setdiff1d(x,y)"
   ]
  },
  {
   "cell_type": "code",
   "execution_count": 337,
   "id": "2cc0141b",
   "metadata": {},
   "outputs": [
    {
     "data": {
      "text/plain": [
       "array([ 1, 12])"
      ]
     },
     "execution_count": 337,
     "metadata": {},
     "output_type": "execute_result"
    }
   ],
   "source": [
    "np.setdiff1d(y,x)"
   ]
  },
  {
   "cell_type": "code",
   "execution_count": 338,
   "id": "6392b14a",
   "metadata": {},
   "outputs": [
    {
     "data": {
      "text/plain": [
       "array([4, 5, 8])"
      ]
     },
     "execution_count": 338,
     "metadata": {},
     "output_type": "execute_result"
    }
   ],
   "source": [
    "np.intersect1d(x,y)"
   ]
  },
  {
   "cell_type": "code",
   "execution_count": 340,
   "id": "1e8eaa5f",
   "metadata": {},
   "outputs": [
    {
     "data": {
      "text/plain": [
       "array([4, 5, 6, 7, 8, 9, 0])"
      ]
     },
     "execution_count": 340,
     "metadata": {},
     "output_type": "execute_result"
    }
   ],
   "source": [
    "x"
   ]
  },
  {
   "cell_type": "code",
   "execution_count": 341,
   "id": "6eaba579",
   "metadata": {},
   "outputs": [
    {
     "data": {
      "text/plain": [
       "array([ 4,  5,  1,  8, 12])"
      ]
     },
     "execution_count": 341,
     "metadata": {},
     "output_type": "execute_result"
    }
   ],
   "source": [
    "y"
   ]
  },
  {
   "cell_type": "code",
   "execution_count": 339,
   "id": "2e0addb8",
   "metadata": {},
   "outputs": [
    {
     "data": {
      "text/plain": [
       "(array([4, 5, 8]),\n",
       " array([0, 1, 4], dtype=int64),\n",
       " array([0, 1, 3], dtype=int64))"
      ]
     },
     "execution_count": 339,
     "metadata": {},
     "output_type": "execute_result"
    }
   ],
   "source": [
    "np.intersect1d(x,y, return_indices=True)"
   ]
  },
  {
   "cell_type": "markdown",
   "id": "4f2c3087",
   "metadata": {},
   "source": [
    "### Mathematical and Statistical Function in numpy"
   ]
  },
  {
   "cell_type": "code",
   "execution_count": 342,
   "id": "90c5d3b6",
   "metadata": {},
   "outputs": [],
   "source": [
    "x1 = np.array([1,2,3])\n",
    "x2 = np.array([2,2,2])"
   ]
  },
  {
   "cell_type": "code",
   "execution_count": 343,
   "id": "7e52c778",
   "metadata": {},
   "outputs": [
    {
     "data": {
      "text/plain": [
       "array([3, 4, 5])"
      ]
     },
     "execution_count": 343,
     "metadata": {},
     "output_type": "execute_result"
    }
   ],
   "source": [
    "np.add(x1,x2)"
   ]
  },
  {
   "cell_type": "code",
   "execution_count": 344,
   "id": "eac434b6",
   "metadata": {},
   "outputs": [
    {
     "data": {
      "text/plain": [
       "array([-1,  0,  1])"
      ]
     },
     "execution_count": 344,
     "metadata": {},
     "output_type": "execute_result"
    }
   ],
   "source": [
    "np.subtract(x1,x2)"
   ]
  },
  {
   "cell_type": "code",
   "execution_count": 345,
   "id": "542781d1",
   "metadata": {},
   "outputs": [
    {
     "data": {
      "text/plain": [
       "array([2, 4, 6])"
      ]
     },
     "execution_count": 345,
     "metadata": {},
     "output_type": "execute_result"
    }
   ],
   "source": [
    "np.multiply(x1,x2)"
   ]
  },
  {
   "cell_type": "code",
   "execution_count": 346,
   "id": "0c89dd03",
   "metadata": {},
   "outputs": [
    {
     "data": {
      "text/plain": [
       "array([1, 4, 9], dtype=int32)"
      ]
     },
     "execution_count": 346,
     "metadata": {},
     "output_type": "execute_result"
    }
   ],
   "source": [
    "np.power(x1,2)"
   ]
  },
  {
   "cell_type": "code",
   "execution_count": 347,
   "id": "aa1f6db5",
   "metadata": {},
   "outputs": [
    {
     "data": {
      "text/plain": [
       "array([1.41421356, 1.41421356, 1.41421356])"
      ]
     },
     "execution_count": 347,
     "metadata": {},
     "output_type": "execute_result"
    }
   ],
   "source": [
    "np.sqrt(x2)"
   ]
  },
  {
   "cell_type": "code",
   "execution_count": 348,
   "id": "b1f2d1bb",
   "metadata": {},
   "outputs": [
    {
     "data": {
      "text/plain": [
       "array([1, 2, 3])"
      ]
     },
     "execution_count": 348,
     "metadata": {},
     "output_type": "execute_result"
    }
   ],
   "source": [
    "x1"
   ]
  },
  {
   "cell_type": "code",
   "execution_count": 349,
   "id": "ca340878",
   "metadata": {},
   "outputs": [
    {
     "data": {
      "text/plain": [
       "array([2, 2, 2])"
      ]
     },
     "execution_count": 349,
     "metadata": {},
     "output_type": "execute_result"
    }
   ],
   "source": [
    "x2"
   ]
  },
  {
   "cell_type": "code",
   "execution_count": 350,
   "id": "8af682e6",
   "metadata": {},
   "outputs": [
    {
     "data": {
      "text/plain": [
       "(array([0, 1, 1]), array([1, 0, 1]))"
      ]
     },
     "execution_count": 350,
     "metadata": {},
     "output_type": "execute_result"
    }
   ],
   "source": [
    "np.divmod(x1,x2)"
   ]
  },
  {
   "cell_type": "code",
   "execution_count": 351,
   "id": "9f209a97",
   "metadata": {},
   "outputs": [
    {
     "data": {
      "text/plain": [
       "array([ 4,  5,  1,  8, 12])"
      ]
     },
     "execution_count": 351,
     "metadata": {},
     "output_type": "execute_result"
    }
   ],
   "source": [
    "y"
   ]
  },
  {
   "cell_type": "code",
   "execution_count": 354,
   "id": "8692567d",
   "metadata": {},
   "outputs": [],
   "source": [
    "y = np.append(y,11)"
   ]
  },
  {
   "cell_type": "code",
   "execution_count": 355,
   "id": "747ac9ce",
   "metadata": {},
   "outputs": [
    {
     "data": {
      "text/plain": [
       "array([ 4,  5,  1,  8, 12, 11])"
      ]
     },
     "execution_count": 355,
     "metadata": {},
     "output_type": "execute_result"
    }
   ],
   "source": [
    "y"
   ]
  },
  {
   "cell_type": "code",
   "execution_count": 356,
   "id": "5c612074",
   "metadata": {},
   "outputs": [
    {
     "data": {
      "text/plain": [
       "array([4, 5, 6, 7, 8, 9, 0])"
      ]
     },
     "execution_count": 356,
     "metadata": {},
     "output_type": "execute_result"
    }
   ],
   "source": [
    "x"
   ]
  },
  {
   "cell_type": "code",
   "execution_count": 358,
   "id": "3f51baee",
   "metadata": {},
   "outputs": [],
   "source": [
    "x1 = np.array([10,20,30])\n",
    "x2 = np.array([5,6,6])"
   ]
  },
  {
   "cell_type": "code",
   "execution_count": 359,
   "id": "4c832d9b",
   "metadata": {},
   "outputs": [
    {
     "data": {
      "text/plain": [
       "(array([2, 3, 5]), array([0, 2, 0]))"
      ]
     },
     "execution_count": 359,
     "metadata": {},
     "output_type": "execute_result"
    }
   ],
   "source": [
    "np.divmod(x1,x2)"
   ]
  },
  {
   "cell_type": "code",
   "execution_count": 360,
   "id": "c873628c",
   "metadata": {},
   "outputs": [],
   "source": [
    "quotient, remainder = np.divmod(x1,x2)"
   ]
  },
  {
   "cell_type": "code",
   "execution_count": 361,
   "id": "678c9d00",
   "metadata": {},
   "outputs": [
    {
     "data": {
      "text/plain": [
       "array([2, 3, 5])"
      ]
     },
     "execution_count": 361,
     "metadata": {},
     "output_type": "execute_result"
    }
   ],
   "source": [
    "quotient"
   ]
  },
  {
   "cell_type": "code",
   "execution_count": 362,
   "id": "27396a39",
   "metadata": {},
   "outputs": [
    {
     "data": {
      "text/plain": [
       "array([0, 2, 0])"
      ]
     },
     "execution_count": 362,
     "metadata": {},
     "output_type": "execute_result"
    }
   ],
   "source": [
    "remainder"
   ]
  },
  {
   "cell_type": "code",
   "execution_count": 363,
   "id": "7ec1b22e",
   "metadata": {},
   "outputs": [
    {
     "data": {
      "text/plain": [
       "array([2.        , 3.33333333, 5.        ])"
      ]
     },
     "execution_count": 363,
     "metadata": {},
     "output_type": "execute_result"
    }
   ],
   "source": [
    "np.divide(x1,x2)"
   ]
  },
  {
   "cell_type": "code",
   "execution_count": 364,
   "id": "d864aef9",
   "metadata": {},
   "outputs": [
    {
     "data": {
      "text/plain": [
       "array([2, 3, 5])"
      ]
     },
     "execution_count": 364,
     "metadata": {},
     "output_type": "execute_result"
    }
   ],
   "source": [
    "np.floor_divide(x1,x2)"
   ]
  },
  {
   "cell_type": "code",
   "execution_count": 365,
   "id": "ad47ada4",
   "metadata": {},
   "outputs": [
    {
     "data": {
      "text/plain": [
       "array([0, 2, 0])"
      ]
     },
     "execution_count": 365,
     "metadata": {},
     "output_type": "execute_result"
    }
   ],
   "source": [
    "np.mod(x1,x2)"
   ]
  },
  {
   "cell_type": "code",
   "execution_count": 380,
   "id": "c963cc51",
   "metadata": {},
   "outputs": [],
   "source": [
    "arr = np.random.randint(10,100,40)"
   ]
  },
  {
   "cell_type": "code",
   "execution_count": 381,
   "id": "f8c0c4f5",
   "metadata": {},
   "outputs": [
    {
     "data": {
      "text/plain": [
       "array([33, 21, 38, 84, 98, 19, 25, 28, 90, 81, 98, 21, 27, 56, 17, 85, 38,\n",
       "       43, 94, 98, 54, 15, 14, 81, 98, 98, 60, 64, 44, 25, 87, 98, 25, 16,\n",
       "       95, 32, 21, 22, 72, 67])"
      ]
     },
     "execution_count": 381,
     "metadata": {},
     "output_type": "execute_result"
    }
   ],
   "source": [
    "arr"
   ]
  },
  {
   "cell_type": "code",
   "execution_count": 382,
   "id": "42b03ec7",
   "metadata": {},
   "outputs": [
    {
     "data": {
      "text/plain": [
       "54.55"
      ]
     },
     "execution_count": 382,
     "metadata": {},
     "output_type": "execute_result"
    }
   ],
   "source": [
    "np.mean(arr)"
   ]
  },
  {
   "cell_type": "code",
   "execution_count": 383,
   "id": "bd076b5b",
   "metadata": {},
   "outputs": [
    {
     "data": {
      "text/plain": [
       "2182"
      ]
     },
     "execution_count": 383,
     "metadata": {},
     "output_type": "execute_result"
    }
   ],
   "source": [
    "np.sum(arr)"
   ]
  },
  {
   "cell_type": "code",
   "execution_count": 384,
   "id": "7c5a34e0",
   "metadata": {},
   "outputs": [
    {
     "data": {
      "text/plain": [
       "54.55"
      ]
     },
     "execution_count": 384,
     "metadata": {},
     "output_type": "execute_result"
    }
   ],
   "source": [
    "np.average(arr)"
   ]
  },
  {
   "cell_type": "code",
   "execution_count": 385,
   "id": "22c11f26",
   "metadata": {},
   "outputs": [
    {
     "data": {
      "text/plain": [
       "30.926485412991887"
      ]
     },
     "execution_count": 385,
     "metadata": {},
     "output_type": "execute_result"
    }
   ],
   "source": [
    "np.std(arr)"
   ]
  },
  {
   "cell_type": "code",
   "execution_count": 386,
   "id": "dd237958",
   "metadata": {},
   "outputs": [
    {
     "data": {
      "text/plain": [
       "49.0"
      ]
     },
     "execution_count": 386,
     "metadata": {},
     "output_type": "execute_result"
    }
   ],
   "source": [
    "np.median(arr)"
   ]
  },
  {
   "cell_type": "code",
   "execution_count": 387,
   "id": "7a962cb3",
   "metadata": {},
   "outputs": [
    {
     "data": {
      "text/plain": [
       "14.0975"
      ]
     },
     "execution_count": 387,
     "metadata": {},
     "output_type": "execute_result"
    }
   ],
   "source": [
    "np.percentile(arr,0.25)"
   ]
  },
  {
   "cell_type": "code",
   "execution_count": 388,
   "id": "0b7a9024",
   "metadata": {},
   "outputs": [
    {
     "name": "stdout",
     "output_type": "stream",
     "text": [
      "[33 21 38 84 98 19 25 28 90 81 98 21 27 56 17 85 38 43 94 98 54 15 14 81\n",
      " 98 98 60 64 44 25 87 98 25 16 95 32 21 22 72 67]\n"
     ]
    }
   ],
   "source": [
    "print(arr)"
   ]
  },
  {
   "cell_type": "code",
   "execution_count": 400,
   "id": "5f6e4147",
   "metadata": {},
   "outputs": [],
   "source": [
    "arr1 = np.array([4,np.nan,5,6,np.nan,5,10,np.nan])"
   ]
  },
  {
   "cell_type": "code",
   "execution_count": 401,
   "id": "76a919b3",
   "metadata": {},
   "outputs": [
    {
     "data": {
      "text/plain": [
       "array([ 4., nan,  5.,  6., nan,  5., 10., nan])"
      ]
     },
     "execution_count": 401,
     "metadata": {},
     "output_type": "execute_result"
    }
   ],
   "source": [
    "arr1"
   ]
  },
  {
   "cell_type": "code",
   "execution_count": 402,
   "id": "be8c717c",
   "metadata": {},
   "outputs": [
    {
     "data": {
      "text/plain": [
       "nan"
      ]
     },
     "execution_count": 402,
     "metadata": {},
     "output_type": "execute_result"
    }
   ],
   "source": [
    "sum(arr)"
   ]
  },
  {
   "cell_type": "code",
   "execution_count": 403,
   "id": "44b5a11d",
   "metadata": {},
   "outputs": [
    {
     "data": {
      "text/plain": [
       "10.0"
      ]
     },
     "execution_count": 403,
     "metadata": {},
     "output_type": "execute_result"
    }
   ],
   "source": [
    "max(arr)"
   ]
  },
  {
   "cell_type": "code",
   "execution_count": 404,
   "id": "480c33ff",
   "metadata": {},
   "outputs": [
    {
     "data": {
      "text/plain": [
       "4.0"
      ]
     },
     "execution_count": 404,
     "metadata": {},
     "output_type": "execute_result"
    }
   ],
   "source": [
    "min(arr)"
   ]
  },
  {
   "cell_type": "code",
   "execution_count": 405,
   "id": "3b0cdb7d",
   "metadata": {},
   "outputs": [
    {
     "data": {
      "text/plain": [
       "nan"
      ]
     },
     "execution_count": 405,
     "metadata": {},
     "output_type": "execute_result"
    }
   ],
   "source": [
    "np.mean(arr1)"
   ]
  },
  {
   "cell_type": "code",
   "execution_count": 406,
   "id": "4716fefb",
   "metadata": {},
   "outputs": [
    {
     "data": {
      "text/plain": [
       "nan"
      ]
     },
     "execution_count": 406,
     "metadata": {},
     "output_type": "execute_result"
    }
   ],
   "source": [
    "np.std(arr1)"
   ]
  },
  {
   "cell_type": "code",
   "execution_count": 407,
   "id": "fb973c46",
   "metadata": {},
   "outputs": [
    {
     "data": {
      "text/plain": [
       "array([ 4.,  5.,  6., nan,  5., 10., nan])"
      ]
     },
     "execution_count": 407,
     "metadata": {},
     "output_type": "execute_result"
    }
   ],
   "source": [
    "arr"
   ]
  },
  {
   "cell_type": "code",
   "execution_count": 408,
   "id": "75061ef7",
   "metadata": {},
   "outputs": [
    {
     "data": {
      "text/plain": [
       "30.0"
      ]
     },
     "execution_count": 408,
     "metadata": {},
     "output_type": "execute_result"
    }
   ],
   "source": [
    "np.nansum(arr)"
   ]
  },
  {
   "cell_type": "code",
   "execution_count": 409,
   "id": "9142d6a8",
   "metadata": {},
   "outputs": [
    {
     "data": {
      "text/plain": [
       "6.0"
      ]
     },
     "execution_count": 409,
     "metadata": {},
     "output_type": "execute_result"
    }
   ],
   "source": [
    "np.nanmean(arr)"
   ]
  },
  {
   "cell_type": "code",
   "execution_count": 411,
   "id": "33dce9f3",
   "metadata": {},
   "outputs": [
    {
     "data": {
      "text/plain": [
       "4.01"
      ]
     },
     "execution_count": 411,
     "metadata": {},
     "output_type": "execute_result"
    }
   ],
   "source": [
    "np.nanpercentile(arr,0.25)"
   ]
  },
  {
   "cell_type": "code",
   "execution_count": 412,
   "id": "d9d160e6",
   "metadata": {},
   "outputs": [
    {
     "data": {
      "text/plain": [
       "10.0"
      ]
     },
     "execution_count": 412,
     "metadata": {},
     "output_type": "execute_result"
    }
   ],
   "source": [
    "np.nanmax(arr)"
   ]
  },
  {
   "cell_type": "code",
   "execution_count": 413,
   "id": "1ddd41d2",
   "metadata": {},
   "outputs": [
    {
     "name": "stdout",
     "output_type": "stream",
     "text": [
      "All the function from numpy:  ['ALLOW_THREADS', 'BUFSIZE', 'CLIP', 'DataSource', 'ERR_CALL', 'ERR_DEFAULT', 'ERR_IGNORE', 'ERR_LOG', 'ERR_PRINT', 'ERR_RAISE', 'ERR_WARN', 'FLOATING_POINT_SUPPORT', 'FPE_DIVIDEBYZERO', 'FPE_INVALID', 'FPE_OVERFLOW', 'FPE_UNDERFLOW', 'False_', 'Inf', 'Infinity', 'MAXDIMS', 'MAY_SHARE_BOUNDS', 'MAY_SHARE_EXACT', 'NAN', 'NINF', 'NZERO', 'NaN', 'PINF', 'PZERO', 'RAISE', 'RankWarning', 'SHIFT_DIVIDEBYZERO', 'SHIFT_INVALID', 'SHIFT_OVERFLOW', 'SHIFT_UNDERFLOW', 'ScalarType', 'True_', 'UFUNC_BUFSIZE_DEFAULT', 'UFUNC_PYVALS_NAME', 'WRAP', '_CopyMode', '_NoValue', '_UFUNC_API', '_add_newdoc_ufunc', '_builtins', '_core', '_distributor_init', '_financial_names', '_get_promotion_state', '_globals', '_int_extended_msg', '_mat', '_no_nep50_warning', '_pyinstaller_hooks_dir', '_pytesttester', '_set_promotion_state', '_specific_msg', '_typing', '_using_numpy2_behavior', '_utils', 'abs', 'absolute', 'add', 'add_docstring', 'add_newdoc', 'add_newdoc_ufunc', 'all', 'allclose', 'alltrue', 'amax', 'amin', 'angle', 'any', 'append', 'apply_along_axis', 'apply_over_axes', 'arange', 'arccos', 'arccosh', 'arcsin', 'arcsinh', 'arctan', 'arctan2', 'arctanh', 'argmax', 'argmin', 'argpartition', 'argsort', 'argwhere', 'around', 'array', 'array2string', 'array_equal', 'array_equiv', 'array_repr', 'array_split', 'array_str', 'asanyarray', 'asarray', 'asarray_chkfinite', 'ascontiguousarray', 'asfarray', 'asfortranarray', 'asmatrix', 'atleast_1d', 'atleast_2d', 'atleast_3d', 'average', 'bartlett', 'base_repr', 'binary_repr', 'bincount', 'bitwise_and', 'bitwise_not', 'bitwise_or', 'bitwise_xor', 'blackman', 'block', 'bmat', 'bool_', 'broadcast', 'broadcast_arrays', 'broadcast_shapes', 'broadcast_to', 'busday_count', 'busday_offset', 'busdaycalendar', 'byte', 'byte_bounds', 'bytes_', 'c_', 'can_cast', 'cast', 'cbrt', 'cdouble', 'ceil', 'cfloat', 'char', 'character', 'chararray', 'choose', 'clip', 'clongdouble', 'clongfloat', 'column_stack', 'common_type', 'compare_chararrays', 'compat', 'complex128', 'complex64', 'complex_', 'complexfloating', 'compress', 'concatenate', 'conj', 'conjugate', 'convolve', 'copy', 'copysign', 'copyto', 'corrcoef', 'correlate', 'cos', 'cosh', 'count_nonzero', 'cov', 'cross', 'csingle', 'ctypeslib', 'cumprod', 'cumproduct', 'cumsum', 'datetime64', 'datetime_as_string', 'datetime_data', 'deg2rad', 'degrees', 'delete', 'deprecate', 'deprecate_with_doc', 'diag', 'diag_indices', 'diag_indices_from', 'diagflat', 'diagonal', 'diff', 'digitize', 'disp', 'divide', 'divmod', 'dot', 'double', 'dsplit', 'dstack', 'dtype', 'dtypes', 'e', 'ediff1d', 'einsum', 'einsum_path', 'emath', 'empty', 'empty_like', 'equal', 'errstate', 'euler_gamma', 'exceptions', 'exp', 'exp2', 'expand_dims', 'expm1', 'extract', 'eye', 'fabs', 'fastCopyAndTranspose', 'fft', 'fill_diagonal', 'find_common_type', 'finfo', 'fix', 'flatiter', 'flatnonzero', 'flexible', 'flip', 'fliplr', 'flipud', 'float16', 'float32', 'float64', 'float_', 'float_power', 'floating', 'floor', 'floor_divide', 'fmax', 'fmin', 'fmod', 'format_float_positional', 'format_float_scientific', 'format_parser', 'frexp', 'from_dlpack', 'frombuffer', 'fromfile', 'fromfunction', 'fromiter', 'frompyfunc', 'fromregex', 'fromstring', 'full', 'full_like', 'gcd', 'generic', 'genfromtxt', 'geomspace', 'get_array_wrap', 'get_include', 'get_printoptions', 'getbufsize', 'geterr', 'geterrcall', 'geterrobj', 'gradient', 'greater', 'greater_equal', 'half', 'hamming', 'hanning', 'heaviside', 'histogram', 'histogram2d', 'histogram_bin_edges', 'histogramdd', 'hsplit', 'hstack', 'hypot', 'i0', 'identity', 'iinfo', 'imag', 'in1d', 'index_exp', 'indices', 'inexact', 'inf', 'info', 'infty', 'inner', 'insert', 'int16', 'int32', 'int64', 'int8', 'int_', 'intc', 'integer', 'interp', 'intersect1d', 'intp', 'invert', 'is_busday', 'isclose', 'iscomplex', 'iscomplexobj', 'isfinite', 'isfortran', 'isin', 'isinf', 'isnan', 'isnat', 'isneginf', 'isposinf', 'isreal', 'isrealobj', 'isscalar', 'issctype', 'issubclass_', 'issubdtype', 'issubsctype', 'iterable', 'ix_', 'kaiser', 'kron', 'lcm', 'ldexp', 'left_shift', 'less', 'less_equal', 'lexsort', 'lib', 'linalg', 'linspace', 'little_endian', 'load', 'loadtxt', 'log', 'log10', 'log1p', 'log2', 'logaddexp', 'logaddexp2', 'logical_and', 'logical_not', 'logical_or', 'logical_xor', 'logspace', 'longcomplex', 'longdouble', 'longfloat', 'longlong', 'lookfor', 'ma', 'mask_indices', 'mat', 'matmul', 'matrix', 'max', 'maximum', 'maximum_sctype', 'may_share_memory', 'mean', 'median', 'memmap', 'meshgrid', 'mgrid', 'min', 'min_scalar_type', 'minimum', 'mintypecode', 'mod', 'modf', 'moveaxis', 'msort', 'multiply', 'nan', 'nan_to_num', 'nanargmax', 'nanargmin', 'nancumprod', 'nancumsum', 'nanmax', 'nanmean', 'nanmedian', 'nanmin', 'nanpercentile', 'nanprod', 'nanquantile', 'nanstd', 'nansum', 'nanvar', 'nbytes', 'ndarray', 'ndenumerate', 'ndim', 'ndindex', 'nditer', 'negative', 'nested_iters', 'newaxis', 'nextafter', 'nonzero', 'not_equal', 'numarray', 'number', 'obj2sctype', 'object_', 'ogrid', 'oldnumeric', 'ones', 'ones_like', 'outer', 'packbits', 'pad', 'partition', 'percentile', 'pi', 'piecewise', 'place', 'poly', 'poly1d', 'polyadd', 'polyder', 'polydiv', 'polyfit', 'polyint', 'polymul', 'polynomial', 'polysub', 'polyval', 'positive', 'power', 'printoptions', 'prod', 'product', 'promote_types', 'ptp', 'put', 'put_along_axis', 'putmask', 'quantile', 'r_', 'rad2deg', 'radians', 'random', 'ravel', 'ravel_multi_index', 'real', 'real_if_close', 'rec', 'recarray', 'recfromcsv', 'recfromtxt', 'reciprocal', 'record', 'remainder', 'repeat', 'require', 'reshape', 'resize', 'result_type', 'right_shift', 'rint', 'roll', 'rollaxis', 'roots', 'rot90', 'round', 'round_', 'row_stack', 's_', 'safe_eval', 'save', 'savetxt', 'savez', 'savez_compressed', 'sctype2char', 'sctypeDict', 'sctypes', 'searchsorted', 'select', 'set_numeric_ops', 'set_printoptions', 'set_string_function', 'setbufsize', 'setdiff1d', 'seterr', 'seterrcall', 'seterrobj', 'setxor1d', 'shape', 'shares_memory', 'short', 'show_config', 'show_runtime', 'sign', 'signbit', 'signedinteger', 'sin', 'sinc', 'single', 'singlecomplex', 'sinh', 'size', 'sometrue', 'sort', 'sort_complex', 'source', 'spacing', 'split', 'sqrt', 'square', 'squeeze', 'stack', 'std', 'str_', 'string_', 'subtract', 'sum', 'swapaxes', 'take', 'take_along_axis', 'tan', 'tanh', 'tensordot', 'test', 'testing', 'tile', 'timedelta64', 'trace', 'tracemalloc_domain', 'transpose', 'trapz', 'tri', 'tril', 'tril_indices', 'tril_indices_from', 'trim_zeros', 'triu', 'triu_indices', 'triu_indices_from', 'true_divide', 'trunc', 'typecodes', 'typename', 'ubyte', 'ufunc', 'uint', 'uint16', 'uint32', 'uint64', 'uint8', 'uintc', 'uintp', 'ulonglong', 'unicode_', 'union1d', 'unique', 'unpackbits', 'unravel_index', 'unsignedinteger', 'unwrap', 'ushort', 'vander', 'var', 'vdot', 'vectorize', 'version', 'void', 'vsplit', 'vstack', 'where', 'who', 'zeros', 'zeros_like']\n"
     ]
    }
   ],
   "source": [
    "print(\"All the function from numpy: \",\n",
    "     [i for i in dir(np) if \"__\" not in i])"
   ]
  },
  {
   "cell_type": "code",
   "execution_count": 420,
   "id": "b516f488",
   "metadata": {},
   "outputs": [],
   "source": [
    "# print(\"All the methods form list: \", [i for i in dir(list) if \"__\" not in i])\n",
    "# print()\n",
    "# print(\"All the methods form tuple: \", [i for i in dir(tuple) if \"__\" not in i])\n",
    "# print()\n",
    "# print(\"All the methods form set: \", [i for i in dir(set) if \"__\" not in i])\n",
    "\n",
    "# print()\n",
    "# print(\"All the methods form dict: \", [i for i in dir(dict) if \"__\" not in i])\n",
    "# print()\n",
    "# print(\"All the methods form str: \", [i for i in dir(str) if \"__\" not in i])\n"
   ]
  },
  {
   "cell_type": "code",
   "execution_count": 419,
   "id": "ff0c273a",
   "metadata": {},
   "outputs": [],
   "source": [
    "# print(dir(__builtins__))"
   ]
  },
  {
   "cell_type": "code",
   "execution_count": 425,
   "id": "df47c5ba",
   "metadata": {},
   "outputs": [
    {
     "data": {
      "text/plain": [
       "array([[ 0,  1,  2,  3],\n",
       "       [ 4,  5,  6,  7],\n",
       "       [ 8,  9, 10, 11],\n",
       "       [12, 13, 14, 15]])"
      ]
     },
     "execution_count": 425,
     "metadata": {},
     "output_type": "execute_result"
    }
   ],
   "source": [
    "np.arange(16).reshape(4,4)"
   ]
  },
  {
   "cell_type": "code",
   "execution_count": 427,
   "id": "e12acba3",
   "metadata": {},
   "outputs": [
    {
     "data": {
      "text/plain": [
       "array([[[ 0,  1,  2,  3,  4],\n",
       "        [ 5,  6,  7,  8,  9],\n",
       "        [10, 11, 12, 13, 14],\n",
       "        [15, 16, 17, 18, 19],\n",
       "        [20, 21, 22, 23, 24],\n",
       "        [25, 26, 27, 28, 29]],\n",
       "\n",
       "       [[30, 31, 32, 33, 34],\n",
       "        [35, 36, 37, 38, 39],\n",
       "        [40, 41, 42, 43, 44],\n",
       "        [45, 46, 47, 48, 49],\n",
       "        [50, 51, 52, 53, 54],\n",
       "        [55, 56, 57, 58, 59]]])"
      ]
     },
     "execution_count": 427,
     "metadata": {},
     "output_type": "execute_result"
    }
   ],
   "source": [
    "np.arange(60).reshape(2,6,5)"
   ]
  },
  {
   "cell_type": "code",
   "execution_count": 429,
   "id": "5708b4b5",
   "metadata": {},
   "outputs": [],
   "source": [
    "arr = np.arange(30).reshape(6,5)"
   ]
  },
  {
   "cell_type": "code",
   "execution_count": 430,
   "id": "42a2f32b",
   "metadata": {},
   "outputs": [
    {
     "data": {
      "text/plain": [
       "array([[ 0,  1,  2,  3,  4],\n",
       "       [ 5,  6,  7,  8,  9],\n",
       "       [10, 11, 12, 13, 14],\n",
       "       [15, 16, 17, 18, 19],\n",
       "       [20, 21, 22, 23, 24],\n",
       "       [25, 26, 27, 28, 29]])"
      ]
     },
     "execution_count": 430,
     "metadata": {},
     "output_type": "execute_result"
    }
   ],
   "source": [
    "arr"
   ]
  },
  {
   "cell_type": "code",
   "execution_count": 431,
   "id": "3796b536",
   "metadata": {},
   "outputs": [
    {
     "data": {
      "text/plain": [
       "435"
      ]
     },
     "execution_count": 431,
     "metadata": {},
     "output_type": "execute_result"
    }
   ],
   "source": [
    "arr.sum()"
   ]
  },
  {
   "cell_type": "code",
   "execution_count": 432,
   "id": "9cd916ef",
   "metadata": {},
   "outputs": [
    {
     "data": {
      "text/plain": [
       "array([75, 81, 87, 93, 99])"
      ]
     },
     "execution_count": 432,
     "metadata": {},
     "output_type": "execute_result"
    }
   ],
   "source": [
    "arr.sum(axis=0)"
   ]
  },
  {
   "cell_type": "code",
   "execution_count": 433,
   "id": "56488511",
   "metadata": {},
   "outputs": [
    {
     "data": {
      "text/plain": [
       "array([ 10,  35,  60,  85, 110, 135])"
      ]
     },
     "execution_count": 433,
     "metadata": {},
     "output_type": "execute_result"
    }
   ],
   "source": [
    "arr.sum(axis=1)"
   ]
  },
  {
   "cell_type": "code",
   "execution_count": 435,
   "id": "a5a0a71f",
   "metadata": {},
   "outputs": [
    {
     "data": {
      "text/plain": [
       "array([[ 0,  1,  2,  3,  4],\n",
       "       [ 5,  6,  7,  8,  9],\n",
       "       [10, 11, 12, 13, 14],\n",
       "       [15, 16, 17, 18, 19],\n",
       "       [20, 21, 22, 23, 24],\n",
       "       [25, 26, 27, 28, 29]])"
      ]
     },
     "execution_count": 435,
     "metadata": {},
     "output_type": "execute_result"
    }
   ],
   "source": [
    "arr"
   ]
  },
  {
   "cell_type": "code",
   "execution_count": 440,
   "id": "fe0aa3c4",
   "metadata": {},
   "outputs": [],
   "source": [
    "arr[0][0] = 1"
   ]
  },
  {
   "cell_type": "code",
   "execution_count": 445,
   "id": "7d2ef14f",
   "metadata": {},
   "outputs": [
    {
     "data": {
      "text/plain": [
       "array([[ 1,  1,  2,  3,  4],\n",
       "       [ 5,  6,  7,  8,  9],\n",
       "       [10, 11, 12, 13, 14],\n",
       "       [15, 16, 17, 18, 19],\n",
       "       [20, 21, 22, 23, 24],\n",
       "       [25, 26, 27, 28, 29]])"
      ]
     },
     "execution_count": 445,
     "metadata": {},
     "output_type": "execute_result"
    }
   ],
   "source": [
    "arr"
   ]
  },
  {
   "cell_type": "code",
   "execution_count": 447,
   "id": "d3dfcf9f",
   "metadata": {},
   "outputs": [
    {
     "data": {
      "text/plain": [
       "array([ 375000,  576576, 1696464, 3616704, 6664896])"
      ]
     },
     "execution_count": 447,
     "metadata": {},
     "output_type": "execute_result"
    }
   ],
   "source": [
    "arr.prod(axis=0)"
   ]
  },
  {
   "cell_type": "code",
   "execution_count": 448,
   "id": "3b40dd72",
   "metadata": {},
   "outputs": [
    {
     "data": {
      "text/plain": [
       "array([      24,    15120,   240240,  1395360,  5100480, 14250600])"
      ]
     },
     "execution_count": 448,
     "metadata": {},
     "output_type": "execute_result"
    }
   ],
   "source": [
    "arr.prod(axis=1)"
   ]
  },
  {
   "cell_type": "code",
   "execution_count": 449,
   "id": "82606020",
   "metadata": {},
   "outputs": [
    {
     "data": {
      "text/plain": [
       "14.533333333333333"
      ]
     },
     "execution_count": 449,
     "metadata": {},
     "output_type": "execute_result"
    }
   ],
   "source": [
    "arr.mean()"
   ]
  },
  {
   "cell_type": "code",
   "execution_count": 450,
   "id": "8cb813e9",
   "metadata": {},
   "outputs": [
    {
     "data": {
      "text/plain": [
       "array([12.66666667, 13.5       , 14.5       , 15.5       , 16.5       ])"
      ]
     },
     "execution_count": 450,
     "metadata": {},
     "output_type": "execute_result"
    }
   ],
   "source": [
    "arr.mean(axis=0)"
   ]
  },
  {
   "cell_type": "code",
   "execution_count": 451,
   "id": "1ec1c979",
   "metadata": {},
   "outputs": [
    {
     "data": {
      "text/plain": [
       "array([ 2.2,  7. , 12. , 17. , 22. , 27. ])"
      ]
     },
     "execution_count": 451,
     "metadata": {},
     "output_type": "execute_result"
    }
   ],
   "source": [
    "arr.mean(axis=1)"
   ]
  },
  {
   "cell_type": "code",
   "execution_count": null,
   "id": "78377b16",
   "metadata": {},
   "outputs": [],
   "source": []
  }
 ],
 "metadata": {
  "kernelspec": {
   "display_name": "Python 3 (ipykernel)",
   "language": "python",
   "name": "python3"
  },
  "language_info": {
   "codemirror_mode": {
    "name": "ipython",
    "version": 3
   },
   "file_extension": ".py",
   "mimetype": "text/x-python",
   "name": "python",
   "nbconvert_exporter": "python",
   "pygments_lexer": "ipython3",
   "version": "3.11.2"
  }
 },
 "nbformat": 4,
 "nbformat_minor": 5
}
